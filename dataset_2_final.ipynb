{
 "cells": [
  {
   "cell_type": "code",
   "execution_count": 1,
   "id": "671715ff",
   "metadata": {},
   "outputs": [
    {
     "name": "stderr",
     "output_type": "stream",
     "text": [
      "2023-08-31 19:42:43.781386: I tensorflow/core/platform/cpu_feature_guard.cc:193] This TensorFlow binary is optimized with oneAPI Deep Neural Network Library (oneDNN) to use the following CPU instructions in performance-critical operations:  SSE4.1 SSE4.2 AVX AVX2 FMA\n",
      "To enable them in other operations, rebuild TensorFlow with the appropriate compiler flags.\n"
     ]
    }
   ],
   "source": [
    "import pandas as pd\n",
    "import numpy as np\n",
    "from sklearn.preprocessing import LabelEncoder\n",
    "from keras.preprocessing.text import Tokenizer\n",
    "from tensorflow.keras.preprocessing.sequence import pad_sequences\n",
    "from keras.models import Sequential\n",
    "from keras.layers import Embedding, LSTM, Dense, Bidirectional, Dropout\n",
    "from keras.callbacks import EarlyStopping, ReduceLROnPlateau\n",
    "from sklearn.metrics import f1_score\n",
    "from sklearn.utils.class_weight import compute_class_weight\n",
    "from keras.optimizers import Adam"
   ]
  },
  {
   "cell_type": "code",
   "execution_count": 2,
   "id": "9a748d72",
   "metadata": {},
   "outputs": [],
   "source": [
    "train = pd.read_excel('ClassificationDataset-train2.xlsx')\n",
    "val = pd.read_excel('ClassificationDataset-valid2.xlsx')"
   ]
  },
  {
   "cell_type": "code",
   "execution_count": 3,
   "id": "0b9b32a0",
   "metadata": {},
   "outputs": [],
   "source": [
    "train.dropna(inplace=True)\n",
    "val.dropna(inplace=True)"
   ]
  },
  {
   "cell_type": "code",
   "execution_count": 4,
   "id": "d251aee5",
   "metadata": {},
   "outputs": [
    {
     "data": {
      "text/plain": [
       "5"
      ]
     },
     "execution_count": 4,
     "metadata": {},
     "output_type": "execute_result"
    }
   ],
   "source": [
    "max_words = 10000\n",
    "max_len = 100\n",
    "embedding_dim = 200  # Correct the embedding dimension to match GloVe embeddings\n",
    "num_classes = len(np.unique(train['ClassLabel']))\n",
    "num_classes"
   ]
  },
  {
   "cell_type": "code",
   "execution_count": 5,
   "id": "2501bb95",
   "metadata": {},
   "outputs": [],
   "source": [
    "\n",
    "le = LabelEncoder()\n",
    "le.fit(train['ClassLabel'])\n",
    "\n",
    "train_labels_encoded = le.transform(train['ClassLabel'])\n",
    "val_labels_encoded = le.transform(val['ClassLabel'])\n",
    "train_labels_onehot = np.eye(num_classes)[train_labels_encoded]\n",
    "val_labels_onehot = np.eye(num_classes)[val_labels_encoded]\n"
   ]
  },
  {
   "cell_type": "code",
   "execution_count": 6,
   "id": "5c16c860",
   "metadata": {},
   "outputs": [],
   "source": [
    "tokenizer = Tokenizer(num_words=max_words)\n",
    "tokenizer.fit_on_texts(train['ReviewText'])\n",
    "train_sequences = tokenizer.texts_to_sequences(train['ReviewText'])\n",
    "val_sequences = tokenizer.texts_to_sequences(val['ReviewText'])\n",
    "train_data_pad = pad_sequences(train_sequences, maxlen=max_len)\n",
    "val_data_pad = pad_sequences(val_sequences, maxlen=max_len)\n"
   ]
  },
  {
   "cell_type": "code",
   "execution_count": 7,
   "id": "875a5074",
   "metadata": {},
   "outputs": [],
   "source": [
    "embedding_index = {}\n",
    "with open('glove.twitter.27B.200d.txt', encoding='utf-8') as f:\n",
    "    for line in f:\n",
    "        values = line.split()\n",
    "        word = values[0]\n",
    "        coef = np.asarray(values[1:], dtype='float32')\n",
    "        embedding_index[word] = coef\n",
    "\n",
    "embedding_matrix = np.zeros((max_words, embedding_dim))\n",
    "for word, i in tokenizer.word_index.items():\n",
    "    if i < max_words:\n",
    "        embedding_vector = embedding_index.get(word)\n",
    "        if embedding_vector is not None:\n",
    "            embedding_matrix[i] = embedding_vector"
   ]
  },
  {
   "cell_type": "code",
   "execution_count": 8,
   "id": "0cd76230",
   "metadata": {},
   "outputs": [],
   "source": [
    "model = Sequential()\n",
    "model.add(Embedding(max_words, embedding_dim, input_length=max_len, weights=[embedding_matrix], trainable=False))\n",
    "model.add(LSTM(128, return_sequences=True, dropout=0.2, recurrent_dropout=0.2)) \n",
    "#model.add(LSTM(64,return_sequences=True, dropout=0.2, recurrent_dropout=0.2))\n",
    "model.add(LSTM(16,return_sequences=False, dropout=0.2, recurrent_dropout=0.2))\n",
    "model.add(Dense(num_classes, activation='softmax'))"
   ]
  },
  {
   "cell_type": "code",
   "execution_count": 9,
   "id": "fac508aa",
   "metadata": {},
   "outputs": [
    {
     "name": "stdout",
     "output_type": "stream",
     "text": [
      "Model: \"sequential\"\n",
      "_________________________________________________________________\n",
      " Layer (type)                Output Shape              Param #   \n",
      "=================================================================\n",
      " embedding (Embedding)       (None, 100, 200)          2000000   \n",
      "                                                                 \n",
      " lstm (LSTM)                 (None, 100, 128)          168448    \n",
      "                                                                 \n",
      " lstm_1 (LSTM)               (None, 16)                9280      \n",
      "                                                                 \n",
      " dense (Dense)               (None, 5)                 85        \n",
      "                                                                 \n",
      "=================================================================\n",
      "Total params: 2,177,813\n",
      "Trainable params: 177,813\n",
      "Non-trainable params: 2,000,000\n",
      "_________________________________________________________________\n"
     ]
    }
   ],
   "source": [
    "model.summary()"
   ]
  },
  {
   "cell_type": "code",
   "execution_count": 10,
   "id": "63bb39eb",
   "metadata": {},
   "outputs": [],
   "source": [
    "adam_optimizer = Adam(learning_rate=0.001)\n",
    "model.compile(optimizer=adam_optimizer, loss='categorical_crossentropy', metrics=['accuracy'])\n"
   ]
  },
  {
   "cell_type": "code",
   "execution_count": 11,
   "id": "e5aa1f7a",
   "metadata": {},
   "outputs": [],
   "source": [
    "early_stopping = EarlyStopping(monitor='val_loss', patience=5, restore_best_weights=True)\n",
    "#reduce_lr = ReduceLROnPlateau(monitor='val_loss', factor=0.2, patience=2, min_lr=1e-6)\n"
   ]
  },
  {
   "cell_type": "code",
   "execution_count": 12,
   "id": "6a50a429",
   "metadata": {},
   "outputs": [
    {
     "name": "stdout",
     "output_type": "stream",
     "text": [
      "Epoch 1/50\n",
      "44/44 [==============================] - 11s 162ms/step - loss: 0.8128 - accuracy: 0.7694 - val_loss: 0.7328 - val_accuracy: 0.8002\n",
      "Epoch 2/50\n",
      "44/44 [==============================] - 7s 151ms/step - loss: 0.7225 - accuracy: 0.8016 - val_loss: 0.7240 - val_accuracy: 0.8002\n",
      "Epoch 3/50\n",
      "44/44 [==============================] - 6s 148ms/step - loss: 0.6969 - accuracy: 0.8016 - val_loss: 0.6750 - val_accuracy: 0.8002\n",
      "Epoch 4/50\n",
      "44/44 [==============================] - 7s 149ms/step - loss: 0.6631 - accuracy: 0.8016 - val_loss: 0.6507 - val_accuracy: 0.8002\n",
      "Epoch 5/50\n",
      "44/44 [==============================] - 6s 148ms/step - loss: 0.6324 - accuracy: 0.8012 - val_loss: 0.6243 - val_accuracy: 0.8002\n",
      "Epoch 6/50\n",
      "44/44 [==============================] - 6s 146ms/step - loss: 0.5969 - accuracy: 0.8094 - val_loss: 0.6322 - val_accuracy: 0.8002\n",
      "Epoch 7/50\n",
      "44/44 [==============================] - 6s 146ms/step - loss: 0.5825 - accuracy: 0.8102 - val_loss: 0.6090 - val_accuracy: 0.8127\n",
      "Epoch 8/50\n",
      "44/44 [==============================] - 6s 147ms/step - loss: 0.5587 - accuracy: 0.8155 - val_loss: 0.6040 - val_accuracy: 0.8035\n",
      "Epoch 9/50\n",
      "44/44 [==============================] - 6s 147ms/step - loss: 0.5492 - accuracy: 0.8137 - val_loss: 0.6053 - val_accuracy: 0.7943\n",
      "Epoch 10/50\n",
      "44/44 [==============================] - 6s 147ms/step - loss: 0.5265 - accuracy: 0.8220 - val_loss: 0.6143 - val_accuracy: 0.8102\n",
      "Epoch 11/50\n",
      "44/44 [==============================] - 7s 150ms/step - loss: 0.5227 - accuracy: 0.8241 - val_loss: 0.5957 - val_accuracy: 0.8143\n",
      "Epoch 12/50\n",
      "44/44 [==============================] - 7s 149ms/step - loss: 0.4890 - accuracy: 0.8373 - val_loss: 0.6115 - val_accuracy: 0.8102\n",
      "Epoch 13/50\n",
      "44/44 [==============================] - 7s 148ms/step - loss: 0.4730 - accuracy: 0.8409 - val_loss: 0.6231 - val_accuracy: 0.7893\n",
      "Epoch 14/50\n",
      "44/44 [==============================] - 7s 148ms/step - loss: 0.4400 - accuracy: 0.8502 - val_loss: 0.6129 - val_accuracy: 0.8010\n",
      "Epoch 15/50\n",
      "44/44 [==============================] - 7s 149ms/step - loss: 0.4225 - accuracy: 0.8609 - val_loss: 0.6308 - val_accuracy: 0.8110\n",
      "Epoch 16/50\n",
      "44/44 [==============================] - 7s 152ms/step - loss: 0.3999 - accuracy: 0.8641 - val_loss: 0.6612 - val_accuracy: 0.8035\n"
     ]
    },
    {
     "data": {
      "text/plain": [
       "<keras.callbacks.History at 0x7fb584795a20>"
      ]
     },
     "execution_count": 12,
     "metadata": {},
     "output_type": "execute_result"
    }
   ],
   "source": [
    "model.fit(train_data_pad, train_labels_onehot, epochs=50, batch_size=64,\n",
    "          validation_data=(val_data_pad, val_labels_onehot),\n",
    "           callbacks=[early_stopping])"
   ]
  },
  {
   "cell_type": "code",
   "execution_count": 13,
   "id": "a9cbf3c8",
   "metadata": {},
   "outputs": [
    {
     "name": "stdout",
     "output_type": "stream",
     "text": [
      "38/38 [==============================] - 1s 23ms/step\n"
     ]
    },
    {
     "data": {
      "text/plain": [
       "0.8143213988343048"
      ]
     },
     "execution_count": 13,
     "metadata": {},
     "output_type": "execute_result"
    }
   ],
   "source": [
    "val_predictions = model.predict(val_data_pad)\n",
    "val_predictions_classes = np.argmax(val_predictions, axis=1)\n",
    "f1_scores = f1_score(val_labels_encoded, val_predictions_classes, average='micro')\n",
    "f1_scores"
   ]
  },
  {
   "cell_type": "code",
   "execution_count": 14,
   "id": "3f3ec185",
   "metadata": {},
   "outputs": [],
   "source": [
    "model.save('dataset_2.h5')"
   ]
  }
 ],
 "metadata": {
  "kernelspec": {
   "display_name": "Python 3 (ipykernel)",
   "language": "python",
   "name": "python3"
  },
  "language_info": {
   "codemirror_mode": {
    "name": "ipython",
    "version": 3
   },
   "file_extension": ".py",
   "mimetype": "text/x-python",
   "name": "python",
   "nbconvert_exporter": "python",
   "pygments_lexer": "ipython3",
   "version": "3.10.11"
  }
 },
 "nbformat": 4,
 "nbformat_minor": 5
}
