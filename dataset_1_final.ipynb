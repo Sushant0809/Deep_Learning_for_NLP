{
 "cells": [
  {
   "cell_type": "code",
   "execution_count": 23,
   "id": "4a4e6410",
   "metadata": {},
   "outputs": [],
   "source": [
    "import pandas as pd\n",
    "import numpy as np\n",
    "from sklearn.preprocessing import LabelEncoder\n",
    "from keras.preprocessing.text import Tokenizer\n",
    "from tensorflow.keras.preprocessing.sequence import pad_sequences\n",
    "from keras.models import Sequential\n",
    "from keras.layers import Embedding, LSTM, Dense, Bidirectional, Dropout\n",
    "from keras.callbacks import EarlyStopping, ReduceLROnPlateau\n",
    "from sklearn.metrics import f1_score\n",
    "from sklearn.utils.class_weight import compute_class_weight\n",
    "from keras.optimizers import Adam\n",
    "from keras.layers import Conv1D, MaxPooling1D, GlobalMaxPooling1D, concatenate,Flatten\n",
    "from keras.regularizers import l2"
   ]
  },
  {
   "cell_type": "code",
   "execution_count": 25,
   "id": "14174b84",
   "metadata": {},
   "outputs": [],
   "source": [
    "\n",
    "train = pd.read_excel('ClassificationDataset-train1.xlsx')\n",
    "val = pd.read_excel('ClassificationDataset-valid1.xlsx')"
   ]
  },
  {
   "cell_type": "code",
   "execution_count": 26,
   "id": "9b2b9618",
   "metadata": {},
   "outputs": [
    {
     "data": {
      "text/html": [
       "<div>\n",
       "<style scoped>\n",
       "    .dataframe tbody tr th:only-of-type {\n",
       "        vertical-align: middle;\n",
       "    }\n",
       "\n",
       "    .dataframe tbody tr th {\n",
       "        vertical-align: top;\n",
       "    }\n",
       "\n",
       "    .dataframe thead th {\n",
       "        text-align: right;\n",
       "    }\n",
       "</style>\n",
       "<table border=\"1\" class=\"dataframe\">\n",
       "  <thead>\n",
       "    <tr style=\"text-align: right;\">\n",
       "      <th></th>\n",
       "      <th>Negative Review</th>\n",
       "      <th>Positive Review</th>\n",
       "    </tr>\n",
       "  </thead>\n",
       "  <tbody>\n",
       "    <tr>\n",
       "      <th>0</th>\n",
       "      <td>I am so angry that i made this post available ...</td>\n",
       "      <td>Only the park outside of the hotel was beauti...</td>\n",
       "    </tr>\n",
       "    <tr>\n",
       "      <th>1</th>\n",
       "      <td>No Negative</td>\n",
       "      <td>No real complaints the hotel was great great ...</td>\n",
       "    </tr>\n",
       "    <tr>\n",
       "      <th>2</th>\n",
       "      <td>Rooms are nice but for elderly a bit difficul...</td>\n",
       "      <td>Location was good and staff were ok It is cut...</td>\n",
       "    </tr>\n",
       "    <tr>\n",
       "      <th>3</th>\n",
       "      <td>My room was dirty and I was afraid to walk ba...</td>\n",
       "      <td>Great location in nice surroundings the bar a...</td>\n",
       "    </tr>\n",
       "    <tr>\n",
       "      <th>4</th>\n",
       "      <td>You When I booked with your company on line yo...</td>\n",
       "      <td>Amazing location and building Romantic setting</td>\n",
       "    </tr>\n",
       "    <tr>\n",
       "      <th>...</th>\n",
       "      <td>...</td>\n",
       "      <td>...</td>\n",
       "    </tr>\n",
       "    <tr>\n",
       "      <th>6327</th>\n",
       "      <td>Roadworks made it difficult to access hotel b...</td>\n",
       "      <td>Helpful staff excellent breakfast</td>\n",
       "    </tr>\n",
       "    <tr>\n",
       "      <th>6328</th>\n",
       "      <td>Restaurant was little cramped</td>\n",
       "      <td>Staff friendly Lovely clean room Good facilities</td>\n",
       "    </tr>\n",
       "    <tr>\n",
       "      <th>6329</th>\n",
       "      <td>more comfortable seats in bar</td>\n",
       "      <td>very family friendly staff</td>\n",
       "    </tr>\n",
       "    <tr>\n",
       "      <th>6330</th>\n",
       "      <td>No Negative</td>\n",
       "      <td>The rooms was excellent Value for money</td>\n",
       "    </tr>\n",
       "    <tr>\n",
       "      <th>6331</th>\n",
       "      <td>Way too expensive Next time I ll go with air ...</td>\n",
       "      <td>Was a good size room considering it s a Londo...</td>\n",
       "    </tr>\n",
       "  </tbody>\n",
       "</table>\n",
       "<p>6332 rows × 2 columns</p>\n",
       "</div>"
      ],
      "text/plain": [
       "                                        Negative Review  \\\n",
       "0     I am so angry that i made this post available ...   \n",
       "1                                           No Negative   \n",
       "2      Rooms are nice but for elderly a bit difficul...   \n",
       "3      My room was dirty and I was afraid to walk ba...   \n",
       "4     You When I booked with your company on line yo...   \n",
       "...                                                 ...   \n",
       "6327   Roadworks made it difficult to access hotel b...   \n",
       "6328                      Restaurant was little cramped   \n",
       "6329                      more comfortable seats in bar   \n",
       "6330                                        No Negative   \n",
       "6331   Way too expensive Next time I ll go with air ...   \n",
       "\n",
       "                                        Positive Review  \n",
       "0      Only the park outside of the hotel was beauti...  \n",
       "1      No real complaints the hotel was great great ...  \n",
       "2      Location was good and staff were ok It is cut...  \n",
       "3      Great location in nice surroundings the bar a...  \n",
       "4       Amazing location and building Romantic setting   \n",
       "...                                                 ...  \n",
       "6327                  Helpful staff excellent breakfast  \n",
       "6328   Staff friendly Lovely clean room Good facilities  \n",
       "6329                         very family friendly staff  \n",
       "6330            The rooms was excellent Value for money  \n",
       "6331   Was a good size room considering it s a Londo...  \n",
       "\n",
       "[6332 rows x 2 columns]"
      ]
     },
     "execution_count": 26,
     "metadata": {},
     "output_type": "execute_result"
    }
   ],
   "source": [
    "train"
   ]
  },
  {
   "cell_type": "code",
   "execution_count": 5,
   "id": "e3774f5c",
   "metadata": {},
   "outputs": [
    {
     "data": {
      "text/html": [
       "<div>\n",
       "<style scoped>\n",
       "    .dataframe tbody tr th:only-of-type {\n",
       "        vertical-align: middle;\n",
       "    }\n",
       "\n",
       "    .dataframe tbody tr th {\n",
       "        vertical-align: top;\n",
       "    }\n",
       "\n",
       "    .dataframe thead th {\n",
       "        text-align: right;\n",
       "    }\n",
       "</style>\n",
       "<table border=\"1\" class=\"dataframe\">\n",
       "  <thead>\n",
       "    <tr style=\"text-align: right;\">\n",
       "      <th></th>\n",
       "      <th>Negative Review</th>\n",
       "      <th>Positive Review</th>\n",
       "    </tr>\n",
       "  </thead>\n",
       "  <tbody>\n",
       "    <tr>\n",
       "      <th>0</th>\n",
       "      <td>No Negative</td>\n",
       "      <td>Whole experience added to our fantastic adven...</td>\n",
       "    </tr>\n",
       "    <tr>\n",
       "      <th>1</th>\n",
       "      <td>No Negative</td>\n",
       "      <td>Refer to comments regarding our stay from June...</td>\n",
       "    </tr>\n",
       "    <tr>\n",
       "      <th>2</th>\n",
       "      <td>Construction on streets</td>\n",
       "      <td>I have no idea what genius perks are Location...</td>\n",
       "    </tr>\n",
       "    <tr>\n",
       "      <th>3</th>\n",
       "      <td>noisy room was not dark in the night</td>\n",
       "      <td>No Positive</td>\n",
       "    </tr>\n",
       "    <tr>\n",
       "      <th>4</th>\n",
       "      <td>The first room they gave us was very small We...</td>\n",
       "      <td>Close to many of the London attractions</td>\n",
       "    </tr>\n",
       "    <tr>\n",
       "      <th>...</th>\n",
       "      <td>...</td>\n",
       "      <td>...</td>\n",
       "    </tr>\n",
       "    <tr>\n",
       "      <th>2662</th>\n",
       "      <td>No Negative</td>\n",
       "      <td>Really comfortable bed and a very quite room ...</td>\n",
       "    </tr>\n",
       "    <tr>\n",
       "      <th>2663</th>\n",
       "      <td>Very very small rooms A bit like sleeping in ...</td>\n",
       "      <td>When you first arrive the main reception and ...</td>\n",
       "    </tr>\n",
       "    <tr>\n",
       "      <th>2664</th>\n",
       "      <td>Asked for upgrade twin club got a double and a...</td>\n",
       "      <td>Near queens way tube</td>\n",
       "    </tr>\n",
       "    <tr>\n",
       "      <th>2665</th>\n",
       "      <td>Needs a smartening up of its appearance But t...</td>\n",
       "      <td>The photos in booking com give the impression...</td>\n",
       "    </tr>\n",
       "    <tr>\n",
       "      <th>2666</th>\n",
       "      <td>Pillow and bed too hard and room too confined...</td>\n",
       "      <td>Hotel and room very clean and well maintained...</td>\n",
       "    </tr>\n",
       "  </tbody>\n",
       "</table>\n",
       "<p>2667 rows × 2 columns</p>\n",
       "</div>"
      ],
      "text/plain": [
       "                                        Negative Review  \\\n",
       "0                                           No Negative   \n",
       "1                                           No Negative   \n",
       "2                              Construction on streets    \n",
       "3                  noisy room was not dark in the night   \n",
       "4      The first room they gave us was very small We...   \n",
       "...                                                 ...   \n",
       "2662                                        No Negative   \n",
       "2663   Very very small rooms A bit like sleeping in ...   \n",
       "2664  Asked for upgrade twin club got a double and a...   \n",
       "2665   Needs a smartening up of its appearance But t...   \n",
       "2666   Pillow and bed too hard and room too confined...   \n",
       "\n",
       "                                        Positive Review  \n",
       "0      Whole experience added to our fantastic adven...  \n",
       "1     Refer to comments regarding our stay from June...  \n",
       "2      I have no idea what genius perks are Location...  \n",
       "3                                           No Positive  \n",
       "4              Close to many of the London attractions   \n",
       "...                                                 ...  \n",
       "2662   Really comfortable bed and a very quite room ...  \n",
       "2663   When you first arrive the main reception and ...  \n",
       "2664                               Near queens way tube  \n",
       "2665   The photos in booking com give the impression...  \n",
       "2666   Hotel and room very clean and well maintained...  \n",
       "\n",
       "[2667 rows x 2 columns]"
      ]
     },
     "execution_count": 5,
     "metadata": {},
     "output_type": "execute_result"
    }
   ],
   "source": [
    "val"
   ]
  },
  {
   "cell_type": "code",
   "execution_count": 6,
   "id": "bc39d4d6",
   "metadata": {},
   "outputs": [
    {
     "data": {
      "text/html": [
       "<div>\n",
       "<style scoped>\n",
       "    .dataframe tbody tr th:only-of-type {\n",
       "        vertical-align: middle;\n",
       "    }\n",
       "\n",
       "    .dataframe tbody tr th {\n",
       "        vertical-align: top;\n",
       "    }\n",
       "\n",
       "    .dataframe thead th {\n",
       "        text-align: right;\n",
       "    }\n",
       "</style>\n",
       "<table border=\"1\" class=\"dataframe\">\n",
       "  <thead>\n",
       "    <tr style=\"text-align: right;\">\n",
       "      <th></th>\n",
       "      <th>Review</th>\n",
       "      <th>Label</th>\n",
       "    </tr>\n",
       "  </thead>\n",
       "  <tbody>\n",
       "    <tr>\n",
       "      <th>0</th>\n",
       "      <td>Nothing</td>\n",
       "      <td>1</td>\n",
       "    </tr>\n",
       "    <tr>\n",
       "      <th>1</th>\n",
       "      <td>Great location beautiful building</td>\n",
       "      <td>1</td>\n",
       "    </tr>\n",
       "    <tr>\n",
       "      <th>2</th>\n",
       "      <td>The beds were really comfortable and clean Th...</td>\n",
       "      <td>1</td>\n",
       "    </tr>\n",
       "    <tr>\n",
       "      <th>3</th>\n",
       "      <td>We were upgraded to a room with an amazing vi...</td>\n",
       "      <td>1</td>\n",
       "    </tr>\n",
       "    <tr>\n",
       "      <th>4</th>\n",
       "      <td>No Negative</td>\n",
       "      <td>0</td>\n",
       "    </tr>\n",
       "    <tr>\n",
       "      <th>...</th>\n",
       "      <td>...</td>\n",
       "      <td>...</td>\n",
       "    </tr>\n",
       "    <tr>\n",
       "      <th>12659</th>\n",
       "      <td>Location</td>\n",
       "      <td>1</td>\n",
       "    </tr>\n",
       "    <tr>\n",
       "      <th>12660</th>\n",
       "      <td>No Negative</td>\n",
       "      <td>0</td>\n",
       "    </tr>\n",
       "    <tr>\n",
       "      <th>12661</th>\n",
       "      <td>A significant drawback was the sliding glass ...</td>\n",
       "      <td>0</td>\n",
       "    </tr>\n",
       "    <tr>\n",
       "      <th>12662</th>\n",
       "      <td>The room is bit small anyway it s London</td>\n",
       "      <td>0</td>\n",
       "    </tr>\n",
       "    <tr>\n",
       "      <th>12663</th>\n",
       "      <td>The K K hotel is always maintained and staffe...</td>\n",
       "      <td>1</td>\n",
       "    </tr>\n",
       "  </tbody>\n",
       "</table>\n",
       "<p>12664 rows × 2 columns</p>\n",
       "</div>"
      ],
      "text/plain": [
       "                                                  Review  Label\n",
       "0                                                Nothing      1\n",
       "1                      Great location beautiful building      1\n",
       "2       The beds were really comfortable and clean Th...      1\n",
       "3       We were upgraded to a room with an amazing vi...      1\n",
       "4                                            No Negative      0\n",
       "...                                                  ...    ...\n",
       "12659                                           Location      1\n",
       "12660                                        No Negative      0\n",
       "12661   A significant drawback was the sliding glass ...      0\n",
       "12662           The room is bit small anyway it s London      0\n",
       "12663   The K K hotel is always maintained and staffe...      1\n",
       "\n",
       "[12664 rows x 2 columns]"
      ]
     },
     "execution_count": 6,
     "metadata": {},
     "output_type": "execute_result"
    }
   ],
   "source": [
    "train_combined = pd.DataFrame(columns=['Review', 'Label'])\n",
    "train_combined['Review'] = pd.concat([train['Negative Review'], train['Positive Review']], ignore_index=True)\n",
    "num_negative_reviews = len(train['Negative Review'])\n",
    "train_combined['Label'] = [0] * num_negative_reviews + [1] * (len(train_combined) - num_negative_reviews)\n",
    "train_combined = train_combined.sample(frac=1, random_state=42).reset_index(drop=True)\n",
    "train_combined"
   ]
  },
  {
   "cell_type": "code",
   "execution_count": 7,
   "id": "5a119ebb",
   "metadata": {},
   "outputs": [
    {
     "data": {
      "text/html": [
       "<div>\n",
       "<style scoped>\n",
       "    .dataframe tbody tr th:only-of-type {\n",
       "        vertical-align: middle;\n",
       "    }\n",
       "\n",
       "    .dataframe tbody tr th {\n",
       "        vertical-align: top;\n",
       "    }\n",
       "\n",
       "    .dataframe thead th {\n",
       "        text-align: right;\n",
       "    }\n",
       "</style>\n",
       "<table border=\"1\" class=\"dataframe\">\n",
       "  <thead>\n",
       "    <tr style=\"text-align: right;\">\n",
       "      <th></th>\n",
       "      <th>Review</th>\n",
       "      <th>Label</th>\n",
       "    </tr>\n",
       "  </thead>\n",
       "  <tbody>\n",
       "    <tr>\n",
       "      <th>0</th>\n",
       "      <td>Nothing</td>\n",
       "      <td>0</td>\n",
       "    </tr>\n",
       "    <tr>\n",
       "      <th>1</th>\n",
       "      <td>Near UGround</td>\n",
       "      <td>1</td>\n",
       "    </tr>\n",
       "    <tr>\n",
       "      <th>2</th>\n",
       "      <td>location and staff</td>\n",
       "      <td>1</td>\n",
       "    </tr>\n",
       "    <tr>\n",
       "      <th>3</th>\n",
       "      <td>We didn t like having to leave</td>\n",
       "      <td>0</td>\n",
       "    </tr>\n",
       "    <tr>\n",
       "      <th>4</th>\n",
       "      <td>No access to fresh or window in the room</td>\n",
       "      <td>0</td>\n",
       "    </tr>\n",
       "    <tr>\n",
       "      <th>...</th>\n",
       "      <td>...</td>\n",
       "      <td>...</td>\n",
       "    </tr>\n",
       "    <tr>\n",
       "      <th>5329</th>\n",
       "      <td>No Positive</td>\n",
       "      <td>1</td>\n",
       "    </tr>\n",
       "    <tr>\n",
       "      <th>5330</th>\n",
       "      <td>courteous staff and convenient location</td>\n",
       "      <td>1</td>\n",
       "    </tr>\n",
       "    <tr>\n",
       "      <th>5331</th>\n",
       "      <td>The location was close to eating places and p...</td>\n",
       "      <td>1</td>\n",
       "    </tr>\n",
       "    <tr>\n",
       "      <th>5332</th>\n",
       "      <td>Location</td>\n",
       "      <td>1</td>\n",
       "    </tr>\n",
       "    <tr>\n",
       "      <th>5333</th>\n",
       "      <td>Sofa bed not very comfortable Breakfast very ...</td>\n",
       "      <td>0</td>\n",
       "    </tr>\n",
       "  </tbody>\n",
       "</table>\n",
       "<p>5334 rows × 2 columns</p>\n",
       "</div>"
      ],
      "text/plain": [
       "                                                 Review  Label\n",
       "0                                               Nothing      0\n",
       "1                                          Near UGround      1\n",
       "2                                    location and staff      1\n",
       "3                       We didn t like having to leave       0\n",
       "4              No access to fresh or window in the room      0\n",
       "...                                                 ...    ...\n",
       "5329                                        No Positive      1\n",
       "5330            courteous staff and convenient location      1\n",
       "5331   The location was close to eating places and p...      1\n",
       "5332                                           Location      1\n",
       "5333   Sofa bed not very comfortable Breakfast very ...      0\n",
       "\n",
       "[5334 rows x 2 columns]"
      ]
     },
     "execution_count": 7,
     "metadata": {},
     "output_type": "execute_result"
    }
   ],
   "source": [
    "val_combined = pd.DataFrame(columns=['Review', 'Label'])\n",
    "val_combined['Review'] = pd.concat([val['Negative Review'], val['Positive Review']], ignore_index=True)\n",
    "num_negative_reviews = len(val['Negative Review'])\n",
    "val_combined['Label'] = [0] * num_negative_reviews + [1] * (len(val_combined) - num_negative_reviews)\n",
    "val_combined = val_combined.sample(frac=1, random_state=42).reset_index(drop=True)\n",
    "val_combined"
   ]
  },
  {
   "cell_type": "code",
   "execution_count": 8,
   "id": "6c1ed4c1",
   "metadata": {},
   "outputs": [],
   "source": [
    "max_words = 10000\n",
    "max_len = 100\n",
    "embedding_dim = 200  # Correct the embedding dimension to match GloVe embeddings\n",
    "num_classes = len(np.unique(train_combined['Label']))\n"
   ]
  },
  {
   "cell_type": "code",
   "execution_count": 9,
   "id": "f9e6dd3b",
   "metadata": {},
   "outputs": [],
   "source": [
    "le = LabelEncoder()\n",
    "le.fit(train_combined['Label'])\n",
    "train_labels_encoded = le.transform(train_combined['Label'])\n",
    "val_labels_encoded = le.transform(val_combined['Label'])\n",
    "train_labels_onehot = np.eye(num_classes)[train_labels_encoded]\n",
    "val_labels_onehot = np.eye(num_classes)[val_labels_encoded]"
   ]
  },
  {
   "cell_type": "code",
   "execution_count": 10,
   "id": "e6f7ecd9",
   "metadata": {},
   "outputs": [
    {
     "data": {
      "text/plain": [
       "(12664,)"
      ]
     },
     "execution_count": 10,
     "metadata": {},
     "output_type": "execute_result"
    }
   ],
   "source": [
    "le.transform(train_combined['Label']).shape"
   ]
  },
  {
   "cell_type": "code",
   "execution_count": 11,
   "id": "344a9eb8",
   "metadata": {},
   "outputs": [],
   "source": [
    "tokenizer = Tokenizer(num_words=max_words)\n",
    "tokenizer.fit_on_texts(train_combined['Review'])\n",
    "train_sequences = tokenizer.texts_to_sequences(train_combined['Review'])\n",
    "val_sequences = tokenizer.texts_to_sequences(val_combined['Review'])\n",
    "train_data_pad = pad_sequences(train_sequences, maxlen=max_len)\n",
    "val_data_pad = pad_sequences(val_sequences, maxlen=max_len)\n"
   ]
  },
  {
   "cell_type": "code",
   "execution_count": 13,
   "id": "2af8aa19",
   "metadata": {},
   "outputs": [],
   "source": [
    "embedding_index = {}\n",
    "with open('glove.twitter.27B.200d.txt', encoding='utf-8') as f:\n",
    "    for line in f:\n",
    "        values = line.split()\n",
    "        word = values[0]\n",
    "        coef = np.asarray(values[1:], dtype='float32')\n",
    "        embedding_index[word] = coef\n",
    "\n",
    "embedding_matrix = np.zeros((max_words, embedding_dim))\n",
    "for word, i in tokenizer.word_index.items():\n",
    "    if i < max_words:\n",
    "        embedding_vector = embedding_index.get(word)\n",
    "        if embedding_vector is not None:\n",
    "            embedding_matrix[i] = embedding_vector"
   ]
  },
  {
   "cell_type": "code",
   "execution_count": 14,
   "id": "009f193d",
   "metadata": {},
   "outputs": [
    {
     "name": "stdout",
     "output_type": "stream",
     "text": [
      "Model: \"sequential\"\n",
      "_________________________________________________________________\n",
      " Layer (type)                Output Shape              Param #   \n",
      "=================================================================\n",
      " embedding (Embedding)       (None, 100, 200)          2000000   \n",
      "                                                                 \n",
      " lstm (LSTM)                 (None, 100, 128)          168448    \n",
      "                                                                 \n",
      " lstm_1 (LSTM)               (None, 16)                9280      \n",
      "                                                                 \n",
      " dense (Dense)               (None, 2)                 34        \n",
      "                                                                 \n",
      "=================================================================\n",
      "Total params: 2,177,762\n",
      "Trainable params: 177,762\n",
      "Non-trainable params: 2,000,000\n",
      "_________________________________________________________________\n"
     ]
    }
   ],
   "source": [
    "model = Sequential()\n",
    "model.add(Embedding(max_words, embedding_dim, input_length=max_len, weights=[embedding_matrix], trainable=False))\n",
    "model.add(LSTM(128, return_sequences=True, dropout=0.2, recurrent_dropout=0.2)) \n",
    "#model.add(LSTM(64,return_sequences=True, dropout=0.2, recurrent_dropout=0.2))\n",
    "model.add(LSTM(16,return_sequences=False, dropout=0.2, recurrent_dropout=0.2))\n",
    "model.add(Dense(num_classes, activation='sigmoid'))\n",
    "model.summary()"
   ]
  },
  {
   "cell_type": "code",
   "execution_count": 15,
   "id": "dd3083a8",
   "metadata": {},
   "outputs": [],
   "source": [
    "adam_optimizer = Adam(learning_rate=0.001)\n",
    "model.compile(optimizer=adam_optimizer, loss='binary_crossentropy', metrics=['accuracy'])\n"
   ]
  },
  {
   "cell_type": "code",
   "execution_count": 16,
   "id": "07f2e26e",
   "metadata": {},
   "outputs": [],
   "source": [
    "early_stopping = EarlyStopping(monitor='val_loss', patience=5, restore_best_weights=True)"
   ]
  },
  {
   "cell_type": "code",
   "execution_count": 17,
   "id": "e74ebfb3",
   "metadata": {},
   "outputs": [
    {
     "name": "stdout",
     "output_type": "stream",
     "text": [
      "Epoch 1/50\n",
      "198/198 [==============================] - 33s 149ms/step - loss: 0.3465 - accuracy: 0.8744 - val_loss: 0.2572 - val_accuracy: 0.9076\n",
      "Epoch 2/50\n",
      "198/198 [==============================] - 29s 148ms/step - loss: 0.1952 - accuracy: 0.9306 - val_loss: 0.2195 - val_accuracy: 0.9166\n",
      "Epoch 3/50\n",
      "198/198 [==============================] - 29s 147ms/step - loss: 0.1655 - accuracy: 0.9415 - val_loss: 0.2034 - val_accuracy: 0.9203\n",
      "Epoch 4/50\n",
      "198/198 [==============================] - 29s 146ms/step - loss: 0.1528 - accuracy: 0.9450 - val_loss: 0.1936 - val_accuracy: 0.9258\n",
      "Epoch 5/50\n",
      "198/198 [==============================] - 29s 146ms/step - loss: 0.1415 - accuracy: 0.9483 - val_loss: 0.1822 - val_accuracy: 0.9297\n",
      "Epoch 6/50\n",
      "198/198 [==============================] - 29s 146ms/step - loss: 0.1272 - accuracy: 0.9540 - val_loss: 0.1947 - val_accuracy: 0.9250\n",
      "Epoch 7/50\n",
      "198/198 [==============================] - 29s 145ms/step - loss: 0.1199 - accuracy: 0.9570 - val_loss: 0.1946 - val_accuracy: 0.9288\n",
      "Epoch 8/50\n",
      "198/198 [==============================] - 29s 145ms/step - loss: 0.1133 - accuracy: 0.9600 - val_loss: 0.1802 - val_accuracy: 0.9327\n",
      "Epoch 9/50\n",
      "198/198 [==============================] - 29s 145ms/step - loss: 0.1052 - accuracy: 0.9632 - val_loss: 0.1997 - val_accuracy: 0.9293\n",
      "Epoch 10/50\n",
      "198/198 [==============================] - 29s 146ms/step - loss: 0.0996 - accuracy: 0.9642 - val_loss: 0.1890 - val_accuracy: 0.9297\n",
      "Epoch 11/50\n",
      "198/198 [==============================] - 29s 145ms/step - loss: 0.0892 - accuracy: 0.9685 - val_loss: 0.1888 - val_accuracy: 0.9344\n",
      "Epoch 12/50\n",
      "198/198 [==============================] - 29s 148ms/step - loss: 0.0848 - accuracy: 0.9712 - val_loss: 0.1910 - val_accuracy: 0.9348\n",
      "Epoch 13/50\n",
      "198/198 [==============================] - 29s 147ms/step - loss: 0.0776 - accuracy: 0.9720 - val_loss: 0.2198 - val_accuracy: 0.9289\n"
     ]
    },
    {
     "data": {
      "text/plain": [
       "<keras.callbacks.History at 0x7fde443a8d90>"
      ]
     },
     "execution_count": 17,
     "metadata": {},
     "output_type": "execute_result"
    }
   ],
   "source": [
    "model.fit(train_data_pad, train_labels_onehot, epochs=50, batch_size=64,\n",
    "          validation_data=(val_data_pad, val_labels_onehot),\n",
    "          callbacks=[early_stopping])\n"
   ]
  },
  {
   "cell_type": "code",
   "execution_count": 21,
   "id": "31e4f5a8",
   "metadata": {},
   "outputs": [
    {
     "name": "stdout",
     "output_type": "stream",
     "text": [
      "167/167 [==============================] - 4s 23ms/step\n"
     ]
    },
    {
     "data": {
      "text/plain": [
       "0.9326959130108736"
      ]
     },
     "execution_count": 21,
     "metadata": {},
     "output_type": "execute_result"
    }
   ],
   "source": [
    "val_predictions = model.predict(val_data_pad)\n",
    "val_predictions_classes = np.argmax(val_predictions, axis=1)\n",
    "f1_scores = f1_score(val_labels_encoded, val_predictions_classes, average='micro')\n",
    "f1_scores"
   ]
  },
  {
   "cell_type": "code",
   "execution_count": 27,
   "id": "0099a8e9",
   "metadata": {},
   "outputs": [],
   "source": [
    "model.save('dataset_1.h5')"
   ]
  },
  {
   "cell_type": "code",
   "execution_count": 25,
   "id": "c23cdbae",
   "metadata": {},
   "outputs": [
    {
     "name": "stdout",
     "output_type": "stream",
     "text": [
      "1/1 [==============================] - 0s 52ms/step\n"
     ]
    },
    {
     "data": {
      "text/plain": [
       "array([1])"
      ]
     },
     "execution_count": 25,
     "metadata": {},
     "output_type": "execute_result"
    }
   ],
   "source": [
    "test_predictions = model.predict(test_data_pad)\n",
    "test_predictions_classes = np.argmax(test_predictions, axis=1)\n",
    "test_predictions_classes"
   ]
  },
  {
   "cell_type": "code",
   "execution_count": null,
   "id": "5ad0fe88",
   "metadata": {},
   "outputs": [],
   "source": []
  }
 ],
 "metadata": {
  "kernelspec": {
   "display_name": "Python 3 (ipykernel)",
   "language": "python",
   "name": "python3"
  },
  "language_info": {
   "codemirror_mode": {
    "name": "ipython",
    "version": 3
   },
   "file_extension": ".py",
   "mimetype": "text/x-python",
   "name": "python",
   "nbconvert_exporter": "python",
   "pygments_lexer": "ipython3",
   "version": "3.10.5"
  }
 },
 "nbformat": 4,
 "nbformat_minor": 5
}
