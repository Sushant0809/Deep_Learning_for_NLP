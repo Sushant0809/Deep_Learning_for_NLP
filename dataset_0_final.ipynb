{
 "cells": [
  {
   "cell_type": "code",
   "execution_count": 1,
   "id": "cfdb3497",
   "metadata": {},
   "outputs": [
    {
     "name": "stderr",
     "output_type": "stream",
     "text": [
      "2023-08-31 19:15:28.978308: I tensorflow/core/platform/cpu_feature_guard.cc:193] This TensorFlow binary is optimized with oneAPI Deep Neural Network Library (oneDNN) to use the following CPU instructions in performance-critical operations:  SSE4.1 SSE4.2 AVX AVX2 FMA\n",
      "To enable them in other operations, rebuild TensorFlow with the appropriate compiler flags.\n"
     ]
    }
   ],
   "source": [
    "import pandas as pd\n",
    "import numpy as np\n",
    "from sklearn.preprocessing import LabelEncoder\n",
    "from keras.preprocessing.text import Tokenizer\n",
    "from tensorflow.keras.preprocessing.sequence import pad_sequences\n",
    "from keras.models import Sequential\n",
    "from keras.layers import Embedding, LSTM, Dense, Bidirectional, Dropout\n",
    "from keras.callbacks import EarlyStopping, ReduceLROnPlateau\n",
    "from sklearn.metrics import f1_score\n",
    "from sklearn.utils.class_weight import compute_class_weight\n",
    "from keras.optimizers import Adam"
   ]
  },
  {
   "cell_type": "code",
   "execution_count": 2,
   "id": "4054f225",
   "metadata": {},
   "outputs": [],
   "source": [
    "train = pd.read_excel('ClassificationDataset-train0.xlsx')\n",
    "val = pd.read_excel('ClassificationDataset-valid0.xlsx')"
   ]
  },
  {
   "cell_type": "code",
   "execution_count": 3,
   "id": "eca99592",
   "metadata": {},
   "outputs": [],
   "source": [
    "max_words = 10000\n",
    "max_len = 100\n",
    "embedding_dim = 200  # Correct the embedding dimension to match GloVe embeddings\n",
    "num_classes = len(np.unique(train['Label']))\n"
   ]
  },
  {
   "cell_type": "code",
   "execution_count": 4,
   "id": "c0644df1",
   "metadata": {},
   "outputs": [],
   "source": [
    "\n",
    "le = LabelEncoder()\n",
    "le.fit(train['Label'])\n",
    "\n",
    "train_labels_encoded = le.transform(train['Label'])\n",
    "val_labels_encoded = le.transform(val['Label'])\n",
    "train_labels_onehot = np.eye(num_classes)[train_labels_encoded]\n",
    "val_labels_onehot = np.eye(num_classes)[val_labels_encoded]\n"
   ]
  },
  {
   "cell_type": "code",
   "execution_count": 5,
   "id": "7e4d84af",
   "metadata": {},
   "outputs": [],
   "source": [
    "tokenizer = Tokenizer(num_words=max_words)\n",
    "tokenizer.fit_on_texts(train['Sentiment'])\n",
    "train_sequences = tokenizer.texts_to_sequences(train['Sentiment'])\n",
    "val_sequences = tokenizer.texts_to_sequences(val['Sentiment'])\n",
    "train_data_pad = pad_sequences(train_sequences, maxlen=max_len)\n",
    "val_data_pad = pad_sequences(val_sequences, maxlen=max_len)\n"
   ]
  },
  {
   "cell_type": "code",
   "execution_count": 6,
   "id": "ddeec4b1",
   "metadata": {},
   "outputs": [],
   "source": [
    "embedding_index = {}\n",
    "with open('glove.twitter.27B.200d.txt', encoding='utf-8') as f:\n",
    "    for line in f:\n",
    "        values = line.split()\n",
    "        word = values[0]\n",
    "        coef = np.asarray(values[1:], dtype='float32')\n",
    "        embedding_index[word] = coef\n",
    "\n",
    "embedding_matrix = np.zeros((max_words, embedding_dim))\n",
    "for word, i in tokenizer.word_index.items():\n",
    "    if i < max_words:\n",
    "        embedding_vector = embedding_index.get(word)\n",
    "        if embedding_vector is not None:\n",
    "            embedding_matrix[i] = embedding_vector"
   ]
  },
  {
   "cell_type": "code",
   "execution_count": 7,
   "id": "956cbc14",
   "metadata": {},
   "outputs": [],
   "source": [
    "model = Sequential()\n",
    "model.add(Embedding(max_words, embedding_dim, input_length=max_len, weights=[embedding_matrix], trainable=False))\n",
    "model.add(LSTM(128, return_sequences=True, dropout=0.2, recurrent_dropout=0.2)) \n",
    "#model.add(LSTM(64,return_sequences=True, dropout=0.2, recurrent_dropout=0.2))\n",
    "model.add(LSTM(16,return_sequences=False, dropout=0.2, recurrent_dropout=0.2))\n",
    "model.add(Dense(num_classes, activation='softmax'))"
   ]
  },
  {
   "cell_type": "code",
   "execution_count": 8,
   "id": "b20f1382",
   "metadata": {},
   "outputs": [
    {
     "name": "stdout",
     "output_type": "stream",
     "text": [
      "Model: \"sequential\"\n",
      "_________________________________________________________________\n",
      " Layer (type)                Output Shape              Param #   \n",
      "=================================================================\n",
      " embedding (Embedding)       (None, 100, 200)          2000000   \n",
      "                                                                 \n",
      " lstm (LSTM)                 (None, 100, 128)          168448    \n",
      "                                                                 \n",
      " lstm_1 (LSTM)               (None, 16)                9280      \n",
      "                                                                 \n",
      " dense (Dense)               (None, 3)                 51        \n",
      "                                                                 \n",
      "=================================================================\n",
      "Total params: 2,177,779\n",
      "Trainable params: 177,779\n",
      "Non-trainable params: 2,000,000\n",
      "_________________________________________________________________\n"
     ]
    }
   ],
   "source": [
    "model.summary()"
   ]
  },
  {
   "cell_type": "code",
   "execution_count": 9,
   "id": "1ff60aa4",
   "metadata": {},
   "outputs": [],
   "source": [
    "adam_optimizer = Adam(learning_rate=0.001)\n",
    "model.compile(optimizer=adam_optimizer, loss='categorical_crossentropy', metrics=['accuracy'])\n"
   ]
  },
  {
   "cell_type": "code",
   "execution_count": 10,
   "id": "7660dd3a",
   "metadata": {},
   "outputs": [],
   "source": [
    "early_stopping = EarlyStopping(monitor='val_loss', patience=5, restore_best_weights=True)\n",
    "#reduce_lr = ReduceLROnPlateau(monitor='val_loss', factor=0.2, patience=2, min_lr=1e-6)\n"
   ]
  },
  {
   "cell_type": "code",
   "execution_count": 11,
   "id": "c8011e10",
   "metadata": {},
   "outputs": [
    {
     "name": "stdout",
     "output_type": "stream",
     "text": [
      "Epoch 1/50\n",
      "44/44 [==============================] - 11s 158ms/step - loss: 0.7470 - accuracy: 0.6562 - val_loss: 0.7388 - val_accuracy: 0.6301\n",
      "Epoch 2/50\n",
      "44/44 [==============================] - 7s 149ms/step - loss: 0.6506 - accuracy: 0.7277 - val_loss: 0.6694 - val_accuracy: 0.7107\n",
      "Epoch 3/50\n",
      "44/44 [==============================] - 7s 149ms/step - loss: 0.5963 - accuracy: 0.7609 - val_loss: 0.5970 - val_accuracy: 0.7689\n",
      "Epoch 4/50\n",
      "44/44 [==============================] - 6s 147ms/step - loss: 0.5448 - accuracy: 0.7863 - val_loss: 0.5525 - val_accuracy: 0.7789\n",
      "Epoch 5/50\n",
      "44/44 [==============================] - 6s 147ms/step - loss: 0.5074 - accuracy: 0.7970 - val_loss: 0.5311 - val_accuracy: 0.7805\n",
      "Epoch 6/50\n",
      "44/44 [==============================] - 6s 148ms/step - loss: 0.4439 - accuracy: 0.8202 - val_loss: 0.5566 - val_accuracy: 0.7623\n",
      "Epoch 7/50\n",
      "44/44 [==============================] - 6s 146ms/step - loss: 0.4138 - accuracy: 0.8410 - val_loss: 0.5249 - val_accuracy: 0.7914\n",
      "Epoch 8/50\n",
      "44/44 [==============================] - 6s 148ms/step - loss: 0.3818 - accuracy: 0.8445 - val_loss: 0.4952 - val_accuracy: 0.8005\n",
      "Epoch 9/50\n",
      "44/44 [==============================] - 7s 149ms/step - loss: 0.3569 - accuracy: 0.8535 - val_loss: 0.4936 - val_accuracy: 0.8163\n",
      "Epoch 10/50\n",
      "44/44 [==============================] - 6s 146ms/step - loss: 0.3141 - accuracy: 0.8746 - val_loss: 0.5311 - val_accuracy: 0.8022\n",
      "Epoch 11/50\n",
      "44/44 [==============================] - 7s 150ms/step - loss: 0.2824 - accuracy: 0.8935 - val_loss: 0.5107 - val_accuracy: 0.8105\n",
      "Epoch 12/50\n",
      "44/44 [==============================] - 6s 147ms/step - loss: 0.2540 - accuracy: 0.9060 - val_loss: 0.5343 - val_accuracy: 0.8022\n",
      "Epoch 13/50\n",
      "44/44 [==============================] - 7s 149ms/step - loss: 0.2404 - accuracy: 0.9081 - val_loss: 0.5704 - val_accuracy: 0.7747\n",
      "Epoch 14/50\n",
      "44/44 [==============================] - 7s 149ms/step - loss: 0.2186 - accuracy: 0.9153 - val_loss: 0.5764 - val_accuracy: 0.8096\n"
     ]
    },
    {
     "data": {
      "text/plain": [
       "<keras.callbacks.History at 0x7f75286ae9e0>"
      ]
     },
     "execution_count": 11,
     "metadata": {},
     "output_type": "execute_result"
    }
   ],
   "source": [
    "model.fit(train_data_pad, train_labels_onehot, epochs=50, batch_size=64,\n",
    "          validation_data=(val_data_pad, val_labels_onehot),\n",
    "           callbacks=[early_stopping])#class_weight=class_weights,\n"
   ]
  },
  {
   "cell_type": "code",
   "execution_count": 12,
   "id": "9a2d98c1",
   "metadata": {},
   "outputs": [
    {
     "name": "stdout",
     "output_type": "stream",
     "text": [
      "38/38 [==============================] - 1s 22ms/step\n"
     ]
    },
    {
     "data": {
      "text/plain": [
       "0.8162926018287614"
      ]
     },
     "execution_count": 12,
     "metadata": {},
     "output_type": "execute_result"
    }
   ],
   "source": [
    "val_predictions = model.predict(val_data_pad)\n",
    "val_predictions_classes = np.argmax(val_predictions, axis=1)\n",
    "f1_scores = f1_score(val_labels_encoded, val_predictions_classes, average='micro')\n",
    "f1_scores"
   ]
  },
  {
   "cell_type": "code",
   "execution_count": 14,
   "id": "f280e320",
   "metadata": {},
   "outputs": [],
   "source": [
    "model.save('dataset_0.h5')"
   ]
  },
  {
   "cell_type": "code",
   "execution_count": null,
   "id": "0eb52c6c",
   "metadata": {},
   "outputs": [],
   "source": []
  }
 ],
 "metadata": {
  "kernelspec": {
   "display_name": "Python 3 (ipykernel)",
   "language": "python",
   "name": "python3"
  },
  "language_info": {
   "codemirror_mode": {
    "name": "ipython",
    "version": 3
   },
   "file_extension": ".py",
   "mimetype": "text/x-python",
   "name": "python",
   "nbconvert_exporter": "python",
   "pygments_lexer": "ipython3",
   "version": "3.10.5"
  }
 },
 "nbformat": 4,
 "nbformat_minor": 5
}
