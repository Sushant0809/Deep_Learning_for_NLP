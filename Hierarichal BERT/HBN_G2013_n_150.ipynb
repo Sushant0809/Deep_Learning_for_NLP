{
 "cells": [
  {
   "cell_type": "code",
   "execution_count": 1,
   "id": "d9ff1696",
   "metadata": {},
   "outputs": [
    {
     "name": "stderr",
     "output_type": "stream",
     "text": [
      "2023-10-14 03:28:31.826250: I tensorflow/core/platform/cpu_feature_guard.cc:193] This TensorFlow binary is optimized with oneAPI Deep Neural Network Library (oneDNN) to use the following CPU instructions in performance-critical operations:  SSE4.1 SSE4.2 AVX AVX2 FMA\n",
      "To enable them in other operations, rebuild TensorFlow with the appropriate compiler flags.\n"
     ]
    }
   ],
   "source": [
    "import torch\n",
    "import torch.nn as nn\n",
    "import torch.nn.functional as F\n",
    "from transformers import RobertaModel, AdamW\n",
    "from transformers import RobertaTokenizer\n",
    "import torch.optim as optim\n",
    "from transformers import RobertaTokenizer\n",
    "from torch.utils.data import DataLoader, TensorDataset\n",
    "import pandas as pd\n",
    "from torch.utils.data import Dataset, DataLoader\n",
    "import nltk\n",
    "from sklearn.model_selection import train_test_split\n",
    "from sklearn.metrics import roc_auc_score\n",
    "from tqdm import tqdm\n",
    "from nltk.tokenize import sent_tokenize\n",
    "import numpy as np\n",
    "import os"
   ]
  },
  {
   "cell_type": "code",
   "execution_count": 2,
   "id": "38d5c0f5",
   "metadata": {},
   "outputs": [],
   "source": [
    "class BertAtt(nn.Module):\n",
    "    def __init__(self, d_e, h):\n",
    "        super(BertAtt, self).__init__()\n",
    "        self.num_heads = h\n",
    "        self.d_e = d_e\n",
    "        self.head_dim = d_e // h\n",
    "        \n",
    "        self.q = nn.Linear(d_e, d_e)\n",
    "        self.k = nn.Linear(d_e, d_e)\n",
    "        self.v = nn.Linear(d_e, d_e)\n",
    "        \n",
    "        self.o = nn.Linear(d_e, d_e)\n",
    "        self.layer_norm = nn.LayerNorm(d_e)\n",
    "        \n",
    "        self.dropout = nn.Dropout(dropout_prob)\n",
    "        \n",
    "    def forward(self, x):\n",
    "        Q = self.q(x)\n",
    "        K = self.k(x)\n",
    "        V = self.v(x)\n",
    "        \n",
    "        Q = Q.view(Q.size(0), -1, self.num_heads, self.head_dim).permute(0, 2, 1, 3)\n",
    "        K = K.view(K.size(0), -1, self.num_heads, self.head_dim).permute(0, 2, 1, 3)\n",
    "        V = V.view(V.size(0), -1, self.num_heads, self.head_dim).permute(0, 2, 1, 3)\n",
    "        \n",
    "        \n",
    "        attention_scores = torch.matmul(Q, K.permute(0, 1, 3, 2)) / (self.d_e**0.5)\n",
    "        attention_probs = F.softmax(attention_scores, dim=-1)\n",
    "        context = torch.matmul(attention_probs, V)\n",
    "        \n",
    "        context = context.permute(0, 2, 1, 3).contiguous()\n",
    "        context = context.view(context.size(0), -1, self.num_heads*self.head_dim)\n",
    "        context = self.dropout(context)\n",
    "        context = self.o(context)\n",
    "        \n",
    "        return self.layer_norm(x + context)\n",
    "\n",
    "class HBN(nn.Module):\n",
    "    def __init__(self, d_e, h, m, n, y, dropout_prob=0.01, max_sentences=114):\n",
    "        super(HBN, self).__init__()\n",
    "        \n",
    "        # Token-level Roberta encoder\n",
    "        self.roberta = RobertaModel.from_pretrained(\"roberta-base\")\n",
    "        \n",
    "        # Freeze Roberta weights\n",
    "        for param in self.roberta.parameters():\n",
    "            param.requires_grad = False\n",
    "        \n",
    "        # Sentence-level BERT Encoder\n",
    "        self.bertatt = BertAtt(d_e, h)\n",
    "        \n",
    "        self.ff = nn.Sequential(\n",
    "            nn.Linear(d_e, n*d_e),\n",
    "            nn.ReLU(),\n",
    "            nn.Linear(n*d_e, d_e)\n",
    "        )\n",
    "        self.layer_norm = nn.LayerNorm(d_e)\n",
    "        \n",
    "        self.multiple_bert_layers = nn.ModuleList([BertAtt(d_e, h) for _ in range(m)])\n",
    "        \n",
    "        self.transformation = nn.Linear(d_e, d_e)\n",
    "        \n",
    "        self.dropout = nn.Dropout(dropout_prob)\n",
    "        \n",
    "        # Prediction Layer\n",
    "        self.predict = nn.Linear(d_e, y)\n",
    "        \n",
    "    def forward(self, input_ids, attention_mask):\n",
    "#         print(input_ids.shape)\n",
    "        # Token-level Roberta encoding\n",
    "        roberta_outputs = self.roberta(input_ids=input_ids, attention_mask=attention_mask)[0]  # [batch_size, seq_length, hidden_size]\n",
    "        \n",
    "        # Average pooling to get sentence embeddings\n",
    "        D = torch.mean(roberta_outputs, dim=1)  # [batch_size, hidden_size]\n",
    "        \n",
    "        out = self.bertatt(D)\n",
    "        out = self.layer_norm(out + F.relu(self.ff(out)))\n",
    "        \n",
    "        Z = out\n",
    "        for layer in self.multiple_bert_layers:\n",
    "            Z = layer(Z)\n",
    "        \n",
    "        S = torch.tanh(torch.mean(Z, dim=1).mm(self.transformation.weight))\n",
    "        S = self.dropout(S)\n",
    "        scores = S.mm(self.predict.weight.t())\n",
    "        \n",
    "        return scores\n"
   ]
  },
  {
   "cell_type": "code",
   "execution_count": 3,
   "id": "e68208cc",
   "metadata": {},
   "outputs": [],
   "source": [
    "# Parameters\n",
    "d_e = 768  # Assuming you are using 'roberta-base'\n",
    "h = 1     # Number of attention heads\n",
    "m = 4      # Number of identical BERT layers\n",
    "n = 4      # Scaling factor for feed-forward network\n",
    "y = 2      # Number of classes, set this to your actual number\n",
    "dropout_prob = 0.01 #dropout probability\n",
    "num_train_samples = 150\n",
    "num_epochs = 50\n",
    "max_length = 128"
   ]
  },
  {
   "cell_type": "code",
   "execution_count": 4,
   "id": "37bca770",
   "metadata": {},
   "outputs": [
    {
     "name": "stdout",
     "output_type": "stream",
     "text": [
      "                                               content  label\n",
      "0    High fuel prices hit BA's profits\\n\\nBritish A...      1\n",
      "1    What really divides the parties\\n\\nSo what is ...      0\n",
      "2    Tutu's Guantanamo release call\\n\\nArchbishop D...      0\n",
      "3    Talks aim to avert pension strike\\n\\nTalks aim...      0\n",
      "4    Jack Cunningham to stand down\\n\\nVeteran Labou...      0\n",
      "..                                                 ...    ...\n",
      "593  Weak dollar trims Cadbury profits\\n\\nThe world...      1\n",
      "594  Business confidence dips in Japan\\n\\nBusiness ...      1\n",
      "595  Industrial revival hope for Japan\\n\\nJapanese ...      1\n",
      "596  Royal couple watch nation's mood\\n\\nPrince Cha...      0\n",
      "597  Campbell: E-mail row 'silly fuss'\\n\\nEx-No 10 ...      0\n",
      "\n",
      "[598 rows x 2 columns]\n",
      "\n",
      "Maximum number of sentences across all files: 248\n"
     ]
    }
   ],
   "source": [
    "import os\n",
    "import pandas as pd\n",
    "from nltk.tokenize import sent_tokenize\n",
    "\n",
    "folder1_path = 'sample-text/sample-text/politics/'\n",
    "folder2_path = 'sample-text/sample-text/business/'\n",
    "\n",
    "# Fetch file names from both folders\n",
    "folder1_files = [f for f in os.listdir(folder1_path) if f.endswith('.txt')]\n",
    "folder2_files = [f for f in os.listdir(folder2_path) if f.endswith('.txt')]\n",
    "\n",
    "combined_data = []\n",
    "num_sent=[]\n",
    "\n",
    "# Read and label files from folder1 and count sentences\n",
    "for file in folder1_files:\n",
    "    with open(os.path.join(folder1_path, file), 'r') as f:\n",
    "        content = f.read()\n",
    "        num_sentences = len(sent_tokenize(content))\n",
    "        combined_data.append((content, 0))\n",
    "        num_sent.append(num_sentences)\n",
    "\n",
    "# Read and label files from folder2 and count sentences\n",
    "for file in folder2_files:\n",
    "    with open(os.path.join(folder2_path, file), 'r') as f:\n",
    "        content = f.read()\n",
    "        num_sentences = len(sent_tokenize(content))\n",
    "        combined_data.append((content, 1))\n",
    "        num_sent.append(num_sentences)\n",
    "\n",
    "# Convert combined_data to DataFrame\n",
    "df = pd.DataFrame(combined_data, columns=['content', 'label'])\n",
    "\n",
    "# Shuffle the DataFrame\n",
    "data = df.sample(frac=1).reset_index(drop=True)\n",
    "\n",
    "# Display the shuffled DataFrame\n",
    "print(data)\n",
    "\n",
    "# Find out the maximum number of sentences across all files\n",
    "max_sentences = max(num_sent)\n",
    "print(f\"\\nMaximum number of sentences across all files: {max_sentences}\")\n"
   ]
  },
  {
   "cell_type": "code",
   "execution_count": 5,
   "id": "36637209",
   "metadata": {},
   "outputs": [],
   "source": [
    "# len(test_indices),len(train_indices),len(val_indices)"
   ]
  },
  {
   "cell_type": "code",
   "execution_count": 6,
   "id": "7373fe13",
   "metadata": {},
   "outputs": [],
   "source": [
    "# len(reviews_sentences)"
   ]
  },
  {
   "cell_type": "code",
   "execution_count": 7,
   "id": "1faa950a",
   "metadata": {},
   "outputs": [
    {
     "name": "stdout",
     "output_type": "stream",
     "text": [
      "torch.Size([4, 115]) torch.Size([4, 115]) torch.Size([4])\n",
      "torch.Size([4, 115]) torch.Size([4, 115]) torch.Size([4])\n",
      "torch.Size([4, 115]) torch.Size([4, 115]) torch.Size([4])\n",
      "torch.Size([4, 115]) torch.Size([4, 115]) torch.Size([4])\n",
      "torch.Size([4, 115]) torch.Size([4, 115]) torch.Size([4])\n",
      "torch.Size([4, 115]) torch.Size([4, 115]) torch.Size([4])\n",
      "torch.Size([4, 115]) torch.Size([4, 115]) torch.Size([4])\n",
      "torch.Size([4, 115]) torch.Size([4, 115]) torch.Size([4])\n",
      "torch.Size([4, 115]) torch.Size([4, 115]) torch.Size([4])\n",
      "torch.Size([4, 115]) torch.Size([4, 115]) torch.Size([4])\n",
      "torch.Size([4, 115]) torch.Size([4, 115]) torch.Size([4])\n",
      "torch.Size([4, 115]) torch.Size([4, 115]) torch.Size([4])\n",
      "torch.Size([4, 115]) torch.Size([4, 115]) torch.Size([4])\n",
      "torch.Size([4, 115]) torch.Size([4, 115]) torch.Size([4])\n",
      "torch.Size([4, 115]) torch.Size([4, 115]) torch.Size([4])\n",
      "torch.Size([4, 115]) torch.Size([4, 115]) torch.Size([4])\n",
      "torch.Size([4, 115]) torch.Size([4, 115]) torch.Size([4])\n",
      "torch.Size([4, 115]) torch.Size([4, 115]) torch.Size([4])\n",
      "torch.Size([4, 115]) torch.Size([4, 115]) torch.Size([4])\n",
      "torch.Size([4, 115]) torch.Size([4, 115]) torch.Size([4])\n",
      "torch.Size([4, 115]) torch.Size([4, 115]) torch.Size([4])\n",
      "torch.Size([4, 115]) torch.Size([4, 115]) torch.Size([4])\n",
      "torch.Size([4, 115]) torch.Size([4, 115]) torch.Size([4])\n",
      "torch.Size([4, 115]) torch.Size([4, 115]) torch.Size([4])\n",
      "torch.Size([4, 115]) torch.Size([4, 115]) torch.Size([4])\n",
      "torch.Size([4, 115]) torch.Size([4, 115]) torch.Size([4])\n",
      "torch.Size([4, 115]) torch.Size([4, 115]) torch.Size([4])\n",
      "torch.Size([4, 115]) torch.Size([4, 115]) torch.Size([4])\n",
      "torch.Size([4, 115]) torch.Size([4, 115]) torch.Size([4])\n",
      "torch.Size([4, 115]) torch.Size([4, 115]) torch.Size([4])\n",
      "torch.Size([4, 115]) torch.Size([4, 115]) torch.Size([4])\n",
      "torch.Size([4, 115]) torch.Size([4, 115]) torch.Size([4])\n",
      "torch.Size([4, 115]) torch.Size([4, 115]) torch.Size([4])\n",
      "torch.Size([4, 115]) torch.Size([4, 115]) torch.Size([4])\n",
      "torch.Size([4, 115]) torch.Size([4, 115]) torch.Size([4])\n",
      "torch.Size([4, 115]) torch.Size([4, 115]) torch.Size([4])\n",
      "torch.Size([4, 115]) torch.Size([4, 115]) torch.Size([4])\n",
      "torch.Size([4, 115]) torch.Size([4, 115]) torch.Size([4])\n",
      "torch.Size([4, 115]) torch.Size([4, 115]) torch.Size([4])\n",
      "torch.Size([4, 115]) torch.Size([4, 115]) torch.Size([4])\n",
      "torch.Size([4, 115]) torch.Size([4, 115]) torch.Size([4])\n",
      "torch.Size([4, 115]) torch.Size([4, 115]) torch.Size([4])\n",
      "torch.Size([4, 115]) torch.Size([4, 115]) torch.Size([4])\n",
      "torch.Size([4, 115]) torch.Size([4, 115]) torch.Size([4])\n",
      "torch.Size([4, 115]) torch.Size([4, 115]) torch.Size([4])\n",
      "torch.Size([4, 115]) torch.Size([4, 115]) torch.Size([4])\n",
      "torch.Size([4, 115]) torch.Size([4, 115]) torch.Size([4])\n",
      "torch.Size([4, 115]) torch.Size([4, 115]) torch.Size([4])\n",
      "torch.Size([4, 115]) torch.Size([4, 115]) torch.Size([4])\n",
      "torch.Size([4, 115]) torch.Size([4, 115]) torch.Size([4])\n",
      "torch.Size([4, 115]) torch.Size([4, 115]) torch.Size([4])\n",
      "torch.Size([4, 115]) torch.Size([4, 115]) torch.Size([4])\n",
      "torch.Size([4, 115]) torch.Size([4, 115]) torch.Size([4])\n",
      "torch.Size([4, 115]) torch.Size([4, 115]) torch.Size([4])\n",
      "torch.Size([4, 115]) torch.Size([4, 115]) torch.Size([4])\n",
      "torch.Size([4, 115]) torch.Size([4, 115]) torch.Size([4])\n",
      "torch.Size([4, 115]) torch.Size([4, 115]) torch.Size([4])\n",
      "torch.Size([4, 115]) torch.Size([4, 115]) torch.Size([4])\n",
      "torch.Size([4, 115]) torch.Size([4, 115]) torch.Size([4])\n",
      "torch.Size([4, 115]) torch.Size([4, 115]) torch.Size([4])\n",
      "torch.Size([4, 115]) torch.Size([4, 115]) torch.Size([4])\n",
      "torch.Size([4, 115]) torch.Size([4, 115]) torch.Size([4])\n",
      "torch.Size([4, 115]) torch.Size([4, 115]) torch.Size([4])\n",
      "torch.Size([4, 115]) torch.Size([4, 115]) torch.Size([4])\n",
      "torch.Size([4, 115]) torch.Size([4, 115]) torch.Size([4])\n",
      "torch.Size([4, 115]) torch.Size([4, 115]) torch.Size([4])\n",
      "torch.Size([4, 115]) torch.Size([4, 115]) torch.Size([4])\n",
      "torch.Size([4, 115]) torch.Size([4, 115]) torch.Size([4])\n",
      "torch.Size([4, 115]) torch.Size([4, 115]) torch.Size([4])\n",
      "torch.Size([4, 115]) torch.Size([4, 115]) torch.Size([4])\n",
      "torch.Size([4, 115]) torch.Size([4, 115]) torch.Size([4])\n",
      "torch.Size([4, 115]) torch.Size([4, 115]) torch.Size([4])\n",
      "torch.Size([4, 115]) torch.Size([4, 115]) torch.Size([4])\n",
      "torch.Size([4, 115]) torch.Size([4, 115]) torch.Size([4])\n",
      "torch.Size([4, 115]) torch.Size([4, 115]) torch.Size([4])\n",
      "torch.Size([4, 115]) torch.Size([4, 115]) torch.Size([4])\n",
      "torch.Size([4, 115]) torch.Size([4, 115]) torch.Size([4])\n",
      "torch.Size([4, 115]) torch.Size([4, 115]) torch.Size([4])\n",
      "torch.Size([4, 115]) torch.Size([4, 115]) torch.Size([4])\n",
      "torch.Size([4, 115]) torch.Size([4, 115]) torch.Size([4])\n",
      "torch.Size([4, 115]) torch.Size([4, 115]) torch.Size([4])\n",
      "torch.Size([4, 115]) torch.Size([4, 115]) torch.Size([4])\n",
      "torch.Size([4, 115]) torch.Size([4, 115]) torch.Size([4])\n",
      "torch.Size([4, 115]) torch.Size([4, 115]) torch.Size([4])\n",
      "torch.Size([4, 115]) torch.Size([4, 115]) torch.Size([4])\n",
      "torch.Size([4, 115]) torch.Size([4, 115]) torch.Size([4])\n",
      "torch.Size([4, 115]) torch.Size([4, 115]) torch.Size([4])\n",
      "torch.Size([4, 115]) torch.Size([4, 115]) torch.Size([4])\n",
      "torch.Size([4, 115]) torch.Size([4, 115]) torch.Size([4])\n",
      "torch.Size([4, 115]) torch.Size([4, 115]) torch.Size([4])\n",
      "torch.Size([4, 115]) torch.Size([4, 115]) torch.Size([4])\n",
      "torch.Size([4, 115]) torch.Size([4, 115]) torch.Size([4])\n",
      "torch.Size([4, 115]) torch.Size([4, 115]) torch.Size([4])\n",
      "torch.Size([4, 115]) torch.Size([4, 115]) torch.Size([4])\n",
      "torch.Size([4, 115]) torch.Size([4, 115]) torch.Size([4])\n",
      "torch.Size([4, 115]) torch.Size([4, 115]) torch.Size([4])\n",
      "torch.Size([4, 115]) torch.Size([4, 115]) torch.Size([4])\n",
      "torch.Size([4, 115]) torch.Size([4, 115]) torch.Size([4])\n",
      "torch.Size([4, 115]) torch.Size([4, 115]) torch.Size([4])\n",
      "torch.Size([4, 115]) torch.Size([4, 115]) torch.Size([4])\n",
      "torch.Size([4, 115]) torch.Size([4, 115]) torch.Size([4])\n",
      "torch.Size([4, 115]) torch.Size([4, 115]) torch.Size([4])\n",
      "torch.Size([4, 115]) torch.Size([4, 115]) torch.Size([4])\n",
      "torch.Size([4, 115]) torch.Size([4, 115]) torch.Size([4])\n",
      "torch.Size([4, 115]) torch.Size([4, 115]) torch.Size([4])\n",
      "torch.Size([4, 115]) torch.Size([4, 115]) torch.Size([4])\n",
      "torch.Size([4, 115]) torch.Size([4, 115]) torch.Size([4])\n",
      "torch.Size([4, 115]) torch.Size([4, 115]) torch.Size([4])\n",
      "torch.Size([4, 115]) torch.Size([4, 115]) torch.Size([4])\n",
      "torch.Size([4, 115]) torch.Size([4, 115]) torch.Size([4])\n",
      "torch.Size([4, 115]) torch.Size([4, 115]) torch.Size([4])\n",
      "torch.Size([4, 115]) torch.Size([4, 115]) torch.Size([4])\n",
      "torch.Size([4, 115]) torch.Size([4, 115]) torch.Size([4])\n",
      "torch.Size([4, 115]) torch.Size([4, 115]) torch.Size([4])\n",
      "torch.Size([4, 115]) torch.Size([4, 115]) torch.Size([4])\n",
      "torch.Size([4, 115]) torch.Size([4, 115]) torch.Size([4])\n",
      "torch.Size([4, 115]) torch.Size([4, 115]) torch.Size([4])\n",
      "torch.Size([4, 115]) torch.Size([4, 115]) torch.Size([4])\n",
      "torch.Size([4, 115]) torch.Size([4, 115]) torch.Size([4])\n",
      "torch.Size([4, 115]) torch.Size([4, 115]) torch.Size([4])\n",
      "torch.Size([4, 115]) torch.Size([4, 115]) torch.Size([4])\n",
      "torch.Size([4, 115]) torch.Size([4, 115]) torch.Size([4])\n",
      "torch.Size([4, 115]) torch.Size([4, 115]) torch.Size([4])\n",
      "torch.Size([4, 115]) torch.Size([4, 115]) torch.Size([4])\n",
      "torch.Size([4, 115]) torch.Size([4, 115]) torch.Size([4])\n",
      "torch.Size([4, 115]) torch.Size([4, 115]) torch.Size([4])\n",
      "torch.Size([4, 115]) torch.Size([4, 115]) torch.Size([4])\n",
      "torch.Size([4, 115]) torch.Size([4, 115]) torch.Size([4])\n",
      "torch.Size([4, 115]) torch.Size([4, 115]) torch.Size([4])\n",
      "torch.Size([4, 115]) torch.Size([4, 115]) torch.Size([4])\n",
      "torch.Size([4, 115]) torch.Size([4, 115]) torch.Size([4])\n",
      "torch.Size([4, 115]) torch.Size([4, 115]) torch.Size([4])\n",
      "torch.Size([4, 115]) torch.Size([4, 115]) torch.Size([4])\n",
      "torch.Size([4, 115]) torch.Size([4, 115]) torch.Size([4])\n",
      "torch.Size([4, 115]) torch.Size([4, 115]) torch.Size([4])\n",
      "torch.Size([4, 115]) torch.Size([4, 115]) torch.Size([4])\n",
      "torch.Size([4, 115]) torch.Size([4, 115]) torch.Size([4])\n",
      "torch.Size([4, 115]) torch.Size([4, 115]) torch.Size([4])\n",
      "torch.Size([4, 115]) torch.Size([4, 115]) torch.Size([4])\n",
      "torch.Size([4, 115]) torch.Size([4, 115]) torch.Size([4])\n",
      "torch.Size([4, 115]) torch.Size([4, 115]) torch.Size([4])\n",
      "torch.Size([4, 115]) torch.Size([4, 115]) torch.Size([4])\n",
      "torch.Size([4, 115]) torch.Size([4, 115]) torch.Size([4])\n",
      "torch.Size([4, 115]) torch.Size([4, 115]) torch.Size([4])\n",
      "torch.Size([4, 115]) torch.Size([4, 115]) torch.Size([4])\n",
      "torch.Size([4, 115]) torch.Size([4, 115]) torch.Size([4])\n",
      "torch.Size([4, 115]) torch.Size([4, 115]) torch.Size([4])\n",
      "torch.Size([4, 115]) torch.Size([4, 115]) torch.Size([4])\n",
      "torch.Size([4, 115]) torch.Size([4, 115]) torch.Size([4])\n",
      "torch.Size([4, 115]) torch.Size([4, 115]) torch.Size([4])\n",
      "torch.Size([4, 115]) torch.Size([4, 115]) torch.Size([4])\n",
      "torch.Size([4, 115]) torch.Size([4, 115]) torch.Size([4])\n",
      "torch.Size([4, 115]) torch.Size([4, 115]) torch.Size([4])\n",
      "torch.Size([4, 115]) torch.Size([4, 115]) torch.Size([4])\n",
      "torch.Size([4, 115]) torch.Size([4, 115]) torch.Size([4])\n",
      "torch.Size([4, 115]) torch.Size([4, 115]) torch.Size([4])\n",
      "torch.Size([4, 115]) torch.Size([4, 115]) torch.Size([4])\n",
      "torch.Size([4, 115]) torch.Size([4, 115]) torch.Size([4])\n",
      "torch.Size([4, 115]) torch.Size([4, 115]) torch.Size([4])\n",
      "torch.Size([4, 115]) torch.Size([4, 115]) torch.Size([4])\n",
      "torch.Size([4, 115]) torch.Size([4, 115]) torch.Size([4])\n",
      "torch.Size([4, 115]) torch.Size([4, 115]) torch.Size([4])\n",
      "torch.Size([4, 115]) torch.Size([4, 115]) torch.Size([4])\n",
      "torch.Size([4, 115]) torch.Size([4, 115]) torch.Size([4])\n",
      "torch.Size([4, 115]) torch.Size([4, 115]) torch.Size([4])\n",
      "torch.Size([4, 115]) torch.Size([4, 115]) torch.Size([4])\n",
      "torch.Size([4, 115]) torch.Size([4, 115]) torch.Size([4])\n",
      "torch.Size([4, 115]) torch.Size([4, 115]) torch.Size([4])\n",
      "torch.Size([4, 115]) torch.Size([4, 115]) torch.Size([4])\n",
      "torch.Size([4, 115]) torch.Size([4, 115]) torch.Size([4])\n",
      "torch.Size([4, 115]) torch.Size([4, 115]) torch.Size([4])\n",
      "torch.Size([4, 115]) torch.Size([4, 115]) torch.Size([4])\n",
      "torch.Size([4, 115]) torch.Size([4, 115]) torch.Size([4])\n",
      "torch.Size([4, 115]) torch.Size([4, 115]) torch.Size([4])\n",
      "torch.Size([4, 115]) torch.Size([4, 115]) torch.Size([4])\n",
      "torch.Size([4, 115]) torch.Size([4, 115]) torch.Size([4])\n",
      "torch.Size([4, 115]) torch.Size([4, 115]) torch.Size([4])\n",
      "torch.Size([4, 115]) torch.Size([4, 115]) torch.Size([4])\n",
      "torch.Size([4, 115]) torch.Size([4, 115]) torch.Size([4])\n",
      "torch.Size([4, 115]) torch.Size([4, 115]) torch.Size([4])\n",
      "torch.Size([4, 115]) torch.Size([4, 115]) torch.Size([4])\n",
      "torch.Size([4, 115]) torch.Size([4, 115]) torch.Size([4])\n",
      "torch.Size([4, 115]) torch.Size([4, 115]) torch.Size([4])\n",
      "torch.Size([4, 115]) torch.Size([4, 115]) torch.Size([4])\n",
      "torch.Size([4, 115]) torch.Size([4, 115]) torch.Size([4])\n",
      "torch.Size([4, 115]) torch.Size([4, 115]) torch.Size([4])\n",
      "torch.Size([4, 115]) torch.Size([4, 115]) torch.Size([4])\n",
      "torch.Size([4, 115]) torch.Size([4, 115]) torch.Size([4])\n",
      "torch.Size([4, 115]) torch.Size([4, 115]) torch.Size([4])\n",
      "torch.Size([4, 115]) torch.Size([4, 115]) torch.Size([4])\n",
      "torch.Size([4, 115]) torch.Size([4, 115]) torch.Size([4])\n",
      "torch.Size([4, 115]) torch.Size([4, 115]) torch.Size([4])\n",
      "torch.Size([4, 115]) torch.Size([4, 115]) torch.Size([4])\n",
      "torch.Size([4, 115]) torch.Size([4, 115]) torch.Size([4])\n",
      "torch.Size([4, 115]) torch.Size([4, 115]) torch.Size([4])\n",
      "torch.Size([4, 115]) torch.Size([4, 115]) torch.Size([4])\n",
      "torch.Size([4, 115]) torch.Size([4, 115]) torch.Size([4])\n",
      "torch.Size([4, 115]) torch.Size([4, 115]) torch.Size([4])\n",
      "torch.Size([4, 115]) torch.Size([4, 115]) torch.Size([4])\n",
      "torch.Size([4, 115]) torch.Size([4, 115]) torch.Size([4])\n",
      "torch.Size([4, 115]) torch.Size([4, 115]) torch.Size([4])\n",
      "torch.Size([4, 115]) torch.Size([4, 115]) torch.Size([4])\n",
      "torch.Size([4, 115]) torch.Size([4, 115]) torch.Size([4])\n",
      "torch.Size([4, 115]) torch.Size([4, 115]) torch.Size([4])\n",
      "torch.Size([4, 115]) torch.Size([4, 115]) torch.Size([4])\n",
      "torch.Size([4, 115]) torch.Size([4, 115]) torch.Size([4])\n",
      "torch.Size([4, 115]) torch.Size([4, 115]) torch.Size([4])\n",
      "torch.Size([4, 115]) torch.Size([4, 115]) torch.Size([4])\n",
      "torch.Size([4, 115]) torch.Size([4, 115]) torch.Size([4])\n",
      "torch.Size([4, 115]) torch.Size([4, 115]) torch.Size([4])\n",
      "torch.Size([4, 115]) torch.Size([4, 115]) torch.Size([4])\n",
      "torch.Size([4, 115]) torch.Size([4, 115]) torch.Size([4])\n",
      "torch.Size([4, 115]) torch.Size([4, 115]) torch.Size([4])\n",
      "torch.Size([4, 115]) torch.Size([4, 115]) torch.Size([4])\n",
      "torch.Size([4, 115]) torch.Size([4, 115]) torch.Size([4])\n",
      "torch.Size([4, 115]) torch.Size([4, 115]) torch.Size([4])\n",
      "torch.Size([4, 115]) torch.Size([4, 115]) torch.Size([4])\n",
      "torch.Size([4, 115]) torch.Size([4, 115]) torch.Size([4])\n",
      "torch.Size([4, 115]) torch.Size([4, 115]) torch.Size([4])\n",
      "torch.Size([4, 115]) torch.Size([4, 115]) torch.Size([4])\n",
      "torch.Size([4, 115]) torch.Size([4, 115]) torch.Size([4])\n",
      "torch.Size([4, 115]) torch.Size([4, 115]) torch.Size([4])\n",
      "torch.Size([4, 115]) torch.Size([4, 115]) torch.Size([4])\n",
      "torch.Size([4, 115]) torch.Size([4, 115]) torch.Size([4])\n",
      "torch.Size([4, 115]) torch.Size([4, 115]) torch.Size([4])\n",
      "torch.Size([4, 115]) torch.Size([4, 115]) torch.Size([4])\n",
      "torch.Size([4, 115]) torch.Size([4, 115]) torch.Size([4])\n",
      "torch.Size([4, 115]) torch.Size([4, 115]) torch.Size([4])\n",
      "torch.Size([4, 115]) torch.Size([4, 115]) torch.Size([4])\n",
      "torch.Size([4, 115]) torch.Size([4, 115]) torch.Size([4])\n",
      "torch.Size([4, 115]) torch.Size([4, 115]) torch.Size([4])\n",
      "torch.Size([4, 115]) torch.Size([4, 115]) torch.Size([4])\n",
      "torch.Size([4, 115]) torch.Size([4, 115]) torch.Size([4])\n",
      "torch.Size([4, 115]) torch.Size([4, 115]) torch.Size([4])\n",
      "torch.Size([4, 115]) torch.Size([4, 115]) torch.Size([4])\n",
      "torch.Size([4, 115]) torch.Size([4, 115]) torch.Size([4])\n",
      "torch.Size([4, 115]) torch.Size([4, 115]) torch.Size([4])\n",
      "torch.Size([4, 115]) torch.Size([4, 115]) torch.Size([4])\n",
      "torch.Size([4, 115]) torch.Size([4, 115]) torch.Size([4])\n",
      "torch.Size([4, 115]) torch.Size([4, 115]) torch.Size([4])\n",
      "torch.Size([4, 115]) torch.Size([4, 115]) torch.Size([4])\n",
      "torch.Size([4, 115]) torch.Size([4, 115]) torch.Size([4])\n",
      "torch.Size([4, 115]) torch.Size([4, 115]) torch.Size([4])\n",
      "torch.Size([4, 115]) torch.Size([4, 115]) torch.Size([4])\n",
      "torch.Size([4, 115]) torch.Size([4, 115]) torch.Size([4])\n",
      "torch.Size([4, 115]) torch.Size([4, 115]) torch.Size([4])\n",
      "torch.Size([4, 115]) torch.Size([4, 115]) torch.Size([4])\n",
      "torch.Size([4, 115]) torch.Size([4, 115]) torch.Size([4])\n",
      "torch.Size([4, 115]) torch.Size([4, 115]) torch.Size([4])\n",
      "torch.Size([4, 115]) torch.Size([4, 115]) torch.Size([4])\n",
      "torch.Size([4, 115]) torch.Size([4, 115]) torch.Size([4])\n",
      "torch.Size([4, 115]) torch.Size([4, 115]) torch.Size([4])\n",
      "torch.Size([4, 115]) torch.Size([4, 115]) torch.Size([4])\n",
      "torch.Size([4, 115]) torch.Size([4, 115]) torch.Size([4])\n",
      "torch.Size([4, 115]) torch.Size([4, 115]) torch.Size([4])\n",
      "torch.Size([4, 115]) torch.Size([4, 115]) torch.Size([4])\n",
      "torch.Size([4, 115]) torch.Size([4, 115]) torch.Size([4])\n",
      "torch.Size([4, 115]) torch.Size([4, 115]) torch.Size([4])\n",
      "torch.Size([4, 115]) torch.Size([4, 115]) torch.Size([4])\n",
      "torch.Size([4, 115]) torch.Size([4, 115]) torch.Size([4])\n",
      "torch.Size([4, 115]) torch.Size([4, 115]) torch.Size([4])\n",
      "torch.Size([4, 115]) torch.Size([4, 115]) torch.Size([4])\n",
      "torch.Size([4, 115]) torch.Size([4, 115]) torch.Size([4])\n",
      "torch.Size([4, 115]) torch.Size([4, 115]) torch.Size([4])\n",
      "torch.Size([4, 115]) torch.Size([4, 115]) torch.Size([4])\n",
      "torch.Size([4, 115]) torch.Size([4, 115]) torch.Size([4])\n",
      "torch.Size([4, 115]) torch.Size([4, 115]) torch.Size([4])\n",
      "torch.Size([4, 115]) torch.Size([4, 115]) torch.Size([4])\n",
      "torch.Size([4, 115]) torch.Size([4, 115]) torch.Size([4])\n",
      "torch.Size([4, 115]) torch.Size([4, 115]) torch.Size([4])\n",
      "torch.Size([4, 115]) torch.Size([4, 115]) torch.Size([4])\n",
      "torch.Size([4, 115]) torch.Size([4, 115]) torch.Size([4])\n",
      "torch.Size([4, 115]) torch.Size([4, 115]) torch.Size([4])\n",
      "torch.Size([4, 115]) torch.Size([4, 115]) torch.Size([4])\n",
      "torch.Size([4, 115]) torch.Size([4, 115]) torch.Size([4])\n",
      "torch.Size([4, 115]) torch.Size([4, 115]) torch.Size([4])\n",
      "torch.Size([4, 115]) torch.Size([4, 115]) torch.Size([4])\n",
      "torch.Size([4, 115]) torch.Size([4, 115]) torch.Size([4])\n",
      "torch.Size([4, 115]) torch.Size([4, 115]) torch.Size([4])\n",
      "torch.Size([4, 115]) torch.Size([4, 115]) torch.Size([4])\n",
      "torch.Size([4, 115]) torch.Size([4, 115]) torch.Size([4])\n",
      "torch.Size([4, 115]) torch.Size([4, 115]) torch.Size([4])\n",
      "torch.Size([4, 115]) torch.Size([4, 115]) torch.Size([4])\n",
      "torch.Size([4, 115]) torch.Size([4, 115]) torch.Size([4])\n",
      "torch.Size([4, 115]) torch.Size([4, 115]) torch.Size([4])\n",
      "torch.Size([4, 115]) torch.Size([4, 115]) torch.Size([4])\n",
      "torch.Size([4, 115]) torch.Size([4, 115]) torch.Size([4])\n",
      "torch.Size([4, 115]) torch.Size([4, 115]) torch.Size([4])\n",
      "torch.Size([4, 115]) torch.Size([4, 115]) torch.Size([4])\n",
      "torch.Size([4, 115]) torch.Size([4, 115]) torch.Size([4])\n",
      "torch.Size([4, 115]) torch.Size([4, 115]) torch.Size([4])\n",
      "torch.Size([4, 115]) torch.Size([4, 115]) torch.Size([4])\n",
      "torch.Size([4, 115]) torch.Size([4, 115]) torch.Size([4])\n",
      "torch.Size([4, 115]) torch.Size([4, 115]) torch.Size([4])\n",
      "torch.Size([4, 115]) torch.Size([4, 115]) torch.Size([4])\n",
      "torch.Size([4, 115]) torch.Size([4, 115]) torch.Size([4])\n",
      "torch.Size([4, 115]) torch.Size([4, 115]) torch.Size([4])\n",
      "torch.Size([4, 115]) torch.Size([4, 115]) torch.Size([4])\n",
      "torch.Size([4, 115]) torch.Size([4, 115]) torch.Size([4])\n",
      "torch.Size([4, 115]) torch.Size([4, 115]) torch.Size([4])\n",
      "torch.Size([4, 115]) torch.Size([4, 115]) torch.Size([4])\n",
      "torch.Size([4, 115]) torch.Size([4, 115]) torch.Size([4])\n",
      "torch.Size([4, 115]) torch.Size([4, 115]) torch.Size([4])\n",
      "torch.Size([4, 115]) torch.Size([4, 115]) torch.Size([4])\n",
      "torch.Size([4, 115]) torch.Size([4, 115]) torch.Size([4])\n",
      "torch.Size([4, 115]) torch.Size([4, 115]) torch.Size([4])\n",
      "torch.Size([4, 115]) torch.Size([4, 115]) torch.Size([4])\n",
      "torch.Size([4, 115]) torch.Size([4, 115]) torch.Size([4])\n",
      "torch.Size([4, 115]) torch.Size([4, 115]) torch.Size([4])\n",
      "torch.Size([4, 115]) torch.Size([4, 115]) torch.Size([4])\n",
      "torch.Size([4, 115]) torch.Size([4, 115]) torch.Size([4])\n",
      "torch.Size([4, 115]) torch.Size([4, 115]) torch.Size([4])\n",
      "torch.Size([4, 115]) torch.Size([4, 115]) torch.Size([4])\n",
      "torch.Size([4, 115]) torch.Size([4, 115]) torch.Size([4])\n",
      "torch.Size([4, 115]) torch.Size([4, 115]) torch.Size([4])\n",
      "torch.Size([4, 115]) torch.Size([4, 115]) torch.Size([4])\n",
      "torch.Size([4, 115]) torch.Size([4, 115]) torch.Size([4])\n",
      "torch.Size([4, 115]) torch.Size([4, 115]) torch.Size([4])\n",
      "torch.Size([4, 115]) torch.Size([4, 115]) torch.Size([4])\n",
      "torch.Size([4, 115]) torch.Size([4, 115]) torch.Size([4])\n",
      "torch.Size([4, 115]) torch.Size([4, 115]) torch.Size([4])\n",
      "torch.Size([4, 115]) torch.Size([4, 115]) torch.Size([4])\n",
      "torch.Size([4, 115]) torch.Size([4, 115]) torch.Size([4])\n",
      "torch.Size([4, 115]) torch.Size([4, 115]) torch.Size([4])\n",
      "torch.Size([4, 115]) torch.Size([4, 115]) torch.Size([4])\n",
      "torch.Size([4, 115]) torch.Size([4, 115]) torch.Size([4])\n",
      "torch.Size([4, 115]) torch.Size([4, 115]) torch.Size([4])\n",
      "torch.Size([4, 115]) torch.Size([4, 115]) torch.Size([4])\n",
      "torch.Size([4, 115]) torch.Size([4, 115]) torch.Size([4])\n",
      "torch.Size([4, 115]) torch.Size([4, 115]) torch.Size([4])\n",
      "torch.Size([4, 115]) torch.Size([4, 115]) torch.Size([4])\n",
      "torch.Size([4, 115]) torch.Size([4, 115]) torch.Size([4])\n",
      "torch.Size([4, 115]) torch.Size([4, 115]) torch.Size([4])\n",
      "torch.Size([4, 115]) torch.Size([4, 115]) torch.Size([4])\n",
      "torch.Size([4, 115]) torch.Size([4, 115]) torch.Size([4])\n",
      "torch.Size([4, 115]) torch.Size([4, 115]) torch.Size([4])\n",
      "torch.Size([4, 115]) torch.Size([4, 115]) torch.Size([4])\n",
      "torch.Size([4, 115]) torch.Size([4, 115]) torch.Size([4])\n",
      "torch.Size([4, 115]) torch.Size([4, 115]) torch.Size([4])\n",
      "torch.Size([4, 115]) torch.Size([4, 115]) torch.Size([4])\n",
      "torch.Size([4, 115]) torch.Size([4, 115]) torch.Size([4])\n",
      "torch.Size([4, 115]) torch.Size([4, 115]) torch.Size([4])\n",
      "torch.Size([4, 115]) torch.Size([4, 115]) torch.Size([4])\n",
      "torch.Size([4, 115]) torch.Size([4, 115]) torch.Size([4])\n",
      "torch.Size([4, 115]) torch.Size([4, 115]) torch.Size([4])\n",
      "torch.Size([4, 115]) torch.Size([4, 115]) torch.Size([4])\n",
      "torch.Size([4, 115]) torch.Size([4, 115]) torch.Size([4])\n",
      "torch.Size([4, 115]) torch.Size([4, 115]) torch.Size([4])\n",
      "torch.Size([4, 115]) torch.Size([4, 115]) torch.Size([4])\n",
      "torch.Size([4, 115]) torch.Size([4, 115]) torch.Size([4])\n",
      "torch.Size([4, 115]) torch.Size([4, 115]) torch.Size([4])\n",
      "torch.Size([4, 115]) torch.Size([4, 115]) torch.Size([4])\n",
      "torch.Size([4, 115]) torch.Size([4, 115]) torch.Size([4])\n",
      "torch.Size([4, 115]) torch.Size([4, 115]) torch.Size([4])\n",
      "torch.Size([4, 115]) torch.Size([4, 115]) torch.Size([4])\n",
      "torch.Size([4, 115]) torch.Size([4, 115]) torch.Size([4])\n",
      "torch.Size([4, 115]) torch.Size([4, 115]) torch.Size([4])\n",
      "torch.Size([4, 115]) torch.Size([4, 115]) torch.Size([4])\n",
      "torch.Size([4, 115]) torch.Size([4, 115]) torch.Size([4])\n",
      "torch.Size([4, 115]) torch.Size([4, 115]) torch.Size([4])\n",
      "torch.Size([4, 115]) torch.Size([4, 115]) torch.Size([4])\n",
      "torch.Size([4, 115]) torch.Size([4, 115]) torch.Size([4])\n",
      "torch.Size([4, 115]) torch.Size([4, 115]) torch.Size([4])\n",
      "torch.Size([4, 115]) torch.Size([4, 115]) torch.Size([4])\n",
      "torch.Size([4, 115]) torch.Size([4, 115]) torch.Size([4])\n",
      "torch.Size([4, 115]) torch.Size([4, 115]) torch.Size([4])\n",
      "torch.Size([4, 115]) torch.Size([4, 115]) torch.Size([4])\n",
      "torch.Size([4, 115]) torch.Size([4, 115]) torch.Size([4])\n",
      "torch.Size([4, 115]) torch.Size([4, 115]) torch.Size([4])\n",
      "torch.Size([4, 115]) torch.Size([4, 115]) torch.Size([4])\n",
      "torch.Size([4, 115]) torch.Size([4, 115]) torch.Size([4])\n",
      "torch.Size([4, 115]) torch.Size([4, 115]) torch.Size([4])\n",
      "torch.Size([4, 115]) torch.Size([4, 115]) torch.Size([4])\n",
      "torch.Size([4, 115]) torch.Size([4, 115]) torch.Size([4])\n",
      "torch.Size([4, 115]) torch.Size([4, 115]) torch.Size([4])\n",
      "torch.Size([4, 115]) torch.Size([4, 115]) torch.Size([4])\n",
      "torch.Size([4, 115]) torch.Size([4, 115]) torch.Size([4])\n",
      "torch.Size([4, 115]) torch.Size([4, 115]) torch.Size([4])\n",
      "torch.Size([4, 115]) torch.Size([4, 115]) torch.Size([4])\n",
      "torch.Size([4, 115]) torch.Size([4, 115]) torch.Size([4])\n",
      "torch.Size([4, 115]) torch.Size([4, 115]) torch.Size([4])\n",
      "torch.Size([4, 115]) torch.Size([4, 115]) torch.Size([4])\n",
      "torch.Size([4, 115]) torch.Size([4, 115]) torch.Size([4])\n",
      "torch.Size([4, 115]) torch.Size([4, 115]) torch.Size([4])\n",
      "torch.Size([4, 115]) torch.Size([4, 115]) torch.Size([4])\n",
      "torch.Size([4, 115]) torch.Size([4, 115]) torch.Size([4])\n",
      "torch.Size([4, 115]) torch.Size([4, 115]) torch.Size([4])\n",
      "torch.Size([4, 115]) torch.Size([4, 115]) torch.Size([4])\n",
      "torch.Size([4, 115]) torch.Size([4, 115]) torch.Size([4])\n",
      "torch.Size([4, 115]) torch.Size([4, 115]) torch.Size([4])\n",
      "torch.Size([4, 115]) torch.Size([4, 115]) torch.Size([4])\n",
      "torch.Size([4, 115]) torch.Size([4, 115]) torch.Size([4])\n",
      "torch.Size([4, 115]) torch.Size([4, 115]) torch.Size([4])\n",
      "torch.Size([4, 115]) torch.Size([4, 115]) torch.Size([4])\n",
      "torch.Size([4, 115]) torch.Size([4, 115]) torch.Size([4])\n",
      "torch.Size([4, 115]) torch.Size([4, 115]) torch.Size([4])\n",
      "torch.Size([4, 115]) torch.Size([4, 115]) torch.Size([4])\n",
      "torch.Size([4, 115]) torch.Size([4, 115]) torch.Size([4])\n",
      "torch.Size([4, 115]) torch.Size([4, 115]) torch.Size([4])\n",
      "torch.Size([4, 115]) torch.Size([4, 115]) torch.Size([4])\n",
      "torch.Size([4, 115]) torch.Size([4, 115]) torch.Size([4])\n",
      "torch.Size([4, 115]) torch.Size([4, 115]) torch.Size([4])\n",
      "torch.Size([4, 115]) torch.Size([4, 115]) torch.Size([4])\n",
      "torch.Size([4, 115]) torch.Size([4, 115]) torch.Size([4])\n",
      "torch.Size([4, 115]) torch.Size([4, 115]) torch.Size([4])\n",
      "torch.Size([4, 115]) torch.Size([4, 115]) torch.Size([4])\n",
      "torch.Size([4, 115]) torch.Size([4, 115]) torch.Size([4])\n",
      "torch.Size([4, 115]) torch.Size([4, 115]) torch.Size([4])\n",
      "torch.Size([4, 115]) torch.Size([4, 115]) torch.Size([4])\n",
      "torch.Size([4, 115]) torch.Size([4, 115]) torch.Size([4])\n",
      "torch.Size([4, 115]) torch.Size([4, 115]) torch.Size([4])\n",
      "torch.Size([4, 115]) torch.Size([4, 115]) torch.Size([4])\n",
      "torch.Size([4, 115]) torch.Size([4, 115]) torch.Size([4])\n",
      "torch.Size([4, 115]) torch.Size([4, 115]) torch.Size([4])\n",
      "torch.Size([4, 115]) torch.Size([4, 115]) torch.Size([4])\n",
      "torch.Size([4, 115]) torch.Size([4, 115]) torch.Size([4])\n",
      "torch.Size([4, 115]) torch.Size([4, 115]) torch.Size([4])\n",
      "torch.Size([4, 115]) torch.Size([4, 115]) torch.Size([4])\n",
      "torch.Size([4, 115]) torch.Size([4, 115]) torch.Size([4])\n",
      "torch.Size([4, 115]) torch.Size([4, 115]) torch.Size([4])\n",
      "torch.Size([4, 115]) torch.Size([4, 115]) torch.Size([4])\n",
      "torch.Size([4, 115]) torch.Size([4, 115]) torch.Size([4])\n",
      "torch.Size([4, 115]) torch.Size([4, 115]) torch.Size([4])\n",
      "torch.Size([4, 115]) torch.Size([4, 115]) torch.Size([4])\n",
      "torch.Size([4, 115]) torch.Size([4, 115]) torch.Size([4])\n",
      "torch.Size([4, 115]) torch.Size([4, 115]) torch.Size([4])\n",
      "torch.Size([4, 115]) torch.Size([4, 115]) torch.Size([4])\n",
      "torch.Size([4, 115]) torch.Size([4, 115]) torch.Size([4])\n",
      "torch.Size([4, 115]) torch.Size([4, 115]) torch.Size([4])\n",
      "torch.Size([4, 115]) torch.Size([4, 115]) torch.Size([4])\n",
      "torch.Size([4, 115]) torch.Size([4, 115]) torch.Size([4])\n",
      "torch.Size([4, 115]) torch.Size([4, 115]) torch.Size([4])\n",
      "torch.Size([4, 115]) torch.Size([4, 115]) torch.Size([4])\n",
      "torch.Size([4, 115]) torch.Size([4, 115]) torch.Size([4])\n",
      "torch.Size([4, 115]) torch.Size([4, 115]) torch.Size([4])\n",
      "torch.Size([4, 115]) torch.Size([4, 115]) torch.Size([4])\n",
      "torch.Size([4, 115]) torch.Size([4, 115]) torch.Size([4])\n",
      "torch.Size([4, 115]) torch.Size([4, 115]) torch.Size([4])\n",
      "torch.Size([4, 115]) torch.Size([4, 115]) torch.Size([4])\n",
      "torch.Size([4, 115]) torch.Size([4, 115]) torch.Size([4])\n",
      "torch.Size([4, 115]) torch.Size([4, 115]) torch.Size([4])\n",
      "torch.Size([4, 115]) torch.Size([4, 115]) torch.Size([4])\n",
      "torch.Size([4, 115]) torch.Size([4, 115]) torch.Size([4])\n",
      "torch.Size([4, 115]) torch.Size([4, 115]) torch.Size([4])\n",
      "torch.Size([4, 115]) torch.Size([4, 115]) torch.Size([4])\n",
      "torch.Size([4, 115]) torch.Size([4, 115]) torch.Size([4])\n",
      "torch.Size([4, 115]) torch.Size([4, 115]) torch.Size([4])\n",
      "torch.Size([4, 115]) torch.Size([4, 115]) torch.Size([4])\n",
      "torch.Size([4, 115]) torch.Size([4, 115]) torch.Size([4])\n",
      "torch.Size([4, 115]) torch.Size([4, 115]) torch.Size([4])\n",
      "torch.Size([4, 115]) torch.Size([4, 115]) torch.Size([4])\n",
      "torch.Size([4, 115]) torch.Size([4, 115]) torch.Size([4])\n",
      "torch.Size([4, 115]) torch.Size([4, 115]) torch.Size([4])\n",
      "torch.Size([4, 115]) torch.Size([4, 115]) torch.Size([4])\n",
      "torch.Size([4, 115]) torch.Size([4, 115]) torch.Size([4])\n",
      "torch.Size([4, 115]) torch.Size([4, 115]) torch.Size([4])\n",
      "torch.Size([4, 115]) torch.Size([4, 115]) torch.Size([4])\n",
      "torch.Size([4, 115]) torch.Size([4, 115]) torch.Size([4])\n",
      "torch.Size([4, 115]) torch.Size([4, 115]) torch.Size([4])\n",
      "torch.Size([4, 115]) torch.Size([4, 115]) torch.Size([4])\n",
      "torch.Size([4, 115]) torch.Size([4, 115]) torch.Size([4])\n",
      "torch.Size([4, 115]) torch.Size([4, 115]) torch.Size([4])\n",
      "torch.Size([4, 115]) torch.Size([4, 115]) torch.Size([4])\n",
      "torch.Size([4, 115]) torch.Size([4, 115]) torch.Size([4])\n",
      "torch.Size([4, 115]) torch.Size([4, 115]) torch.Size([4])\n",
      "torch.Size([4, 115]) torch.Size([4, 115]) torch.Size([4])\n",
      "torch.Size([4, 115]) torch.Size([4, 115]) torch.Size([4])\n",
      "torch.Size([4, 115]) torch.Size([4, 115]) torch.Size([4])\n",
      "torch.Size([4, 115]) torch.Size([4, 115]) torch.Size([4])\n",
      "torch.Size([4, 115]) torch.Size([4, 115]) torch.Size([4])\n",
      "torch.Size([4, 115]) torch.Size([4, 115]) torch.Size([4])\n",
      "torch.Size([4, 115]) torch.Size([4, 115]) torch.Size([4])\n",
      "torch.Size([4, 115]) torch.Size([4, 115]) torch.Size([4])\n",
      "torch.Size([4, 115]) torch.Size([4, 115]) torch.Size([4])\n",
      "torch.Size([4, 115]) torch.Size([4, 115]) torch.Size([4])\n",
      "torch.Size([4, 115]) torch.Size([4, 115]) torch.Size([4])\n",
      "torch.Size([4, 115]) torch.Size([4, 115]) torch.Size([4])\n",
      "torch.Size([4, 115]) torch.Size([4, 115]) torch.Size([4])\n",
      "torch.Size([4, 115]) torch.Size([4, 115]) torch.Size([4])\n",
      "torch.Size([4, 115]) torch.Size([4, 115]) torch.Size([4])\n",
      "torch.Size([4, 115]) torch.Size([4, 115]) torch.Size([4])\n",
      "torch.Size([4, 115]) torch.Size([4, 115]) torch.Size([4])\n",
      "torch.Size([4, 115]) torch.Size([4, 115]) torch.Size([4])\n",
      "torch.Size([4, 115]) torch.Size([4, 115]) torch.Size([4])\n",
      "torch.Size([4, 115]) torch.Size([4, 115]) torch.Size([4])\n",
      "torch.Size([4, 115]) torch.Size([4, 115]) torch.Size([4])\n",
      "torch.Size([4, 115]) torch.Size([4, 115]) torch.Size([4])\n",
      "torch.Size([4, 115]) torch.Size([4, 115]) torch.Size([4])\n",
      "torch.Size([4, 115]) torch.Size([4, 115]) torch.Size([4])\n",
      "torch.Size([4, 115]) torch.Size([4, 115]) torch.Size([4])\n",
      "torch.Size([4, 115]) torch.Size([4, 115]) torch.Size([4])\n",
      "torch.Size([4, 115]) torch.Size([4, 115]) torch.Size([4])\n",
      "torch.Size([4, 115]) torch.Size([4, 115]) torch.Size([4])\n",
      "torch.Size([4, 115]) torch.Size([4, 115]) torch.Size([4])\n",
      "torch.Size([4, 115]) torch.Size([4, 115]) torch.Size([4])\n",
      "torch.Size([4, 115]) torch.Size([4, 115]) torch.Size([4])\n",
      "torch.Size([4, 115]) torch.Size([4, 115]) torch.Size([4])\n",
      "torch.Size([4, 115]) torch.Size([4, 115]) torch.Size([4])\n",
      "torch.Size([4, 115]) torch.Size([4, 115]) torch.Size([4])\n",
      "torch.Size([4, 115]) torch.Size([4, 115]) torch.Size([4])\n",
      "torch.Size([4, 115]) torch.Size([4, 115]) torch.Size([4])\n",
      "torch.Size([4, 115]) torch.Size([4, 115]) torch.Size([4])\n",
      "torch.Size([4, 115]) torch.Size([4, 115]) torch.Size([4])\n",
      "torch.Size([4, 115]) torch.Size([4, 115]) torch.Size([4])\n",
      "torch.Size([4, 115]) torch.Size([4, 115]) torch.Size([4])\n",
      "torch.Size([4, 115]) torch.Size([4, 115]) torch.Size([4])\n",
      "torch.Size([4, 115]) torch.Size([4, 115]) torch.Size([4])\n",
      "torch.Size([4, 115]) torch.Size([4, 115]) torch.Size([4])\n",
      "torch.Size([4, 115]) torch.Size([4, 115]) torch.Size([4])\n",
      "torch.Size([4, 115]) torch.Size([4, 115]) torch.Size([4])\n",
      "torch.Size([4, 115]) torch.Size([4, 115]) torch.Size([4])\n",
      "torch.Size([4, 115]) torch.Size([4, 115]) torch.Size([4])\n",
      "torch.Size([4, 115]) torch.Size([4, 115]) torch.Size([4])\n",
      "torch.Size([4, 115]) torch.Size([4, 115]) torch.Size([4])\n",
      "torch.Size([4, 115]) torch.Size([4, 115]) torch.Size([4])\n",
      "torch.Size([4, 115]) torch.Size([4, 115]) torch.Size([4])\n",
      "torch.Size([4, 115]) torch.Size([4, 115]) torch.Size([4])\n",
      "torch.Size([4, 115]) torch.Size([4, 115]) torch.Size([4])\n",
      "torch.Size([4, 115]) torch.Size([4, 115]) torch.Size([4])\n",
      "torch.Size([4, 115]) torch.Size([4, 115]) torch.Size([4])\n",
      "torch.Size([4, 115]) torch.Size([4, 115]) torch.Size([4])\n",
      "torch.Size([4, 115]) torch.Size([4, 115]) torch.Size([4])\n",
      "torch.Size([4, 115]) torch.Size([4, 115]) torch.Size([4])\n",
      "torch.Size([4, 115]) torch.Size([4, 115]) torch.Size([4])\n",
      "torch.Size([4, 115]) torch.Size([4, 115]) torch.Size([4])\n",
      "torch.Size([4, 115]) torch.Size([4, 115]) torch.Size([4])\n",
      "torch.Size([4, 115]) torch.Size([4, 115]) torch.Size([4])\n",
      "torch.Size([4, 115]) torch.Size([4, 115]) torch.Size([4])\n",
      "torch.Size([4, 115]) torch.Size([4, 115]) torch.Size([4])\n",
      "torch.Size([4, 115]) torch.Size([4, 115]) torch.Size([4])\n",
      "torch.Size([4, 115]) torch.Size([4, 115]) torch.Size([4])\n",
      "torch.Size([4, 115]) torch.Size([4, 115]) torch.Size([4])\n",
      "torch.Size([4, 115]) torch.Size([4, 115]) torch.Size([4])\n",
      "torch.Size([4, 115]) torch.Size([4, 115]) torch.Size([4])\n",
      "torch.Size([4, 115]) torch.Size([4, 115]) torch.Size([4])\n",
      "torch.Size([4, 115]) torch.Size([4, 115]) torch.Size([4])\n",
      "torch.Size([4, 115]) torch.Size([4, 115]) torch.Size([4])\n",
      "torch.Size([4, 115]) torch.Size([4, 115]) torch.Size([4])\n",
      "torch.Size([4, 115]) torch.Size([4, 115]) torch.Size([4])\n",
      "torch.Size([4, 115]) torch.Size([4, 115]) torch.Size([4])\n",
      "torch.Size([4, 115]) torch.Size([4, 115]) torch.Size([4])\n",
      "torch.Size([4, 115]) torch.Size([4, 115]) torch.Size([4])\n",
      "torch.Size([4, 115]) torch.Size([4, 115]) torch.Size([4])\n",
      "torch.Size([4, 115]) torch.Size([4, 115]) torch.Size([4])\n",
      "torch.Size([4, 115]) torch.Size([4, 115]) torch.Size([4])\n",
      "torch.Size([4, 115]) torch.Size([4, 115]) torch.Size([4])\n",
      "torch.Size([4, 115]) torch.Size([4, 115]) torch.Size([4])\n",
      "torch.Size([4, 115]) torch.Size([4, 115]) torch.Size([4])\n",
      "torch.Size([4, 115]) torch.Size([4, 115]) torch.Size([4])\n",
      "torch.Size([4, 115]) torch.Size([4, 115]) torch.Size([4])\n",
      "torch.Size([4, 115]) torch.Size([4, 115]) torch.Size([4])\n",
      "torch.Size([4, 115]) torch.Size([4, 115]) torch.Size([4])\n",
      "torch.Size([4, 115]) torch.Size([4, 115]) torch.Size([4])\n",
      "torch.Size([4, 115]) torch.Size([4, 115]) torch.Size([4])\n",
      "torch.Size([4, 115]) torch.Size([4, 115]) torch.Size([4])\n",
      "torch.Size([4, 115]) torch.Size([4, 115]) torch.Size([4])\n",
      "torch.Size([4, 115]) torch.Size([4, 115]) torch.Size([4])\n",
      "torch.Size([4, 115]) torch.Size([4, 115]) torch.Size([4])\n",
      "torch.Size([4, 115]) torch.Size([4, 115]) torch.Size([4])\n",
      "torch.Size([4, 115]) torch.Size([4, 115]) torch.Size([4])\n",
      "torch.Size([4, 115]) torch.Size([4, 115]) torch.Size([4])\n",
      "torch.Size([4, 115]) torch.Size([4, 115]) torch.Size([4])\n",
      "torch.Size([4, 115]) torch.Size([4, 115]) torch.Size([4])\n",
      "torch.Size([4, 115]) torch.Size([4, 115]) torch.Size([4])\n",
      "torch.Size([4, 115]) torch.Size([4, 115]) torch.Size([4])\n",
      "torch.Size([4, 115]) torch.Size([4, 115]) torch.Size([4])\n",
      "torch.Size([4, 115]) torch.Size([4, 115]) torch.Size([4])\n",
      "torch.Size([4, 115]) torch.Size([4, 115]) torch.Size([4])\n",
      "torch.Size([4, 115]) torch.Size([4, 115]) torch.Size([4])\n",
      "torch.Size([4, 115]) torch.Size([4, 115]) torch.Size([4])\n",
      "torch.Size([4, 115]) torch.Size([4, 115]) torch.Size([4])\n",
      "torch.Size([4, 115]) torch.Size([4, 115]) torch.Size([4])\n",
      "torch.Size([4, 115]) torch.Size([4, 115]) torch.Size([4])\n",
      "torch.Size([4, 115]) torch.Size([4, 115]) torch.Size([4])\n",
      "torch.Size([4, 115]) torch.Size([4, 115]) torch.Size([4])\n",
      "torch.Size([4, 115]) torch.Size([4, 115]) torch.Size([4])\n",
      "torch.Size([4, 115]) torch.Size([4, 115]) torch.Size([4])\n",
      "torch.Size([4, 115]) torch.Size([4, 115]) torch.Size([4])\n",
      "torch.Size([4, 115]) torch.Size([4, 115]) torch.Size([4])\n",
      "torch.Size([4, 115]) torch.Size([4, 115]) torch.Size([4])\n",
      "torch.Size([4, 115]) torch.Size([4, 115]) torch.Size([4])\n",
      "torch.Size([4, 115]) torch.Size([4, 115]) torch.Size([4])\n",
      "torch.Size([4, 115]) torch.Size([4, 115]) torch.Size([4])\n",
      "torch.Size([4, 115]) torch.Size([4, 115]) torch.Size([4])\n",
      "torch.Size([4, 115]) torch.Size([4, 115]) torch.Size([4])\n",
      "torch.Size([4, 115]) torch.Size([4, 115]) torch.Size([4])\n",
      "torch.Size([4, 115]) torch.Size([4, 115]) torch.Size([4])\n",
      "torch.Size([4, 115]) torch.Size([4, 115]) torch.Size([4])\n",
      "torch.Size([4, 115]) torch.Size([4, 115]) torch.Size([4])\n",
      "torch.Size([4, 115]) torch.Size([4, 115]) torch.Size([4])\n",
      "torch.Size([4, 115]) torch.Size([4, 115]) torch.Size([4])\n",
      "torch.Size([4, 115]) torch.Size([4, 115]) torch.Size([4])\n",
      "torch.Size([4, 115]) torch.Size([4, 115]) torch.Size([4])\n",
      "torch.Size([4, 115]) torch.Size([4, 115]) torch.Size([4])\n",
      "torch.Size([4, 115]) torch.Size([4, 115]) torch.Size([4])\n",
      "torch.Size([4, 115]) torch.Size([4, 115]) torch.Size([4])\n",
      "torch.Size([4, 115]) torch.Size([4, 115]) torch.Size([4])\n",
      "torch.Size([4, 115]) torch.Size([4, 115]) torch.Size([4])\n",
      "torch.Size([4, 115]) torch.Size([4, 115]) torch.Size([4])\n",
      "torch.Size([4, 115]) torch.Size([4, 115]) torch.Size([4])\n",
      "torch.Size([4, 115]) torch.Size([4, 115]) torch.Size([4])\n",
      "torch.Size([4, 115]) torch.Size([4, 115]) torch.Size([4])\n",
      "torch.Size([4, 115]) torch.Size([4, 115]) torch.Size([4])\n",
      "torch.Size([4, 115]) torch.Size([4, 115]) torch.Size([4])\n",
      "torch.Size([4, 115]) torch.Size([4, 115]) torch.Size([4])\n",
      "torch.Size([4, 115]) torch.Size([4, 115]) torch.Size([4])\n",
      "torch.Size([4, 115]) torch.Size([4, 115]) torch.Size([4])\n",
      "torch.Size([4, 115]) torch.Size([4, 115]) torch.Size([4])\n",
      "torch.Size([4, 115]) torch.Size([4, 115]) torch.Size([4])\n",
      "torch.Size([4, 115]) torch.Size([4, 115]) torch.Size([4])\n",
      "torch.Size([4, 115]) torch.Size([4, 115]) torch.Size([4])\n",
      "torch.Size([4, 115]) torch.Size([4, 115]) torch.Size([4])\n",
      "torch.Size([4, 115]) torch.Size([4, 115]) torch.Size([4])\n",
      "torch.Size([4, 115]) torch.Size([4, 115]) torch.Size([4])\n",
      "torch.Size([4, 115]) torch.Size([4, 115]) torch.Size([4])\n",
      "torch.Size([4, 115]) torch.Size([4, 115]) torch.Size([4])\n",
      "torch.Size([4, 115]) torch.Size([4, 115]) torch.Size([4])\n",
      "torch.Size([4, 115]) torch.Size([4, 115]) torch.Size([4])\n",
      "torch.Size([4, 115]) torch.Size([4, 115]) torch.Size([4])\n",
      "torch.Size([4, 115]) torch.Size([4, 115]) torch.Size([4])\n",
      "torch.Size([4, 115]) torch.Size([4, 115]) torch.Size([4])\n",
      "torch.Size([4, 115]) torch.Size([4, 115]) torch.Size([4])\n",
      "torch.Size([4, 115]) torch.Size([4, 115]) torch.Size([4])\n",
      "torch.Size([4, 115]) torch.Size([4, 115]) torch.Size([4])\n",
      "torch.Size([4, 115]) torch.Size([4, 115]) torch.Size([4])\n",
      "torch.Size([4, 115]) torch.Size([4, 115]) torch.Size([4])\n",
      "torch.Size([4, 115]) torch.Size([4, 115]) torch.Size([4])\n",
      "torch.Size([4, 115]) torch.Size([4, 115]) torch.Size([4])\n",
      "torch.Size([2, 115]) torch.Size([2, 115]) torch.Size([2])\n"
     ]
    },
    {
     "data": {
      "text/plain": [
       "(2514, 587, 7667)"
      ]
     },
     "execution_count": 7,
     "metadata": {},
     "output_type": "execute_result"
    }
   ],
   "source": [
    "# 2. Split data into train, validation, and test samples\n",
    "num_train_samples = num_train_samples\n",
    "num_val_samples = int(0.2 * num_train_samples)\n",
    "train_data = data.iloc[:num_train_samples]\n",
    "val_data = data.iloc[num_train_samples:num_train_samples+num_val_samples]\n",
    "test_data = data.iloc[num_train_samples+num_val_samples:]\n",
    "\n",
    "# 3. Preprocess and Flatten\n",
    "def preprocess_and_flatten(dataframe):\n",
    "    reviews = dataframe['content'].tolist()\n",
    "    labels = dataframe['label'].tolist()\n",
    "    reviews = [review.lower() for review in reviews]\n",
    "    reviews_sentences = [sent_tokenize(review) for review in reviews]\n",
    "    flattened_reviews = [sentence for review in reviews_sentences for sentence in review]\n",
    "    flattened_labels = [label for review, label in zip(reviews_sentences, labels) for sentence in review]\n",
    "    return flattened_reviews, flattened_labels\n",
    "\n",
    "train_reviews, train_labels = preprocess_and_flatten(train_data)\n",
    "val_reviews, val_labels = preprocess_and_flatten(val_data)\n",
    "test_reviews, test_labels = preprocess_and_flatten(test_data)\n",
    "\n",
    "# 4. Tokenization\n",
    "tokenizer = RobertaTokenizer.from_pretrained('roberta-base')\n",
    "train_tokens = tokenizer(train_reviews, padding=True, truncation=True, return_tensors=\"pt\", max_length=max_length)\n",
    "val_tokens = tokenizer(val_reviews, padding=True, truncation=True, return_tensors=\"pt\", max_length=max_length)\n",
    "test_tokens = tokenizer(test_reviews, padding=True, truncation=True, return_tensors=\"pt\", max_length=max_length)\n",
    "\n",
    "# 5. Create DataLoader\n",
    "train_batch_size = 4\n",
    "val_batch_size = 4\n",
    "test_batch_size = 4\n",
    "\n",
    "train_dataset = TensorDataset(train_tokens['input_ids'], train_tokens['attention_mask'], torch.tensor(train_labels))\n",
    "val_dataset = TensorDataset(val_tokens['input_ids'], val_tokens['attention_mask'], torch.tensor(val_labels))\n",
    "test_dataset = TensorDataset(test_tokens['input_ids'], test_tokens['attention_mask'], torch.tensor(test_labels))\n",
    "\n",
    "train_loader = DataLoader(train_dataset, shuffle=True, batch_size=train_batch_size)\n",
    "val_loader = DataLoader(val_dataset, shuffle=False, batch_size=val_batch_size)\n",
    "test_loader = DataLoader(test_dataset, shuffle=False, batch_size=test_batch_size)\n",
    "\n",
    "# Uncomment to test: iterating over the DataLoader\n",
    "for batch in train_loader:\n",
    "    input_ids, attention_mask, labels = batch\n",
    "    print(input_ids.shape, attention_mask.shape, labels.shape)\n",
    "len(train_loader.dataset),len(val_loader.dataset),len(test_loader.dataset)"
   ]
  },
  {
   "cell_type": "code",
   "execution_count": 8,
   "id": "cc7a49b0",
   "metadata": {},
   "outputs": [
    {
     "name": "stderr",
     "output_type": "stream",
     "text": [
      "Some weights of RobertaModel were not initialized from the model checkpoint at roberta-base and are newly initialized: ['roberta.pooler.dense.bias', 'roberta.pooler.dense.weight']\n",
      "You should probably TRAIN this model on a down-stream task to be able to use it for predictions and inference.\n"
     ]
    }
   ],
   "source": [
    "# Set device\n",
    "device = torch.device('cuda' if torch.cuda.is_available() else 'cpu')\n",
    "\n",
    "# Initialize the model\n",
    "model = HBN(d_e, h, m, n, y, dropout_prob).to(device)\n",
    "\n",
    "# Loss and Optimizer\n",
    "criterion = nn.CrossEntropyLoss()\n",
    "optimizer = optim.AdamW(model.parameters(), lr=2e-5, eps=1e-8)\n"
   ]
  },
  {
   "cell_type": "code",
   "execution_count": 9,
   "id": "918b22ca",
   "metadata": {},
   "outputs": [],
   "source": [
    "def train(model, dataloader, optimizer, criterion, device, epoch):\n",
    "    model.train()\n",
    "    total_loss = 0\n",
    "    for batch in tqdm(dataloader, desc=f\"Epoch {epoch + 1}/{num_epochs}\"):\n",
    "        input_ids, attention_mask, labels = batch\n",
    "        \n",
    "        input_ids = input_ids.to(device)\n",
    "        attention_mask = attention_mask.to(device)\n",
    "        labels = labels.to(device)\n",
    "\n",
    "        optimizer.zero_grad()\n",
    "        outputs = model(input_ids, attention_mask)\n",
    "        loss = criterion(outputs, labels)\n",
    "        loss.backward()\n",
    "#         torch.nn.utils.clip_grad_norm_(model.parameters(), max_norm=1.0)\n",
    "        optimizer.step()\n",
    "        \n",
    "        total_loss += loss.item()\n",
    "        \n",
    "    return total_loss / len(dataloader)\n",
    "\n",
    "def evaluate(model, dataloader, criterion, device):\n",
    "    model.eval()\n",
    "    total_loss = 0\n",
    "    correct_predictions = 0\n",
    "    all_preds = []\n",
    "    all_labels = []\n",
    "\n",
    "    with torch.no_grad():\n",
    "        for batch in tqdm(dataloader):\n",
    "            input_ids, attention_mask, labels = batch\n",
    "\n",
    "            input_ids = input_ids.to(device)\n",
    "            attention_mask = attention_mask.to(device)\n",
    "            labels = labels.to(device)\n",
    "\n",
    "            outputs = model(input_ids, attention_mask)\n",
    "            loss = criterion(outputs, labels)\n",
    "            total_loss += loss.item()\n",
    "\n",
    "            _, preds = torch.max(outputs, dim=1)\n",
    "            correct_predictions += torch.sum(preds == labels)\n",
    "            \n",
    "            # For AUC\n",
    "            # Assuming binary classification; you need to get the probabilities for the positive class\n",
    "            probs = torch.nn.functional.softmax(outputs, dim=1)[:, 1]\n",
    "            all_preds.extend(probs.cpu().numpy())\n",
    "            all_labels.extend(labels.cpu().numpy())\n",
    "    \n",
    "    accuracy = correct_predictions.double() / len(dataloader.dataset)\n",
    "    auc = roc_auc_score(all_labels, all_preds)\n",
    "    return total_loss / len(dataloader), accuracy, auc\n",
    "\n"
   ]
  },
  {
   "cell_type": "code",
   "execution_count": 10,
   "id": "7b06eafa",
   "metadata": {
    "scrolled": false
   },
   "outputs": [
    {
     "name": "stderr",
     "output_type": "stream",
     "text": [
      "Epoch 1/50: 100%|█████████████████████████████████████████████████████████████████████| 656/656 [01:48<00:00,  6.05it/s]\n"
     ]
    },
    {
     "name": "stdout",
     "output_type": "stream",
     "text": [
      "Train Loss: 0.3883\n"
     ]
    },
    {
     "name": "stderr",
     "output_type": "stream",
     "text": [
      "100%|█████████████████████████████████████████████████████████████████████████████████| 131/131 [00:15<00:00,  8.27it/s]\n"
     ]
    },
    {
     "name": "stdout",
     "output_type": "stream",
     "text": [
      "Val Loss: 0.3658, Val Accuracy: 0.8298, Val AUC: 0.9308\n"
     ]
    },
    {
     "name": "stderr",
     "output_type": "stream",
     "text": [
      "Epoch 2/50: 100%|█████████████████████████████████████████████████████████████████████| 656/656 [01:42<00:00,  6.42it/s]\n"
     ]
    },
    {
     "name": "stdout",
     "output_type": "stream",
     "text": [
      "Train Loss: 0.2564\n"
     ]
    },
    {
     "name": "stderr",
     "output_type": "stream",
     "text": [
      "100%|█████████████████████████████████████████████████████████████████████████████████| 131/131 [00:15<00:00,  8.38it/s]\n"
     ]
    },
    {
     "name": "stdout",
     "output_type": "stream",
     "text": [
      "Val Loss: 0.6379, Val Accuracy: 0.7782, Val AUC: 0.9256\n"
     ]
    },
    {
     "name": "stderr",
     "output_type": "stream",
     "text": [
      "Epoch 3/50: 100%|█████████████████████████████████████████████████████████████████████| 656/656 [01:41<00:00,  6.48it/s]\n"
     ]
    },
    {
     "name": "stdout",
     "output_type": "stream",
     "text": [
      "Train Loss: 0.2326\n"
     ]
    },
    {
     "name": "stderr",
     "output_type": "stream",
     "text": [
      "100%|█████████████████████████████████████████████████████████████████████████████████| 131/131 [00:15<00:00,  8.26it/s]\n"
     ]
    },
    {
     "name": "stdout",
     "output_type": "stream",
     "text": [
      "Val Loss: 0.7116, Val Accuracy: 0.7514, Val AUC: 0.9269\n"
     ]
    },
    {
     "name": "stderr",
     "output_type": "stream",
     "text": [
      "Epoch 4/50: 100%|█████████████████████████████████████████████████████████████████████| 656/656 [01:40<00:00,  6.50it/s]\n"
     ]
    },
    {
     "name": "stdout",
     "output_type": "stream",
     "text": [
      "Train Loss: 0.2122\n"
     ]
    },
    {
     "name": "stderr",
     "output_type": "stream",
     "text": [
      "100%|█████████████████████████████████████████████████████████████████████████████████| 131/131 [00:15<00:00,  8.28it/s]\n"
     ]
    },
    {
     "name": "stdout",
     "output_type": "stream",
     "text": [
      "Val Loss: 0.4319, Val Accuracy: 0.8337, Val AUC: 0.9239\n"
     ]
    },
    {
     "name": "stderr",
     "output_type": "stream",
     "text": [
      "Epoch 5/50: 100%|█████████████████████████████████████████████████████████████████████| 656/656 [01:41<00:00,  6.49it/s]\n"
     ]
    },
    {
     "name": "stdout",
     "output_type": "stream",
     "text": [
      "Train Loss: 0.1996\n"
     ]
    },
    {
     "name": "stderr",
     "output_type": "stream",
     "text": [
      "100%|█████████████████████████████████████████████████████████████████████████████████| 131/131 [00:15<00:00,  8.25it/s]\n"
     ]
    },
    {
     "name": "stdout",
     "output_type": "stream",
     "text": [
      "Val Loss: 0.3907, Val Accuracy: 0.8260, Val AUC: 0.9218\n"
     ]
    },
    {
     "name": "stderr",
     "output_type": "stream",
     "text": [
      "Epoch 6/50: 100%|█████████████████████████████████████████████████████████████████████| 656/656 [01:40<00:00,  6.50it/s]\n"
     ]
    },
    {
     "name": "stdout",
     "output_type": "stream",
     "text": [
      "Train Loss: 0.2054\n"
     ]
    },
    {
     "name": "stderr",
     "output_type": "stream",
     "text": [
      "100%|█████████████████████████████████████████████████████████████████████████████████| 131/131 [00:15<00:00,  8.26it/s]\n"
     ]
    },
    {
     "name": "stdout",
     "output_type": "stream",
     "text": [
      "Val Loss: 0.4106, Val Accuracy: 0.8279, Val AUC: 0.9194\n"
     ]
    },
    {
     "name": "stderr",
     "output_type": "stream",
     "text": [
      "Epoch 7/50: 100%|█████████████████████████████████████████████████████████████████████| 656/656 [01:41<00:00,  6.49it/s]\n"
     ]
    },
    {
     "name": "stdout",
     "output_type": "stream",
     "text": [
      "Train Loss: 0.1937\n"
     ]
    },
    {
     "name": "stderr",
     "output_type": "stream",
     "text": [
      "100%|█████████████████████████████████████████████████████████████████████████████████| 131/131 [00:15<00:00,  8.26it/s]\n"
     ]
    },
    {
     "name": "stdout",
     "output_type": "stream",
     "text": [
      "Val Loss: 0.5505, Val Accuracy: 0.8126, Val AUC: 0.9197\n"
     ]
    },
    {
     "name": "stderr",
     "output_type": "stream",
     "text": [
      "Epoch 8/50: 100%|█████████████████████████████████████████████████████████████████████| 656/656 [01:41<00:00,  6.49it/s]\n"
     ]
    },
    {
     "name": "stdout",
     "output_type": "stream",
     "text": [
      "Train Loss: 0.2060\n"
     ]
    },
    {
     "name": "stderr",
     "output_type": "stream",
     "text": [
      "100%|█████████████████████████████████████████████████████████████████████████████████| 131/131 [00:15<00:00,  8.19it/s]\n"
     ]
    },
    {
     "name": "stdout",
     "output_type": "stream",
     "text": [
      "Val Loss: 0.5013, Val Accuracy: 0.8069, Val AUC: 0.9222\n"
     ]
    },
    {
     "name": "stderr",
     "output_type": "stream",
     "text": [
      "Epoch 9/50: 100%|█████████████████████████████████████████████████████████████████████| 656/656 [01:41<00:00,  6.48it/s]\n"
     ]
    },
    {
     "name": "stdout",
     "output_type": "stream",
     "text": [
      "Train Loss: 0.1924\n"
     ]
    },
    {
     "name": "stderr",
     "output_type": "stream",
     "text": [
      "100%|█████████████████████████████████████████████████████████████████████████████████| 131/131 [00:15<00:00,  8.26it/s]\n"
     ]
    },
    {
     "name": "stdout",
     "output_type": "stream",
     "text": [
      "Val Loss: 0.3721, Val Accuracy: 0.8356, Val AUC: 0.9229\n"
     ]
    },
    {
     "name": "stderr",
     "output_type": "stream",
     "text": [
      "Epoch 10/50: 100%|████████████████████████████████████████████████████████████████████| 656/656 [01:40<00:00,  6.50it/s]\n"
     ]
    },
    {
     "name": "stdout",
     "output_type": "stream",
     "text": [
      "Train Loss: 0.1757\n"
     ]
    },
    {
     "name": "stderr",
     "output_type": "stream",
     "text": [
      "100%|█████████████████████████████████████████████████████████████████████████████████| 131/131 [00:15<00:00,  8.27it/s]\n"
     ]
    },
    {
     "name": "stdout",
     "output_type": "stream",
     "text": [
      "Val Loss: 0.6923, Val Accuracy: 0.7763, Val AUC: 0.9226\n"
     ]
    },
    {
     "name": "stderr",
     "output_type": "stream",
     "text": [
      "Epoch 11/50: 100%|████████████████████████████████████████████████████████████████████| 656/656 [01:41<00:00,  6.49it/s]\n"
     ]
    },
    {
     "name": "stdout",
     "output_type": "stream",
     "text": [
      "Train Loss: 0.1803\n"
     ]
    },
    {
     "name": "stderr",
     "output_type": "stream",
     "text": [
      "100%|█████████████████████████████████████████████████████████████████████████████████| 131/131 [00:15<00:00,  8.28it/s]\n"
     ]
    },
    {
     "name": "stdout",
     "output_type": "stream",
     "text": [
      "Val Loss: 0.4754, Val Accuracy: 0.8184, Val AUC: 0.9218\n"
     ]
    },
    {
     "name": "stderr",
     "output_type": "stream",
     "text": [
      "Epoch 12/50: 100%|████████████████████████████████████████████████████████████████████| 656/656 [01:42<00:00,  6.40it/s]\n"
     ]
    },
    {
     "name": "stdout",
     "output_type": "stream",
     "text": [
      "Train Loss: 0.1739\n"
     ]
    },
    {
     "name": "stderr",
     "output_type": "stream",
     "text": [
      "100%|█████████████████████████████████████████████████████████████████████████████████| 131/131 [00:16<00:00,  8.10it/s]\n"
     ]
    },
    {
     "name": "stdout",
     "output_type": "stream",
     "text": [
      "Val Loss: 0.4874, Val Accuracy: 0.8126, Val AUC: 0.9223\n"
     ]
    },
    {
     "name": "stderr",
     "output_type": "stream",
     "text": [
      "Epoch 13/50: 100%|████████████████████████████████████████████████████████████████████| 656/656 [01:41<00:00,  6.48it/s]\n"
     ]
    },
    {
     "name": "stdout",
     "output_type": "stream",
     "text": [
      "Train Loss: 0.1777\n"
     ]
    },
    {
     "name": "stderr",
     "output_type": "stream",
     "text": [
      "100%|█████████████████████████████████████████████████████████████████████████████████| 131/131 [00:16<00:00,  8.00it/s]\n"
     ]
    },
    {
     "name": "stdout",
     "output_type": "stream",
     "text": [
      "Val Loss: 0.6285, Val Accuracy: 0.8050, Val AUC: 0.9177\n"
     ]
    },
    {
     "name": "stderr",
     "output_type": "stream",
     "text": [
      "Epoch 14/50: 100%|████████████████████████████████████████████████████████████████████| 656/656 [01:45<00:00,  6.23it/s]\n"
     ]
    },
    {
     "name": "stdout",
     "output_type": "stream",
     "text": [
      "Train Loss: 0.1751\n"
     ]
    },
    {
     "name": "stderr",
     "output_type": "stream",
     "text": [
      "100%|█████████████████████████████████████████████████████████████████████████████████| 131/131 [00:16<00:00,  7.91it/s]\n"
     ]
    },
    {
     "name": "stdout",
     "output_type": "stream",
     "text": [
      "Val Loss: 0.3860, Val Accuracy: 0.8394, Val AUC: 0.9154\n"
     ]
    },
    {
     "name": "stderr",
     "output_type": "stream",
     "text": [
      "Epoch 15/50: 100%|████████████████████████████████████████████████████████████████████| 656/656 [01:43<00:00,  6.36it/s]\n"
     ]
    },
    {
     "name": "stdout",
     "output_type": "stream",
     "text": [
      "Train Loss: 0.1718\n"
     ]
    },
    {
     "name": "stderr",
     "output_type": "stream",
     "text": [
      "100%|█████████████████████████████████████████████████████████████████████████████████| 131/131 [00:16<00:00,  7.91it/s]\n"
     ]
    },
    {
     "name": "stdout",
     "output_type": "stream",
     "text": [
      "Val Loss: 0.4465, Val Accuracy: 0.8432, Val AUC: 0.9195\n"
     ]
    },
    {
     "name": "stderr",
     "output_type": "stream",
     "text": [
      "Epoch 16/50: 100%|████████████████████████████████████████████████████████████████████| 656/656 [01:42<00:00,  6.43it/s]\n"
     ]
    },
    {
     "name": "stdout",
     "output_type": "stream",
     "text": [
      "Train Loss: 0.1684\n"
     ]
    },
    {
     "name": "stderr",
     "output_type": "stream",
     "text": [
      "100%|█████████████████████████████████████████████████████████████████████████████████| 131/131 [00:16<00:00,  8.10it/s]\n"
     ]
    },
    {
     "name": "stdout",
     "output_type": "stream",
     "text": [
      "Val Loss: 0.5336, Val Accuracy: 0.8011, Val AUC: 0.9213\n"
     ]
    },
    {
     "name": "stderr",
     "output_type": "stream",
     "text": [
      "Epoch 17/50: 100%|████████████████████████████████████████████████████████████████████| 656/656 [01:42<00:00,  6.42it/s]\n"
     ]
    },
    {
     "name": "stdout",
     "output_type": "stream",
     "text": [
      "Train Loss: 0.1620\n"
     ]
    },
    {
     "name": "stderr",
     "output_type": "stream",
     "text": [
      "100%|█████████████████████████████████████████████████████████████████████████████████| 131/131 [00:16<00:00,  8.11it/s]\n"
     ]
    },
    {
     "name": "stdout",
     "output_type": "stream",
     "text": [
      "Val Loss: 0.6252, Val Accuracy: 0.8011, Val AUC: 0.9192\n"
     ]
    },
    {
     "name": "stderr",
     "output_type": "stream",
     "text": [
      "Epoch 18/50: 100%|████████████████████████████████████████████████████████████████████| 656/656 [01:42<00:00,  6.42it/s]\n"
     ]
    },
    {
     "name": "stdout",
     "output_type": "stream",
     "text": [
      "Train Loss: 0.1702\n"
     ]
    },
    {
     "name": "stderr",
     "output_type": "stream",
     "text": [
      "100%|█████████████████████████████████████████████████████████████████████████████████| 131/131 [00:16<00:00,  8.06it/s]\n"
     ]
    },
    {
     "name": "stdout",
     "output_type": "stream",
     "text": [
      "Val Loss: 0.4107, Val Accuracy: 0.8260, Val AUC: 0.9214\n"
     ]
    },
    {
     "name": "stderr",
     "output_type": "stream",
     "text": [
      "Epoch 19/50: 100%|████████████████████████████████████████████████████████████████████| 656/656 [01:41<00:00,  6.46it/s]\n"
     ]
    },
    {
     "name": "stdout",
     "output_type": "stream",
     "text": [
      "Train Loss: 0.1576\n"
     ]
    },
    {
     "name": "stderr",
     "output_type": "stream",
     "text": [
      "100%|█████████████████████████████████████████████████████████████████████████████████| 131/131 [00:16<00:00,  8.10it/s]\n"
     ]
    },
    {
     "name": "stdout",
     "output_type": "stream",
     "text": [
      "Val Loss: 0.4094, Val Accuracy: 0.8203, Val AUC: 0.9189\n"
     ]
    },
    {
     "name": "stderr",
     "output_type": "stream",
     "text": [
      "Epoch 20/50: 100%|████████████████████████████████████████████████████████████████████| 656/656 [01:41<00:00,  6.43it/s]\n"
     ]
    },
    {
     "name": "stdout",
     "output_type": "stream",
     "text": [
      "Train Loss: 0.1512\n"
     ]
    },
    {
     "name": "stderr",
     "output_type": "stream",
     "text": [
      "100%|█████████████████████████████████████████████████████████████████████████████████| 131/131 [00:16<00:00,  8.09it/s]\n"
     ]
    },
    {
     "name": "stdout",
     "output_type": "stream",
     "text": [
      "Val Loss: 0.5157, Val Accuracy: 0.8107, Val AUC: 0.9190\n"
     ]
    },
    {
     "name": "stderr",
     "output_type": "stream",
     "text": [
      "Epoch 21/50: 100%|████████████████████████████████████████████████████████████████████| 656/656 [01:42<00:00,  6.43it/s]\n"
     ]
    },
    {
     "name": "stdout",
     "output_type": "stream",
     "text": [
      "Train Loss: 0.1639\n"
     ]
    },
    {
     "name": "stderr",
     "output_type": "stream",
     "text": [
      "100%|█████████████████████████████████████████████████████████████████████████████████| 131/131 [00:16<00:00,  8.09it/s]\n"
     ]
    },
    {
     "name": "stdout",
     "output_type": "stream",
     "text": [
      "Val Loss: 0.3849, Val Accuracy: 0.8413, Val AUC: 0.9185\n"
     ]
    },
    {
     "name": "stderr",
     "output_type": "stream",
     "text": [
      "Epoch 22/50: 100%|████████████████████████████████████████████████████████████████████| 656/656 [01:48<00:00,  6.07it/s]\n"
     ]
    },
    {
     "name": "stdout",
     "output_type": "stream",
     "text": [
      "Train Loss: 0.1556\n"
     ]
    },
    {
     "name": "stderr",
     "output_type": "stream",
     "text": [
      "100%|█████████████████████████████████████████████████████████████████████████████████| 131/131 [00:21<00:00,  6.00it/s]\n"
     ]
    },
    {
     "name": "stdout",
     "output_type": "stream",
     "text": [
      "Val Loss: 0.4172, Val Accuracy: 0.8260, Val AUC: 0.9177\n"
     ]
    },
    {
     "name": "stderr",
     "output_type": "stream",
     "text": [
      "Epoch 23/50: 100%|████████████████████████████████████████████████████████████████████| 656/656 [02:20<00:00,  4.67it/s]\n"
     ]
    },
    {
     "name": "stdout",
     "output_type": "stream",
     "text": [
      "Train Loss: 0.1478\n"
     ]
    },
    {
     "name": "stderr",
     "output_type": "stream",
     "text": [
      "100%|█████████████████████████████████████████████████████████████████████████████████| 131/131 [00:24<00:00,  5.44it/s]\n"
     ]
    },
    {
     "name": "stdout",
     "output_type": "stream",
     "text": [
      "Val Loss: 0.5091, Val Accuracy: 0.8145, Val AUC: 0.9171\n"
     ]
    },
    {
     "name": "stderr",
     "output_type": "stream",
     "text": [
      "Epoch 24/50: 100%|████████████████████████████████████████████████████████████████████| 656/656 [01:56<00:00,  5.62it/s]\n"
     ]
    },
    {
     "name": "stdout",
     "output_type": "stream",
     "text": [
      "Train Loss: 0.1500\n"
     ]
    },
    {
     "name": "stderr",
     "output_type": "stream",
     "text": [
      "100%|█████████████████████████████████████████████████████████████████████████████████| 131/131 [00:16<00:00,  8.16it/s]\n"
     ]
    },
    {
     "name": "stdout",
     "output_type": "stream",
     "text": [
      "Val Loss: 0.4738, Val Accuracy: 0.8337, Val AUC: 0.9184\n"
     ]
    },
    {
     "name": "stderr",
     "output_type": "stream",
     "text": [
      "Epoch 25/50: 100%|████████████████████████████████████████████████████████████████████| 656/656 [01:41<00:00,  6.49it/s]\n"
     ]
    },
    {
     "name": "stdout",
     "output_type": "stream",
     "text": [
      "Train Loss: 0.1439\n"
     ]
    },
    {
     "name": "stderr",
     "output_type": "stream",
     "text": [
      "100%|█████████████████████████████████████████████████████████████████████████████████| 131/131 [00:22<00:00,  5.95it/s]\n"
     ]
    },
    {
     "name": "stdout",
     "output_type": "stream",
     "text": [
      "Val Loss: 0.6240, Val Accuracy: 0.8088, Val AUC: 0.9204\n"
     ]
    },
    {
     "name": "stderr",
     "output_type": "stream",
     "text": [
      "Epoch 26/50: 100%|████████████████████████████████████████████████████████████████████| 656/656 [02:30<00:00,  4.37it/s]\n"
     ]
    },
    {
     "name": "stdout",
     "output_type": "stream",
     "text": [
      "Train Loss: 0.1422\n"
     ]
    },
    {
     "name": "stderr",
     "output_type": "stream",
     "text": [
      "100%|█████████████████████████████████████████████████████████████████████████████████| 131/131 [00:25<00:00,  5.18it/s]\n"
     ]
    },
    {
     "name": "stdout",
     "output_type": "stream",
     "text": [
      "Val Loss: 0.5681, Val Accuracy: 0.8337, Val AUC: 0.9205\n"
     ]
    },
    {
     "name": "stderr",
     "output_type": "stream",
     "text": [
      "Epoch 27/50: 100%|████████████████████████████████████████████████████████████████████| 656/656 [02:16<00:00,  4.80it/s]\n"
     ]
    },
    {
     "name": "stdout",
     "output_type": "stream",
     "text": [
      "Train Loss: 0.1418\n"
     ]
    },
    {
     "name": "stderr",
     "output_type": "stream",
     "text": [
      "100%|█████████████████████████████████████████████████████████████████████████████████| 131/131 [00:16<00:00,  8.00it/s]\n"
     ]
    },
    {
     "name": "stdout",
     "output_type": "stream",
     "text": [
      "Val Loss: 0.5075, Val Accuracy: 0.8069, Val AUC: 0.9211\n"
     ]
    },
    {
     "name": "stderr",
     "output_type": "stream",
     "text": [
      "Epoch 28/50: 100%|████████████████████████████████████████████████████████████████████| 656/656 [01:42<00:00,  6.40it/s]\n"
     ]
    },
    {
     "name": "stdout",
     "output_type": "stream",
     "text": [
      "Train Loss: 0.1462\n"
     ]
    },
    {
     "name": "stderr",
     "output_type": "stream",
     "text": [
      "100%|█████████████████████████████████████████████████████████████████████████████████| 131/131 [00:17<00:00,  7.65it/s]\n"
     ]
    },
    {
     "name": "stdout",
     "output_type": "stream",
     "text": [
      "Val Loss: 0.4613, Val Accuracy: 0.8184, Val AUC: 0.9175\n"
     ]
    },
    {
     "name": "stderr",
     "output_type": "stream",
     "text": [
      "Epoch 29/50: 100%|████████████████████████████████████████████████████████████████████| 656/656 [01:42<00:00,  6.41it/s]\n"
     ]
    },
    {
     "name": "stdout",
     "output_type": "stream",
     "text": [
      "Train Loss: 0.1289\n"
     ]
    },
    {
     "name": "stderr",
     "output_type": "stream",
     "text": [
      "100%|█████████████████████████████████████████████████████████████████████████████████| 131/131 [00:23<00:00,  5.62it/s]\n"
     ]
    },
    {
     "name": "stdout",
     "output_type": "stream",
     "text": [
      "Val Loss: 0.4782, Val Accuracy: 0.8164, Val AUC: 0.9186\n"
     ]
    },
    {
     "name": "stderr",
     "output_type": "stream",
     "text": [
      "Epoch 30/50: 100%|████████████████████████████████████████████████████████████████████| 656/656 [01:47<00:00,  6.11it/s]\n"
     ]
    },
    {
     "name": "stdout",
     "output_type": "stream",
     "text": [
      "Train Loss: 0.1348\n"
     ]
    },
    {
     "name": "stderr",
     "output_type": "stream",
     "text": [
      "100%|█████████████████████████████████████████████████████████████████████████████████| 131/131 [00:16<00:00,  7.93it/s]\n"
     ]
    },
    {
     "name": "stdout",
     "output_type": "stream",
     "text": [
      "Val Loss: 0.4877, Val Accuracy: 0.8337, Val AUC: 0.9200\n"
     ]
    },
    {
     "name": "stderr",
     "output_type": "stream",
     "text": [
      "Epoch 31/50: 100%|████████████████████████████████████████████████████████████████████| 656/656 [01:42<00:00,  6.40it/s]\n"
     ]
    },
    {
     "name": "stdout",
     "output_type": "stream",
     "text": [
      "Train Loss: 0.1386\n"
     ]
    },
    {
     "name": "stderr",
     "output_type": "stream",
     "text": [
      "100%|█████████████████████████████████████████████████████████████████████████████████| 131/131 [00:16<00:00,  8.07it/s]\n"
     ]
    },
    {
     "name": "stdout",
     "output_type": "stream",
     "text": [
      "Val Loss: 0.5636, Val Accuracy: 0.8184, Val AUC: 0.9147\n"
     ]
    },
    {
     "name": "stderr",
     "output_type": "stream",
     "text": [
      "Epoch 32/50: 100%|████████████████████████████████████████████████████████████████████| 656/656 [01:41<00:00,  6.45it/s]\n"
     ]
    },
    {
     "name": "stdout",
     "output_type": "stream",
     "text": [
      "Train Loss: 0.1320\n"
     ]
    },
    {
     "name": "stderr",
     "output_type": "stream",
     "text": [
      "100%|█████████████████████████████████████████████████████████████████████████████████| 131/131 [00:16<00:00,  8.02it/s]\n"
     ]
    },
    {
     "name": "stdout",
     "output_type": "stream",
     "text": [
      "Val Loss: 0.4569, Val Accuracy: 0.8203, Val AUC: 0.9172\n"
     ]
    },
    {
     "name": "stderr",
     "output_type": "stream",
     "text": [
      "Epoch 33/50: 100%|████████████████████████████████████████████████████████████████████| 656/656 [02:01<00:00,  5.40it/s]\n"
     ]
    },
    {
     "name": "stdout",
     "output_type": "stream",
     "text": [
      "Train Loss: 0.1335\n"
     ]
    },
    {
     "name": "stderr",
     "output_type": "stream",
     "text": [
      "100%|█████████████████████████████████████████████████████████████████████████████████| 131/131 [00:20<00:00,  6.42it/s]\n"
     ]
    },
    {
     "name": "stdout",
     "output_type": "stream",
     "text": [
      "Val Loss: 0.4817, Val Accuracy: 0.8203, Val AUC: 0.9200\n"
     ]
    },
    {
     "name": "stderr",
     "output_type": "stream",
     "text": [
      "Epoch 34/50: 100%|████████████████████████████████████████████████████████████████████| 656/656 [02:12<00:00,  4.95it/s]\n"
     ]
    },
    {
     "name": "stdout",
     "output_type": "stream",
     "text": [
      "Train Loss: 0.1263\n"
     ]
    },
    {
     "name": "stderr",
     "output_type": "stream",
     "text": [
      "100%|█████████████████████████████████████████████████████████████████████████████████| 131/131 [00:23<00:00,  5.52it/s]\n"
     ]
    },
    {
     "name": "stdout",
     "output_type": "stream",
     "text": [
      "Val Loss: 0.4632, Val Accuracy: 0.8317, Val AUC: 0.9167\n"
     ]
    },
    {
     "name": "stderr",
     "output_type": "stream",
     "text": [
      "Epoch 35/50: 100%|████████████████████████████████████████████████████████████████████| 656/656 [02:14<00:00,  4.89it/s]\n"
     ]
    },
    {
     "name": "stdout",
     "output_type": "stream",
     "text": [
      "Train Loss: 0.1329\n"
     ]
    },
    {
     "name": "stderr",
     "output_type": "stream",
     "text": [
      "100%|█████████████████████████████████████████████████████████████████████████████████| 131/131 [00:16<00:00,  8.11it/s]\n"
     ]
    },
    {
     "name": "stdout",
     "output_type": "stream",
     "text": [
      "Val Loss: 0.5746, Val Accuracy: 0.8031, Val AUC: 0.9213\n"
     ]
    },
    {
     "name": "stderr",
     "output_type": "stream",
     "text": [
      "Epoch 36/50: 100%|████████████████████████████████████████████████████████████████████| 656/656 [01:59<00:00,  5.47it/s]\n"
     ]
    },
    {
     "name": "stdout",
     "output_type": "stream",
     "text": [
      "Train Loss: 0.1314\n"
     ]
    },
    {
     "name": "stderr",
     "output_type": "stream",
     "text": [
      "100%|█████████████████████████████████████████████████████████████████████████████████| 131/131 [00:24<00:00,  5.32it/s]\n"
     ]
    },
    {
     "name": "stdout",
     "output_type": "stream",
     "text": [
      "Val Loss: 0.7176, Val Accuracy: 0.8069, Val AUC: 0.9197\n"
     ]
    },
    {
     "name": "stderr",
     "output_type": "stream",
     "text": [
      "Epoch 37/50: 100%|████████████████████████████████████████████████████████████████████| 656/656 [02:12<00:00,  4.93it/s]\n"
     ]
    },
    {
     "name": "stdout",
     "output_type": "stream",
     "text": [
      "Train Loss: 0.1248\n"
     ]
    },
    {
     "name": "stderr",
     "output_type": "stream",
     "text": [
      "100%|█████████████████████████████████████████████████████████████████████████████████| 131/131 [00:16<00:00,  8.08it/s]\n"
     ]
    },
    {
     "name": "stdout",
     "output_type": "stream",
     "text": [
      "Val Loss: 0.4703, Val Accuracy: 0.8260, Val AUC: 0.9215\n"
     ]
    },
    {
     "name": "stderr",
     "output_type": "stream",
     "text": [
      "Epoch 38/50: 100%|████████████████████████████████████████████████████████████████████| 656/656 [02:02<00:00,  5.35it/s]\n"
     ]
    },
    {
     "name": "stdout",
     "output_type": "stream",
     "text": [
      "Train Loss: 0.1189\n"
     ]
    },
    {
     "name": "stderr",
     "output_type": "stream",
     "text": [
      "100%|█████████████████████████████████████████████████████████████████████████████████| 131/131 [00:24<00:00,  5.29it/s]\n"
     ]
    },
    {
     "name": "stdout",
     "output_type": "stream",
     "text": [
      "Val Loss: 0.4542, Val Accuracy: 0.8184, Val AUC: 0.9207\n"
     ]
    },
    {
     "name": "stderr",
     "output_type": "stream",
     "text": [
      "Epoch 39/50: 100%|████████████████████████████████████████████████████████████████████| 656/656 [02:23<00:00,  4.57it/s]\n"
     ]
    },
    {
     "name": "stdout",
     "output_type": "stream",
     "text": [
      "Train Loss: 0.1315\n"
     ]
    },
    {
     "name": "stderr",
     "output_type": "stream",
     "text": [
      "100%|█████████████████████████████████████████████████████████████████████████████████| 131/131 [00:19<00:00,  6.74it/s]\n"
     ]
    },
    {
     "name": "stdout",
     "output_type": "stream",
     "text": [
      "Val Loss: 0.5444, Val Accuracy: 0.8050, Val AUC: 0.9208\n"
     ]
    },
    {
     "name": "stderr",
     "output_type": "stream",
     "text": [
      "Epoch 40/50: 100%|████████████████████████████████████████████████████████████████████| 656/656 [01:48<00:00,  6.06it/s]\n"
     ]
    },
    {
     "name": "stdout",
     "output_type": "stream",
     "text": [
      "Train Loss: 0.1252\n"
     ]
    },
    {
     "name": "stderr",
     "output_type": "stream",
     "text": [
      "100%|█████████████████████████████████████████████████████████████████████████████████| 131/131 [00:16<00:00,  7.91it/s]\n"
     ]
    },
    {
     "name": "stdout",
     "output_type": "stream",
     "text": [
      "Val Loss: 0.4986, Val Accuracy: 0.8126, Val AUC: 0.9212\n"
     ]
    },
    {
     "name": "stderr",
     "output_type": "stream",
     "text": [
      "Epoch 41/50: 100%|████████████████████████████████████████████████████████████████████| 656/656 [01:43<00:00,  6.33it/s]\n"
     ]
    },
    {
     "name": "stdout",
     "output_type": "stream",
     "text": [
      "Train Loss: 0.1207\n"
     ]
    },
    {
     "name": "stderr",
     "output_type": "stream",
     "text": [
      "100%|█████████████████████████████████████████████████████████████████████████████████| 131/131 [00:25<00:00,  5.17it/s]\n"
     ]
    },
    {
     "name": "stdout",
     "output_type": "stream",
     "text": [
      "Val Loss: 0.5499, Val Accuracy: 0.8279, Val AUC: 0.9207\n"
     ]
    },
    {
     "name": "stderr",
     "output_type": "stream",
     "text": [
      "Epoch 42/50: 100%|████████████████████████████████████████████████████████████████████| 656/656 [01:51<00:00,  5.91it/s]\n"
     ]
    },
    {
     "name": "stdout",
     "output_type": "stream",
     "text": [
      "Train Loss: 0.1219\n"
     ]
    },
    {
     "name": "stderr",
     "output_type": "stream",
     "text": [
      "100%|█████████████████████████████████████████████████████████████████████████████████| 131/131 [00:17<00:00,  7.61it/s]\n"
     ]
    },
    {
     "name": "stdout",
     "output_type": "stream",
     "text": [
      "Val Loss: 0.4678, Val Accuracy: 0.8337, Val AUC: 0.9225\n"
     ]
    },
    {
     "name": "stderr",
     "output_type": "stream",
     "text": [
      "Epoch 43/50: 100%|████████████████████████████████████████████████████████████████████| 656/656 [01:46<00:00,  6.16it/s]\n"
     ]
    },
    {
     "name": "stdout",
     "output_type": "stream",
     "text": [
      "Train Loss: 0.1294\n"
     ]
    },
    {
     "name": "stderr",
     "output_type": "stream",
     "text": [
      "100%|█████████████████████████████████████████████████████████████████████████████████| 131/131 [00:17<00:00,  7.39it/s]\n"
     ]
    },
    {
     "name": "stdout",
     "output_type": "stream",
     "text": [
      "Val Loss: 0.4691, Val Accuracy: 0.8317, Val AUC: 0.9219\n"
     ]
    },
    {
     "name": "stderr",
     "output_type": "stream",
     "text": [
      "Epoch 44/50: 100%|████████████████████████████████████████████████████████████████████| 656/656 [01:43<00:00,  6.36it/s]\n"
     ]
    },
    {
     "name": "stdout",
     "output_type": "stream",
     "text": [
      "Train Loss: 0.1234\n"
     ]
    },
    {
     "name": "stderr",
     "output_type": "stream",
     "text": [
      "100%|█████████████████████████████████████████████████████████████████████████████████| 131/131 [00:16<00:00,  7.93it/s]\n"
     ]
    },
    {
     "name": "stdout",
     "output_type": "stream",
     "text": [
      "Val Loss: 0.4525, Val Accuracy: 0.8337, Val AUC: 0.9188\n"
     ]
    },
    {
     "name": "stderr",
     "output_type": "stream",
     "text": [
      "Epoch 45/50: 100%|████████████████████████████████████████████████████████████████████| 656/656 [01:41<00:00,  6.45it/s]\n"
     ]
    },
    {
     "name": "stdout",
     "output_type": "stream",
     "text": [
      "Train Loss: 0.1195\n"
     ]
    },
    {
     "name": "stderr",
     "output_type": "stream",
     "text": [
      "100%|█████████████████████████████████████████████████████████████████████████████████| 131/131 [00:16<00:00,  8.02it/s]\n"
     ]
    },
    {
     "name": "stdout",
     "output_type": "stream",
     "text": [
      "Val Loss: 0.7532, Val Accuracy: 0.8145, Val AUC: 0.9180\n"
     ]
    },
    {
     "name": "stderr",
     "output_type": "stream",
     "text": [
      "Epoch 46/50: 100%|████████████████████████████████████████████████████████████████████| 656/656 [01:41<00:00,  6.46it/s]\n"
     ]
    },
    {
     "name": "stdout",
     "output_type": "stream",
     "text": [
      "Train Loss: 0.1313\n"
     ]
    },
    {
     "name": "stderr",
     "output_type": "stream",
     "text": [
      "100%|█████████████████████████████████████████████████████████████████████████████████| 131/131 [00:16<00:00,  8.11it/s]\n"
     ]
    },
    {
     "name": "stdout",
     "output_type": "stream",
     "text": [
      "Val Loss: 0.5641, Val Accuracy: 0.7954, Val AUC: 0.9230\n"
     ]
    },
    {
     "name": "stderr",
     "output_type": "stream",
     "text": [
      "Epoch 47/50: 100%|████████████████████████████████████████████████████████████████████| 656/656 [01:41<00:00,  6.44it/s]\n"
     ]
    },
    {
     "name": "stdout",
     "output_type": "stream",
     "text": [
      "Train Loss: 0.1117\n"
     ]
    },
    {
     "name": "stderr",
     "output_type": "stream",
     "text": [
      "100%|█████████████████████████████████████████████████████████████████████████████████| 131/131 [00:16<00:00,  8.00it/s]\n"
     ]
    },
    {
     "name": "stdout",
     "output_type": "stream",
     "text": [
      "Val Loss: 0.5328, Val Accuracy: 0.8184, Val AUC: 0.9190\n"
     ]
    },
    {
     "name": "stderr",
     "output_type": "stream",
     "text": [
      "Epoch 48/50: 100%|████████████████████████████████████████████████████████████████████| 656/656 [01:41<00:00,  6.48it/s]\n"
     ]
    },
    {
     "name": "stdout",
     "output_type": "stream",
     "text": [
      "Train Loss: 0.1113\n"
     ]
    },
    {
     "name": "stderr",
     "output_type": "stream",
     "text": [
      "100%|█████████████████████████████████████████████████████████████████████████████████| 131/131 [00:16<00:00,  8.12it/s]\n"
     ]
    },
    {
     "name": "stdout",
     "output_type": "stream",
     "text": [
      "Val Loss: 0.5243, Val Accuracy: 0.8145, Val AUC: 0.9141\n"
     ]
    },
    {
     "name": "stderr",
     "output_type": "stream",
     "text": [
      "Epoch 49/50: 100%|████████████████████████████████████████████████████████████████████| 656/656 [01:41<00:00,  6.47it/s]\n"
     ]
    },
    {
     "name": "stdout",
     "output_type": "stream",
     "text": [
      "Train Loss: 0.1133\n"
     ]
    },
    {
     "name": "stderr",
     "output_type": "stream",
     "text": [
      "100%|█████████████████████████████████████████████████████████████████████████████████| 131/131 [00:16<00:00,  8.06it/s]\n"
     ]
    },
    {
     "name": "stdout",
     "output_type": "stream",
     "text": [
      "Val Loss: 0.5911, Val Accuracy: 0.8184, Val AUC: 0.9201\n"
     ]
    },
    {
     "name": "stderr",
     "output_type": "stream",
     "text": [
      "Epoch 50/50: 100%|████████████████████████████████████████████████████████████████████| 656/656 [01:41<00:00,  6.44it/s]\n"
     ]
    },
    {
     "name": "stdout",
     "output_type": "stream",
     "text": [
      "Train Loss: 0.1095\n"
     ]
    },
    {
     "name": "stderr",
     "output_type": "stream",
     "text": [
      "100%|█████████████████████████████████████████████████████████████████████████████████| 131/131 [00:16<00:00,  8.01it/s]"
     ]
    },
    {
     "name": "stdout",
     "output_type": "stream",
     "text": [
      "Val Loss: 0.6208, Val Accuracy: 0.8164, Val AUC: 0.9154\n"
     ]
    },
    {
     "name": "stderr",
     "output_type": "stream",
     "text": [
      "\n"
     ]
    }
   ],
   "source": [
    "# Actual Training Loop\n",
    "train_loss_epoch = []\n",
    "test_loss_epoch = []\n",
    "auc = []\n",
    "for epoch in range(num_epochs):\n",
    "    train_loss = train(model, train_loader, optimizer, criterion, device, epoch)\n",
    "    print(f\"Train Loss: {train_loss:.4f}\")\n",
    "    val_loss, val_accuracy, val_auc = evaluate(model, val_loader, criterion, device)\n",
    "    print(f\"Val Loss: {val_loss:.4f}, Val Accuracy: {val_accuracy:.4f}, Val AUC: {val_auc:.4f}\")\n",
    "    train_loss_epoch.append(train_loss)\n",
    "    test_loss_epoch.append(val_loss)\n",
    "    auc.append(val_auc)"
   ]
  },
  {
   "cell_type": "code",
   "execution_count": 11,
   "id": "c4b3f402",
   "metadata": {},
   "outputs": [
    {
     "data": {
      "image/png": "[encoded data removed]",
      "text/plain": [
       "<Figure size 1000x600 with 1 Axes>"
      ]
     },
     "metadata": {},
     "output_type": "display_data"
    }
   ],
   "source": [
    "import matplotlib.pyplot as plt\n",
    "\n",
    "# Plot Loss vs. Epoch\n",
    "epochs = range(1, num_epochs + 1)\n",
    "\n",
    "plt.figure(figsize=(10, 6))\n",
    "plt.plot(epochs, train_loss_epoch, label='Training Loss')\n",
    "plt.plot(epochs, test_loss_epoch, label='Validation Loss')\n",
    "plt.plot(epochs, auc, label='auc')\n",
    "plt.xlabel('Epoch')\n",
    "plt.ylabel('Loss')\n",
    "plt.title('Loss vs. Epoch')\n",
    "plt.legend()\n",
    "plt.grid(True)\n",
    "plt.show()\n"
   ]
  },
  {
   "cell_type": "code",
   "execution_count": 12,
   "id": "608be86b",
   "metadata": {},
   "outputs": [
    {
     "name": "stderr",
     "output_type": "stream",
     "text": [
      "100%|███████████████████████████████████████████████████████████████████████████████| 1906/1906 [04:01<00:00,  7.91it/s]"
     ]
    },
    {
     "name": "stdout",
     "output_type": "stream",
     "text": [
      "Val Loss: 0.3824, Val Accuracy: 0.8881, Val AUC: 0.9551\n"
     ]
    },
    {
     "name": "stderr",
     "output_type": "stream",
     "text": [
      "\n"
     ]
    }
   ],
   "source": [
    "val_loss, val_accuracy, val_auc = evaluate(model, test_loader, criterion, device)\n",
    "print(f\"Val Loss: {val_loss:.4f}, Val Accuracy: {val_accuracy:.4f}, Val AUC: {val_auc:.4f}\")"
   ]
  },
  {
   "cell_type": "code",
   "execution_count": 13,
   "id": "a2abce0b",
   "metadata": {},
   "outputs": [
    {
     "data": {
      "text/plain": [
       "7624"
      ]
     },
     "execution_count": 13,
     "metadata": {},
     "output_type": "execute_result"
    }
   ],
   "source": [
    "len(test_loader.dataset)"
   ]
  },
  {
   "cell_type": "code",
   "execution_count": null,
   "id": "5c1acd6b",
   "metadata": {},
   "outputs": [],
   "source": []
  }
 ],
 "metadata": {
  "kernelspec": {
   "display_name": "Python 3 (ipykernel)",
   "language": "python",
   "name": "python3"
  },
  "language_info": {
   "codemirror_mode": {
    "name": "ipython",
    "version": 3
   },
   "file_extension": ".py",
   "mimetype": "text/x-python",
   "name": "python",
   "nbconvert_exporter": "python",
   "pygments_lexer": "ipython3",
   "version": "3.10.11"
  }
 },
 "nbformat": 4,
 "nbformat_minor": 5
}
