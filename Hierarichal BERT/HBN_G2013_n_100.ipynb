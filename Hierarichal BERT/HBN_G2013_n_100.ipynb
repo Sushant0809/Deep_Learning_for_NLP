{
 "cells": [
  {
   "cell_type": "code",
   "execution_count": 1,
   "id": "d9ff1696",
   "metadata": {},
   "outputs": [
    {
     "name": "stderr",
     "output_type": "stream",
     "text": [
      "2023-10-11 07:03:26.605945: I tensorflow/core/platform/cpu_feature_guard.cc:193] This TensorFlow binary is optimized with oneAPI Deep Neural Network Library (oneDNN) to use the following CPU instructions in performance-critical operations:  SSE4.1 SSE4.2 AVX AVX2 FMA\n",
      "To enable them in other operations, rebuild TensorFlow with the appropriate compiler flags.\n"
     ]
    }
   ],
   "source": [
    "import torch\n",
    "import torch.nn as nn\n",
    "import torch.nn.functional as F\n",
    "from transformers import RobertaModel, AdamW\n",
    "from transformers import RobertaTokenizer\n",
    "import torch.optim as optim\n",
    "from transformers import RobertaTokenizer\n",
    "from torch.utils.data import DataLoader, TensorDataset\n",
    "import pandas as pd\n",
    "from torch.utils.data import Dataset, DataLoader\n",
    "import nltk\n",
    "from sklearn.model_selection import train_test_split\n",
    "from sklearn.metrics import roc_auc_score\n",
    "from tqdm import tqdm\n",
    "from nltk.tokenize import sent_tokenize\n",
    "import numpy as np\n",
    "import os"
   ]
  },
  {
   "cell_type": "code",
   "execution_count": 2,
   "id": "38d5c0f5",
   "metadata": {},
   "outputs": [],
   "source": [
    "class BertAtt(nn.Module):\n",
    "    def __init__(self, d_e, h):\n",
    "        super(BertAtt, self).__init__()\n",
    "        self.num_heads = h\n",
    "        self.d_e = d_e\n",
    "        self.head_dim = d_e // h\n",
    "        \n",
    "        self.q = nn.Linear(d_e, d_e)\n",
    "        self.k = nn.Linear(d_e, d_e)\n",
    "        self.v = nn.Linear(d_e, d_e)\n",
    "        \n",
    "        self.o = nn.Linear(d_e, d_e)\n",
    "        self.layer_norm = nn.LayerNorm(d_e)\n",
    "        \n",
    "        self.dropout = nn.Dropout(dropout_prob)\n",
    "        \n",
    "    def forward(self, x):\n",
    "        Q = self.q(x)\n",
    "        K = self.k(x)\n",
    "        V = self.v(x)\n",
    "        \n",
    "        Q = Q.view(Q.size(0), -1, self.num_heads, self.head_dim).permute(0, 2, 1, 3)\n",
    "        K = K.view(K.size(0), -1, self.num_heads, self.head_dim).permute(0, 2, 1, 3)\n",
    "        V = V.view(V.size(0), -1, self.num_heads, self.head_dim).permute(0, 2, 1, 3)\n",
    "        \n",
    "        \n",
    "        attention_scores = torch.matmul(Q, K.permute(0, 1, 3, 2)) / (self.d_e**0.5)\n",
    "        attention_probs = F.softmax(attention_scores, dim=-1)\n",
    "        context = torch.matmul(attention_probs, V)\n",
    "        \n",
    "        context = context.permute(0, 2, 1, 3).contiguous()\n",
    "        context = context.view(context.size(0), -1, self.num_heads*self.head_dim)\n",
    "        context = self.dropout(context)\n",
    "        context = self.o(context)\n",
    "        \n",
    "        return self.layer_norm(x + context)\n",
    "\n",
    "class HBN(nn.Module):\n",
    "    def __init__(self, d_e, h, m, n, y, dropout_prob=0.01, max_sentences=114):\n",
    "        super(HBN, self).__init__()\n",
    "        \n",
    "        # Token-level Roberta encoder\n",
    "        self.roberta = RobertaModel.from_pretrained(\"roberta-base\")\n",
    "        \n",
    "        # Freeze Roberta weights\n",
    "        for param in self.roberta.parameters():\n",
    "            param.requires_grad = False\n",
    "        \n",
    "        # Sentence-level BERT Encoder\n",
    "        self.bertatt = BertAtt(d_e, h)\n",
    "        \n",
    "        self.ff = nn.Sequential(\n",
    "            nn.Linear(d_e, n*d_e),\n",
    "            nn.ReLU(),\n",
    "            nn.Linear(n*d_e, d_e)\n",
    "        )\n",
    "        self.layer_norm = nn.LayerNorm(d_e)\n",
    "        \n",
    "        self.multiple_bert_layers = nn.ModuleList([BertAtt(d_e, h) for _ in range(m)])\n",
    "        \n",
    "        self.transformation = nn.Linear(d_e, d_e)\n",
    "        \n",
    "        self.dropout = nn.Dropout(dropout_prob)\n",
    "        \n",
    "        # Prediction Layer\n",
    "        self.predict = nn.Linear(d_e, y)\n",
    "        \n",
    "    def forward(self, input_ids, attention_mask):\n",
    "#         print(input_ids.shape)\n",
    "        # Token-level Roberta encoding\n",
    "        roberta_outputs = self.roberta(input_ids=input_ids, attention_mask=attention_mask)[0]  # [batch_size, seq_length, hidden_size]\n",
    "        \n",
    "        # Average pooling to get sentence embeddings\n",
    "        D = torch.mean(roberta_outputs, dim=1)  # [batch_size, hidden_size]\n",
    "        \n",
    "        out = self.bertatt(D)\n",
    "        out = self.layer_norm(out + F.relu(self.ff(out)))\n",
    "        \n",
    "        Z = out\n",
    "        for layer in self.multiple_bert_layers:\n",
    "            Z = layer(Z)\n",
    "        \n",
    "        S = torch.tanh(torch.mean(Z, dim=1).mm(self.transformation.weight))\n",
    "        S = self.dropout(S)\n",
    "        scores = S.mm(self.predict.weight.t())\n",
    "        \n",
    "        return scores\n"
   ]
  },
  {
   "cell_type": "code",
   "execution_count": 3,
   "id": "e68208cc",
   "metadata": {},
   "outputs": [],
   "source": [
    "# Parameters\n",
    "d_e = 768  # Assuming you are using 'roberta-base'\n",
    "h = 1     # Number of attention heads\n",
    "m = 4      # Number of identical BERT layers\n",
    "n = 4      # Scaling factor for feed-forward network\n",
    "y = 2      # Number of classes, set this to your actual number\n",
    "dropout_prob = 0.01 #dropout probability\n",
    "num_train_samples = 100\n",
    "num_epochs = 50\n",
    "max_length = 128"
   ]
  },
  {
   "cell_type": "code",
   "execution_count": 4,
   "id": "37bca770",
   "metadata": {},
   "outputs": [
    {
     "name": "stdout",
     "output_type": "stream",
     "text": [
      "                                               content  label\n",
      "0    Opposition grows to house arrests\\n\\nThe Conse...      0\n",
      "1    Commons hunt protest charges\\n\\nEight proteste...      0\n",
      "2    Kilroy-Silk quits 'shameful' UKIP\\n\\nEx-chat s...      0\n",
      "3    Petrol duties frozen, Brown says\\n\\nChancellor...      0\n",
      "4    EU aiming to fuel development aid\\n\\nEuropean ...      1\n",
      "..                                                 ...    ...\n",
      "593  China keeps tight rein on credit\\n\\nChina's ef...      1\n",
      "594  Australia rates at four year high\\n\\nAustralia...      1\n",
      "595  Hague 'given up' his PM ambition\\n\\nFormer Con...      0\n",
      "596  Blair congratulates Bush on win\\n\\nTony Blair ...      0\n",
      "597  Howard rebuts asylum criticisms\\n\\nTory leader...      0\n",
      "\n",
      "[598 rows x 2 columns]\n",
      "\n",
      "Maximum number of sentences across all files: 248\n"
     ]
    }
   ],
   "source": [
    "import os\n",
    "import pandas as pd\n",
    "from nltk.tokenize import sent_tokenize\n",
    "\n",
    "folder1_path = 'sample-text/sample-text/politics/'\n",
    "folder2_path = 'sample-text/sample-text/business/'\n",
    "\n",
    "# Fetch file names from both folders\n",
    "folder1_files = [f for f in os.listdir(folder1_path) if f.endswith('.txt')]\n",
    "folder2_files = [f for f in os.listdir(folder2_path) if f.endswith('.txt')]\n",
    "\n",
    "combined_data = []\n",
    "num_sent=[]\n",
    "\n",
    "# Read and label files from folder1 and count sentences\n",
    "for file in folder1_files:\n",
    "    with open(os.path.join(folder1_path, file), 'r') as f:\n",
    "        content = f.read()\n",
    "        num_sentences = len(sent_tokenize(content))\n",
    "        combined_data.append((content, 0))\n",
    "        num_sent.append(num_sentences)\n",
    "\n",
    "# Read and label files from folder2 and count sentences\n",
    "for file in folder2_files:\n",
    "    with open(os.path.join(folder2_path, file), 'r') as f:\n",
    "        content = f.read()\n",
    "        num_sentences = len(sent_tokenize(content))\n",
    "        combined_data.append((content, 1))\n",
    "        num_sent.append(num_sentences)\n",
    "\n",
    "# Convert combined_data to DataFrame\n",
    "df = pd.DataFrame(combined_data, columns=['content', 'label'])\n",
    "\n",
    "# Shuffle the DataFrame\n",
    "data = df.sample(frac=1).reset_index(drop=True)\n",
    "\n",
    "# Display the shuffled DataFrame\n",
    "print(data)\n",
    "\n",
    "# Find out the maximum number of sentences across all files\n",
    "max_sentences = max(num_sent)\n",
    "print(f\"\\nMaximum number of sentences across all files: {max_sentences}\")\n"
   ]
  },
  {
   "cell_type": "code",
   "execution_count": 5,
   "id": "36637209",
   "metadata": {},
   "outputs": [],
   "source": [
    "# len(test_indices),len(train_indices),len(val_indices)"
   ]
  },
  {
   "cell_type": "code",
   "execution_count": 6,
   "id": "7373fe13",
   "metadata": {},
   "outputs": [],
   "source": [
    "# len(reviews_sentences)"
   ]
  },
  {
   "cell_type": "code",
   "execution_count": 7,
   "id": "1faa950a",
   "metadata": {},
   "outputs": [
    {
     "name": "stdout",
     "output_type": "stream",
     "text": [
      "torch.Size([4, 128]) torch.Size([4, 128]) torch.Size([4])\n",
      "torch.Size([4, 128]) torch.Size([4, 128]) torch.Size([4])\n",
      "torch.Size([4, 128]) torch.Size([4, 128]) torch.Size([4])\n",
      "torch.Size([4, 128]) torch.Size([4, 128]) torch.Size([4])\n",
      "torch.Size([4, 128]) torch.Size([4, 128]) torch.Size([4])\n",
      "torch.Size([4, 128]) torch.Size([4, 128]) torch.Size([4])\n",
      "torch.Size([4, 128]) torch.Size([4, 128]) torch.Size([4])\n",
      "torch.Size([4, 128]) torch.Size([4, 128]) torch.Size([4])\n",
      "torch.Size([4, 128]) torch.Size([4, 128]) torch.Size([4])\n",
      "torch.Size([4, 128]) torch.Size([4, 128]) torch.Size([4])\n",
      "torch.Size([4, 128]) torch.Size([4, 128]) torch.Size([4])\n",
      "torch.Size([4, 128]) torch.Size([4, 128]) torch.Size([4])\n",
      "torch.Size([4, 128]) torch.Size([4, 128]) torch.Size([4])\n",
      "torch.Size([4, 128]) torch.Size([4, 128]) torch.Size([4])\n",
      "torch.Size([4, 128]) torch.Size([4, 128]) torch.Size([4])\n",
      "torch.Size([4, 128]) torch.Size([4, 128]) torch.Size([4])\n",
      "torch.Size([4, 128]) torch.Size([4, 128]) torch.Size([4])\n",
      "torch.Size([4, 128]) torch.Size([4, 128]) torch.Size([4])\n",
      "torch.Size([4, 128]) torch.Size([4, 128]) torch.Size([4])\n",
      "torch.Size([4, 128]) torch.Size([4, 128]) torch.Size([4])\n",
      "torch.Size([4, 128]) torch.Size([4, 128]) torch.Size([4])\n",
      "torch.Size([4, 128]) torch.Size([4, 128]) torch.Size([4])\n",
      "torch.Size([4, 128]) torch.Size([4, 128]) torch.Size([4])\n",
      "torch.Size([4, 128]) torch.Size([4, 128]) torch.Size([4])\n",
      "torch.Size([4, 128]) torch.Size([4, 128]) torch.Size([4])\n",
      "torch.Size([4, 128]) torch.Size([4, 128]) torch.Size([4])\n",
      "torch.Size([4, 128]) torch.Size([4, 128]) torch.Size([4])\n",
      "torch.Size([4, 128]) torch.Size([4, 128]) torch.Size([4])\n",
      "torch.Size([4, 128]) torch.Size([4, 128]) torch.Size([4])\n",
      "torch.Size([4, 128]) torch.Size([4, 128]) torch.Size([4])\n",
      "torch.Size([4, 128]) torch.Size([4, 128]) torch.Size([4])\n",
      "torch.Size([4, 128]) torch.Size([4, 128]) torch.Size([4])\n",
      "torch.Size([4, 128]) torch.Size([4, 128]) torch.Size([4])\n",
      "torch.Size([4, 128]) torch.Size([4, 128]) torch.Size([4])\n",
      "torch.Size([4, 128]) torch.Size([4, 128]) torch.Size([4])\n",
      "torch.Size([4, 128]) torch.Size([4, 128]) torch.Size([4])\n",
      "torch.Size([4, 128]) torch.Size([4, 128]) torch.Size([4])\n",
      "torch.Size([4, 128]) torch.Size([4, 128]) torch.Size([4])\n",
      "torch.Size([4, 128]) torch.Size([4, 128]) torch.Size([4])\n",
      "torch.Size([4, 128]) torch.Size([4, 128]) torch.Size([4])\n",
      "torch.Size([4, 128]) torch.Size([4, 128]) torch.Size([4])\n",
      "torch.Size([4, 128]) torch.Size([4, 128]) torch.Size([4])\n",
      "torch.Size([4, 128]) torch.Size([4, 128]) torch.Size([4])\n",
      "torch.Size([4, 128]) torch.Size([4, 128]) torch.Size([4])\n",
      "torch.Size([4, 128]) torch.Size([4, 128]) torch.Size([4])\n",
      "torch.Size([4, 128]) torch.Size([4, 128]) torch.Size([4])\n",
      "torch.Size([4, 128]) torch.Size([4, 128]) torch.Size([4])\n",
      "torch.Size([4, 128]) torch.Size([4, 128]) torch.Size([4])\n",
      "torch.Size([4, 128]) torch.Size([4, 128]) torch.Size([4])\n",
      "torch.Size([4, 128]) torch.Size([4, 128]) torch.Size([4])\n",
      "torch.Size([4, 128]) torch.Size([4, 128]) torch.Size([4])\n",
      "torch.Size([4, 128]) torch.Size([4, 128]) torch.Size([4])\n",
      "torch.Size([4, 128]) torch.Size([4, 128]) torch.Size([4])\n",
      "torch.Size([4, 128]) torch.Size([4, 128]) torch.Size([4])\n",
      "torch.Size([4, 128]) torch.Size([4, 128]) torch.Size([4])\n",
      "torch.Size([4, 128]) torch.Size([4, 128]) torch.Size([4])\n",
      "torch.Size([4, 128]) torch.Size([4, 128]) torch.Size([4])\n",
      "torch.Size([4, 128]) torch.Size([4, 128]) torch.Size([4])\n",
      "torch.Size([4, 128]) torch.Size([4, 128]) torch.Size([4])\n",
      "torch.Size([4, 128]) torch.Size([4, 128]) torch.Size([4])\n",
      "torch.Size([4, 128]) torch.Size([4, 128]) torch.Size([4])\n",
      "torch.Size([4, 128]) torch.Size([4, 128]) torch.Size([4])\n",
      "torch.Size([4, 128]) torch.Size([4, 128]) torch.Size([4])\n",
      "torch.Size([4, 128]) torch.Size([4, 128]) torch.Size([4])\n",
      "torch.Size([4, 128]) torch.Size([4, 128]) torch.Size([4])\n",
      "torch.Size([4, 128]) torch.Size([4, 128]) torch.Size([4])\n",
      "torch.Size([4, 128]) torch.Size([4, 128]) torch.Size([4])\n",
      "torch.Size([4, 128]) torch.Size([4, 128]) torch.Size([4])\n",
      "torch.Size([4, 128]) torch.Size([4, 128]) torch.Size([4])\n",
      "torch.Size([4, 128]) torch.Size([4, 128]) torch.Size([4])\n",
      "torch.Size([4, 128]) torch.Size([4, 128]) torch.Size([4])\n",
      "torch.Size([4, 128]) torch.Size([4, 128]) torch.Size([4])\n",
      "torch.Size([4, 128]) torch.Size([4, 128]) torch.Size([4])\n",
      "torch.Size([4, 128]) torch.Size([4, 128]) torch.Size([4])\n",
      "torch.Size([4, 128]) torch.Size([4, 128]) torch.Size([4])\n",
      "torch.Size([4, 128]) torch.Size([4, 128]) torch.Size([4])\n",
      "torch.Size([4, 128]) torch.Size([4, 128]) torch.Size([4])\n",
      "torch.Size([4, 128]) torch.Size([4, 128]) torch.Size([4])\n",
      "torch.Size([4, 128]) torch.Size([4, 128]) torch.Size([4])\n",
      "torch.Size([4, 128]) torch.Size([4, 128]) torch.Size([4])\n",
      "torch.Size([4, 128]) torch.Size([4, 128]) torch.Size([4])\n",
      "torch.Size([4, 128]) torch.Size([4, 128]) torch.Size([4])\n",
      "torch.Size([4, 128]) torch.Size([4, 128]) torch.Size([4])\n",
      "torch.Size([4, 128]) torch.Size([4, 128]) torch.Size([4])\n",
      "torch.Size([4, 128]) torch.Size([4, 128]) torch.Size([4])\n",
      "torch.Size([4, 128]) torch.Size([4, 128]) torch.Size([4])\n",
      "torch.Size([4, 128]) torch.Size([4, 128]) torch.Size([4])\n",
      "torch.Size([4, 128]) torch.Size([4, 128]) torch.Size([4])\n",
      "torch.Size([4, 128]) torch.Size([4, 128]) torch.Size([4])\n",
      "torch.Size([4, 128]) torch.Size([4, 128]) torch.Size([4])\n",
      "torch.Size([4, 128]) torch.Size([4, 128]) torch.Size([4])\n",
      "torch.Size([4, 128]) torch.Size([4, 128]) torch.Size([4])\n",
      "torch.Size([4, 128]) torch.Size([4, 128]) torch.Size([4])\n",
      "torch.Size([4, 128]) torch.Size([4, 128]) torch.Size([4])\n",
      "torch.Size([4, 128]) torch.Size([4, 128]) torch.Size([4])\n",
      "torch.Size([4, 128]) torch.Size([4, 128]) torch.Size([4])\n",
      "torch.Size([4, 128]) torch.Size([4, 128]) torch.Size([4])\n",
      "torch.Size([4, 128]) torch.Size([4, 128]) torch.Size([4])\n",
      "torch.Size([4, 128]) torch.Size([4, 128]) torch.Size([4])\n",
      "torch.Size([4, 128]) torch.Size([4, 128]) torch.Size([4])\n",
      "torch.Size([4, 128]) torch.Size([4, 128]) torch.Size([4])\n",
      "torch.Size([4, 128]) torch.Size([4, 128]) torch.Size([4])\n",
      "torch.Size([4, 128]) torch.Size([4, 128]) torch.Size([4])\n",
      "torch.Size([4, 128]) torch.Size([4, 128]) torch.Size([4])\n",
      "torch.Size([4, 128]) torch.Size([4, 128]) torch.Size([4])\n",
      "torch.Size([4, 128]) torch.Size([4, 128]) torch.Size([4])\n",
      "torch.Size([4, 128]) torch.Size([4, 128]) torch.Size([4])\n",
      "torch.Size([4, 128]) torch.Size([4, 128]) torch.Size([4])\n",
      "torch.Size([4, 128]) torch.Size([4, 128]) torch.Size([4])\n",
      "torch.Size([4, 128]) torch.Size([4, 128]) torch.Size([4])\n",
      "torch.Size([4, 128]) torch.Size([4, 128]) torch.Size([4])\n",
      "torch.Size([4, 128]) torch.Size([4, 128]) torch.Size([4])\n",
      "torch.Size([4, 128]) torch.Size([4, 128]) torch.Size([4])\n",
      "torch.Size([4, 128]) torch.Size([4, 128]) torch.Size([4])\n",
      "torch.Size([4, 128]) torch.Size([4, 128]) torch.Size([4])\n",
      "torch.Size([4, 128]) torch.Size([4, 128]) torch.Size([4])\n",
      "torch.Size([4, 128]) torch.Size([4, 128]) torch.Size([4])\n",
      "torch.Size([4, 128]) torch.Size([4, 128]) torch.Size([4])\n",
      "torch.Size([4, 128]) torch.Size([4, 128]) torch.Size([4])\n",
      "torch.Size([4, 128]) torch.Size([4, 128]) torch.Size([4])\n",
      "torch.Size([4, 128]) torch.Size([4, 128]) torch.Size([4])\n",
      "torch.Size([4, 128]) torch.Size([4, 128]) torch.Size([4])\n",
      "torch.Size([4, 128]) torch.Size([4, 128]) torch.Size([4])\n",
      "torch.Size([4, 128]) torch.Size([4, 128]) torch.Size([4])\n",
      "torch.Size([4, 128]) torch.Size([4, 128]) torch.Size([4])\n",
      "torch.Size([4, 128]) torch.Size([4, 128]) torch.Size([4])\n",
      "torch.Size([4, 128]) torch.Size([4, 128]) torch.Size([4])\n",
      "torch.Size([4, 128]) torch.Size([4, 128]) torch.Size([4])\n",
      "torch.Size([4, 128]) torch.Size([4, 128]) torch.Size([4])\n",
      "torch.Size([4, 128]) torch.Size([4, 128]) torch.Size([4])\n",
      "torch.Size([4, 128]) torch.Size([4, 128]) torch.Size([4])\n",
      "torch.Size([4, 128]) torch.Size([4, 128]) torch.Size([4])\n",
      "torch.Size([4, 128]) torch.Size([4, 128]) torch.Size([4])\n",
      "torch.Size([4, 128]) torch.Size([4, 128]) torch.Size([4])\n",
      "torch.Size([4, 128]) torch.Size([4, 128]) torch.Size([4])\n",
      "torch.Size([4, 128]) torch.Size([4, 128]) torch.Size([4])\n",
      "torch.Size([4, 128]) torch.Size([4, 128]) torch.Size([4])\n",
      "torch.Size([4, 128]) torch.Size([4, 128]) torch.Size([4])\n",
      "torch.Size([4, 128]) torch.Size([4, 128]) torch.Size([4])\n",
      "torch.Size([4, 128]) torch.Size([4, 128]) torch.Size([4])\n",
      "torch.Size([4, 128]) torch.Size([4, 128]) torch.Size([4])\n",
      "torch.Size([4, 128]) torch.Size([4, 128]) torch.Size([4])\n",
      "torch.Size([4, 128]) torch.Size([4, 128]) torch.Size([4])\n",
      "torch.Size([4, 128]) torch.Size([4, 128]) torch.Size([4])\n",
      "torch.Size([4, 128]) torch.Size([4, 128]) torch.Size([4])\n",
      "torch.Size([4, 128]) torch.Size([4, 128]) torch.Size([4])\n",
      "torch.Size([4, 128]) torch.Size([4, 128]) torch.Size([4])\n",
      "torch.Size([4, 128]) torch.Size([4, 128]) torch.Size([4])\n",
      "torch.Size([4, 128]) torch.Size([4, 128]) torch.Size([4])\n",
      "torch.Size([4, 128]) torch.Size([4, 128]) torch.Size([4])\n",
      "torch.Size([4, 128]) torch.Size([4, 128]) torch.Size([4])\n",
      "torch.Size([4, 128]) torch.Size([4, 128]) torch.Size([4])\n",
      "torch.Size([4, 128]) torch.Size([4, 128]) torch.Size([4])\n",
      "torch.Size([4, 128]) torch.Size([4, 128]) torch.Size([4])\n",
      "torch.Size([4, 128]) torch.Size([4, 128]) torch.Size([4])\n",
      "torch.Size([4, 128]) torch.Size([4, 128]) torch.Size([4])\n",
      "torch.Size([4, 128]) torch.Size([4, 128]) torch.Size([4])\n",
      "torch.Size([4, 128]) torch.Size([4, 128]) torch.Size([4])\n",
      "torch.Size([4, 128]) torch.Size([4, 128]) torch.Size([4])\n",
      "torch.Size([4, 128]) torch.Size([4, 128]) torch.Size([4])\n",
      "torch.Size([4, 128]) torch.Size([4, 128]) torch.Size([4])\n",
      "torch.Size([4, 128]) torch.Size([4, 128]) torch.Size([4])\n",
      "torch.Size([4, 128]) torch.Size([4, 128]) torch.Size([4])\n",
      "torch.Size([4, 128]) torch.Size([4, 128]) torch.Size([4])\n",
      "torch.Size([4, 128]) torch.Size([4, 128]) torch.Size([4])\n",
      "torch.Size([4, 128]) torch.Size([4, 128]) torch.Size([4])\n",
      "torch.Size([4, 128]) torch.Size([4, 128]) torch.Size([4])\n",
      "torch.Size([4, 128]) torch.Size([4, 128]) torch.Size([4])\n",
      "torch.Size([4, 128]) torch.Size([4, 128]) torch.Size([4])\n",
      "torch.Size([4, 128]) torch.Size([4, 128]) torch.Size([4])\n",
      "torch.Size([4, 128]) torch.Size([4, 128]) torch.Size([4])\n",
      "torch.Size([4, 128]) torch.Size([4, 128]) torch.Size([4])\n",
      "torch.Size([4, 128]) torch.Size([4, 128]) torch.Size([4])\n",
      "torch.Size([4, 128]) torch.Size([4, 128]) torch.Size([4])\n",
      "torch.Size([4, 128]) torch.Size([4, 128]) torch.Size([4])\n",
      "torch.Size([4, 128]) torch.Size([4, 128]) torch.Size([4])\n",
      "torch.Size([4, 128]) torch.Size([4, 128]) torch.Size([4])\n",
      "torch.Size([4, 128]) torch.Size([4, 128]) torch.Size([4])\n",
      "torch.Size([4, 128]) torch.Size([4, 128]) torch.Size([4])\n",
      "torch.Size([4, 128]) torch.Size([4, 128]) torch.Size([4])\n",
      "torch.Size([4, 128]) torch.Size([4, 128]) torch.Size([4])\n",
      "torch.Size([4, 128]) torch.Size([4, 128]) torch.Size([4])\n",
      "torch.Size([4, 128]) torch.Size([4, 128]) torch.Size([4])\n",
      "torch.Size([4, 128]) torch.Size([4, 128]) torch.Size([4])\n",
      "torch.Size([4, 128]) torch.Size([4, 128]) torch.Size([4])\n",
      "torch.Size([4, 128]) torch.Size([4, 128]) torch.Size([4])\n",
      "torch.Size([4, 128]) torch.Size([4, 128]) torch.Size([4])\n",
      "torch.Size([4, 128]) torch.Size([4, 128]) torch.Size([4])\n",
      "torch.Size([4, 128]) torch.Size([4, 128]) torch.Size([4])\n",
      "torch.Size([4, 128]) torch.Size([4, 128]) torch.Size([4])\n",
      "torch.Size([4, 128]) torch.Size([4, 128]) torch.Size([4])\n",
      "torch.Size([4, 128]) torch.Size([4, 128]) torch.Size([4])\n",
      "torch.Size([4, 128]) torch.Size([4, 128]) torch.Size([4])\n",
      "torch.Size([4, 128]) torch.Size([4, 128]) torch.Size([4])\n",
      "torch.Size([4, 128]) torch.Size([4, 128]) torch.Size([4])\n",
      "torch.Size([4, 128]) torch.Size([4, 128]) torch.Size([4])\n",
      "torch.Size([4, 128]) torch.Size([4, 128]) torch.Size([4])\n",
      "torch.Size([4, 128]) torch.Size([4, 128]) torch.Size([4])\n",
      "torch.Size([4, 128]) torch.Size([4, 128]) torch.Size([4])\n",
      "torch.Size([4, 128]) torch.Size([4, 128]) torch.Size([4])\n",
      "torch.Size([4, 128]) torch.Size([4, 128]) torch.Size([4])\n",
      "torch.Size([4, 128]) torch.Size([4, 128]) torch.Size([4])\n",
      "torch.Size([4, 128]) torch.Size([4, 128]) torch.Size([4])\n",
      "torch.Size([4, 128]) torch.Size([4, 128]) torch.Size([4])\n",
      "torch.Size([4, 128]) torch.Size([4, 128]) torch.Size([4])\n",
      "torch.Size([4, 128]) torch.Size([4, 128]) torch.Size([4])\n",
      "torch.Size([4, 128]) torch.Size([4, 128]) torch.Size([4])\n",
      "torch.Size([4, 128]) torch.Size([4, 128]) torch.Size([4])\n",
      "torch.Size([4, 128]) torch.Size([4, 128]) torch.Size([4])\n",
      "torch.Size([4, 128]) torch.Size([4, 128]) torch.Size([4])\n",
      "torch.Size([4, 128]) torch.Size([4, 128]) torch.Size([4])\n",
      "torch.Size([4, 128]) torch.Size([4, 128]) torch.Size([4])\n",
      "torch.Size([4, 128]) torch.Size([4, 128]) torch.Size([4])\n",
      "torch.Size([4, 128]) torch.Size([4, 128]) torch.Size([4])\n",
      "torch.Size([4, 128]) torch.Size([4, 128]) torch.Size([4])\n",
      "torch.Size([4, 128]) torch.Size([4, 128]) torch.Size([4])\n",
      "torch.Size([4, 128]) torch.Size([4, 128]) torch.Size([4])\n",
      "torch.Size([4, 128]) torch.Size([4, 128]) torch.Size([4])\n",
      "torch.Size([4, 128]) torch.Size([4, 128]) torch.Size([4])\n",
      "torch.Size([4, 128]) torch.Size([4, 128]) torch.Size([4])\n",
      "torch.Size([4, 128]) torch.Size([4, 128]) torch.Size([4])\n",
      "torch.Size([4, 128]) torch.Size([4, 128]) torch.Size([4])\n",
      "torch.Size([4, 128]) torch.Size([4, 128]) torch.Size([4])\n",
      "torch.Size([4, 128]) torch.Size([4, 128]) torch.Size([4])\n",
      "torch.Size([4, 128]) torch.Size([4, 128]) torch.Size([4])\n",
      "torch.Size([4, 128]) torch.Size([4, 128]) torch.Size([4])\n",
      "torch.Size([4, 128]) torch.Size([4, 128]) torch.Size([4])\n",
      "torch.Size([4, 128]) torch.Size([4, 128]) torch.Size([4])\n",
      "torch.Size([4, 128]) torch.Size([4, 128]) torch.Size([4])\n",
      "torch.Size([4, 128]) torch.Size([4, 128]) torch.Size([4])\n",
      "torch.Size([4, 128]) torch.Size([4, 128]) torch.Size([4])\n",
      "torch.Size([4, 128]) torch.Size([4, 128]) torch.Size([4])\n",
      "torch.Size([4, 128]) torch.Size([4, 128]) torch.Size([4])\n",
      "torch.Size([4, 128]) torch.Size([4, 128]) torch.Size([4])\n",
      "torch.Size([4, 128]) torch.Size([4, 128]) torch.Size([4])\n",
      "torch.Size([4, 128]) torch.Size([4, 128]) torch.Size([4])\n",
      "torch.Size([4, 128]) torch.Size([4, 128]) torch.Size([4])\n",
      "torch.Size([4, 128]) torch.Size([4, 128]) torch.Size([4])\n",
      "torch.Size([4, 128]) torch.Size([4, 128]) torch.Size([4])\n",
      "torch.Size([4, 128]) torch.Size([4, 128]) torch.Size([4])\n",
      "torch.Size([4, 128]) torch.Size([4, 128]) torch.Size([4])\n",
      "torch.Size([4, 128]) torch.Size([4, 128]) torch.Size([4])\n",
      "torch.Size([4, 128]) torch.Size([4, 128]) torch.Size([4])\n",
      "torch.Size([4, 128]) torch.Size([4, 128]) torch.Size([4])\n",
      "torch.Size([4, 128]) torch.Size([4, 128]) torch.Size([4])\n",
      "torch.Size([4, 128]) torch.Size([4, 128]) torch.Size([4])\n",
      "torch.Size([4, 128]) torch.Size([4, 128]) torch.Size([4])\n",
      "torch.Size([4, 128]) torch.Size([4, 128]) torch.Size([4])\n",
      "torch.Size([4, 128]) torch.Size([4, 128]) torch.Size([4])\n",
      "torch.Size([4, 128]) torch.Size([4, 128]) torch.Size([4])\n",
      "torch.Size([4, 128]) torch.Size([4, 128]) torch.Size([4])\n",
      "torch.Size([4, 128]) torch.Size([4, 128]) torch.Size([4])\n",
      "torch.Size([4, 128]) torch.Size([4, 128]) torch.Size([4])\n",
      "torch.Size([4, 128]) torch.Size([4, 128]) torch.Size([4])\n",
      "torch.Size([4, 128]) torch.Size([4, 128]) torch.Size([4])\n",
      "torch.Size([4, 128]) torch.Size([4, 128]) torch.Size([4])\n",
      "torch.Size([4, 128]) torch.Size([4, 128]) torch.Size([4])\n",
      "torch.Size([4, 128]) torch.Size([4, 128]) torch.Size([4])\n",
      "torch.Size([4, 128]) torch.Size([4, 128]) torch.Size([4])\n",
      "torch.Size([4, 128]) torch.Size([4, 128]) torch.Size([4])\n",
      "torch.Size([4, 128]) torch.Size([4, 128]) torch.Size([4])\n",
      "torch.Size([4, 128]) torch.Size([4, 128]) torch.Size([4])\n",
      "torch.Size([4, 128]) torch.Size([4, 128]) torch.Size([4])\n",
      "torch.Size([4, 128]) torch.Size([4, 128]) torch.Size([4])\n",
      "torch.Size([4, 128]) torch.Size([4, 128]) torch.Size([4])\n",
      "torch.Size([4, 128]) torch.Size([4, 128]) torch.Size([4])\n",
      "torch.Size([4, 128]) torch.Size([4, 128]) torch.Size([4])\n",
      "torch.Size([4, 128]) torch.Size([4, 128]) torch.Size([4])\n",
      "torch.Size([4, 128]) torch.Size([4, 128]) torch.Size([4])\n",
      "torch.Size([4, 128]) torch.Size([4, 128]) torch.Size([4])\n",
      "torch.Size([4, 128]) torch.Size([4, 128]) torch.Size([4])\n",
      "torch.Size([4, 128]) torch.Size([4, 128]) torch.Size([4])\n",
      "torch.Size([4, 128]) torch.Size([4, 128]) torch.Size([4])\n",
      "torch.Size([4, 128]) torch.Size([4, 128]) torch.Size([4])\n",
      "torch.Size([4, 128]) torch.Size([4, 128]) torch.Size([4])\n",
      "torch.Size([4, 128]) torch.Size([4, 128]) torch.Size([4])\n",
      "torch.Size([4, 128]) torch.Size([4, 128]) torch.Size([4])\n",
      "torch.Size([4, 128]) torch.Size([4, 128]) torch.Size([4])\n",
      "torch.Size([4, 128]) torch.Size([4, 128]) torch.Size([4])\n",
      "torch.Size([4, 128]) torch.Size([4, 128]) torch.Size([4])\n",
      "torch.Size([4, 128]) torch.Size([4, 128]) torch.Size([4])\n",
      "torch.Size([4, 128]) torch.Size([4, 128]) torch.Size([4])\n",
      "torch.Size([4, 128]) torch.Size([4, 128]) torch.Size([4])\n",
      "torch.Size([4, 128]) torch.Size([4, 128]) torch.Size([4])\n",
      "torch.Size([4, 128]) torch.Size([4, 128]) torch.Size([4])\n",
      "torch.Size([4, 128]) torch.Size([4, 128]) torch.Size([4])\n",
      "torch.Size([4, 128]) torch.Size([4, 128]) torch.Size([4])\n",
      "torch.Size([4, 128]) torch.Size([4, 128]) torch.Size([4])\n",
      "torch.Size([4, 128]) torch.Size([4, 128]) torch.Size([4])\n",
      "torch.Size([4, 128]) torch.Size([4, 128]) torch.Size([4])\n",
      "torch.Size([4, 128]) torch.Size([4, 128]) torch.Size([4])\n",
      "torch.Size([4, 128]) torch.Size([4, 128]) torch.Size([4])\n",
      "torch.Size([4, 128]) torch.Size([4, 128]) torch.Size([4])\n",
      "torch.Size([4, 128]) torch.Size([4, 128]) torch.Size([4])\n",
      "torch.Size([4, 128]) torch.Size([4, 128]) torch.Size([4])\n",
      "torch.Size([4, 128]) torch.Size([4, 128]) torch.Size([4])\n",
      "torch.Size([4, 128]) torch.Size([4, 128]) torch.Size([4])\n",
      "torch.Size([4, 128]) torch.Size([4, 128]) torch.Size([4])\n",
      "torch.Size([4, 128]) torch.Size([4, 128]) torch.Size([4])\n",
      "torch.Size([4, 128]) torch.Size([4, 128]) torch.Size([4])\n",
      "torch.Size([4, 128]) torch.Size([4, 128]) torch.Size([4])\n",
      "torch.Size([4, 128]) torch.Size([4, 128]) torch.Size([4])\n",
      "torch.Size([4, 128]) torch.Size([4, 128]) torch.Size([4])\n",
      "torch.Size([4, 128]) torch.Size([4, 128]) torch.Size([4])\n",
      "torch.Size([4, 128]) torch.Size([4, 128]) torch.Size([4])\n",
      "torch.Size([4, 128]) torch.Size([4, 128]) torch.Size([4])\n",
      "torch.Size([4, 128]) torch.Size([4, 128]) torch.Size([4])\n",
      "torch.Size([4, 128]) torch.Size([4, 128]) torch.Size([4])\n",
      "torch.Size([4, 128]) torch.Size([4, 128]) torch.Size([4])\n",
      "torch.Size([4, 128]) torch.Size([4, 128]) torch.Size([4])\n",
      "torch.Size([4, 128]) torch.Size([4, 128]) torch.Size([4])\n",
      "torch.Size([4, 128]) torch.Size([4, 128]) torch.Size([4])\n",
      "torch.Size([4, 128]) torch.Size([4, 128]) torch.Size([4])\n",
      "torch.Size([4, 128]) torch.Size([4, 128]) torch.Size([4])\n",
      "torch.Size([4, 128]) torch.Size([4, 128]) torch.Size([4])\n",
      "torch.Size([4, 128]) torch.Size([4, 128]) torch.Size([4])\n",
      "torch.Size([4, 128]) torch.Size([4, 128]) torch.Size([4])\n",
      "torch.Size([4, 128]) torch.Size([4, 128]) torch.Size([4])\n",
      "torch.Size([4, 128]) torch.Size([4, 128]) torch.Size([4])\n",
      "torch.Size([4, 128]) torch.Size([4, 128]) torch.Size([4])\n",
      "torch.Size([4, 128]) torch.Size([4, 128]) torch.Size([4])\n",
      "torch.Size([4, 128]) torch.Size([4, 128]) torch.Size([4])\n",
      "torch.Size([4, 128]) torch.Size([4, 128]) torch.Size([4])\n",
      "torch.Size([4, 128]) torch.Size([4, 128]) torch.Size([4])\n",
      "torch.Size([4, 128]) torch.Size([4, 128]) torch.Size([4])\n",
      "torch.Size([4, 128]) torch.Size([4, 128]) torch.Size([4])\n",
      "torch.Size([4, 128]) torch.Size([4, 128]) torch.Size([4])\n",
      "torch.Size([4, 128]) torch.Size([4, 128]) torch.Size([4])\n",
      "torch.Size([4, 128]) torch.Size([4, 128]) torch.Size([4])\n",
      "torch.Size([4, 128]) torch.Size([4, 128]) torch.Size([4])\n",
      "torch.Size([4, 128]) torch.Size([4, 128]) torch.Size([4])\n",
      "torch.Size([4, 128]) torch.Size([4, 128]) torch.Size([4])\n",
      "torch.Size([4, 128]) torch.Size([4, 128]) torch.Size([4])\n",
      "torch.Size([4, 128]) torch.Size([4, 128]) torch.Size([4])\n",
      "torch.Size([4, 128]) torch.Size([4, 128]) torch.Size([4])\n",
      "torch.Size([4, 128]) torch.Size([4, 128]) torch.Size([4])\n",
      "torch.Size([4, 128]) torch.Size([4, 128]) torch.Size([4])\n",
      "torch.Size([4, 128]) torch.Size([4, 128]) torch.Size([4])\n",
      "torch.Size([4, 128]) torch.Size([4, 128]) torch.Size([4])\n",
      "torch.Size([4, 128]) torch.Size([4, 128]) torch.Size([4])\n",
      "torch.Size([4, 128]) torch.Size([4, 128]) torch.Size([4])\n",
      "torch.Size([4, 128]) torch.Size([4, 128]) torch.Size([4])\n",
      "torch.Size([4, 128]) torch.Size([4, 128]) torch.Size([4])\n",
      "torch.Size([4, 128]) torch.Size([4, 128]) torch.Size([4])\n",
      "torch.Size([4, 128]) torch.Size([4, 128]) torch.Size([4])\n",
      "torch.Size([4, 128]) torch.Size([4, 128]) torch.Size([4])\n",
      "torch.Size([4, 128]) torch.Size([4, 128]) torch.Size([4])\n",
      "torch.Size([4, 128]) torch.Size([4, 128]) torch.Size([4])\n",
      "torch.Size([4, 128]) torch.Size([4, 128]) torch.Size([4])\n",
      "torch.Size([4, 128]) torch.Size([4, 128]) torch.Size([4])\n",
      "torch.Size([4, 128]) torch.Size([4, 128]) torch.Size([4])\n",
      "torch.Size([4, 128]) torch.Size([4, 128]) torch.Size([4])\n",
      "torch.Size([4, 128]) torch.Size([4, 128]) torch.Size([4])\n",
      "torch.Size([4, 128]) torch.Size([4, 128]) torch.Size([4])\n",
      "torch.Size([4, 128]) torch.Size([4, 128]) torch.Size([4])\n",
      "torch.Size([4, 128]) torch.Size([4, 128]) torch.Size([4])\n",
      "torch.Size([4, 128]) torch.Size([4, 128]) torch.Size([4])\n",
      "torch.Size([4, 128]) torch.Size([4, 128]) torch.Size([4])\n",
      "torch.Size([4, 128]) torch.Size([4, 128]) torch.Size([4])\n",
      "torch.Size([4, 128]) torch.Size([4, 128]) torch.Size([4])\n",
      "torch.Size([4, 128]) torch.Size([4, 128]) torch.Size([4])\n",
      "torch.Size([4, 128]) torch.Size([4, 128]) torch.Size([4])\n",
      "torch.Size([4, 128]) torch.Size([4, 128]) torch.Size([4])\n",
      "torch.Size([4, 128]) torch.Size([4, 128]) torch.Size([4])\n",
      "torch.Size([4, 128]) torch.Size([4, 128]) torch.Size([4])\n",
      "torch.Size([4, 128]) torch.Size([4, 128]) torch.Size([4])\n",
      "torch.Size([4, 128]) torch.Size([4, 128]) torch.Size([4])\n",
      "torch.Size([4, 128]) torch.Size([4, 128]) torch.Size([4])\n",
      "torch.Size([4, 128]) torch.Size([4, 128]) torch.Size([4])\n",
      "torch.Size([4, 128]) torch.Size([4, 128]) torch.Size([4])\n",
      "torch.Size([4, 128]) torch.Size([4, 128]) torch.Size([4])\n",
      "torch.Size([4, 128]) torch.Size([4, 128]) torch.Size([4])\n",
      "torch.Size([4, 128]) torch.Size([4, 128]) torch.Size([4])\n",
      "torch.Size([4, 128]) torch.Size([4, 128]) torch.Size([4])\n",
      "torch.Size([4, 128]) torch.Size([4, 128]) torch.Size([4])\n",
      "torch.Size([4, 128]) torch.Size([4, 128]) torch.Size([4])\n",
      "torch.Size([4, 128]) torch.Size([4, 128]) torch.Size([4])\n",
      "torch.Size([4, 128]) torch.Size([4, 128]) torch.Size([4])\n",
      "torch.Size([4, 128]) torch.Size([4, 128]) torch.Size([4])\n",
      "torch.Size([4, 128]) torch.Size([4, 128]) torch.Size([4])\n",
      "torch.Size([4, 128]) torch.Size([4, 128]) torch.Size([4])\n",
      "torch.Size([4, 128]) torch.Size([4, 128]) torch.Size([4])\n",
      "torch.Size([4, 128]) torch.Size([4, 128]) torch.Size([4])\n",
      "torch.Size([4, 128]) torch.Size([4, 128]) torch.Size([4])\n",
      "torch.Size([4, 128]) torch.Size([4, 128]) torch.Size([4])\n",
      "torch.Size([4, 128]) torch.Size([4, 128]) torch.Size([4])\n",
      "torch.Size([4, 128]) torch.Size([4, 128]) torch.Size([4])\n",
      "torch.Size([4, 128]) torch.Size([4, 128]) torch.Size([4])\n",
      "torch.Size([4, 128]) torch.Size([4, 128]) torch.Size([4])\n",
      "torch.Size([4, 128]) torch.Size([4, 128]) torch.Size([4])\n",
      "torch.Size([4, 128]) torch.Size([4, 128]) torch.Size([4])\n",
      "torch.Size([4, 128]) torch.Size([4, 128]) torch.Size([4])\n",
      "torch.Size([4, 128]) torch.Size([4, 128]) torch.Size([4])\n",
      "torch.Size([4, 128]) torch.Size([4, 128]) torch.Size([4])\n",
      "torch.Size([4, 128]) torch.Size([4, 128]) torch.Size([4])\n",
      "torch.Size([4, 128]) torch.Size([4, 128]) torch.Size([4])\n",
      "torch.Size([4, 128]) torch.Size([4, 128]) torch.Size([4])\n",
      "torch.Size([4, 128]) torch.Size([4, 128]) torch.Size([4])\n",
      "torch.Size([4, 128]) torch.Size([4, 128]) torch.Size([4])\n",
      "torch.Size([4, 128]) torch.Size([4, 128]) torch.Size([4])\n",
      "torch.Size([4, 128]) torch.Size([4, 128]) torch.Size([4])\n",
      "torch.Size([4, 128]) torch.Size([4, 128]) torch.Size([4])\n",
      "torch.Size([4, 128]) torch.Size([4, 128]) torch.Size([4])\n",
      "torch.Size([4, 128]) torch.Size([4, 128]) torch.Size([4])\n",
      "torch.Size([4, 128]) torch.Size([4, 128]) torch.Size([4])\n",
      "torch.Size([4, 128]) torch.Size([4, 128]) torch.Size([4])\n",
      "torch.Size([4, 128]) torch.Size([4, 128]) torch.Size([4])\n",
      "torch.Size([4, 128]) torch.Size([4, 128]) torch.Size([4])\n",
      "torch.Size([4, 128]) torch.Size([4, 128]) torch.Size([4])\n",
      "torch.Size([4, 128]) torch.Size([4, 128]) torch.Size([4])\n",
      "torch.Size([4, 128]) torch.Size([4, 128]) torch.Size([4])\n",
      "torch.Size([4, 128]) torch.Size([4, 128]) torch.Size([4])\n",
      "torch.Size([4, 128]) torch.Size([4, 128]) torch.Size([4])\n",
      "torch.Size([4, 128]) torch.Size([4, 128]) torch.Size([4])\n",
      "torch.Size([4, 128]) torch.Size([4, 128]) torch.Size([4])\n",
      "torch.Size([4, 128]) torch.Size([4, 128]) torch.Size([4])\n",
      "torch.Size([4, 128]) torch.Size([4, 128]) torch.Size([4])\n",
      "torch.Size([4, 128]) torch.Size([4, 128]) torch.Size([4])\n",
      "torch.Size([4, 128]) torch.Size([4, 128]) torch.Size([4])\n",
      "torch.Size([4, 128]) torch.Size([4, 128]) torch.Size([4])\n",
      "torch.Size([4, 128]) torch.Size([4, 128]) torch.Size([4])\n",
      "torch.Size([4, 128]) torch.Size([4, 128]) torch.Size([4])\n",
      "torch.Size([4, 128]) torch.Size([4, 128]) torch.Size([4])\n",
      "torch.Size([4, 128]) torch.Size([4, 128]) torch.Size([4])\n",
      "torch.Size([4, 128]) torch.Size([4, 128]) torch.Size([4])\n",
      "torch.Size([4, 128]) torch.Size([4, 128]) torch.Size([4])\n",
      "torch.Size([4, 128]) torch.Size([4, 128]) torch.Size([4])\n",
      "torch.Size([4, 128]) torch.Size([4, 128]) torch.Size([4])\n",
      "torch.Size([4, 128]) torch.Size([4, 128]) torch.Size([4])\n",
      "torch.Size([4, 128]) torch.Size([4, 128]) torch.Size([4])\n",
      "torch.Size([4, 128]) torch.Size([4, 128]) torch.Size([4])\n",
      "torch.Size([4, 128]) torch.Size([4, 128]) torch.Size([4])\n",
      "torch.Size([4, 128]) torch.Size([4, 128]) torch.Size([4])\n",
      "torch.Size([4, 128]) torch.Size([4, 128]) torch.Size([4])\n",
      "torch.Size([4, 128]) torch.Size([4, 128]) torch.Size([4])\n",
      "torch.Size([4, 128]) torch.Size([4, 128]) torch.Size([4])\n",
      "torch.Size([4, 128]) torch.Size([4, 128]) torch.Size([4])\n",
      "torch.Size([4, 128]) torch.Size([4, 128]) torch.Size([4])\n",
      "torch.Size([4, 128]) torch.Size([4, 128]) torch.Size([4])\n",
      "torch.Size([4, 128]) torch.Size([4, 128]) torch.Size([4])\n",
      "torch.Size([4, 128]) torch.Size([4, 128]) torch.Size([4])\n",
      "torch.Size([4, 128]) torch.Size([4, 128]) torch.Size([4])\n",
      "torch.Size([4, 128]) torch.Size([4, 128]) torch.Size([4])\n",
      "torch.Size([4, 128]) torch.Size([4, 128]) torch.Size([4])\n",
      "torch.Size([4, 128]) torch.Size([4, 128]) torch.Size([4])\n",
      "torch.Size([4, 128]) torch.Size([4, 128]) torch.Size([4])\n",
      "torch.Size([4, 128]) torch.Size([4, 128]) torch.Size([4])\n",
      "torch.Size([4, 128]) torch.Size([4, 128]) torch.Size([4])\n",
      "torch.Size([4, 128]) torch.Size([4, 128]) torch.Size([4])\n",
      "torch.Size([4, 128]) torch.Size([4, 128]) torch.Size([4])\n",
      "torch.Size([4, 128]) torch.Size([4, 128]) torch.Size([4])\n",
      "torch.Size([4, 128]) torch.Size([4, 128]) torch.Size([4])\n",
      "torch.Size([4, 128]) torch.Size([4, 128]) torch.Size([4])\n",
      "torch.Size([4, 128]) torch.Size([4, 128]) torch.Size([4])\n",
      "torch.Size([4, 128]) torch.Size([4, 128]) torch.Size([4])\n",
      "torch.Size([4, 128]) torch.Size([4, 128]) torch.Size([4])\n",
      "torch.Size([4, 128]) torch.Size([4, 128]) torch.Size([4])\n",
      "torch.Size([4, 128]) torch.Size([4, 128]) torch.Size([4])\n",
      "torch.Size([4, 128]) torch.Size([4, 128]) torch.Size([4])\n",
      "torch.Size([4, 128]) torch.Size([4, 128]) torch.Size([4])\n",
      "torch.Size([4, 128]) torch.Size([4, 128]) torch.Size([4])\n",
      "torch.Size([4, 128]) torch.Size([4, 128]) torch.Size([4])\n",
      "torch.Size([4, 128]) torch.Size([4, 128]) torch.Size([4])\n",
      "torch.Size([4, 128]) torch.Size([4, 128]) torch.Size([4])\n",
      "torch.Size([4, 128]) torch.Size([4, 128]) torch.Size([4])\n",
      "torch.Size([4, 128]) torch.Size([4, 128]) torch.Size([4])\n",
      "torch.Size([4, 128]) torch.Size([4, 128]) torch.Size([4])\n",
      "torch.Size([4, 128]) torch.Size([4, 128]) torch.Size([4])\n",
      "torch.Size([4, 128]) torch.Size([4, 128]) torch.Size([4])\n",
      "torch.Size([4, 128]) torch.Size([4, 128]) torch.Size([4])\n",
      "torch.Size([4, 128]) torch.Size([4, 128]) torch.Size([4])\n",
      "torch.Size([4, 128]) torch.Size([4, 128]) torch.Size([4])\n",
      "torch.Size([4, 128]) torch.Size([4, 128]) torch.Size([4])\n",
      "torch.Size([4, 128]) torch.Size([4, 128]) torch.Size([4])\n",
      "torch.Size([4, 128]) torch.Size([4, 128]) torch.Size([4])\n",
      "torch.Size([4, 128]) torch.Size([4, 128]) torch.Size([4])\n",
      "torch.Size([4, 128]) torch.Size([4, 128]) torch.Size([4])\n",
      "torch.Size([4, 128]) torch.Size([4, 128]) torch.Size([4])\n",
      "torch.Size([4, 128]) torch.Size([4, 128]) torch.Size([4])\n",
      "torch.Size([4, 128]) torch.Size([4, 128]) torch.Size([4])\n",
      "torch.Size([4, 128]) torch.Size([4, 128]) torch.Size([4])\n",
      "torch.Size([4, 128]) torch.Size([4, 128]) torch.Size([4])\n",
      "torch.Size([1, 128]) torch.Size([1, 128]) torch.Size([1])\n"
     ]
    },
    {
     "data": {
      "text/plain": [
       "(1929, 351, 8488)"
      ]
     },
     "execution_count": 7,
     "metadata": {},
     "output_type": "execute_result"
    }
   ],
   "source": [
    "# 2. Split data into train, validation, and test samples\n",
    "num_train_samples = num_train_samples\n",
    "num_val_samples = int(0.2 * num_train_samples)\n",
    "train_data = data.iloc[:num_train_samples]\n",
    "val_data = data.iloc[num_train_samples:num_train_samples+num_val_samples]\n",
    "test_data = data.iloc[num_train_samples+num_val_samples:]\n",
    "\n",
    "# 3. Preprocess and Flatten\n",
    "def preprocess_and_flatten(dataframe):\n",
    "    reviews = dataframe['content'].tolist()\n",
    "    labels = dataframe['label'].tolist()\n",
    "    reviews = [review.lower() for review in reviews]\n",
    "    reviews_sentences = [sent_tokenize(review) for review in reviews]\n",
    "    flattened_reviews = [sentence for review in reviews_sentences for sentence in review]\n",
    "    flattened_labels = [label for review, label in zip(reviews_sentences, labels) for sentence in review]\n",
    "    return flattened_reviews, flattened_labels\n",
    "\n",
    "train_reviews, train_labels = preprocess_and_flatten(train_data)\n",
    "val_reviews, val_labels = preprocess_and_flatten(val_data)\n",
    "test_reviews, test_labels = preprocess_and_flatten(test_data)\n",
    "\n",
    "# 4. Tokenization\n",
    "tokenizer = RobertaTokenizer.from_pretrained('roberta-base')\n",
    "train_tokens = tokenizer(train_reviews, padding=True, truncation=True, return_tensors=\"pt\", max_length=max_length)\n",
    "val_tokens = tokenizer(val_reviews, padding=True, truncation=True, return_tensors=\"pt\", max_length=max_length)\n",
    "test_tokens = tokenizer(test_reviews, padding=True, truncation=True, return_tensors=\"pt\", max_length=max_length)\n",
    "\n",
    "# 5. Create DataLoader\n",
    "train_batch_size = 4\n",
    "val_batch_size = 4\n",
    "test_batch_size = 4\n",
    "\n",
    "train_dataset = TensorDataset(train_tokens['input_ids'], train_tokens['attention_mask'], torch.tensor(train_labels))\n",
    "val_dataset = TensorDataset(val_tokens['input_ids'], val_tokens['attention_mask'], torch.tensor(val_labels))\n",
    "test_dataset = TensorDataset(test_tokens['input_ids'], test_tokens['attention_mask'], torch.tensor(test_labels))\n",
    "\n",
    "train_loader = DataLoader(train_dataset, shuffle=True, batch_size=train_batch_size)\n",
    "val_loader = DataLoader(val_dataset, shuffle=False, batch_size=val_batch_size)\n",
    "test_loader = DataLoader(test_dataset, shuffle=False, batch_size=test_batch_size)\n",
    "\n",
    "# Uncomment to test: iterating over the DataLoader\n",
    "for batch in train_loader:\n",
    "    input_ids, attention_mask, labels = batch\n",
    "    print(input_ids.shape, attention_mask.shape, labels.shape)\n",
    "len(train_loader.dataset),len(val_loader.dataset),len(test_loader.dataset)"
   ]
  },
  {
   "cell_type": "code",
   "execution_count": 8,
   "id": "cc7a49b0",
   "metadata": {},
   "outputs": [
    {
     "name": "stderr",
     "output_type": "stream",
     "text": [
      "Some weights of RobertaModel were not initialized from the model checkpoint at roberta-base and are newly initialized: ['roberta.pooler.dense.weight', 'roberta.pooler.dense.bias']\n",
      "You should probably TRAIN this model on a down-stream task to be able to use it for predictions and inference.\n"
     ]
    }
   ],
   "source": [
    "# Set device\n",
    "device = torch.device('cuda' if torch.cuda.is_available() else 'cpu')\n",
    "\n",
    "# Initialize the model\n",
    "model = HBN(d_e, h, m, n, y, dropout_prob).to(device)\n",
    "\n",
    "# Loss and Optimizer\n",
    "criterion = nn.CrossEntropyLoss()\n",
    "optimizer = optim.AdamW(model.parameters(), lr=2e-5, eps=1e-8)\n"
   ]
  },
  {
   "cell_type": "code",
   "execution_count": 9,
   "id": "918b22ca",
   "metadata": {},
   "outputs": [],
   "source": [
    "def train(model, dataloader, optimizer, criterion, device, epoch):\n",
    "    model.train()\n",
    "    total_loss = 0\n",
    "    for batch in tqdm(dataloader, desc=f\"Epoch {epoch + 1}/{num_epochs}\"):\n",
    "        input_ids, attention_mask, labels = batch\n",
    "        \n",
    "        input_ids = input_ids.to(device)\n",
    "        attention_mask = attention_mask.to(device)\n",
    "        labels = labels.to(device)\n",
    "\n",
    "        optimizer.zero_grad()\n",
    "        outputs = model(input_ids, attention_mask)\n",
    "        loss = criterion(outputs, labels)\n",
    "        loss.backward()\n",
    "#         torch.nn.utils.clip_grad_norm_(model.parameters(), max_norm=1.0)\n",
    "        optimizer.step()\n",
    "        \n",
    "        total_loss += loss.item()\n",
    "        \n",
    "    return total_loss / len(dataloader)\n",
    "\n",
    "def evaluate(model, dataloader, criterion, device):\n",
    "    model.eval()\n",
    "    total_loss = 0\n",
    "    correct_predictions = 0\n",
    "    all_preds = []\n",
    "    all_labels = []\n",
    "\n",
    "    with torch.no_grad():\n",
    "        for batch in tqdm(dataloader):\n",
    "            input_ids, attention_mask, labels = batch\n",
    "\n",
    "            input_ids = input_ids.to(device)\n",
    "            attention_mask = attention_mask.to(device)\n",
    "            labels = labels.to(device)\n",
    "\n",
    "            outputs = model(input_ids, attention_mask)\n",
    "            loss = criterion(outputs, labels)\n",
    "            total_loss += loss.item()\n",
    "\n",
    "            _, preds = torch.max(outputs, dim=1)\n",
    "            correct_predictions += torch.sum(preds == labels)\n",
    "            \n",
    "            # For AUC\n",
    "            # Assuming binary classification; you need to get the probabilities for the positive class\n",
    "            probs = torch.nn.functional.softmax(outputs, dim=1)[:, 1]\n",
    "            all_preds.extend(probs.cpu().numpy())\n",
    "            all_labels.extend(labels.cpu().numpy())\n",
    "    \n",
    "    accuracy = correct_predictions.double() / len(dataloader.dataset)\n",
    "    auc = roc_auc_score(all_labels, all_preds)\n",
    "    return total_loss / len(dataloader), accuracy, auc\n",
    "\n"
   ]
  },
  {
   "cell_type": "code",
   "execution_count": 10,
   "id": "7b06eafa",
   "metadata": {
    "scrolled": false
   },
   "outputs": [
    {
     "name": "stderr",
     "output_type": "stream",
     "text": [
      "Epoch 1/50: 100%|█████████████████████████████████████████████████████████████████████| 483/483 [01:20<00:00,  5.99it/s]\n"
     ]
    },
    {
     "name": "stdout",
     "output_type": "stream",
     "text": [
      "Train Loss: 0.4365\n"
     ]
    },
    {
     "name": "stderr",
     "output_type": "stream",
     "text": [
      "100%|███████████████████████████████████████████████████████████████████████████████████| 88/88 [00:08<00:00,  9.95it/s]\n"
     ]
    },
    {
     "name": "stdout",
     "output_type": "stream",
     "text": [
      "Val Loss: 0.2670, Val Accuracy: 0.9003, Val AUC: 0.9716\n"
     ]
    },
    {
     "name": "stderr",
     "output_type": "stream",
     "text": [
      "Epoch 2/50: 100%|█████████████████████████████████████████████████████████████████████| 483/483 [01:22<00:00,  5.85it/s]\n"
     ]
    },
    {
     "name": "stdout",
     "output_type": "stream",
     "text": [
      "Train Loss: 0.2683\n"
     ]
    },
    {
     "name": "stderr",
     "output_type": "stream",
     "text": [
      "100%|███████████████████████████████████████████████████████████████████████████████████| 88/88 [00:09<00:00,  9.36it/s]\n"
     ]
    },
    {
     "name": "stdout",
     "output_type": "stream",
     "text": [
      "Val Loss: 0.2176, Val Accuracy: 0.9288, Val AUC: 0.9763\n"
     ]
    },
    {
     "name": "stderr",
     "output_type": "stream",
     "text": [
      "Epoch 3/50: 100%|█████████████████████████████████████████████████████████████████████| 483/483 [01:45<00:00,  4.58it/s]\n"
     ]
    },
    {
     "name": "stdout",
     "output_type": "stream",
     "text": [
      "Train Loss: 0.2288\n"
     ]
    },
    {
     "name": "stderr",
     "output_type": "stream",
     "text": [
      "100%|███████████████████████████████████████████████████████████████████████████████████| 88/88 [00:15<00:00,  5.70it/s]\n"
     ]
    },
    {
     "name": "stdout",
     "output_type": "stream",
     "text": [
      "Val Loss: 0.1799, Val Accuracy: 0.9345, Val AUC: 0.9795\n"
     ]
    },
    {
     "name": "stderr",
     "output_type": "stream",
     "text": [
      "Epoch 4/50: 100%|█████████████████████████████████████████████████████████████████████| 483/483 [02:23<00:00,  3.37it/s]\n"
     ]
    },
    {
     "name": "stdout",
     "output_type": "stream",
     "text": [
      "Train Loss: 0.2242\n"
     ]
    },
    {
     "name": "stderr",
     "output_type": "stream",
     "text": [
      "100%|███████████████████████████████████████████████████████████████████████████████████| 88/88 [00:16<00:00,  5.18it/s]\n"
     ]
    },
    {
     "name": "stdout",
     "output_type": "stream",
     "text": [
      "Val Loss: 0.2098, Val Accuracy: 0.9231, Val AUC: 0.9761\n"
     ]
    },
    {
     "name": "stderr",
     "output_type": "stream",
     "text": [
      "Epoch 5/50: 100%|█████████████████████████████████████████████████████████████████████| 483/483 [02:19<00:00,  3.45it/s]\n"
     ]
    },
    {
     "name": "stdout",
     "output_type": "stream",
     "text": [
      "Train Loss: 0.2032\n"
     ]
    },
    {
     "name": "stderr",
     "output_type": "stream",
     "text": [
      "100%|███████████████████████████████████████████████████████████████████████████████████| 88/88 [00:14<00:00,  5.92it/s]\n"
     ]
    },
    {
     "name": "stdout",
     "output_type": "stream",
     "text": [
      "Val Loss: 0.2122, Val Accuracy: 0.9145, Val AUC: 0.9752\n"
     ]
    },
    {
     "name": "stderr",
     "output_type": "stream",
     "text": [
      "Epoch 6/50: 100%|█████████████████████████████████████████████████████████████████████| 483/483 [01:59<00:00,  4.04it/s]\n"
     ]
    },
    {
     "name": "stdout",
     "output_type": "stream",
     "text": [
      "Train Loss: 0.1998\n"
     ]
    },
    {
     "name": "stderr",
     "output_type": "stream",
     "text": [
      "100%|███████████████████████████████████████████████████████████████████████████████████| 88/88 [00:16<00:00,  5.22it/s]\n"
     ]
    },
    {
     "name": "stdout",
     "output_type": "stream",
     "text": [
      "Val Loss: 0.2098, Val Accuracy: 0.9088, Val AUC: 0.9769\n"
     ]
    },
    {
     "name": "stderr",
     "output_type": "stream",
     "text": [
      "Epoch 7/50: 100%|█████████████████████████████████████████████████████████████████████| 483/483 [02:25<00:00,  3.32it/s]\n"
     ]
    },
    {
     "name": "stdout",
     "output_type": "stream",
     "text": [
      "Train Loss: 0.1726\n"
     ]
    },
    {
     "name": "stderr",
     "output_type": "stream",
     "text": [
      "100%|███████████████████████████████████████████████████████████████████████████████████| 88/88 [00:15<00:00,  5.51it/s]\n"
     ]
    },
    {
     "name": "stdout",
     "output_type": "stream",
     "text": [
      "Val Loss: 0.1981, Val Accuracy: 0.9202, Val AUC: 0.9762\n"
     ]
    },
    {
     "name": "stderr",
     "output_type": "stream",
     "text": [
      "Epoch 8/50: 100%|█████████████████████████████████████████████████████████████████████| 483/483 [02:02<00:00,  3.95it/s]\n"
     ]
    },
    {
     "name": "stdout",
     "output_type": "stream",
     "text": [
      "Train Loss: 0.1843\n"
     ]
    },
    {
     "name": "stderr",
     "output_type": "stream",
     "text": [
      "100%|███████████████████████████████████████████████████████████████████████████████████| 88/88 [00:08<00:00,  9.88it/s]\n"
     ]
    },
    {
     "name": "stdout",
     "output_type": "stream",
     "text": [
      "Val Loss: 0.2062, Val Accuracy: 0.9231, Val AUC: 0.9750\n"
     ]
    },
    {
     "name": "stderr",
     "output_type": "stream",
     "text": [
      "Epoch 9/50: 100%|█████████████████████████████████████████████████████████████████████| 483/483 [01:19<00:00,  6.11it/s]\n"
     ]
    },
    {
     "name": "stdout",
     "output_type": "stream",
     "text": [
      "Train Loss: 0.1847\n"
     ]
    },
    {
     "name": "stderr",
     "output_type": "stream",
     "text": [
      "100%|███████████████████████████████████████████████████████████████████████████████████| 88/88 [00:08<00:00, 10.07it/s]\n"
     ]
    },
    {
     "name": "stdout",
     "output_type": "stream",
     "text": [
      "Val Loss: 0.2009, Val Accuracy: 0.9288, Val AUC: 0.9761\n"
     ]
    },
    {
     "name": "stderr",
     "output_type": "stream",
     "text": [
      "Epoch 10/50: 100%|████████████████████████████████████████████████████████████████████| 483/483 [01:18<00:00,  6.17it/s]\n"
     ]
    },
    {
     "name": "stdout",
     "output_type": "stream",
     "text": [
      "Train Loss: 0.1650\n"
     ]
    },
    {
     "name": "stderr",
     "output_type": "stream",
     "text": [
      "100%|███████████████████████████████████████████████████████████████████████████████████| 88/88 [00:08<00:00, 10.11it/s]\n"
     ]
    },
    {
     "name": "stdout",
     "output_type": "stream",
     "text": [
      "Val Loss: 0.2217, Val Accuracy: 0.9117, Val AUC: 0.9724\n"
     ]
    },
    {
     "name": "stderr",
     "output_type": "stream",
     "text": [
      "Epoch 11/50: 100%|████████████████████████████████████████████████████████████████████| 483/483 [01:18<00:00,  6.14it/s]\n"
     ]
    },
    {
     "name": "stdout",
     "output_type": "stream",
     "text": [
      "Train Loss: 0.1647\n"
     ]
    },
    {
     "name": "stderr",
     "output_type": "stream",
     "text": [
      "100%|███████████████████████████████████████████████████████████████████████████████████| 88/88 [00:08<00:00,  9.94it/s]\n"
     ]
    },
    {
     "name": "stdout",
     "output_type": "stream",
     "text": [
      "Val Loss: 0.2045, Val Accuracy: 0.9174, Val AUC: 0.9752\n"
     ]
    },
    {
     "name": "stderr",
     "output_type": "stream",
     "text": [
      "Epoch 12/50: 100%|████████████████████████████████████████████████████████████████████| 483/483 [02:05<00:00,  3.84it/s]\n"
     ]
    },
    {
     "name": "stdout",
     "output_type": "stream",
     "text": [
      "Train Loss: 0.1750\n"
     ]
    },
    {
     "name": "stderr",
     "output_type": "stream",
     "text": [
      "100%|███████████████████████████████████████████████████████████████████████████████████| 88/88 [00:16<00:00,  5.45it/s]\n"
     ]
    },
    {
     "name": "stdout",
     "output_type": "stream",
     "text": [
      "Val Loss: 0.2086, Val Accuracy: 0.9117, Val AUC: 0.9767\n"
     ]
    },
    {
     "name": "stderr",
     "output_type": "stream",
     "text": [
      "Epoch 13/50: 100%|████████████████████████████████████████████████████████████████████| 483/483 [02:21<00:00,  3.41it/s]\n"
     ]
    },
    {
     "name": "stdout",
     "output_type": "stream",
     "text": [
      "Train Loss: 0.1527\n"
     ]
    },
    {
     "name": "stderr",
     "output_type": "stream",
     "text": [
      "100%|███████████████████████████████████████████████████████████████████████████████████| 88/88 [00:15<00:00,  5.57it/s]\n"
     ]
    },
    {
     "name": "stdout",
     "output_type": "stream",
     "text": [
      "Val Loss: 0.2299, Val Accuracy: 0.8946, Val AUC: 0.9769\n"
     ]
    },
    {
     "name": "stderr",
     "output_type": "stream",
     "text": [
      "Epoch 14/50: 100%|████████████████████████████████████████████████████████████████████| 483/483 [01:31<00:00,  5.30it/s]\n"
     ]
    },
    {
     "name": "stdout",
     "output_type": "stream",
     "text": [
      "Train Loss: 0.1610\n"
     ]
    },
    {
     "name": "stderr",
     "output_type": "stream",
     "text": [
      "100%|███████████████████████████████████████████████████████████████████████████████████| 88/88 [00:09<00:00,  9.71it/s]\n"
     ]
    },
    {
     "name": "stdout",
     "output_type": "stream",
     "text": [
      "Val Loss: 0.2458, Val Accuracy: 0.8917, Val AUC: 0.9775\n"
     ]
    },
    {
     "name": "stderr",
     "output_type": "stream",
     "text": [
      "Epoch 15/50: 100%|████████████████████████████████████████████████████████████████████| 483/483 [01:17<00:00,  6.22it/s]\n"
     ]
    },
    {
     "name": "stdout",
     "output_type": "stream",
     "text": [
      "Train Loss: 0.1496\n"
     ]
    },
    {
     "name": "stderr",
     "output_type": "stream",
     "text": [
      "100%|███████████████████████████████████████████████████████████████████████████████████| 88/88 [00:08<00:00, 10.18it/s]\n"
     ]
    },
    {
     "name": "stdout",
     "output_type": "stream",
     "text": [
      "Val Loss: 0.2300, Val Accuracy: 0.9060, Val AUC: 0.9733\n"
     ]
    },
    {
     "name": "stderr",
     "output_type": "stream",
     "text": [
      "Epoch 16/50: 100%|████████████████████████████████████████████████████████████████████| 483/483 [01:17<00:00,  6.23it/s]\n"
     ]
    },
    {
     "name": "stdout",
     "output_type": "stream",
     "text": [
      "Train Loss: 0.1477\n"
     ]
    },
    {
     "name": "stderr",
     "output_type": "stream",
     "text": [
      "100%|███████████████████████████████████████████████████████████████████████████████████| 88/88 [00:09<00:00,  9.68it/s]\n"
     ]
    },
    {
     "name": "stdout",
     "output_type": "stream",
     "text": [
      "Val Loss: 0.2319, Val Accuracy: 0.9117, Val AUC: 0.9704\n"
     ]
    },
    {
     "name": "stderr",
     "output_type": "stream",
     "text": [
      "Epoch 17/50: 100%|████████████████████████████████████████████████████████████████████| 483/483 [01:18<00:00,  6.13it/s]\n"
     ]
    },
    {
     "name": "stdout",
     "output_type": "stream",
     "text": [
      "Train Loss: 0.1414\n"
     ]
    },
    {
     "name": "stderr",
     "output_type": "stream",
     "text": [
      "100%|███████████████████████████████████████████████████████████████████████████████████| 88/88 [00:08<00:00, 10.18it/s]\n"
     ]
    },
    {
     "name": "stdout",
     "output_type": "stream",
     "text": [
      "Val Loss: 0.2205, Val Accuracy: 0.9174, Val AUC: 0.9738\n"
     ]
    },
    {
     "name": "stderr",
     "output_type": "stream",
     "text": [
      "Epoch 18/50: 100%|████████████████████████████████████████████████████████████████████| 483/483 [01:17<00:00,  6.20it/s]\n"
     ]
    },
    {
     "name": "stdout",
     "output_type": "stream",
     "text": [
      "Train Loss: 0.1309\n"
     ]
    },
    {
     "name": "stderr",
     "output_type": "stream",
     "text": [
      "100%|███████████████████████████████████████████████████████████████████████████████████| 88/88 [00:08<00:00, 10.10it/s]\n"
     ]
    },
    {
     "name": "stdout",
     "output_type": "stream",
     "text": [
      "Val Loss: 0.2497, Val Accuracy: 0.9003, Val AUC: 0.9709\n"
     ]
    },
    {
     "name": "stderr",
     "output_type": "stream",
     "text": [
      "Epoch 19/50: 100%|████████████████████████████████████████████████████████████████████| 483/483 [01:18<00:00,  6.17it/s]\n"
     ]
    },
    {
     "name": "stdout",
     "output_type": "stream",
     "text": [
      "Train Loss: 0.1409\n"
     ]
    },
    {
     "name": "stderr",
     "output_type": "stream",
     "text": [
      "100%|███████████████████████████████████████████████████████████████████████████████████| 88/88 [00:09<00:00,  9.18it/s]\n"
     ]
    },
    {
     "name": "stdout",
     "output_type": "stream",
     "text": [
      "Val Loss: 0.3932, Val Accuracy: 0.8519, Val AUC: 0.9705\n"
     ]
    },
    {
     "name": "stderr",
     "output_type": "stream",
     "text": [
      "Epoch 20/50: 100%|████████████████████████████████████████████████████████████████████| 483/483 [01:21<00:00,  5.94it/s]\n"
     ]
    },
    {
     "name": "stdout",
     "output_type": "stream",
     "text": [
      "Train Loss: 0.1332\n"
     ]
    },
    {
     "name": "stderr",
     "output_type": "stream",
     "text": [
      "100%|███████████████████████████████████████████████████████████████████████████████████| 88/88 [00:09<00:00,  8.85it/s]\n"
     ]
    },
    {
     "name": "stdout",
     "output_type": "stream",
     "text": [
      "Val Loss: 0.2906, Val Accuracy: 0.8889, Val AUC: 0.9677\n"
     ]
    },
    {
     "name": "stderr",
     "output_type": "stream",
     "text": [
      "Epoch 21/50: 100%|████████████████████████████████████████████████████████████████████| 483/483 [01:18<00:00,  6.16it/s]\n"
     ]
    },
    {
     "name": "stdout",
     "output_type": "stream",
     "text": [
      "Train Loss: 0.1399\n"
     ]
    },
    {
     "name": "stderr",
     "output_type": "stream",
     "text": [
      "100%|███████████████████████████████████████████████████████████████████████████████████| 88/88 [00:08<00:00, 10.18it/s]\n"
     ]
    },
    {
     "name": "stdout",
     "output_type": "stream",
     "text": [
      "Val Loss: 0.2548, Val Accuracy: 0.9031, Val AUC: 0.9734\n"
     ]
    },
    {
     "name": "stderr",
     "output_type": "stream",
     "text": [
      "Epoch 22/50: 100%|████████████████████████████████████████████████████████████████████| 483/483 [01:17<00:00,  6.25it/s]\n"
     ]
    },
    {
     "name": "stdout",
     "output_type": "stream",
     "text": [
      "Train Loss: 0.1419\n"
     ]
    },
    {
     "name": "stderr",
     "output_type": "stream",
     "text": [
      "100%|███████████████████████████████████████████████████████████████████████████████████| 88/88 [00:08<00:00, 10.17it/s]\n"
     ]
    },
    {
     "name": "stdout",
     "output_type": "stream",
     "text": [
      "Val Loss: 0.2142, Val Accuracy: 0.9145, Val AUC: 0.9719\n"
     ]
    },
    {
     "name": "stderr",
     "output_type": "stream",
     "text": [
      "Epoch 23/50: 100%|████████████████████████████████████████████████████████████████████| 483/483 [01:17<00:00,  6.22it/s]\n"
     ]
    },
    {
     "name": "stdout",
     "output_type": "stream",
     "text": [
      "Train Loss: 0.1346\n"
     ]
    },
    {
     "name": "stderr",
     "output_type": "stream",
     "text": [
      "100%|███████████████████████████████████████████████████████████████████████████████████| 88/88 [00:08<00:00, 10.05it/s]\n"
     ]
    },
    {
     "name": "stdout",
     "output_type": "stream",
     "text": [
      "Val Loss: 0.2383, Val Accuracy: 0.9145, Val AUC: 0.9721\n"
     ]
    },
    {
     "name": "stderr",
     "output_type": "stream",
     "text": [
      "Epoch 24/50: 100%|████████████████████████████████████████████████████████████████████| 483/483 [01:17<00:00,  6.26it/s]\n"
     ]
    },
    {
     "name": "stdout",
     "output_type": "stream",
     "text": [
      "Train Loss: 0.1358\n"
     ]
    },
    {
     "name": "stderr",
     "output_type": "stream",
     "text": [
      "100%|███████████████████████████████████████████████████████████████████████████████████| 88/88 [00:08<00:00, 10.10it/s]\n"
     ]
    },
    {
     "name": "stdout",
     "output_type": "stream",
     "text": [
      "Val Loss: 0.2381, Val Accuracy: 0.9174, Val AUC: 0.9707\n"
     ]
    },
    {
     "name": "stderr",
     "output_type": "stream",
     "text": [
      "Epoch 25/50: 100%|████████████████████████████████████████████████████████████████████| 483/483 [01:17<00:00,  6.26it/s]\n"
     ]
    },
    {
     "name": "stdout",
     "output_type": "stream",
     "text": [
      "Train Loss: 0.1340\n"
     ]
    },
    {
     "name": "stderr",
     "output_type": "stream",
     "text": [
      "100%|███████████████████████████████████████████████████████████████████████████████████| 88/88 [00:08<00:00, 10.09it/s]\n"
     ]
    },
    {
     "name": "stdout",
     "output_type": "stream",
     "text": [
      "Val Loss: 0.3352, Val Accuracy: 0.8661, Val AUC: 0.9685\n"
     ]
    },
    {
     "name": "stderr",
     "output_type": "stream",
     "text": [
      "Epoch 26/50: 100%|████████████████████████████████████████████████████████████████████| 483/483 [01:17<00:00,  6.25it/s]\n"
     ]
    },
    {
     "name": "stdout",
     "output_type": "stream",
     "text": [
      "Train Loss: 0.1185\n"
     ]
    },
    {
     "name": "stderr",
     "output_type": "stream",
     "text": [
      "100%|███████████████████████████████████████████████████████████████████████████████████| 88/88 [00:08<00:00, 10.18it/s]\n"
     ]
    },
    {
     "name": "stdout",
     "output_type": "stream",
     "text": [
      "Val Loss: 0.2633, Val Accuracy: 0.8917, Val AUC: 0.9689\n"
     ]
    },
    {
     "name": "stderr",
     "output_type": "stream",
     "text": [
      "Epoch 27/50: 100%|████████████████████████████████████████████████████████████████████| 483/483 [01:17<00:00,  6.24it/s]\n"
     ]
    },
    {
     "name": "stdout",
     "output_type": "stream",
     "text": [
      "Train Loss: 0.1274\n"
     ]
    },
    {
     "name": "stderr",
     "output_type": "stream",
     "text": [
      "100%|███████████████████████████████████████████████████████████████████████████████████| 88/88 [00:09<00:00,  9.71it/s]\n"
     ]
    },
    {
     "name": "stdout",
     "output_type": "stream",
     "text": [
      "Val Loss: 0.2206, Val Accuracy: 0.9145, Val AUC: 0.9707\n"
     ]
    },
    {
     "name": "stderr",
     "output_type": "stream",
     "text": [
      "Epoch 28/50: 100%|████████████████████████████████████████████████████████████████████| 483/483 [01:17<00:00,  6.26it/s]\n"
     ]
    },
    {
     "name": "stdout",
     "output_type": "stream",
     "text": [
      "Train Loss: 0.1175\n"
     ]
    },
    {
     "name": "stderr",
     "output_type": "stream",
     "text": [
      "100%|███████████████████████████████████████████████████████████████████████████████████| 88/88 [00:09<00:00,  9.71it/s]\n"
     ]
    },
    {
     "name": "stdout",
     "output_type": "stream",
     "text": [
      "Val Loss: 0.2395, Val Accuracy: 0.9003, Val AUC: 0.9688\n"
     ]
    },
    {
     "name": "stderr",
     "output_type": "stream",
     "text": [
      "Epoch 29/50: 100%|████████████████████████████████████████████████████████████████████| 483/483 [01:18<00:00,  6.19it/s]\n"
     ]
    },
    {
     "name": "stdout",
     "output_type": "stream",
     "text": [
      "Train Loss: 0.1181\n"
     ]
    },
    {
     "name": "stderr",
     "output_type": "stream",
     "text": [
      "100%|███████████████████████████████████████████████████████████████████████████████████| 88/88 [00:08<00:00,  9.85it/s]\n"
     ]
    },
    {
     "name": "stdout",
     "output_type": "stream",
     "text": [
      "Val Loss: 0.4339, Val Accuracy: 0.8604, Val AUC: 0.9663\n"
     ]
    },
    {
     "name": "stderr",
     "output_type": "stream",
     "text": [
      "Epoch 30/50: 100%|████████████████████████████████████████████████████████████████████| 483/483 [01:19<00:00,  6.07it/s]\n"
     ]
    },
    {
     "name": "stdout",
     "output_type": "stream",
     "text": [
      "Train Loss: 0.1236\n"
     ]
    },
    {
     "name": "stderr",
     "output_type": "stream",
     "text": [
      "100%|███████████████████████████████████████████████████████████████████████████████████| 88/88 [00:08<00:00, 10.17it/s]\n"
     ]
    },
    {
     "name": "stdout",
     "output_type": "stream",
     "text": [
      "Val Loss: 0.2842, Val Accuracy: 0.9031, Val AUC: 0.9673\n"
     ]
    },
    {
     "name": "stderr",
     "output_type": "stream",
     "text": [
      "Epoch 31/50: 100%|████████████████████████████████████████████████████████████████████| 483/483 [01:18<00:00,  6.12it/s]\n"
     ]
    },
    {
     "name": "stdout",
     "output_type": "stream",
     "text": [
      "Train Loss: 0.1145\n"
     ]
    },
    {
     "name": "stderr",
     "output_type": "stream",
     "text": [
      "100%|███████████████████████████████████████████████████████████████████████████████████| 88/88 [00:09<00:00,  9.55it/s]\n"
     ]
    },
    {
     "name": "stdout",
     "output_type": "stream",
     "text": [
      "Val Loss: 0.2539, Val Accuracy: 0.9031, Val AUC: 0.9678\n"
     ]
    },
    {
     "name": "stderr",
     "output_type": "stream",
     "text": [
      "Epoch 32/50: 100%|████████████████████████████████████████████████████████████████████| 483/483 [01:18<00:00,  6.19it/s]\n"
     ]
    },
    {
     "name": "stdout",
     "output_type": "stream",
     "text": [
      "Train Loss: 0.1144\n"
     ]
    },
    {
     "name": "stderr",
     "output_type": "stream",
     "text": [
      "100%|███████████████████████████████████████████████████████████████████████████████████| 88/88 [00:09<00:00,  9.67it/s]\n"
     ]
    },
    {
     "name": "stdout",
     "output_type": "stream",
     "text": [
      "Val Loss: 0.3114, Val Accuracy: 0.8917, Val AUC: 0.9665\n"
     ]
    },
    {
     "name": "stderr",
     "output_type": "stream",
     "text": [
      "Epoch 33/50: 100%|████████████████████████████████████████████████████████████████████| 483/483 [01:17<00:00,  6.25it/s]\n"
     ]
    },
    {
     "name": "stdout",
     "output_type": "stream",
     "text": [
      "Train Loss: 0.1168\n"
     ]
    },
    {
     "name": "stderr",
     "output_type": "stream",
     "text": [
      "100%|███████████████████████████████████████████████████████████████████████████████████| 88/88 [00:09<00:00,  9.68it/s]\n"
     ]
    },
    {
     "name": "stdout",
     "output_type": "stream",
     "text": [
      "Val Loss: 0.2294, Val Accuracy: 0.9060, Val AUC: 0.9692\n"
     ]
    },
    {
     "name": "stderr",
     "output_type": "stream",
     "text": [
      "Epoch 34/50: 100%|████████████████████████████████████████████████████████████████████| 483/483 [01:17<00:00,  6.24it/s]\n"
     ]
    },
    {
     "name": "stdout",
     "output_type": "stream",
     "text": [
      "Train Loss: 0.1119\n"
     ]
    },
    {
     "name": "stderr",
     "output_type": "stream",
     "text": [
      "100%|███████████████████████████████████████████████████████████████████████████████████| 88/88 [00:08<00:00,  9.85it/s]\n"
     ]
    },
    {
     "name": "stdout",
     "output_type": "stream",
     "text": [
      "Val Loss: 0.2949, Val Accuracy: 0.8917, Val AUC: 0.9690\n"
     ]
    },
    {
     "name": "stderr",
     "output_type": "stream",
     "text": [
      "Epoch 35/50: 100%|████████████████████████████████████████████████████████████████████| 483/483 [01:18<00:00,  6.13it/s]\n"
     ]
    },
    {
     "name": "stdout",
     "output_type": "stream",
     "text": [
      "Train Loss: 0.1041\n"
     ]
    },
    {
     "name": "stderr",
     "output_type": "stream",
     "text": [
      "100%|███████████████████████████████████████████████████████████████████████████████████| 88/88 [00:09<00:00,  9.62it/s]\n"
     ]
    },
    {
     "name": "stdout",
     "output_type": "stream",
     "text": [
      "Val Loss: 0.2459, Val Accuracy: 0.8946, Val AUC: 0.9667\n"
     ]
    },
    {
     "name": "stderr",
     "output_type": "stream",
     "text": [
      "Epoch 36/50: 100%|████████████████████████████████████████████████████████████████████| 483/483 [01:17<00:00,  6.22it/s]\n"
     ]
    },
    {
     "name": "stdout",
     "output_type": "stream",
     "text": [
      "Train Loss: 0.1134\n"
     ]
    },
    {
     "name": "stderr",
     "output_type": "stream",
     "text": [
      "100%|███████████████████████████████████████████████████████████████████████████████████| 88/88 [00:08<00:00, 10.17it/s]\n"
     ]
    },
    {
     "name": "stdout",
     "output_type": "stream",
     "text": [
      "Val Loss: 0.2504, Val Accuracy: 0.9088, Val AUC: 0.9676\n"
     ]
    },
    {
     "name": "stderr",
     "output_type": "stream",
     "text": [
      "Epoch 37/50: 100%|████████████████████████████████████████████████████████████████████| 483/483 [01:17<00:00,  6.23it/s]\n"
     ]
    },
    {
     "name": "stdout",
     "output_type": "stream",
     "text": [
      "Train Loss: 0.1017\n"
     ]
    },
    {
     "name": "stderr",
     "output_type": "stream",
     "text": [
      "100%|███████████████████████████████████████████████████████████████████████████████████| 88/88 [00:09<00:00,  9.58it/s]\n"
     ]
    },
    {
     "name": "stdout",
     "output_type": "stream",
     "text": [
      "Val Loss: 0.2958, Val Accuracy: 0.9031, Val AUC: 0.9691\n"
     ]
    },
    {
     "name": "stderr",
     "output_type": "stream",
     "text": [
      "Epoch 38/50: 100%|████████████████████████████████████████████████████████████████████| 483/483 [01:17<00:00,  6.23it/s]\n"
     ]
    },
    {
     "name": "stdout",
     "output_type": "stream",
     "text": [
      "Train Loss: 0.1020\n"
     ]
    },
    {
     "name": "stderr",
     "output_type": "stream",
     "text": [
      "100%|███████████████████████████████████████████████████████████████████████████████████| 88/88 [00:08<00:00, 10.14it/s]\n"
     ]
    },
    {
     "name": "stdout",
     "output_type": "stream",
     "text": [
      "Val Loss: 0.2689, Val Accuracy: 0.8974, Val AUC: 0.9660\n"
     ]
    },
    {
     "name": "stderr",
     "output_type": "stream",
     "text": [
      "Epoch 39/50: 100%|████████████████████████████████████████████████████████████████████| 483/483 [01:17<00:00,  6.21it/s]\n"
     ]
    },
    {
     "name": "stdout",
     "output_type": "stream",
     "text": [
      "Train Loss: 0.0908\n"
     ]
    },
    {
     "name": "stderr",
     "output_type": "stream",
     "text": [
      "100%|███████████████████████████████████████████████████████████████████████████████████| 88/88 [00:08<00:00, 10.18it/s]\n"
     ]
    },
    {
     "name": "stdout",
     "output_type": "stream",
     "text": [
      "Val Loss: 0.2667, Val Accuracy: 0.9145, Val AUC: 0.9690\n"
     ]
    },
    {
     "name": "stderr",
     "output_type": "stream",
     "text": [
      "Epoch 40/50: 100%|████████████████████████████████████████████████████████████████████| 483/483 [01:17<00:00,  6.24it/s]\n"
     ]
    },
    {
     "name": "stdout",
     "output_type": "stream",
     "text": [
      "Train Loss: 0.0904\n"
     ]
    },
    {
     "name": "stderr",
     "output_type": "stream",
     "text": [
      "100%|███████████████████████████████████████████████████████████████████████████████████| 88/88 [00:08<00:00, 10.16it/s]\n"
     ]
    },
    {
     "name": "stdout",
     "output_type": "stream",
     "text": [
      "Val Loss: 0.2923, Val Accuracy: 0.8946, Val AUC: 0.9657\n"
     ]
    },
    {
     "name": "stderr",
     "output_type": "stream",
     "text": [
      "Epoch 41/50: 100%|████████████████████████████████████████████████████████████████████| 483/483 [01:17<00:00,  6.25it/s]\n"
     ]
    },
    {
     "name": "stdout",
     "output_type": "stream",
     "text": [
      "Train Loss: 0.1127\n"
     ]
    },
    {
     "name": "stderr",
     "output_type": "stream",
     "text": [
      "100%|███████████████████████████████████████████████████████████████████████████████████| 88/88 [00:09<00:00,  9.71it/s]\n"
     ]
    },
    {
     "name": "stdout",
     "output_type": "stream",
     "text": [
      "Val Loss: 0.3504, Val Accuracy: 0.8889, Val AUC: 0.9655\n"
     ]
    },
    {
     "name": "stderr",
     "output_type": "stream",
     "text": [
      "Epoch 42/50: 100%|████████████████████████████████████████████████████████████████████| 483/483 [01:17<00:00,  6.23it/s]\n"
     ]
    },
    {
     "name": "stdout",
     "output_type": "stream",
     "text": [
      "Train Loss: 0.1024\n"
     ]
    },
    {
     "name": "stderr",
     "output_type": "stream",
     "text": [
      "100%|███████████████████████████████████████████████████████████████████████████████████| 88/88 [00:09<00:00,  9.69it/s]\n"
     ]
    },
    {
     "name": "stdout",
     "output_type": "stream",
     "text": [
      "Val Loss: 0.3856, Val Accuracy: 0.8775, Val AUC: 0.9603\n"
     ]
    },
    {
     "name": "stderr",
     "output_type": "stream",
     "text": [
      "Epoch 43/50: 100%|████████████████████████████████████████████████████████████████████| 483/483 [01:17<00:00,  6.24it/s]\n"
     ]
    },
    {
     "name": "stdout",
     "output_type": "stream",
     "text": [
      "Train Loss: 0.0958\n"
     ]
    },
    {
     "name": "stderr",
     "output_type": "stream",
     "text": [
      "100%|███████████████████████████████████████████████████████████████████████████████████| 88/88 [00:09<00:00,  9.70it/s]\n"
     ]
    },
    {
     "name": "stdout",
     "output_type": "stream",
     "text": [
      "Val Loss: 0.2768, Val Accuracy: 0.8974, Val AUC: 0.9646\n"
     ]
    },
    {
     "name": "stderr",
     "output_type": "stream",
     "text": [
      "Epoch 44/50: 100%|████████████████████████████████████████████████████████████████████| 483/483 [01:17<00:00,  6.20it/s]\n"
     ]
    },
    {
     "name": "stdout",
     "output_type": "stream",
     "text": [
      "Train Loss: 0.1116\n"
     ]
    },
    {
     "name": "stderr",
     "output_type": "stream",
     "text": [
      "100%|███████████████████████████████████████████████████████████████████████████████████| 88/88 [00:09<00:00,  9.42it/s]\n"
     ]
    },
    {
     "name": "stdout",
     "output_type": "stream",
     "text": [
      "Val Loss: 0.2386, Val Accuracy: 0.9031, Val AUC: 0.9677\n"
     ]
    },
    {
     "name": "stderr",
     "output_type": "stream",
     "text": [
      "Epoch 45/50: 100%|████████████████████████████████████████████████████████████████████| 483/483 [01:20<00:00,  5.97it/s]\n"
     ]
    },
    {
     "name": "stdout",
     "output_type": "stream",
     "text": [
      "Train Loss: 0.0867\n"
     ]
    },
    {
     "name": "stderr",
     "output_type": "stream",
     "text": [
      "100%|███████████████████████████████████████████████████████████████████████████████████| 88/88 [00:09<00:00,  9.47it/s]\n"
     ]
    },
    {
     "name": "stdout",
     "output_type": "stream",
     "text": [
      "Val Loss: 0.3487, Val Accuracy: 0.8974, Val AUC: 0.9626\n"
     ]
    },
    {
     "name": "stderr",
     "output_type": "stream",
     "text": [
      "Epoch 46/50: 100%|████████████████████████████████████████████████████████████████████| 483/483 [01:20<00:00,  5.99it/s]\n"
     ]
    },
    {
     "name": "stdout",
     "output_type": "stream",
     "text": [
      "Train Loss: 0.0968\n"
     ]
    },
    {
     "name": "stderr",
     "output_type": "stream",
     "text": [
      "100%|███████████████████████████████████████████████████████████████████████████████████| 88/88 [00:08<00:00, 10.19it/s]\n"
     ]
    },
    {
     "name": "stdout",
     "output_type": "stream",
     "text": [
      "Val Loss: 0.3408, Val Accuracy: 0.8803, Val AUC: 0.9596\n"
     ]
    },
    {
     "name": "stderr",
     "output_type": "stream",
     "text": [
      "Epoch 47/50: 100%|████████████████████████████████████████████████████████████████████| 483/483 [01:17<00:00,  6.25it/s]\n"
     ]
    },
    {
     "name": "stdout",
     "output_type": "stream",
     "text": [
      "Train Loss: 0.0972\n"
     ]
    },
    {
     "name": "stderr",
     "output_type": "stream",
     "text": [
      "100%|███████████████████████████████████████████████████████████████████████████████████| 88/88 [00:09<00:00,  9.62it/s]\n"
     ]
    },
    {
     "name": "stdout",
     "output_type": "stream",
     "text": [
      "Val Loss: 0.3042, Val Accuracy: 0.9117, Val AUC: 0.9655\n"
     ]
    },
    {
     "name": "stderr",
     "output_type": "stream",
     "text": [
      "Epoch 48/50: 100%|████████████████████████████████████████████████████████████████████| 483/483 [01:17<00:00,  6.24it/s]\n"
     ]
    },
    {
     "name": "stdout",
     "output_type": "stream",
     "text": [
      "Train Loss: 0.1003\n"
     ]
    },
    {
     "name": "stderr",
     "output_type": "stream",
     "text": [
      "100%|███████████████████████████████████████████████████████████████████████████████████| 88/88 [00:08<00:00, 10.13it/s]\n"
     ]
    },
    {
     "name": "stdout",
     "output_type": "stream",
     "text": [
      "Val Loss: 0.2916, Val Accuracy: 0.8946, Val AUC: 0.9615\n"
     ]
    },
    {
     "name": "stderr",
     "output_type": "stream",
     "text": [
      "Epoch 49/50: 100%|████████████████████████████████████████████████████████████████████| 483/483 [01:17<00:00,  6.24it/s]\n"
     ]
    },
    {
     "name": "stdout",
     "output_type": "stream",
     "text": [
      "Train Loss: 0.0876\n"
     ]
    },
    {
     "name": "stderr",
     "output_type": "stream",
     "text": [
      "100%|███████████████████████████████████████████████████████████████████████████████████| 88/88 [00:09<00:00,  9.69it/s]\n"
     ]
    },
    {
     "name": "stdout",
     "output_type": "stream",
     "text": [
      "Val Loss: 0.2734, Val Accuracy: 0.9031, Val AUC: 0.9661\n"
     ]
    },
    {
     "name": "stderr",
     "output_type": "stream",
     "text": [
      "Epoch 50/50: 100%|████████████████████████████████████████████████████████████████████| 483/483 [01:17<00:00,  6.25it/s]\n"
     ]
    },
    {
     "name": "stdout",
     "output_type": "stream",
     "text": [
      "Train Loss: 0.0888\n"
     ]
    },
    {
     "name": "stderr",
     "output_type": "stream",
     "text": [
      "100%|███████████████████████████████████████████████████████████████████████████████████| 88/88 [00:08<00:00, 10.13it/s]"
     ]
    },
    {
     "name": "stdout",
     "output_type": "stream",
     "text": [
      "Val Loss: 0.3004, Val Accuracy: 0.8974, Val AUC: 0.9639\n"
     ]
    },
    {
     "name": "stderr",
     "output_type": "stream",
     "text": [
      "\n"
     ]
    }
   ],
   "source": [
    "# Actual Training Loop\n",
    "train_loss_epoch = []\n",
    "test_loss_epoch = []\n",
    "auc = []\n",
    "for epoch in range(num_epochs):\n",
    "    train_loss = train(model, train_loader, optimizer, criterion, device, epoch)\n",
    "    print(f\"Train Loss: {train_loss:.4f}\")\n",
    "    val_loss, val_accuracy, val_auc = evaluate(model, val_loader, criterion, device)\n",
    "    print(f\"Val Loss: {val_loss:.4f}, Val Accuracy: {val_accuracy:.4f}, Val AUC: {val_auc:.4f}\")\n",
    "    train_loss_epoch.append(train_loss)\n",
    "    test_loss_epoch.append(val_loss)\n",
    "    auc.append(val_auc)"
   ]
  },
  {
   "cell_type": "code",
   "execution_count": 11,
   "id": "c4b3f402",
   "metadata": {},
   "outputs": [
    {
     "data": {
      "image/png": "[encoded data removed]",
      "text/plain": [
       "<Figure size 1000x600 with 1 Axes>"
      ]
     },
     "metadata": {},
     "output_type": "display_data"
    }
   ],
   "source": [
    "import matplotlib.pyplot as plt\n",
    "\n",
    "# Plot Loss vs. Epoch\n",
    "epochs = range(1, num_epochs + 1)\n",
    "\n",
    "plt.figure(figsize=(10, 6))\n",
    "plt.plot(epochs, train_loss_epoch, label='Training Loss')\n",
    "plt.plot(epochs, test_loss_epoch, label='Validation Loss')\n",
    "plt.plot(epochs, auc, label='auc')\n",
    "plt.xlabel('Epoch')\n",
    "plt.ylabel('Loss')\n",
    "plt.title('Loss vs. Epoch')\n",
    "plt.legend()\n",
    "plt.grid(True)\n",
    "plt.show()\n"
   ]
  },
  {
   "cell_type": "code",
   "execution_count": 12,
   "id": "608be86b",
   "metadata": {},
   "outputs": [
    {
     "name": "stderr",
     "output_type": "stream",
     "text": [
      "100%|███████████████████████████████████████████████████████████████████████████████| 2122/2122 [04:41<00:00,  7.54it/s]"
     ]
    },
    {
     "name": "stdout",
     "output_type": "stream",
     "text": [
      "Val Loss: 0.3867, Val Accuracy: 0.8829, Val AUC: 0.9473\n"
     ]
    },
    {
     "name": "stderr",
     "output_type": "stream",
     "text": [
      "\n"
     ]
    }
   ],
   "source": [
    "val_loss, val_accuracy, val_auc = evaluate(model, test_loader, criterion, device)\n",
    "print(f\"Val Loss: {val_loss:.4f}, Val Accuracy: {val_accuracy:.4f}, Val AUC: {val_auc:.4f}\")"
   ]
  },
  {
   "cell_type": "code",
   "execution_count": 13,
   "id": "a2abce0b",
   "metadata": {},
   "outputs": [
    {
     "data": {
      "text/plain": [
       "8488"
      ]
     },
     "execution_count": 13,
     "metadata": {},
     "output_type": "execute_result"
    }
   ],
   "source": [
    "len(test_loader.dataset)"
   ]
  },
  {
   "cell_type": "code",
   "execution_count": null,
   "id": "5c1acd6b",
   "metadata": {},
   "outputs": [],
   "source": []
  }
 ],
 "metadata": {
  "kernelspec": {
   "display_name": "Python 3 (ipykernel)",
   "language": "python",
   "name": "python3"
  },
  "language_info": {
   "codemirror_mode": {
    "name": "ipython",
    "version": 3
   },
   "file_extension": ".py",
   "mimetype": "text/x-python",
   "name": "python",
   "nbconvert_exporter": "python",
   "pygments_lexer": "ipython3",
   "version": "3.10.11"
  }
 },
 "nbformat": 4,
 "nbformat_minor": 5
}
