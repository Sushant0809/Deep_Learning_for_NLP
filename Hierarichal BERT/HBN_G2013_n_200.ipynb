{
 "cells": [
  {
   "cell_type": "code",
   "execution_count": 1,
   "id": "d9ff1696",
   "metadata": {},
   "outputs": [
    {
     "name": "stderr",
     "output_type": "stream",
     "text": [
      "2023-10-11 14:16:04.377463: I tensorflow/core/platform/cpu_feature_guard.cc:193] This TensorFlow binary is optimized with oneAPI Deep Neural Network Library (oneDNN) to use the following CPU instructions in performance-critical operations:  SSE4.1 SSE4.2 AVX AVX2 FMA\n",
      "To enable them in other operations, rebuild TensorFlow with the appropriate compiler flags.\n"
     ]
    }
   ],
   "source": [
    "import torch\n",
    "import torch.nn as nn\n",
    "import torch.nn.functional as F\n",
    "from transformers import RobertaModel, AdamW\n",
    "from transformers import RobertaTokenizer\n",
    "import torch.optim as optim\n",
    "from transformers import RobertaTokenizer\n",
    "from torch.utils.data import DataLoader, TensorDataset\n",
    "import pandas as pd\n",
    "from torch.utils.data import Dataset, DataLoader\n",
    "import nltk\n",
    "from sklearn.model_selection import train_test_split\n",
    "from sklearn.metrics import roc_auc_score\n",
    "from tqdm import tqdm\n",
    "from nltk.tokenize import sent_tokenize\n",
    "import numpy as np\n",
    "import os"
   ]
  },
  {
   "cell_type": "code",
   "execution_count": 2,
   "id": "38d5c0f5",
   "metadata": {},
   "outputs": [],
   "source": [
    "class BertAtt(nn.Module):\n",
    "    def __init__(self, d_e, h):\n",
    "        super(BertAtt, self).__init__()\n",
    "        self.num_heads = h\n",
    "        self.d_e = d_e\n",
    "        self.head_dim = d_e // h\n",
    "        \n",
    "        self.q = nn.Linear(d_e, d_e)\n",
    "        self.k = nn.Linear(d_e, d_e)\n",
    "        self.v = nn.Linear(d_e, d_e)\n",
    "        \n",
    "        self.o = nn.Linear(d_e, d_e)\n",
    "        self.layer_norm = nn.LayerNorm(d_e)\n",
    "        \n",
    "        self.dropout = nn.Dropout(dropout_prob)\n",
    "        \n",
    "    def forward(self, x):\n",
    "        Q = self.q(x)\n",
    "        K = self.k(x)\n",
    "        V = self.v(x)\n",
    "        \n",
    "        Q = Q.view(Q.size(0), -1, self.num_heads, self.head_dim).permute(0, 2, 1, 3)\n",
    "        K = K.view(K.size(0), -1, self.num_heads, self.head_dim).permute(0, 2, 1, 3)\n",
    "        V = V.view(V.size(0), -1, self.num_heads, self.head_dim).permute(0, 2, 1, 3)\n",
    "        \n",
    "        \n",
    "        attention_scores = torch.matmul(Q, K.permute(0, 1, 3, 2)) / (self.d_e**0.5)\n",
    "        attention_probs = F.softmax(attention_scores, dim=-1)\n",
    "        context = torch.matmul(attention_probs, V)\n",
    "        \n",
    "        context = context.permute(0, 2, 1, 3).contiguous()\n",
    "        context = context.view(context.size(0), -1, self.num_heads*self.head_dim)\n",
    "        context = self.dropout(context)\n",
    "        context = self.o(context)\n",
    "        \n",
    "        return self.layer_norm(x + context)\n",
    "\n",
    "class HBN(nn.Module):\n",
    "    def __init__(self, d_e, h, m, n, y, dropout_prob=0.01, max_sentences=114):\n",
    "        super(HBN, self).__init__()\n",
    "        \n",
    "        # Token-level Roberta encoder\n",
    "        self.roberta = RobertaModel.from_pretrained(\"roberta-base\")\n",
    "        \n",
    "        # Freeze Roberta weights\n",
    "        for param in self.roberta.parameters():\n",
    "            param.requires_grad = False\n",
    "        \n",
    "        # Sentence-level BERT Encoder\n",
    "        self.bertatt = BertAtt(d_e, h)\n",
    "        \n",
    "        self.ff = nn.Sequential(\n",
    "            nn.Linear(d_e, n*d_e),\n",
    "            nn.ReLU(),\n",
    "            nn.Linear(n*d_e, d_e)\n",
    "        )\n",
    "        self.layer_norm = nn.LayerNorm(d_e)\n",
    "        \n",
    "        self.multiple_bert_layers = nn.ModuleList([BertAtt(d_e, h) for _ in range(m)])\n",
    "        \n",
    "        self.transformation = nn.Linear(d_e, d_e)\n",
    "        \n",
    "        self.dropout = nn.Dropout(dropout_prob)\n",
    "        \n",
    "        # Prediction Layer\n",
    "        self.predict = nn.Linear(d_e, y)\n",
    "        \n",
    "    def forward(self, input_ids, attention_mask):\n",
    "#         print(input_ids.shape)\n",
    "        # Token-level Roberta encoding\n",
    "        roberta_outputs = self.roberta(input_ids=input_ids, attention_mask=attention_mask)[0]  # [batch_size, seq_length, hidden_size]\n",
    "        \n",
    "        # Average pooling to get sentence embeddings\n",
    "        D = torch.mean(roberta_outputs, dim=1)  # [batch_size, hidden_size]\n",
    "        \n",
    "        out = self.bertatt(D)\n",
    "        out = self.layer_norm(out + F.relu(self.ff(out)))\n",
    "        \n",
    "        Z = out\n",
    "        for layer in self.multiple_bert_layers:\n",
    "            Z = layer(Z)\n",
    "        \n",
    "        S = torch.tanh(torch.mean(Z, dim=1).mm(self.transformation.weight))\n",
    "        S = self.dropout(S)\n",
    "        scores = S.mm(self.predict.weight.t())\n",
    "        \n",
    "        return scores\n"
   ]
  },
  {
   "cell_type": "code",
   "execution_count": 3,
   "id": "e68208cc",
   "metadata": {},
   "outputs": [],
   "source": [
    "# Parameters\n",
    "d_e = 768  # Assuming you are using 'roberta-base'\n",
    "h = 1     # Number of attention heads\n",
    "m = 4      # Number of identical BERT layers\n",
    "n = 4      # Scaling factor for feed-forward network\n",
    "y = 2      # Number of classes, set this to your actual number\n",
    "dropout_prob = 0.01 #dropout probability\n",
    "num_train_samples = 200\n",
    "num_epochs = 50\n",
    "max_length = 128"
   ]
  },
  {
   "cell_type": "code",
   "execution_count": 4,
   "id": "37bca770",
   "metadata": {},
   "outputs": [
    {
     "name": "stdout",
     "output_type": "stream",
     "text": [
      "                                               content  label\n",
      "0    Donor attacks Blair-Brown 'feud'\\n\\nThe report...      0\n",
      "1    Kennedy looks to election gains\\n\\nThey may no...      0\n",
      "2    Assembly ballot papers 'missing'\\n\\nHundreds o...      0\n",
      "3    Howard rebuts asylum criticisms\\n\\nTory leader...      0\n",
      "4    Palestinian economy in decline\\n\\nDespite a sh...      1\n",
      "..                                                 ...    ...\n",
      "593  BP surges ahead on high oil price\\n\\nOil giant...      1\n",
      "594  Borders rail link campaign rally\\n\\nCampaigner...      0\n",
      "595  GSK aims to stop Aids profiteers\\n\\nOne of the...      1\n",
      "596  Clarke defends terror detentions\\n\\nThe home s...      0\n",
      "597  Commons hunt protest charges\\n\\nEight proteste...      0\n",
      "\n",
      "[598 rows x 2 columns]\n",
      "\n",
      "Maximum number of sentences across all files: 248\n"
     ]
    }
   ],
   "source": [
    "import os\n",
    "import pandas as pd\n",
    "from nltk.tokenize import sent_tokenize\n",
    "\n",
    "folder1_path = 'sample-text/sample-text/politics/'\n",
    "folder2_path = 'sample-text/sample-text/business/'\n",
    "\n",
    "# Fetch file names from both folders\n",
    "folder1_files = [f for f in os.listdir(folder1_path) if f.endswith('.txt')]\n",
    "folder2_files = [f for f in os.listdir(folder2_path) if f.endswith('.txt')]\n",
    "\n",
    "combined_data = []\n",
    "num_sent=[]\n",
    "\n",
    "# Read and label files from folder1 and count sentences\n",
    "for file in folder1_files:\n",
    "    with open(os.path.join(folder1_path, file), 'r') as f:\n",
    "        content = f.read()\n",
    "        num_sentences = len(sent_tokenize(content))\n",
    "        combined_data.append((content, 0))\n",
    "        num_sent.append(num_sentences)\n",
    "\n",
    "# Read and label files from folder2 and count sentences\n",
    "for file in folder2_files:\n",
    "    with open(os.path.join(folder2_path, file), 'r') as f:\n",
    "        content = f.read()\n",
    "        num_sentences = len(sent_tokenize(content))\n",
    "        combined_data.append((content, 1))\n",
    "        num_sent.append(num_sentences)\n",
    "\n",
    "# Convert combined_data to DataFrame\n",
    "df = pd.DataFrame(combined_data, columns=['content', 'label'])\n",
    "\n",
    "# Shuffle the DataFrame\n",
    "data = df.sample(frac=1).reset_index(drop=True)\n",
    "\n",
    "# Display the shuffled DataFrame\n",
    "print(data)\n",
    "\n",
    "# Find out the maximum number of sentences across all files\n",
    "max_sentences = max(num_sent)\n",
    "print(f\"\\nMaximum number of sentences across all files: {max_sentences}\")\n"
   ]
  },
  {
   "cell_type": "code",
   "execution_count": 5,
   "id": "36637209",
   "metadata": {},
   "outputs": [],
   "source": [
    "# len(test_indices),len(train_indices),len(val_indices)"
   ]
  },
  {
   "cell_type": "code",
   "execution_count": 6,
   "id": "7373fe13",
   "metadata": {},
   "outputs": [],
   "source": [
    "# len(reviews_sentences)"
   ]
  },
  {
   "cell_type": "code",
   "execution_count": 7,
   "id": "1faa950a",
   "metadata": {},
   "outputs": [
    {
     "name": "stdout",
     "output_type": "stream",
     "text": [
      "torch.Size([4, 128]) torch.Size([4, 128]) torch.Size([4])\n",
      "torch.Size([4, 128]) torch.Size([4, 128]) torch.Size([4])\n",
      "torch.Size([4, 128]) torch.Size([4, 128]) torch.Size([4])\n",
      "torch.Size([4, 128]) torch.Size([4, 128]) torch.Size([4])\n",
      "torch.Size([4, 128]) torch.Size([4, 128]) torch.Size([4])\n",
      "torch.Size([4, 128]) torch.Size([4, 128]) torch.Size([4])\n",
      "torch.Size([4, 128]) torch.Size([4, 128]) torch.Size([4])\n",
      "torch.Size([4, 128]) torch.Size([4, 128]) torch.Size([4])\n",
      "torch.Size([4, 128]) torch.Size([4, 128]) torch.Size([4])\n",
      "torch.Size([4, 128]) torch.Size([4, 128]) torch.Size([4])\n",
      "torch.Size([4, 128]) torch.Size([4, 128]) torch.Size([4])\n",
      "torch.Size([4, 128]) torch.Size([4, 128]) torch.Size([4])\n",
      "torch.Size([4, 128]) torch.Size([4, 128]) torch.Size([4])\n",
      "torch.Size([4, 128]) torch.Size([4, 128]) torch.Size([4])\n",
      "torch.Size([4, 128]) torch.Size([4, 128]) torch.Size([4])\n",
      "torch.Size([4, 128]) torch.Size([4, 128]) torch.Size([4])\n",
      "torch.Size([4, 128]) torch.Size([4, 128]) torch.Size([4])\n",
      "torch.Size([4, 128]) torch.Size([4, 128]) torch.Size([4])\n",
      "torch.Size([4, 128]) torch.Size([4, 128]) torch.Size([4])\n",
      "torch.Size([4, 128]) torch.Size([4, 128]) torch.Size([4])\n",
      "torch.Size([4, 128]) torch.Size([4, 128]) torch.Size([4])\n",
      "torch.Size([4, 128]) torch.Size([4, 128]) torch.Size([4])\n",
      "torch.Size([4, 128]) torch.Size([4, 128]) torch.Size([4])\n",
      "torch.Size([4, 128]) torch.Size([4, 128]) torch.Size([4])\n",
      "torch.Size([4, 128]) torch.Size([4, 128]) torch.Size([4])\n",
      "torch.Size([4, 128]) torch.Size([4, 128]) torch.Size([4])\n",
      "torch.Size([4, 128]) torch.Size([4, 128]) torch.Size([4])\n",
      "torch.Size([4, 128]) torch.Size([4, 128]) torch.Size([4])\n",
      "torch.Size([4, 128]) torch.Size([4, 128]) torch.Size([4])\n",
      "torch.Size([4, 128]) torch.Size([4, 128]) torch.Size([4])\n",
      "torch.Size([4, 128]) torch.Size([4, 128]) torch.Size([4])\n",
      "torch.Size([4, 128]) torch.Size([4, 128]) torch.Size([4])\n",
      "torch.Size([4, 128]) torch.Size([4, 128]) torch.Size([4])\n",
      "torch.Size([4, 128]) torch.Size([4, 128]) torch.Size([4])\n",
      "torch.Size([4, 128]) torch.Size([4, 128]) torch.Size([4])\n",
      "torch.Size([4, 128]) torch.Size([4, 128]) torch.Size([4])\n",
      "torch.Size([4, 128]) torch.Size([4, 128]) torch.Size([4])\n",
      "torch.Size([4, 128]) torch.Size([4, 128]) torch.Size([4])\n",
      "torch.Size([4, 128]) torch.Size([4, 128]) torch.Size([4])\n",
      "torch.Size([4, 128]) torch.Size([4, 128]) torch.Size([4])\n",
      "torch.Size([4, 128]) torch.Size([4, 128]) torch.Size([4])\n",
      "torch.Size([4, 128]) torch.Size([4, 128]) torch.Size([4])\n",
      "torch.Size([4, 128]) torch.Size([4, 128]) torch.Size([4])\n",
      "torch.Size([4, 128]) torch.Size([4, 128]) torch.Size([4])\n",
      "torch.Size([4, 128]) torch.Size([4, 128]) torch.Size([4])\n",
      "torch.Size([4, 128]) torch.Size([4, 128]) torch.Size([4])\n",
      "torch.Size([4, 128]) torch.Size([4, 128]) torch.Size([4])\n",
      "torch.Size([4, 128]) torch.Size([4, 128]) torch.Size([4])\n",
      "torch.Size([4, 128]) torch.Size([4, 128]) torch.Size([4])\n",
      "torch.Size([4, 128]) torch.Size([4, 128]) torch.Size([4])\n",
      "torch.Size([4, 128]) torch.Size([4, 128]) torch.Size([4])\n",
      "torch.Size([4, 128]) torch.Size([4, 128]) torch.Size([4])\n",
      "torch.Size([4, 128]) torch.Size([4, 128]) torch.Size([4])\n",
      "torch.Size([4, 128]) torch.Size([4, 128]) torch.Size([4])\n",
      "torch.Size([4, 128]) torch.Size([4, 128]) torch.Size([4])\n",
      "torch.Size([4, 128]) torch.Size([4, 128]) torch.Size([4])\n",
      "torch.Size([4, 128]) torch.Size([4, 128]) torch.Size([4])\n",
      "torch.Size([4, 128]) torch.Size([4, 128]) torch.Size([4])\n",
      "torch.Size([4, 128]) torch.Size([4, 128]) torch.Size([4])\n",
      "torch.Size([4, 128]) torch.Size([4, 128]) torch.Size([4])\n",
      "torch.Size([4, 128]) torch.Size([4, 128]) torch.Size([4])\n",
      "torch.Size([4, 128]) torch.Size([4, 128]) torch.Size([4])\n",
      "torch.Size([4, 128]) torch.Size([4, 128]) torch.Size([4])\n",
      "torch.Size([4, 128]) torch.Size([4, 128]) torch.Size([4])\n",
      "torch.Size([4, 128]) torch.Size([4, 128]) torch.Size([4])\n",
      "torch.Size([4, 128]) torch.Size([4, 128]) torch.Size([4])\n",
      "torch.Size([4, 128]) torch.Size([4, 128]) torch.Size([4])\n",
      "torch.Size([4, 128]) torch.Size([4, 128]) torch.Size([4])\n",
      "torch.Size([4, 128]) torch.Size([4, 128]) torch.Size([4])\n",
      "torch.Size([4, 128]) torch.Size([4, 128]) torch.Size([4])\n",
      "torch.Size([4, 128]) torch.Size([4, 128]) torch.Size([4])\n",
      "torch.Size([4, 128]) torch.Size([4, 128]) torch.Size([4])\n",
      "torch.Size([4, 128]) torch.Size([4, 128]) torch.Size([4])\n",
      "torch.Size([4, 128]) torch.Size([4, 128]) torch.Size([4])\n",
      "torch.Size([4, 128]) torch.Size([4, 128]) torch.Size([4])\n",
      "torch.Size([4, 128]) torch.Size([4, 128]) torch.Size([4])\n",
      "torch.Size([4, 128]) torch.Size([4, 128]) torch.Size([4])\n",
      "torch.Size([4, 128]) torch.Size([4, 128]) torch.Size([4])\n",
      "torch.Size([4, 128]) torch.Size([4, 128]) torch.Size([4])\n",
      "torch.Size([4, 128]) torch.Size([4, 128]) torch.Size([4])\n",
      "torch.Size([4, 128]) torch.Size([4, 128]) torch.Size([4])\n",
      "torch.Size([4, 128]) torch.Size([4, 128]) torch.Size([4])\n",
      "torch.Size([4, 128]) torch.Size([4, 128]) torch.Size([4])\n",
      "torch.Size([4, 128]) torch.Size([4, 128]) torch.Size([4])\n",
      "torch.Size([4, 128]) torch.Size([4, 128]) torch.Size([4])\n",
      "torch.Size([4, 128]) torch.Size([4, 128]) torch.Size([4])\n",
      "torch.Size([4, 128]) torch.Size([4, 128]) torch.Size([4])\n",
      "torch.Size([4, 128]) torch.Size([4, 128]) torch.Size([4])\n",
      "torch.Size([4, 128]) torch.Size([4, 128]) torch.Size([4])\n",
      "torch.Size([4, 128]) torch.Size([4, 128]) torch.Size([4])\n",
      "torch.Size([4, 128]) torch.Size([4, 128]) torch.Size([4])\n",
      "torch.Size([4, 128]) torch.Size([4, 128]) torch.Size([4])\n",
      "torch.Size([4, 128]) torch.Size([4, 128]) torch.Size([4])\n",
      "torch.Size([4, 128]) torch.Size([4, 128]) torch.Size([4])\n",
      "torch.Size([4, 128]) torch.Size([4, 128]) torch.Size([4])\n",
      "torch.Size([4, 128]) torch.Size([4, 128]) torch.Size([4])\n",
      "torch.Size([4, 128]) torch.Size([4, 128]) torch.Size([4])\n",
      "torch.Size([4, 128]) torch.Size([4, 128]) torch.Size([4])\n",
      "torch.Size([4, 128]) torch.Size([4, 128]) torch.Size([4])\n",
      "torch.Size([4, 128]) torch.Size([4, 128]) torch.Size([4])\n",
      "torch.Size([4, 128]) torch.Size([4, 128]) torch.Size([4])\n",
      "torch.Size([4, 128]) torch.Size([4, 128]) torch.Size([4])\n",
      "torch.Size([4, 128]) torch.Size([4, 128]) torch.Size([4])\n",
      "torch.Size([4, 128]) torch.Size([4, 128]) torch.Size([4])\n",
      "torch.Size([4, 128]) torch.Size([4, 128]) torch.Size([4])\n",
      "torch.Size([4, 128]) torch.Size([4, 128]) torch.Size([4])\n",
      "torch.Size([4, 128]) torch.Size([4, 128]) torch.Size([4])\n",
      "torch.Size([4, 128]) torch.Size([4, 128]) torch.Size([4])\n",
      "torch.Size([4, 128]) torch.Size([4, 128]) torch.Size([4])\n",
      "torch.Size([4, 128]) torch.Size([4, 128]) torch.Size([4])\n",
      "torch.Size([4, 128]) torch.Size([4, 128]) torch.Size([4])\n",
      "torch.Size([4, 128]) torch.Size([4, 128]) torch.Size([4])\n",
      "torch.Size([4, 128]) torch.Size([4, 128]) torch.Size([4])\n",
      "torch.Size([4, 128]) torch.Size([4, 128]) torch.Size([4])\n",
      "torch.Size([4, 128]) torch.Size([4, 128]) torch.Size([4])\n",
      "torch.Size([4, 128]) torch.Size([4, 128]) torch.Size([4])\n",
      "torch.Size([4, 128]) torch.Size([4, 128]) torch.Size([4])\n",
      "torch.Size([4, 128]) torch.Size([4, 128]) torch.Size([4])\n",
      "torch.Size([4, 128]) torch.Size([4, 128]) torch.Size([4])\n",
      "torch.Size([4, 128]) torch.Size([4, 128]) torch.Size([4])\n",
      "torch.Size([4, 128]) torch.Size([4, 128]) torch.Size([4])\n",
      "torch.Size([4, 128]) torch.Size([4, 128]) torch.Size([4])\n",
      "torch.Size([4, 128]) torch.Size([4, 128]) torch.Size([4])\n",
      "torch.Size([4, 128]) torch.Size([4, 128]) torch.Size([4])\n",
      "torch.Size([4, 128]) torch.Size([4, 128]) torch.Size([4])\n",
      "torch.Size([4, 128]) torch.Size([4, 128]) torch.Size([4])\n",
      "torch.Size([4, 128]) torch.Size([4, 128]) torch.Size([4])\n",
      "torch.Size([4, 128]) torch.Size([4, 128]) torch.Size([4])\n",
      "torch.Size([4, 128]) torch.Size([4, 128]) torch.Size([4])\n",
      "torch.Size([4, 128]) torch.Size([4, 128]) torch.Size([4])\n",
      "torch.Size([4, 128]) torch.Size([4, 128]) torch.Size([4])\n",
      "torch.Size([4, 128]) torch.Size([4, 128]) torch.Size([4])\n",
      "torch.Size([4, 128]) torch.Size([4, 128]) torch.Size([4])\n",
      "torch.Size([4, 128]) torch.Size([4, 128]) torch.Size([4])\n",
      "torch.Size([4, 128]) torch.Size([4, 128]) torch.Size([4])\n",
      "torch.Size([4, 128]) torch.Size([4, 128]) torch.Size([4])\n",
      "torch.Size([4, 128]) torch.Size([4, 128]) torch.Size([4])\n",
      "torch.Size([4, 128]) torch.Size([4, 128]) torch.Size([4])\n",
      "torch.Size([4, 128]) torch.Size([4, 128]) torch.Size([4])\n",
      "torch.Size([4, 128]) torch.Size([4, 128]) torch.Size([4])\n",
      "torch.Size([4, 128]) torch.Size([4, 128]) torch.Size([4])\n",
      "torch.Size([4, 128]) torch.Size([4, 128]) torch.Size([4])\n",
      "torch.Size([4, 128]) torch.Size([4, 128]) torch.Size([4])\n",
      "torch.Size([4, 128]) torch.Size([4, 128]) torch.Size([4])\n",
      "torch.Size([4, 128]) torch.Size([4, 128]) torch.Size([4])\n",
      "torch.Size([4, 128]) torch.Size([4, 128]) torch.Size([4])\n",
      "torch.Size([4, 128]) torch.Size([4, 128]) torch.Size([4])\n",
      "torch.Size([4, 128]) torch.Size([4, 128]) torch.Size([4])\n",
      "torch.Size([4, 128]) torch.Size([4, 128]) torch.Size([4])\n",
      "torch.Size([4, 128]) torch.Size([4, 128]) torch.Size([4])\n",
      "torch.Size([4, 128]) torch.Size([4, 128]) torch.Size([4])\n",
      "torch.Size([4, 128]) torch.Size([4, 128]) torch.Size([4])\n",
      "torch.Size([4, 128]) torch.Size([4, 128]) torch.Size([4])\n",
      "torch.Size([4, 128]) torch.Size([4, 128]) torch.Size([4])\n",
      "torch.Size([4, 128]) torch.Size([4, 128]) torch.Size([4])\n",
      "torch.Size([4, 128]) torch.Size([4, 128]) torch.Size([4])\n",
      "torch.Size([4, 128]) torch.Size([4, 128]) torch.Size([4])\n",
      "torch.Size([4, 128]) torch.Size([4, 128]) torch.Size([4])\n",
      "torch.Size([4, 128]) torch.Size([4, 128]) torch.Size([4])\n",
      "torch.Size([4, 128]) torch.Size([4, 128]) torch.Size([4])\n",
      "torch.Size([4, 128]) torch.Size([4, 128]) torch.Size([4])\n",
      "torch.Size([4, 128]) torch.Size([4, 128]) torch.Size([4])\n",
      "torch.Size([4, 128]) torch.Size([4, 128]) torch.Size([4])\n",
      "torch.Size([4, 128]) torch.Size([4, 128]) torch.Size([4])\n",
      "torch.Size([4, 128]) torch.Size([4, 128]) torch.Size([4])\n",
      "torch.Size([4, 128]) torch.Size([4, 128]) torch.Size([4])\n",
      "torch.Size([4, 128]) torch.Size([4, 128]) torch.Size([4])\n",
      "torch.Size([4, 128]) torch.Size([4, 128]) torch.Size([4])\n",
      "torch.Size([4, 128]) torch.Size([4, 128]) torch.Size([4])\n",
      "torch.Size([4, 128]) torch.Size([4, 128]) torch.Size([4])\n",
      "torch.Size([4, 128]) torch.Size([4, 128]) torch.Size([4])\n",
      "torch.Size([4, 128]) torch.Size([4, 128]) torch.Size([4])\n",
      "torch.Size([4, 128]) torch.Size([4, 128]) torch.Size([4])\n",
      "torch.Size([4, 128]) torch.Size([4, 128]) torch.Size([4])\n",
      "torch.Size([4, 128]) torch.Size([4, 128]) torch.Size([4])\n",
      "torch.Size([4, 128]) torch.Size([4, 128]) torch.Size([4])\n",
      "torch.Size([4, 128]) torch.Size([4, 128]) torch.Size([4])\n",
      "torch.Size([4, 128]) torch.Size([4, 128]) torch.Size([4])\n",
      "torch.Size([4, 128]) torch.Size([4, 128]) torch.Size([4])\n",
      "torch.Size([4, 128]) torch.Size([4, 128]) torch.Size([4])\n",
      "torch.Size([4, 128]) torch.Size([4, 128]) torch.Size([4])\n",
      "torch.Size([4, 128]) torch.Size([4, 128]) torch.Size([4])\n",
      "torch.Size([4, 128]) torch.Size([4, 128]) torch.Size([4])\n",
      "torch.Size([4, 128]) torch.Size([4, 128]) torch.Size([4])\n",
      "torch.Size([4, 128]) torch.Size([4, 128]) torch.Size([4])\n",
      "torch.Size([4, 128]) torch.Size([4, 128]) torch.Size([4])\n",
      "torch.Size([4, 128]) torch.Size([4, 128]) torch.Size([4])\n",
      "torch.Size([4, 128]) torch.Size([4, 128]) torch.Size([4])\n",
      "torch.Size([4, 128]) torch.Size([4, 128]) torch.Size([4])\n",
      "torch.Size([4, 128]) torch.Size([4, 128]) torch.Size([4])\n",
      "torch.Size([4, 128]) torch.Size([4, 128]) torch.Size([4])\n",
      "torch.Size([4, 128]) torch.Size([4, 128]) torch.Size([4])\n",
      "torch.Size([4, 128]) torch.Size([4, 128]) torch.Size([4])\n",
      "torch.Size([4, 128]) torch.Size([4, 128]) torch.Size([4])\n",
      "torch.Size([4, 128]) torch.Size([4, 128]) torch.Size([4])\n",
      "torch.Size([4, 128]) torch.Size([4, 128]) torch.Size([4])\n",
      "torch.Size([4, 128]) torch.Size([4, 128]) torch.Size([4])\n",
      "torch.Size([4, 128]) torch.Size([4, 128]) torch.Size([4])\n",
      "torch.Size([4, 128]) torch.Size([4, 128]) torch.Size([4])\n",
      "torch.Size([4, 128]) torch.Size([4, 128]) torch.Size([4])\n",
      "torch.Size([4, 128]) torch.Size([4, 128]) torch.Size([4])\n",
      "torch.Size([4, 128]) torch.Size([4, 128]) torch.Size([4])\n",
      "torch.Size([4, 128]) torch.Size([4, 128]) torch.Size([4])\n",
      "torch.Size([4, 128]) torch.Size([4, 128]) torch.Size([4])\n",
      "torch.Size([4, 128]) torch.Size([4, 128]) torch.Size([4])\n",
      "torch.Size([4, 128]) torch.Size([4, 128]) torch.Size([4])\n",
      "torch.Size([4, 128]) torch.Size([4, 128]) torch.Size([4])\n",
      "torch.Size([4, 128]) torch.Size([4, 128]) torch.Size([4])\n",
      "torch.Size([4, 128]) torch.Size([4, 128]) torch.Size([4])\n",
      "torch.Size([4, 128]) torch.Size([4, 128]) torch.Size([4])\n",
      "torch.Size([4, 128]) torch.Size([4, 128]) torch.Size([4])\n",
      "torch.Size([4, 128]) torch.Size([4, 128]) torch.Size([4])\n",
      "torch.Size([4, 128]) torch.Size([4, 128]) torch.Size([4])\n",
      "torch.Size([4, 128]) torch.Size([4, 128]) torch.Size([4])\n",
      "torch.Size([4, 128]) torch.Size([4, 128]) torch.Size([4])\n",
      "torch.Size([4, 128]) torch.Size([4, 128]) torch.Size([4])\n",
      "torch.Size([4, 128]) torch.Size([4, 128]) torch.Size([4])\n",
      "torch.Size([4, 128]) torch.Size([4, 128]) torch.Size([4])\n",
      "torch.Size([4, 128]) torch.Size([4, 128]) torch.Size([4])\n",
      "torch.Size([4, 128]) torch.Size([4, 128]) torch.Size([4])\n",
      "torch.Size([4, 128]) torch.Size([4, 128]) torch.Size([4])\n",
      "torch.Size([4, 128]) torch.Size([4, 128]) torch.Size([4])\n",
      "torch.Size([4, 128]) torch.Size([4, 128]) torch.Size([4])\n",
      "torch.Size([4, 128]) torch.Size([4, 128]) torch.Size([4])\n",
      "torch.Size([4, 128]) torch.Size([4, 128]) torch.Size([4])\n",
      "torch.Size([4, 128]) torch.Size([4, 128]) torch.Size([4])\n",
      "torch.Size([4, 128]) torch.Size([4, 128]) torch.Size([4])\n",
      "torch.Size([4, 128]) torch.Size([4, 128]) torch.Size([4])\n",
      "torch.Size([4, 128]) torch.Size([4, 128]) torch.Size([4])\n",
      "torch.Size([4, 128]) torch.Size([4, 128]) torch.Size([4])\n",
      "torch.Size([4, 128]) torch.Size([4, 128]) torch.Size([4])\n",
      "torch.Size([4, 128]) torch.Size([4, 128]) torch.Size([4])\n",
      "torch.Size([4, 128]) torch.Size([4, 128]) torch.Size([4])\n",
      "torch.Size([4, 128]) torch.Size([4, 128]) torch.Size([4])\n",
      "torch.Size([4, 128]) torch.Size([4, 128]) torch.Size([4])\n",
      "torch.Size([4, 128]) torch.Size([4, 128]) torch.Size([4])\n",
      "torch.Size([4, 128]) torch.Size([4, 128]) torch.Size([4])\n",
      "torch.Size([4, 128]) torch.Size([4, 128]) torch.Size([4])\n",
      "torch.Size([4, 128]) torch.Size([4, 128]) torch.Size([4])\n",
      "torch.Size([4, 128]) torch.Size([4, 128]) torch.Size([4])\n",
      "torch.Size([4, 128]) torch.Size([4, 128]) torch.Size([4])\n",
      "torch.Size([4, 128]) torch.Size([4, 128]) torch.Size([4])\n",
      "torch.Size([4, 128]) torch.Size([4, 128]) torch.Size([4])\n",
      "torch.Size([4, 128]) torch.Size([4, 128]) torch.Size([4])\n",
      "torch.Size([4, 128]) torch.Size([4, 128]) torch.Size([4])\n",
      "torch.Size([4, 128]) torch.Size([4, 128]) torch.Size([4])\n",
      "torch.Size([4, 128]) torch.Size([4, 128]) torch.Size([4])\n",
      "torch.Size([4, 128]) torch.Size([4, 128]) torch.Size([4])\n",
      "torch.Size([4, 128]) torch.Size([4, 128]) torch.Size([4])\n",
      "torch.Size([4, 128]) torch.Size([4, 128]) torch.Size([4])\n",
      "torch.Size([4, 128]) torch.Size([4, 128]) torch.Size([4])\n",
      "torch.Size([4, 128]) torch.Size([4, 128]) torch.Size([4])\n",
      "torch.Size([4, 128]) torch.Size([4, 128]) torch.Size([4])\n",
      "torch.Size([4, 128]) torch.Size([4, 128]) torch.Size([4])\n",
      "torch.Size([4, 128]) torch.Size([4, 128]) torch.Size([4])\n",
      "torch.Size([4, 128]) torch.Size([4, 128]) torch.Size([4])\n",
      "torch.Size([4, 128]) torch.Size([4, 128]) torch.Size([4])\n",
      "torch.Size([4, 128]) torch.Size([4, 128]) torch.Size([4])\n",
      "torch.Size([4, 128]) torch.Size([4, 128]) torch.Size([4])\n",
      "torch.Size([4, 128]) torch.Size([4, 128]) torch.Size([4])\n",
      "torch.Size([4, 128]) torch.Size([4, 128]) torch.Size([4])\n",
      "torch.Size([4, 128]) torch.Size([4, 128]) torch.Size([4])\n",
      "torch.Size([4, 128]) torch.Size([4, 128]) torch.Size([4])\n",
      "torch.Size([4, 128]) torch.Size([4, 128]) torch.Size([4])\n",
      "torch.Size([4, 128]) torch.Size([4, 128]) torch.Size([4])\n",
      "torch.Size([4, 128]) torch.Size([4, 128]) torch.Size([4])\n",
      "torch.Size([4, 128]) torch.Size([4, 128]) torch.Size([4])\n",
      "torch.Size([4, 128]) torch.Size([4, 128]) torch.Size([4])\n",
      "torch.Size([4, 128]) torch.Size([4, 128]) torch.Size([4])\n",
      "torch.Size([4, 128]) torch.Size([4, 128]) torch.Size([4])\n",
      "torch.Size([4, 128]) torch.Size([4, 128]) torch.Size([4])\n",
      "torch.Size([4, 128]) torch.Size([4, 128]) torch.Size([4])\n",
      "torch.Size([4, 128]) torch.Size([4, 128]) torch.Size([4])\n",
      "torch.Size([4, 128]) torch.Size([4, 128]) torch.Size([4])\n",
      "torch.Size([4, 128]) torch.Size([4, 128]) torch.Size([4])\n",
      "torch.Size([4, 128]) torch.Size([4, 128]) torch.Size([4])\n",
      "torch.Size([4, 128]) torch.Size([4, 128]) torch.Size([4])\n",
      "torch.Size([4, 128]) torch.Size([4, 128]) torch.Size([4])\n",
      "torch.Size([4, 128]) torch.Size([4, 128]) torch.Size([4])\n",
      "torch.Size([4, 128]) torch.Size([4, 128]) torch.Size([4])\n",
      "torch.Size([4, 128]) torch.Size([4, 128]) torch.Size([4])\n",
      "torch.Size([4, 128]) torch.Size([4, 128]) torch.Size([4])\n",
      "torch.Size([4, 128]) torch.Size([4, 128]) torch.Size([4])\n",
      "torch.Size([4, 128]) torch.Size([4, 128]) torch.Size([4])\n",
      "torch.Size([4, 128]) torch.Size([4, 128]) torch.Size([4])\n",
      "torch.Size([4, 128]) torch.Size([4, 128]) torch.Size([4])\n",
      "torch.Size([4, 128]) torch.Size([4, 128]) torch.Size([4])\n",
      "torch.Size([4, 128]) torch.Size([4, 128]) torch.Size([4])\n",
      "torch.Size([4, 128]) torch.Size([4, 128]) torch.Size([4])\n",
      "torch.Size([4, 128]) torch.Size([4, 128]) torch.Size([4])\n",
      "torch.Size([4, 128]) torch.Size([4, 128]) torch.Size([4])\n",
      "torch.Size([4, 128]) torch.Size([4, 128]) torch.Size([4])\n",
      "torch.Size([4, 128]) torch.Size([4, 128]) torch.Size([4])\n",
      "torch.Size([4, 128]) torch.Size([4, 128]) torch.Size([4])\n",
      "torch.Size([4, 128]) torch.Size([4, 128]) torch.Size([4])\n",
      "torch.Size([4, 128]) torch.Size([4, 128]) torch.Size([4])\n",
      "torch.Size([4, 128]) torch.Size([4, 128]) torch.Size([4])\n",
      "torch.Size([4, 128]) torch.Size([4, 128]) torch.Size([4])\n",
      "torch.Size([4, 128]) torch.Size([4, 128]) torch.Size([4])\n",
      "torch.Size([4, 128]) torch.Size([4, 128]) torch.Size([4])\n",
      "torch.Size([4, 128]) torch.Size([4, 128]) torch.Size([4])\n",
      "torch.Size([4, 128]) torch.Size([4, 128]) torch.Size([4])\n",
      "torch.Size([4, 128]) torch.Size([4, 128]) torch.Size([4])\n",
      "torch.Size([4, 128]) torch.Size([4, 128]) torch.Size([4])\n",
      "torch.Size([4, 128]) torch.Size([4, 128]) torch.Size([4])\n",
      "torch.Size([4, 128]) torch.Size([4, 128]) torch.Size([4])\n",
      "torch.Size([4, 128]) torch.Size([4, 128]) torch.Size([4])\n",
      "torch.Size([4, 128]) torch.Size([4, 128]) torch.Size([4])\n",
      "torch.Size([4, 128]) torch.Size([4, 128]) torch.Size([4])\n",
      "torch.Size([4, 128]) torch.Size([4, 128]) torch.Size([4])\n",
      "torch.Size([4, 128]) torch.Size([4, 128]) torch.Size([4])\n",
      "torch.Size([4, 128]) torch.Size([4, 128]) torch.Size([4])\n",
      "torch.Size([4, 128]) torch.Size([4, 128]) torch.Size([4])\n",
      "torch.Size([4, 128]) torch.Size([4, 128]) torch.Size([4])\n",
      "torch.Size([4, 128]) torch.Size([4, 128]) torch.Size([4])\n",
      "torch.Size([4, 128]) torch.Size([4, 128]) torch.Size([4])\n",
      "torch.Size([4, 128]) torch.Size([4, 128]) torch.Size([4])\n",
      "torch.Size([4, 128]) torch.Size([4, 128]) torch.Size([4])\n",
      "torch.Size([4, 128]) torch.Size([4, 128]) torch.Size([4])\n",
      "torch.Size([4, 128]) torch.Size([4, 128]) torch.Size([4])\n",
      "torch.Size([4, 128]) torch.Size([4, 128]) torch.Size([4])\n",
      "torch.Size([4, 128]) torch.Size([4, 128]) torch.Size([4])\n",
      "torch.Size([4, 128]) torch.Size([4, 128]) torch.Size([4])\n",
      "torch.Size([4, 128]) torch.Size([4, 128]) torch.Size([4])\n",
      "torch.Size([4, 128]) torch.Size([4, 128]) torch.Size([4])\n",
      "torch.Size([4, 128]) torch.Size([4, 128]) torch.Size([4])\n",
      "torch.Size([4, 128]) torch.Size([4, 128]) torch.Size([4])\n",
      "torch.Size([4, 128]) torch.Size([4, 128]) torch.Size([4])\n",
      "torch.Size([4, 128]) torch.Size([4, 128]) torch.Size([4])\n",
      "torch.Size([4, 128]) torch.Size([4, 128]) torch.Size([4])\n",
      "torch.Size([4, 128]) torch.Size([4, 128]) torch.Size([4])\n",
      "torch.Size([4, 128]) torch.Size([4, 128]) torch.Size([4])\n",
      "torch.Size([4, 128]) torch.Size([4, 128]) torch.Size([4])\n",
      "torch.Size([4, 128]) torch.Size([4, 128]) torch.Size([4])\n",
      "torch.Size([4, 128]) torch.Size([4, 128]) torch.Size([4])\n",
      "torch.Size([4, 128]) torch.Size([4, 128]) torch.Size([4])\n",
      "torch.Size([4, 128]) torch.Size([4, 128]) torch.Size([4])\n",
      "torch.Size([4, 128]) torch.Size([4, 128]) torch.Size([4])\n",
      "torch.Size([4, 128]) torch.Size([4, 128]) torch.Size([4])\n",
      "torch.Size([4, 128]) torch.Size([4, 128]) torch.Size([4])\n",
      "torch.Size([4, 128]) torch.Size([4, 128]) torch.Size([4])\n",
      "torch.Size([4, 128]) torch.Size([4, 128]) torch.Size([4])\n",
      "torch.Size([4, 128]) torch.Size([4, 128]) torch.Size([4])\n",
      "torch.Size([4, 128]) torch.Size([4, 128]) torch.Size([4])\n",
      "torch.Size([4, 128]) torch.Size([4, 128]) torch.Size([4])\n",
      "torch.Size([4, 128]) torch.Size([4, 128]) torch.Size([4])\n",
      "torch.Size([4, 128]) torch.Size([4, 128]) torch.Size([4])\n",
      "torch.Size([4, 128]) torch.Size([4, 128]) torch.Size([4])\n",
      "torch.Size([4, 128]) torch.Size([4, 128]) torch.Size([4])\n",
      "torch.Size([4, 128]) torch.Size([4, 128]) torch.Size([4])\n",
      "torch.Size([4, 128]) torch.Size([4, 128]) torch.Size([4])\n",
      "torch.Size([4, 128]) torch.Size([4, 128]) torch.Size([4])\n",
      "torch.Size([4, 128]) torch.Size([4, 128]) torch.Size([4])\n",
      "torch.Size([4, 128]) torch.Size([4, 128]) torch.Size([4])\n",
      "torch.Size([4, 128]) torch.Size([4, 128]) torch.Size([4])\n",
      "torch.Size([4, 128]) torch.Size([4, 128]) torch.Size([4])\n",
      "torch.Size([4, 128]) torch.Size([4, 128]) torch.Size([4])\n",
      "torch.Size([4, 128]) torch.Size([4, 128]) torch.Size([4])\n",
      "torch.Size([4, 128]) torch.Size([4, 128]) torch.Size([4])\n",
      "torch.Size([4, 128]) torch.Size([4, 128]) torch.Size([4])\n",
      "torch.Size([4, 128]) torch.Size([4, 128]) torch.Size([4])\n",
      "torch.Size([4, 128]) torch.Size([4, 128]) torch.Size([4])\n",
      "torch.Size([4, 128]) torch.Size([4, 128]) torch.Size([4])\n",
      "torch.Size([4, 128]) torch.Size([4, 128]) torch.Size([4])\n",
      "torch.Size([4, 128]) torch.Size([4, 128]) torch.Size([4])\n",
      "torch.Size([4, 128]) torch.Size([4, 128]) torch.Size([4])\n",
      "torch.Size([4, 128]) torch.Size([4, 128]) torch.Size([4])\n",
      "torch.Size([4, 128]) torch.Size([4, 128]) torch.Size([4])\n",
      "torch.Size([4, 128]) torch.Size([4, 128]) torch.Size([4])\n",
      "torch.Size([4, 128]) torch.Size([4, 128]) torch.Size([4])\n",
      "torch.Size([4, 128]) torch.Size([4, 128]) torch.Size([4])\n",
      "torch.Size([4, 128]) torch.Size([4, 128]) torch.Size([4])\n",
      "torch.Size([4, 128]) torch.Size([4, 128]) torch.Size([4])\n",
      "torch.Size([4, 128]) torch.Size([4, 128]) torch.Size([4])\n",
      "torch.Size([4, 128]) torch.Size([4, 128]) torch.Size([4])\n",
      "torch.Size([4, 128]) torch.Size([4, 128]) torch.Size([4])\n",
      "torch.Size([4, 128]) torch.Size([4, 128]) torch.Size([4])\n",
      "torch.Size([4, 128]) torch.Size([4, 128]) torch.Size([4])\n",
      "torch.Size([4, 128]) torch.Size([4, 128]) torch.Size([4])\n",
      "torch.Size([4, 128]) torch.Size([4, 128]) torch.Size([4])\n",
      "torch.Size([4, 128]) torch.Size([4, 128]) torch.Size([4])\n",
      "torch.Size([4, 128]) torch.Size([4, 128]) torch.Size([4])\n",
      "torch.Size([4, 128]) torch.Size([4, 128]) torch.Size([4])\n",
      "torch.Size([4, 128]) torch.Size([4, 128]) torch.Size([4])\n",
      "torch.Size([4, 128]) torch.Size([4, 128]) torch.Size([4])\n",
      "torch.Size([4, 128]) torch.Size([4, 128]) torch.Size([4])\n",
      "torch.Size([4, 128]) torch.Size([4, 128]) torch.Size([4])\n",
      "torch.Size([4, 128]) torch.Size([4, 128]) torch.Size([4])\n",
      "torch.Size([4, 128]) torch.Size([4, 128]) torch.Size([4])\n",
      "torch.Size([4, 128]) torch.Size([4, 128]) torch.Size([4])\n",
      "torch.Size([4, 128]) torch.Size([4, 128]) torch.Size([4])\n",
      "torch.Size([4, 128]) torch.Size([4, 128]) torch.Size([4])\n",
      "torch.Size([4, 128]) torch.Size([4, 128]) torch.Size([4])\n",
      "torch.Size([4, 128]) torch.Size([4, 128]) torch.Size([4])\n",
      "torch.Size([4, 128]) torch.Size([4, 128]) torch.Size([4])\n",
      "torch.Size([4, 128]) torch.Size([4, 128]) torch.Size([4])\n",
      "torch.Size([4, 128]) torch.Size([4, 128]) torch.Size([4])\n",
      "torch.Size([4, 128]) torch.Size([4, 128]) torch.Size([4])\n",
      "torch.Size([4, 128]) torch.Size([4, 128]) torch.Size([4])\n",
      "torch.Size([4, 128]) torch.Size([4, 128]) torch.Size([4])\n",
      "torch.Size([4, 128]) torch.Size([4, 128]) torch.Size([4])\n",
      "torch.Size([4, 128]) torch.Size([4, 128]) torch.Size([4])\n",
      "torch.Size([4, 128]) torch.Size([4, 128]) torch.Size([4])\n",
      "torch.Size([4, 128]) torch.Size([4, 128]) torch.Size([4])\n",
      "torch.Size([4, 128]) torch.Size([4, 128]) torch.Size([4])\n",
      "torch.Size([4, 128]) torch.Size([4, 128]) torch.Size([4])\n",
      "torch.Size([4, 128]) torch.Size([4, 128]) torch.Size([4])\n",
      "torch.Size([4, 128]) torch.Size([4, 128]) torch.Size([4])\n",
      "torch.Size([4, 128]) torch.Size([4, 128]) torch.Size([4])\n",
      "torch.Size([4, 128]) torch.Size([4, 128]) torch.Size([4])\n",
      "torch.Size([4, 128]) torch.Size([4, 128]) torch.Size([4])\n",
      "torch.Size([4, 128]) torch.Size([4, 128]) torch.Size([4])\n",
      "torch.Size([4, 128]) torch.Size([4, 128]) torch.Size([4])\n",
      "torch.Size([4, 128]) torch.Size([4, 128]) torch.Size([4])\n",
      "torch.Size([4, 128]) torch.Size([4, 128]) torch.Size([4])\n",
      "torch.Size([4, 128]) torch.Size([4, 128]) torch.Size([4])\n",
      "torch.Size([4, 128]) torch.Size([4, 128]) torch.Size([4])\n",
      "torch.Size([4, 128]) torch.Size([4, 128]) torch.Size([4])\n",
      "torch.Size([4, 128]) torch.Size([4, 128]) torch.Size([4])\n",
      "torch.Size([4, 128]) torch.Size([4, 128]) torch.Size([4])\n",
      "torch.Size([4, 128]) torch.Size([4, 128]) torch.Size([4])\n",
      "torch.Size([4, 128]) torch.Size([4, 128]) torch.Size([4])\n",
      "torch.Size([4, 128]) torch.Size([4, 128]) torch.Size([4])\n",
      "torch.Size([4, 128]) torch.Size([4, 128]) torch.Size([4])\n",
      "torch.Size([4, 128]) torch.Size([4, 128]) torch.Size([4])\n",
      "torch.Size([4, 128]) torch.Size([4, 128]) torch.Size([4])\n",
      "torch.Size([4, 128]) torch.Size([4, 128]) torch.Size([4])\n",
      "torch.Size([4, 128]) torch.Size([4, 128]) torch.Size([4])\n",
      "torch.Size([4, 128]) torch.Size([4, 128]) torch.Size([4])\n",
      "torch.Size([4, 128]) torch.Size([4, 128]) torch.Size([4])\n",
      "torch.Size([4, 128]) torch.Size([4, 128]) torch.Size([4])\n",
      "torch.Size([4, 128]) torch.Size([4, 128]) torch.Size([4])\n",
      "torch.Size([4, 128]) torch.Size([4, 128]) torch.Size([4])\n",
      "torch.Size([4, 128]) torch.Size([4, 128]) torch.Size([4])\n",
      "torch.Size([4, 128]) torch.Size([4, 128]) torch.Size([4])\n",
      "torch.Size([4, 128]) torch.Size([4, 128]) torch.Size([4])\n",
      "torch.Size([4, 128]) torch.Size([4, 128]) torch.Size([4])\n",
      "torch.Size([4, 128]) torch.Size([4, 128]) torch.Size([4])\n",
      "torch.Size([4, 128]) torch.Size([4, 128]) torch.Size([4])\n",
      "torch.Size([4, 128]) torch.Size([4, 128]) torch.Size([4])\n",
      "torch.Size([4, 128]) torch.Size([4, 128]) torch.Size([4])\n",
      "torch.Size([4, 128]) torch.Size([4, 128]) torch.Size([4])\n",
      "torch.Size([4, 128]) torch.Size([4, 128]) torch.Size([4])\n",
      "torch.Size([4, 128]) torch.Size([4, 128]) torch.Size([4])\n",
      "torch.Size([4, 128]) torch.Size([4, 128]) torch.Size([4])\n",
      "torch.Size([4, 128]) torch.Size([4, 128]) torch.Size([4])\n",
      "torch.Size([4, 128]) torch.Size([4, 128]) torch.Size([4])\n",
      "torch.Size([4, 128]) torch.Size([4, 128]) torch.Size([4])\n",
      "torch.Size([4, 128]) torch.Size([4, 128]) torch.Size([4])\n",
      "torch.Size([4, 128]) torch.Size([4, 128]) torch.Size([4])\n",
      "torch.Size([4, 128]) torch.Size([4, 128]) torch.Size([4])\n",
      "torch.Size([4, 128]) torch.Size([4, 128]) torch.Size([4])\n",
      "torch.Size([4, 128]) torch.Size([4, 128]) torch.Size([4])\n",
      "torch.Size([4, 128]) torch.Size([4, 128]) torch.Size([4])\n",
      "torch.Size([4, 128]) torch.Size([4, 128]) torch.Size([4])\n",
      "torch.Size([4, 128]) torch.Size([4, 128]) torch.Size([4])\n",
      "torch.Size([4, 128]) torch.Size([4, 128]) torch.Size([4])\n",
      "torch.Size([4, 128]) torch.Size([4, 128]) torch.Size([4])\n",
      "torch.Size([4, 128]) torch.Size([4, 128]) torch.Size([4])\n",
      "torch.Size([4, 128]) torch.Size([4, 128]) torch.Size([4])\n",
      "torch.Size([4, 128]) torch.Size([4, 128]) torch.Size([4])\n",
      "torch.Size([4, 128]) torch.Size([4, 128]) torch.Size([4])\n",
      "torch.Size([4, 128]) torch.Size([4, 128]) torch.Size([4])\n",
      "torch.Size([4, 128]) torch.Size([4, 128]) torch.Size([4])\n",
      "torch.Size([4, 128]) torch.Size([4, 128]) torch.Size([4])\n",
      "torch.Size([4, 128]) torch.Size([4, 128]) torch.Size([4])\n",
      "torch.Size([4, 128]) torch.Size([4, 128]) torch.Size([4])\n",
      "torch.Size([4, 128]) torch.Size([4, 128]) torch.Size([4])\n",
      "torch.Size([4, 128]) torch.Size([4, 128]) torch.Size([4])\n",
      "torch.Size([4, 128]) torch.Size([4, 128]) torch.Size([4])\n",
      "torch.Size([4, 128]) torch.Size([4, 128]) torch.Size([4])\n",
      "torch.Size([4, 128]) torch.Size([4, 128]) torch.Size([4])\n",
      "torch.Size([4, 128]) torch.Size([4, 128]) torch.Size([4])\n",
      "torch.Size([4, 128]) torch.Size([4, 128]) torch.Size([4])\n",
      "torch.Size([4, 128]) torch.Size([4, 128]) torch.Size([4])\n",
      "torch.Size([4, 128]) torch.Size([4, 128]) torch.Size([4])\n",
      "torch.Size([4, 128]) torch.Size([4, 128]) torch.Size([4])\n",
      "torch.Size([4, 128]) torch.Size([4, 128]) torch.Size([4])\n",
      "torch.Size([4, 128]) torch.Size([4, 128]) torch.Size([4])\n",
      "torch.Size([4, 128]) torch.Size([4, 128]) torch.Size([4])\n",
      "torch.Size([4, 128]) torch.Size([4, 128]) torch.Size([4])\n",
      "torch.Size([4, 128]) torch.Size([4, 128]) torch.Size([4])\n",
      "torch.Size([4, 128]) torch.Size([4, 128]) torch.Size([4])\n",
      "torch.Size([4, 128]) torch.Size([4, 128]) torch.Size([4])\n",
      "torch.Size([4, 128]) torch.Size([4, 128]) torch.Size([4])\n",
      "torch.Size([4, 128]) torch.Size([4, 128]) torch.Size([4])\n",
      "torch.Size([4, 128]) torch.Size([4, 128]) torch.Size([4])\n",
      "torch.Size([4, 128]) torch.Size([4, 128]) torch.Size([4])\n",
      "torch.Size([4, 128]) torch.Size([4, 128]) torch.Size([4])\n",
      "torch.Size([4, 128]) torch.Size([4, 128]) torch.Size([4])\n",
      "torch.Size([4, 128]) torch.Size([4, 128]) torch.Size([4])\n",
      "torch.Size([4, 128]) torch.Size([4, 128]) torch.Size([4])\n",
      "torch.Size([4, 128]) torch.Size([4, 128]) torch.Size([4])\n",
      "torch.Size([4, 128]) torch.Size([4, 128]) torch.Size([4])\n",
      "torch.Size([4, 128]) torch.Size([4, 128]) torch.Size([4])\n",
      "torch.Size([4, 128]) torch.Size([4, 128]) torch.Size([4])\n",
      "torch.Size([4, 128]) torch.Size([4, 128]) torch.Size([4])\n",
      "torch.Size([4, 128]) torch.Size([4, 128]) torch.Size([4])\n",
      "torch.Size([4, 128]) torch.Size([4, 128]) torch.Size([4])\n",
      "torch.Size([4, 128]) torch.Size([4, 128]) torch.Size([4])\n",
      "torch.Size([4, 128]) torch.Size([4, 128]) torch.Size([4])\n",
      "torch.Size([4, 128]) torch.Size([4, 128]) torch.Size([4])\n",
      "torch.Size([4, 128]) torch.Size([4, 128]) torch.Size([4])\n",
      "torch.Size([4, 128]) torch.Size([4, 128]) torch.Size([4])\n",
      "torch.Size([4, 128]) torch.Size([4, 128]) torch.Size([4])\n",
      "torch.Size([4, 128]) torch.Size([4, 128]) torch.Size([4])\n",
      "torch.Size([4, 128]) torch.Size([4, 128]) torch.Size([4])\n",
      "torch.Size([4, 128]) torch.Size([4, 128]) torch.Size([4])\n",
      "torch.Size([4, 128]) torch.Size([4, 128]) torch.Size([4])\n",
      "torch.Size([4, 128]) torch.Size([4, 128]) torch.Size([4])\n",
      "torch.Size([4, 128]) torch.Size([4, 128]) torch.Size([4])\n",
      "torch.Size([4, 128]) torch.Size([4, 128]) torch.Size([4])\n",
      "torch.Size([4, 128]) torch.Size([4, 128]) torch.Size([4])\n",
      "torch.Size([4, 128]) torch.Size([4, 128]) torch.Size([4])\n",
      "torch.Size([4, 128]) torch.Size([4, 128]) torch.Size([4])\n",
      "torch.Size([4, 128]) torch.Size([4, 128]) torch.Size([4])\n",
      "torch.Size([4, 128]) torch.Size([4, 128]) torch.Size([4])\n",
      "torch.Size([4, 128]) torch.Size([4, 128]) torch.Size([4])\n",
      "torch.Size([4, 128]) torch.Size([4, 128]) torch.Size([4])\n",
      "torch.Size([4, 128]) torch.Size([4, 128]) torch.Size([4])\n",
      "torch.Size([4, 128]) torch.Size([4, 128]) torch.Size([4])\n",
      "torch.Size([4, 128]) torch.Size([4, 128]) torch.Size([4])\n",
      "torch.Size([4, 128]) torch.Size([4, 128]) torch.Size([4])\n",
      "torch.Size([4, 128]) torch.Size([4, 128]) torch.Size([4])\n",
      "torch.Size([4, 128]) torch.Size([4, 128]) torch.Size([4])\n",
      "torch.Size([4, 128]) torch.Size([4, 128]) torch.Size([4])\n",
      "torch.Size([4, 128]) torch.Size([4, 128]) torch.Size([4])\n",
      "torch.Size([4, 128]) torch.Size([4, 128]) torch.Size([4])\n",
      "torch.Size([4, 128]) torch.Size([4, 128]) torch.Size([4])\n",
      "torch.Size([4, 128]) torch.Size([4, 128]) torch.Size([4])\n",
      "torch.Size([4, 128]) torch.Size([4, 128]) torch.Size([4])\n",
      "torch.Size([4, 128]) torch.Size([4, 128]) torch.Size([4])\n",
      "torch.Size([4, 128]) torch.Size([4, 128]) torch.Size([4])\n",
      "torch.Size([4, 128]) torch.Size([4, 128]) torch.Size([4])\n",
      "torch.Size([4, 128]) torch.Size([4, 128]) torch.Size([4])\n",
      "torch.Size([4, 128]) torch.Size([4, 128]) torch.Size([4])\n",
      "torch.Size([4, 128]) torch.Size([4, 128]) torch.Size([4])\n",
      "torch.Size([4, 128]) torch.Size([4, 128]) torch.Size([4])\n",
      "torch.Size([4, 128]) torch.Size([4, 128]) torch.Size([4])\n",
      "torch.Size([4, 128]) torch.Size([4, 128]) torch.Size([4])\n",
      "torch.Size([4, 128]) torch.Size([4, 128]) torch.Size([4])\n",
      "torch.Size([4, 128]) torch.Size([4, 128]) torch.Size([4])\n",
      "torch.Size([4, 128]) torch.Size([4, 128]) torch.Size([4])\n",
      "torch.Size([4, 128]) torch.Size([4, 128]) torch.Size([4])\n",
      "torch.Size([4, 128]) torch.Size([4, 128]) torch.Size([4])\n",
      "torch.Size([4, 128]) torch.Size([4, 128]) torch.Size([4])\n",
      "torch.Size([4, 128]) torch.Size([4, 128]) torch.Size([4])\n",
      "torch.Size([4, 128]) torch.Size([4, 128]) torch.Size([4])\n",
      "torch.Size([4, 128]) torch.Size([4, 128]) torch.Size([4])\n",
      "torch.Size([4, 128]) torch.Size([4, 128]) torch.Size([4])\n",
      "torch.Size([4, 128]) torch.Size([4, 128]) torch.Size([4])\n",
      "torch.Size([4, 128]) torch.Size([4, 128]) torch.Size([4])\n",
      "torch.Size([4, 128]) torch.Size([4, 128]) torch.Size([4])\n",
      "torch.Size([4, 128]) torch.Size([4, 128]) torch.Size([4])\n",
      "torch.Size([4, 128]) torch.Size([4, 128]) torch.Size([4])\n",
      "torch.Size([4, 128]) torch.Size([4, 128]) torch.Size([4])\n",
      "torch.Size([4, 128]) torch.Size([4, 128]) torch.Size([4])\n",
      "torch.Size([4, 128]) torch.Size([4, 128]) torch.Size([4])\n",
      "torch.Size([4, 128]) torch.Size([4, 128]) torch.Size([4])\n",
      "torch.Size([4, 128]) torch.Size([4, 128]) torch.Size([4])\n",
      "torch.Size([4, 128]) torch.Size([4, 128]) torch.Size([4])\n",
      "torch.Size([4, 128]) torch.Size([4, 128]) torch.Size([4])\n",
      "torch.Size([4, 128]) torch.Size([4, 128]) torch.Size([4])\n",
      "torch.Size([4, 128]) torch.Size([4, 128]) torch.Size([4])\n",
      "torch.Size([4, 128]) torch.Size([4, 128]) torch.Size([4])\n",
      "torch.Size([4, 128]) torch.Size([4, 128]) torch.Size([4])\n",
      "torch.Size([4, 128]) torch.Size([4, 128]) torch.Size([4])\n",
      "torch.Size([4, 128]) torch.Size([4, 128]) torch.Size([4])\n",
      "torch.Size([4, 128]) torch.Size([4, 128]) torch.Size([4])\n",
      "torch.Size([4, 128]) torch.Size([4, 128]) torch.Size([4])\n",
      "torch.Size([4, 128]) torch.Size([4, 128]) torch.Size([4])\n",
      "torch.Size([4, 128]) torch.Size([4, 128]) torch.Size([4])\n",
      "torch.Size([4, 128]) torch.Size([4, 128]) torch.Size([4])\n",
      "torch.Size([4, 128]) torch.Size([4, 128]) torch.Size([4])\n",
      "torch.Size([4, 128]) torch.Size([4, 128]) torch.Size([4])\n",
      "torch.Size([4, 128]) torch.Size([4, 128]) torch.Size([4])\n",
      "torch.Size([4, 128]) torch.Size([4, 128]) torch.Size([4])\n",
      "torch.Size([4, 128]) torch.Size([4, 128]) torch.Size([4])\n",
      "torch.Size([4, 128]) torch.Size([4, 128]) torch.Size([4])\n",
      "torch.Size([4, 128]) torch.Size([4, 128]) torch.Size([4])\n",
      "torch.Size([4, 128]) torch.Size([4, 128]) torch.Size([4])\n",
      "torch.Size([4, 128]) torch.Size([4, 128]) torch.Size([4])\n",
      "torch.Size([4, 128]) torch.Size([4, 128]) torch.Size([4])\n",
      "torch.Size([4, 128]) torch.Size([4, 128]) torch.Size([4])\n",
      "torch.Size([4, 128]) torch.Size([4, 128]) torch.Size([4])\n",
      "torch.Size([4, 128]) torch.Size([4, 128]) torch.Size([4])\n",
      "torch.Size([4, 128]) torch.Size([4, 128]) torch.Size([4])\n",
      "torch.Size([4, 128]) torch.Size([4, 128]) torch.Size([4])\n",
      "torch.Size([4, 128]) torch.Size([4, 128]) torch.Size([4])\n",
      "torch.Size([4, 128]) torch.Size([4, 128]) torch.Size([4])\n",
      "torch.Size([4, 128]) torch.Size([4, 128]) torch.Size([4])\n",
      "torch.Size([4, 128]) torch.Size([4, 128]) torch.Size([4])\n",
      "torch.Size([4, 128]) torch.Size([4, 128]) torch.Size([4])\n",
      "torch.Size([4, 128]) torch.Size([4, 128]) torch.Size([4])\n",
      "torch.Size([4, 128]) torch.Size([4, 128]) torch.Size([4])\n",
      "torch.Size([4, 128]) torch.Size([4, 128]) torch.Size([4])\n",
      "torch.Size([4, 128]) torch.Size([4, 128]) torch.Size([4])\n",
      "torch.Size([4, 128]) torch.Size([4, 128]) torch.Size([4])\n",
      "torch.Size([4, 128]) torch.Size([4, 128]) torch.Size([4])\n",
      "torch.Size([4, 128]) torch.Size([4, 128]) torch.Size([4])\n",
      "torch.Size([4, 128]) torch.Size([4, 128]) torch.Size([4])\n",
      "torch.Size([4, 128]) torch.Size([4, 128]) torch.Size([4])\n",
      "torch.Size([4, 128]) torch.Size([4, 128]) torch.Size([4])\n",
      "torch.Size([4, 128]) torch.Size([4, 128]) torch.Size([4])\n",
      "torch.Size([4, 128]) torch.Size([4, 128]) torch.Size([4])\n",
      "torch.Size([4, 128]) torch.Size([4, 128]) torch.Size([4])\n",
      "torch.Size([4, 128]) torch.Size([4, 128]) torch.Size([4])\n",
      "torch.Size([4, 128]) torch.Size([4, 128]) torch.Size([4])\n",
      "torch.Size([4, 128]) torch.Size([4, 128]) torch.Size([4])\n",
      "torch.Size([4, 128]) torch.Size([4, 128]) torch.Size([4])\n",
      "torch.Size([4, 128]) torch.Size([4, 128]) torch.Size([4])\n",
      "torch.Size([4, 128]) torch.Size([4, 128]) torch.Size([4])\n",
      "torch.Size([4, 128]) torch.Size([4, 128]) torch.Size([4])\n",
      "torch.Size([4, 128]) torch.Size([4, 128]) torch.Size([4])\n",
      "torch.Size([4, 128]) torch.Size([4, 128]) torch.Size([4])\n",
      "torch.Size([4, 128]) torch.Size([4, 128]) torch.Size([4])\n",
      "torch.Size([4, 128]) torch.Size([4, 128]) torch.Size([4])\n",
      "torch.Size([4, 128]) torch.Size([4, 128]) torch.Size([4])\n",
      "torch.Size([4, 128]) torch.Size([4, 128]) torch.Size([4])\n",
      "torch.Size([4, 128]) torch.Size([4, 128]) torch.Size([4])\n",
      "torch.Size([4, 128]) torch.Size([4, 128]) torch.Size([4])\n",
      "torch.Size([4, 128]) torch.Size([4, 128]) torch.Size([4])\n",
      "torch.Size([4, 128]) torch.Size([4, 128]) torch.Size([4])\n",
      "torch.Size([4, 128]) torch.Size([4, 128]) torch.Size([4])\n",
      "torch.Size([4, 128]) torch.Size([4, 128]) torch.Size([4])\n",
      "torch.Size([4, 128]) torch.Size([4, 128]) torch.Size([4])\n",
      "torch.Size([4, 128]) torch.Size([4, 128]) torch.Size([4])\n",
      "torch.Size([4, 128]) torch.Size([4, 128]) torch.Size([4])\n",
      "torch.Size([4, 128]) torch.Size([4, 128]) torch.Size([4])\n",
      "torch.Size([4, 128]) torch.Size([4, 128]) torch.Size([4])\n",
      "torch.Size([4, 128]) torch.Size([4, 128]) torch.Size([4])\n",
      "torch.Size([4, 128]) torch.Size([4, 128]) torch.Size([4])\n",
      "torch.Size([4, 128]) torch.Size([4, 128]) torch.Size([4])\n",
      "torch.Size([4, 128]) torch.Size([4, 128]) torch.Size([4])\n",
      "torch.Size([4, 128]) torch.Size([4, 128]) torch.Size([4])\n",
      "torch.Size([4, 128]) torch.Size([4, 128]) torch.Size([4])\n",
      "torch.Size([4, 128]) torch.Size([4, 128]) torch.Size([4])\n",
      "torch.Size([4, 128]) torch.Size([4, 128]) torch.Size([4])\n",
      "torch.Size([4, 128]) torch.Size([4, 128]) torch.Size([4])\n",
      "torch.Size([4, 128]) torch.Size([4, 128]) torch.Size([4])\n",
      "torch.Size([4, 128]) torch.Size([4, 128]) torch.Size([4])\n",
      "torch.Size([4, 128]) torch.Size([4, 128]) torch.Size([4])\n",
      "torch.Size([4, 128]) torch.Size([4, 128]) torch.Size([4])\n",
      "torch.Size([4, 128]) torch.Size([4, 128]) torch.Size([4])\n",
      "torch.Size([4, 128]) torch.Size([4, 128]) torch.Size([4])\n",
      "torch.Size([4, 128]) torch.Size([4, 128]) torch.Size([4])\n",
      "torch.Size([4, 128]) torch.Size([4, 128]) torch.Size([4])\n",
      "torch.Size([4, 128]) torch.Size([4, 128]) torch.Size([4])\n",
      "torch.Size([4, 128]) torch.Size([4, 128]) torch.Size([4])\n",
      "torch.Size([4, 128]) torch.Size([4, 128]) torch.Size([4])\n",
      "torch.Size([4, 128]) torch.Size([4, 128]) torch.Size([4])\n",
      "torch.Size([4, 128]) torch.Size([4, 128]) torch.Size([4])\n",
      "torch.Size([4, 128]) torch.Size([4, 128]) torch.Size([4])\n",
      "torch.Size([4, 128]) torch.Size([4, 128]) torch.Size([4])\n",
      "torch.Size([4, 128]) torch.Size([4, 128]) torch.Size([4])\n",
      "torch.Size([4, 128]) torch.Size([4, 128]) torch.Size([4])\n",
      "torch.Size([4, 128]) torch.Size([4, 128]) torch.Size([4])\n",
      "torch.Size([4, 128]) torch.Size([4, 128]) torch.Size([4])\n",
      "torch.Size([4, 128]) torch.Size([4, 128]) torch.Size([4])\n",
      "torch.Size([4, 128]) torch.Size([4, 128]) torch.Size([4])\n",
      "torch.Size([4, 128]) torch.Size([4, 128]) torch.Size([4])\n",
      "torch.Size([4, 128]) torch.Size([4, 128]) torch.Size([4])\n",
      "torch.Size([4, 128]) torch.Size([4, 128]) torch.Size([4])\n",
      "torch.Size([4, 128]) torch.Size([4, 128]) torch.Size([4])\n",
      "torch.Size([4, 128]) torch.Size([4, 128]) torch.Size([4])\n",
      "torch.Size([4, 128]) torch.Size([4, 128]) torch.Size([4])\n",
      "torch.Size([4, 128]) torch.Size([4, 128]) torch.Size([4])\n",
      "torch.Size([4, 128]) torch.Size([4, 128]) torch.Size([4])\n",
      "torch.Size([4, 128]) torch.Size([4, 128]) torch.Size([4])\n",
      "torch.Size([4, 128]) torch.Size([4, 128]) torch.Size([4])\n",
      "torch.Size([4, 128]) torch.Size([4, 128]) torch.Size([4])\n",
      "torch.Size([4, 128]) torch.Size([4, 128]) torch.Size([4])\n",
      "torch.Size([4, 128]) torch.Size([4, 128]) torch.Size([4])\n",
      "torch.Size([4, 128]) torch.Size([4, 128]) torch.Size([4])\n",
      "torch.Size([4, 128]) torch.Size([4, 128]) torch.Size([4])\n",
      "torch.Size([4, 128]) torch.Size([4, 128]) torch.Size([4])\n",
      "torch.Size([4, 128]) torch.Size([4, 128]) torch.Size([4])\n",
      "torch.Size([4, 128]) torch.Size([4, 128]) torch.Size([4])\n",
      "torch.Size([4, 128]) torch.Size([4, 128]) torch.Size([4])\n",
      "torch.Size([4, 128]) torch.Size([4, 128]) torch.Size([4])\n",
      "torch.Size([4, 128]) torch.Size([4, 128]) torch.Size([4])\n",
      "torch.Size([4, 128]) torch.Size([4, 128]) torch.Size([4])\n",
      "torch.Size([4, 128]) torch.Size([4, 128]) torch.Size([4])\n",
      "torch.Size([4, 128]) torch.Size([4, 128]) torch.Size([4])\n",
      "torch.Size([4, 128]) torch.Size([4, 128]) torch.Size([4])\n",
      "torch.Size([4, 128]) torch.Size([4, 128]) torch.Size([4])\n",
      "torch.Size([4, 128]) torch.Size([4, 128]) torch.Size([4])\n",
      "torch.Size([4, 128]) torch.Size([4, 128]) torch.Size([4])\n",
      "torch.Size([4, 128]) torch.Size([4, 128]) torch.Size([4])\n",
      "torch.Size([4, 128]) torch.Size([4, 128]) torch.Size([4])\n",
      "torch.Size([4, 128]) torch.Size([4, 128]) torch.Size([4])\n",
      "torch.Size([4, 128]) torch.Size([4, 128]) torch.Size([4])\n",
      "torch.Size([4, 128]) torch.Size([4, 128]) torch.Size([4])\n",
      "torch.Size([4, 128]) torch.Size([4, 128]) torch.Size([4])\n",
      "torch.Size([4, 128]) torch.Size([4, 128]) torch.Size([4])\n",
      "torch.Size([4, 128]) torch.Size([4, 128]) torch.Size([4])\n",
      "torch.Size([4, 128]) torch.Size([4, 128]) torch.Size([4])\n",
      "torch.Size([4, 128]) torch.Size([4, 128]) torch.Size([4])\n",
      "torch.Size([4, 128]) torch.Size([4, 128]) torch.Size([4])\n",
      "torch.Size([4, 128]) torch.Size([4, 128]) torch.Size([4])\n",
      "torch.Size([4, 128]) torch.Size([4, 128]) torch.Size([4])\n",
      "torch.Size([4, 128]) torch.Size([4, 128]) torch.Size([4])\n",
      "torch.Size([4, 128]) torch.Size([4, 128]) torch.Size([4])\n",
      "torch.Size([4, 128]) torch.Size([4, 128]) torch.Size([4])\n",
      "torch.Size([4, 128]) torch.Size([4, 128]) torch.Size([4])\n",
      "torch.Size([4, 128]) torch.Size([4, 128]) torch.Size([4])\n",
      "torch.Size([4, 128]) torch.Size([4, 128]) torch.Size([4])\n",
      "torch.Size([4, 128]) torch.Size([4, 128]) torch.Size([4])\n",
      "torch.Size([4, 128]) torch.Size([4, 128]) torch.Size([4])\n",
      "torch.Size([4, 128]) torch.Size([4, 128]) torch.Size([4])\n",
      "torch.Size([4, 128]) torch.Size([4, 128]) torch.Size([4])\n",
      "torch.Size([4, 128]) torch.Size([4, 128]) torch.Size([4])\n",
      "torch.Size([4, 128]) torch.Size([4, 128]) torch.Size([4])\n",
      "torch.Size([4, 128]) torch.Size([4, 128]) torch.Size([4])\n",
      "torch.Size([4, 128]) torch.Size([4, 128]) torch.Size([4])\n",
      "torch.Size([4, 128]) torch.Size([4, 128]) torch.Size([4])\n",
      "torch.Size([4, 128]) torch.Size([4, 128]) torch.Size([4])\n",
      "torch.Size([4, 128]) torch.Size([4, 128]) torch.Size([4])\n",
      "torch.Size([4, 128]) torch.Size([4, 128]) torch.Size([4])\n",
      "torch.Size([4, 128]) torch.Size([4, 128]) torch.Size([4])\n",
      "torch.Size([4, 128]) torch.Size([4, 128]) torch.Size([4])\n",
      "torch.Size([4, 128]) torch.Size([4, 128]) torch.Size([4])\n",
      "torch.Size([4, 128]) torch.Size([4, 128]) torch.Size([4])\n",
      "torch.Size([4, 128]) torch.Size([4, 128]) torch.Size([4])\n",
      "torch.Size([4, 128]) torch.Size([4, 128]) torch.Size([4])\n",
      "torch.Size([4, 128]) torch.Size([4, 128]) torch.Size([4])\n",
      "torch.Size([4, 128]) torch.Size([4, 128]) torch.Size([4])\n",
      "torch.Size([4, 128]) torch.Size([4, 128]) torch.Size([4])\n",
      "torch.Size([4, 128]) torch.Size([4, 128]) torch.Size([4])\n",
      "torch.Size([4, 128]) torch.Size([4, 128]) torch.Size([4])\n",
      "torch.Size([4, 128]) torch.Size([4, 128]) torch.Size([4])\n",
      "torch.Size([4, 128]) torch.Size([4, 128]) torch.Size([4])\n",
      "torch.Size([4, 128]) torch.Size([4, 128]) torch.Size([4])\n",
      "torch.Size([4, 128]) torch.Size([4, 128]) torch.Size([4])\n",
      "torch.Size([4, 128]) torch.Size([4, 128]) torch.Size([4])\n",
      "torch.Size([4, 128]) torch.Size([4, 128]) torch.Size([4])\n",
      "torch.Size([4, 128]) torch.Size([4, 128]) torch.Size([4])\n",
      "torch.Size([4, 128]) torch.Size([4, 128]) torch.Size([4])\n",
      "torch.Size([4, 128]) torch.Size([4, 128]) torch.Size([4])\n",
      "torch.Size([4, 128]) torch.Size([4, 128]) torch.Size([4])\n",
      "torch.Size([4, 128]) torch.Size([4, 128]) torch.Size([4])\n",
      "torch.Size([4, 128]) torch.Size([4, 128]) torch.Size([4])\n",
      "torch.Size([4, 128]) torch.Size([4, 128]) torch.Size([4])\n",
      "torch.Size([4, 128]) torch.Size([4, 128]) torch.Size([4])\n",
      "torch.Size([4, 128]) torch.Size([4, 128]) torch.Size([4])\n",
      "torch.Size([4, 128]) torch.Size([4, 128]) torch.Size([4])\n",
      "torch.Size([4, 128]) torch.Size([4, 128]) torch.Size([4])\n",
      "torch.Size([4, 128]) torch.Size([4, 128]) torch.Size([4])\n",
      "torch.Size([4, 128]) torch.Size([4, 128]) torch.Size([4])\n",
      "torch.Size([4, 128]) torch.Size([4, 128]) torch.Size([4])\n",
      "torch.Size([4, 128]) torch.Size([4, 128]) torch.Size([4])\n",
      "torch.Size([4, 128]) torch.Size([4, 128]) torch.Size([4])\n",
      "torch.Size([4, 128]) torch.Size([4, 128]) torch.Size([4])\n",
      "torch.Size([4, 128]) torch.Size([4, 128]) torch.Size([4])\n",
      "torch.Size([4, 128]) torch.Size([4, 128]) torch.Size([4])\n",
      "torch.Size([4, 128]) torch.Size([4, 128]) torch.Size([4])\n",
      "torch.Size([4, 128]) torch.Size([4, 128]) torch.Size([4])\n",
      "torch.Size([4, 128]) torch.Size([4, 128]) torch.Size([4])\n",
      "torch.Size([4, 128]) torch.Size([4, 128]) torch.Size([4])\n",
      "torch.Size([4, 128]) torch.Size([4, 128]) torch.Size([4])\n",
      "torch.Size([4, 128]) torch.Size([4, 128]) torch.Size([4])\n",
      "torch.Size([4, 128]) torch.Size([4, 128]) torch.Size([4])\n",
      "torch.Size([4, 128]) torch.Size([4, 128]) torch.Size([4])\n",
      "torch.Size([4, 128]) torch.Size([4, 128]) torch.Size([4])\n",
      "torch.Size([4, 128]) torch.Size([4, 128]) torch.Size([4])\n",
      "torch.Size([4, 128]) torch.Size([4, 128]) torch.Size([4])\n",
      "torch.Size([4, 128]) torch.Size([4, 128]) torch.Size([4])\n",
      "torch.Size([4, 128]) torch.Size([4, 128]) torch.Size([4])\n",
      "torch.Size([4, 128]) torch.Size([4, 128]) torch.Size([4])\n",
      "torch.Size([4, 128]) torch.Size([4, 128]) torch.Size([4])\n",
      "torch.Size([4, 128]) torch.Size([4, 128]) torch.Size([4])\n",
      "torch.Size([4, 128]) torch.Size([4, 128]) torch.Size([4])\n",
      "torch.Size([4, 128]) torch.Size([4, 128]) torch.Size([4])\n",
      "torch.Size([4, 128]) torch.Size([4, 128]) torch.Size([4])\n",
      "torch.Size([4, 128]) torch.Size([4, 128]) torch.Size([4])\n",
      "torch.Size([4, 128]) torch.Size([4, 128]) torch.Size([4])\n",
      "torch.Size([4, 128]) torch.Size([4, 128]) torch.Size([4])\n",
      "torch.Size([4, 128]) torch.Size([4, 128]) torch.Size([4])\n",
      "torch.Size([4, 128]) torch.Size([4, 128]) torch.Size([4])\n",
      "torch.Size([4, 128]) torch.Size([4, 128]) torch.Size([4])\n",
      "torch.Size([4, 128]) torch.Size([4, 128]) torch.Size([4])\n",
      "torch.Size([4, 128]) torch.Size([4, 128]) torch.Size([4])\n",
      "torch.Size([4, 128]) torch.Size([4, 128]) torch.Size([4])\n",
      "torch.Size([4, 128]) torch.Size([4, 128]) torch.Size([4])\n",
      "torch.Size([4, 128]) torch.Size([4, 128]) torch.Size([4])\n",
      "torch.Size([4, 128]) torch.Size([4, 128]) torch.Size([4])\n",
      "torch.Size([4, 128]) torch.Size([4, 128]) torch.Size([4])\n",
      "torch.Size([4, 128]) torch.Size([4, 128]) torch.Size([4])\n",
      "torch.Size([4, 128]) torch.Size([4, 128]) torch.Size([4])\n",
      "torch.Size([4, 128]) torch.Size([4, 128]) torch.Size([4])\n",
      "torch.Size([4, 128]) torch.Size([4, 128]) torch.Size([4])\n",
      "torch.Size([4, 128]) torch.Size([4, 128]) torch.Size([4])\n",
      "torch.Size([4, 128]) torch.Size([4, 128]) torch.Size([4])\n",
      "torch.Size([4, 128]) torch.Size([4, 128]) torch.Size([4])\n",
      "torch.Size([4, 128]) torch.Size([4, 128]) torch.Size([4])\n",
      "torch.Size([4, 128]) torch.Size([4, 128]) torch.Size([4])\n",
      "torch.Size([4, 128]) torch.Size([4, 128]) torch.Size([4])\n",
      "torch.Size([4, 128]) torch.Size([4, 128]) torch.Size([4])\n",
      "torch.Size([4, 128]) torch.Size([4, 128]) torch.Size([4])\n",
      "torch.Size([4, 128]) torch.Size([4, 128]) torch.Size([4])\n",
      "torch.Size([4, 128]) torch.Size([4, 128]) torch.Size([4])\n",
      "torch.Size([4, 128]) torch.Size([4, 128]) torch.Size([4])\n",
      "torch.Size([4, 128]) torch.Size([4, 128]) torch.Size([4])\n",
      "torch.Size([4, 128]) torch.Size([4, 128]) torch.Size([4])\n",
      "torch.Size([4, 128]) torch.Size([4, 128]) torch.Size([4])\n",
      "torch.Size([4, 128]) torch.Size([4, 128]) torch.Size([4])\n",
      "torch.Size([4, 128]) torch.Size([4, 128]) torch.Size([4])\n",
      "torch.Size([4, 128]) torch.Size([4, 128]) torch.Size([4])\n",
      "torch.Size([4, 128]) torch.Size([4, 128]) torch.Size([4])\n",
      "torch.Size([4, 128]) torch.Size([4, 128]) torch.Size([4])\n",
      "torch.Size([4, 128]) torch.Size([4, 128]) torch.Size([4])\n",
      "torch.Size([4, 128]) torch.Size([4, 128]) torch.Size([4])\n",
      "torch.Size([4, 128]) torch.Size([4, 128]) torch.Size([4])\n",
      "torch.Size([4, 128]) torch.Size([4, 128]) torch.Size([4])\n",
      "torch.Size([4, 128]) torch.Size([4, 128]) torch.Size([4])\n",
      "torch.Size([4, 128]) torch.Size([4, 128]) torch.Size([4])\n",
      "torch.Size([4, 128]) torch.Size([4, 128]) torch.Size([4])\n",
      "torch.Size([4, 128]) torch.Size([4, 128]) torch.Size([4])\n",
      "torch.Size([4, 128]) torch.Size([4, 128]) torch.Size([4])\n",
      "torch.Size([4, 128]) torch.Size([4, 128]) torch.Size([4])\n",
      "torch.Size([4, 128]) torch.Size([4, 128]) torch.Size([4])\n",
      "torch.Size([4, 128]) torch.Size([4, 128]) torch.Size([4])\n",
      "torch.Size([4, 128]) torch.Size([4, 128]) torch.Size([4])\n",
      "torch.Size([4, 128]) torch.Size([4, 128]) torch.Size([4])\n",
      "torch.Size([4, 128]) torch.Size([4, 128]) torch.Size([4])\n",
      "torch.Size([4, 128]) torch.Size([4, 128]) torch.Size([4])\n",
      "torch.Size([4, 128]) torch.Size([4, 128]) torch.Size([4])\n",
      "torch.Size([4, 128]) torch.Size([4, 128]) torch.Size([4])\n",
      "torch.Size([4, 128]) torch.Size([4, 128]) torch.Size([4])\n",
      "torch.Size([4, 128]) torch.Size([4, 128]) torch.Size([4])\n",
      "torch.Size([4, 128]) torch.Size([4, 128]) torch.Size([4])\n",
      "torch.Size([4, 128]) torch.Size([4, 128]) torch.Size([4])\n",
      "torch.Size([4, 128]) torch.Size([4, 128]) torch.Size([4])\n",
      "torch.Size([4, 128]) torch.Size([4, 128]) torch.Size([4])\n",
      "torch.Size([4, 128]) torch.Size([4, 128]) torch.Size([4])\n",
      "torch.Size([4, 128]) torch.Size([4, 128]) torch.Size([4])\n",
      "torch.Size([4, 128]) torch.Size([4, 128]) torch.Size([4])\n",
      "torch.Size([4, 128]) torch.Size([4, 128]) torch.Size([4])\n",
      "torch.Size([4, 128]) torch.Size([4, 128]) torch.Size([4])\n",
      "torch.Size([4, 128]) torch.Size([4, 128]) torch.Size([4])\n",
      "torch.Size([4, 128]) torch.Size([4, 128]) torch.Size([4])\n",
      "torch.Size([4, 128]) torch.Size([4, 128]) torch.Size([4])\n",
      "torch.Size([4, 128]) torch.Size([4, 128]) torch.Size([4])\n",
      "torch.Size([4, 128]) torch.Size([4, 128]) torch.Size([4])\n",
      "torch.Size([4, 128]) torch.Size([4, 128]) torch.Size([4])\n",
      "torch.Size([4, 128]) torch.Size([4, 128]) torch.Size([4])\n",
      "torch.Size([4, 128]) torch.Size([4, 128]) torch.Size([4])\n",
      "torch.Size([4, 128]) torch.Size([4, 128]) torch.Size([4])\n",
      "torch.Size([4, 128]) torch.Size([4, 128]) torch.Size([4])\n",
      "torch.Size([4, 128]) torch.Size([4, 128]) torch.Size([4])\n",
      "torch.Size([4, 128]) torch.Size([4, 128]) torch.Size([4])\n",
      "torch.Size([4, 128]) torch.Size([4, 128]) torch.Size([4])\n",
      "torch.Size([4, 128]) torch.Size([4, 128]) torch.Size([4])\n",
      "torch.Size([4, 128]) torch.Size([4, 128]) torch.Size([4])\n",
      "torch.Size([4, 128]) torch.Size([4, 128]) torch.Size([4])\n",
      "torch.Size([4, 128]) torch.Size([4, 128]) torch.Size([4])\n",
      "torch.Size([4, 128]) torch.Size([4, 128]) torch.Size([4])\n",
      "torch.Size([4, 128]) torch.Size([4, 128]) torch.Size([4])\n",
      "torch.Size([4, 128]) torch.Size([4, 128]) torch.Size([4])\n",
      "torch.Size([4, 128]) torch.Size([4, 128]) torch.Size([4])\n",
      "torch.Size([4, 128]) torch.Size([4, 128]) torch.Size([4])\n",
      "torch.Size([4, 128]) torch.Size([4, 128]) torch.Size([4])\n",
      "torch.Size([4, 128]) torch.Size([4, 128]) torch.Size([4])\n",
      "torch.Size([4, 128]) torch.Size([4, 128]) torch.Size([4])\n",
      "torch.Size([4, 128]) torch.Size([4, 128]) torch.Size([4])\n",
      "torch.Size([4, 128]) torch.Size([4, 128]) torch.Size([4])\n",
      "torch.Size([4, 128]) torch.Size([4, 128]) torch.Size([4])\n",
      "torch.Size([4, 128]) torch.Size([4, 128]) torch.Size([4])\n",
      "torch.Size([4, 128]) torch.Size([4, 128]) torch.Size([4])\n",
      "torch.Size([4, 128]) torch.Size([4, 128]) torch.Size([4])\n",
      "torch.Size([4, 128]) torch.Size([4, 128]) torch.Size([4])\n",
      "torch.Size([4, 128]) torch.Size([4, 128]) torch.Size([4])\n",
      "torch.Size([4, 128]) torch.Size([4, 128]) torch.Size([4])\n",
      "torch.Size([4, 128]) torch.Size([4, 128]) torch.Size([4])\n",
      "torch.Size([4, 128]) torch.Size([4, 128]) torch.Size([4])\n",
      "torch.Size([4, 128]) torch.Size([4, 128]) torch.Size([4])\n",
      "torch.Size([4, 128]) torch.Size([4, 128]) torch.Size([4])\n",
      "torch.Size([4, 128]) torch.Size([4, 128]) torch.Size([4])\n",
      "torch.Size([4, 128]) torch.Size([4, 128]) torch.Size([4])\n",
      "torch.Size([4, 128]) torch.Size([4, 128]) torch.Size([4])\n",
      "torch.Size([4, 128]) torch.Size([4, 128]) torch.Size([4])\n",
      "torch.Size([4, 128]) torch.Size([4, 128]) torch.Size([4])\n",
      "torch.Size([4, 128]) torch.Size([4, 128]) torch.Size([4])\n",
      "torch.Size([4, 128]) torch.Size([4, 128]) torch.Size([4])\n",
      "torch.Size([4, 128]) torch.Size([4, 128]) torch.Size([4])\n",
      "torch.Size([4, 128]) torch.Size([4, 128]) torch.Size([4])\n",
      "torch.Size([4, 128]) torch.Size([4, 128]) torch.Size([4])\n",
      "torch.Size([4, 128]) torch.Size([4, 128]) torch.Size([4])\n",
      "torch.Size([4, 128]) torch.Size([4, 128]) torch.Size([4])\n",
      "torch.Size([4, 128]) torch.Size([4, 128]) torch.Size([4])\n",
      "torch.Size([4, 128]) torch.Size([4, 128]) torch.Size([4])\n",
      "torch.Size([4, 128]) torch.Size([4, 128]) torch.Size([4])\n",
      "torch.Size([4, 128]) torch.Size([4, 128]) torch.Size([4])\n",
      "torch.Size([4, 128]) torch.Size([4, 128]) torch.Size([4])\n",
      "torch.Size([4, 128]) torch.Size([4, 128]) torch.Size([4])\n",
      "torch.Size([4, 128]) torch.Size([4, 128]) torch.Size([4])\n",
      "torch.Size([4, 128]) torch.Size([4, 128]) torch.Size([4])\n",
      "torch.Size([4, 128]) torch.Size([4, 128]) torch.Size([4])\n",
      "torch.Size([4, 128]) torch.Size([4, 128]) torch.Size([4])\n"
     ]
    },
    {
     "data": {
      "text/plain": [
       "(3596, 1044, 6128)"
      ]
     },
     "execution_count": 7,
     "metadata": {},
     "output_type": "execute_result"
    }
   ],
   "source": [
    "# 2. Split data into train, validation, and test samples\n",
    "num_train_samples = num_train_samples\n",
    "num_val_samples = int(0.2 * num_train_samples)\n",
    "train_data = data.iloc[:num_train_samples]\n",
    "val_data = data.iloc[num_train_samples:num_train_samples+num_val_samples]\n",
    "test_data = data.iloc[num_train_samples+num_val_samples:]\n",
    "\n",
    "# 3. Preprocess and Flatten\n",
    "def preprocess_and_flatten(dataframe):\n",
    "    reviews = dataframe['content'].tolist()\n",
    "    labels = dataframe['label'].tolist()\n",
    "    reviews = [review.lower() for review in reviews]\n",
    "    reviews_sentences = [sent_tokenize(review) for review in reviews]\n",
    "    flattened_reviews = [sentence for review in reviews_sentences for sentence in review]\n",
    "    flattened_labels = [label for review, label in zip(reviews_sentences, labels) for sentence in review]\n",
    "    return flattened_reviews, flattened_labels\n",
    "\n",
    "train_reviews, train_labels = preprocess_and_flatten(train_data)\n",
    "val_reviews, val_labels = preprocess_and_flatten(val_data)\n",
    "test_reviews, test_labels = preprocess_and_flatten(test_data)\n",
    "\n",
    "# 4. Tokenization\n",
    "tokenizer = RobertaTokenizer.from_pretrained('roberta-base')\n",
    "train_tokens = tokenizer(train_reviews, padding=True, truncation=True, return_tensors=\"pt\", max_length=max_length)\n",
    "val_tokens = tokenizer(val_reviews, padding=True, truncation=True, return_tensors=\"pt\", max_length=max_length)\n",
    "test_tokens = tokenizer(test_reviews, padding=True, truncation=True, return_tensors=\"pt\", max_length=max_length)\n",
    "\n",
    "# 5. Create DataLoader\n",
    "train_batch_size = 4\n",
    "val_batch_size = 4\n",
    "test_batch_size = 4\n",
    "\n",
    "train_dataset = TensorDataset(train_tokens['input_ids'], train_tokens['attention_mask'], torch.tensor(train_labels))\n",
    "val_dataset = TensorDataset(val_tokens['input_ids'], val_tokens['attention_mask'], torch.tensor(val_labels))\n",
    "test_dataset = TensorDataset(test_tokens['input_ids'], test_tokens['attention_mask'], torch.tensor(test_labels))\n",
    "\n",
    "train_loader = DataLoader(train_dataset, shuffle=True, batch_size=train_batch_size)\n",
    "val_loader = DataLoader(val_dataset, shuffle=False, batch_size=val_batch_size)\n",
    "test_loader = DataLoader(test_dataset, shuffle=False, batch_size=test_batch_size)\n",
    "\n",
    "# Uncomment to test: iterating over the DataLoader\n",
    "for batch in train_loader:\n",
    "    input_ids, attention_mask, labels = batch\n",
    "    print(input_ids.shape, attention_mask.shape, labels.shape)\n",
    "len(train_loader.dataset),len(val_loader.dataset),len(test_loader.dataset)"
   ]
  },
  {
   "cell_type": "code",
   "execution_count": 8,
   "id": "cc7a49b0",
   "metadata": {},
   "outputs": [
    {
     "name": "stderr",
     "output_type": "stream",
     "text": [
      "Some weights of RobertaModel were not initialized from the model checkpoint at roberta-base and are newly initialized: ['roberta.pooler.dense.weight', 'roberta.pooler.dense.bias']\n",
      "You should probably TRAIN this model on a down-stream task to be able to use it for predictions and inference.\n"
     ]
    }
   ],
   "source": [
    "# Set device\n",
    "device = torch.device('cuda' if torch.cuda.is_available() else 'cpu')\n",
    "\n",
    "# Initialize the model\n",
    "model = HBN(d_e, h, m, n, y, dropout_prob).to(device)\n",
    "\n",
    "# Loss and Optimizer\n",
    "criterion = nn.CrossEntropyLoss()\n",
    "optimizer = optim.AdamW(model.parameters(), lr=2e-5, eps=1e-8)\n"
   ]
  },
  {
   "cell_type": "code",
   "execution_count": 9,
   "id": "918b22ca",
   "metadata": {},
   "outputs": [],
   "source": [
    "def train(model, dataloader, optimizer, criterion, device, epoch):\n",
    "    model.train()\n",
    "    total_loss = 0\n",
    "    for batch in tqdm(dataloader, desc=f\"Epoch {epoch + 1}/{num_epochs}\"):\n",
    "        input_ids, attention_mask, labels = batch\n",
    "        \n",
    "        input_ids = input_ids.to(device)\n",
    "        attention_mask = attention_mask.to(device)\n",
    "        labels = labels.to(device)\n",
    "\n",
    "        optimizer.zero_grad()\n",
    "        outputs = model(input_ids, attention_mask)\n",
    "        loss = criterion(outputs, labels)\n",
    "        loss.backward()\n",
    "#         torch.nn.utils.clip_grad_norm_(model.parameters(), max_norm=1.0)\n",
    "        optimizer.step()\n",
    "        \n",
    "        total_loss += loss.item()\n",
    "        \n",
    "    return total_loss / len(dataloader)\n",
    "\n",
    "def evaluate(model, dataloader, criterion, device):\n",
    "    model.eval()\n",
    "    total_loss = 0\n",
    "    correct_predictions = 0\n",
    "    all_preds = []\n",
    "    all_labels = []\n",
    "\n",
    "    with torch.no_grad():\n",
    "        for batch in tqdm(dataloader):\n",
    "            input_ids, attention_mask, labels = batch\n",
    "\n",
    "            input_ids = input_ids.to(device)\n",
    "            attention_mask = attention_mask.to(device)\n",
    "            labels = labels.to(device)\n",
    "\n",
    "            outputs = model(input_ids, attention_mask)\n",
    "            loss = criterion(outputs, labels)\n",
    "            total_loss += loss.item()\n",
    "\n",
    "            _, preds = torch.max(outputs, dim=1)\n",
    "            correct_predictions += torch.sum(preds == labels)\n",
    "            \n",
    "            # For AUC\n",
    "            # Assuming binary classification; you need to get the probabilities for the positive class\n",
    "            probs = torch.nn.functional.softmax(outputs, dim=1)[:, 1]\n",
    "            all_preds.extend(probs.cpu().numpy())\n",
    "            all_labels.extend(labels.cpu().numpy())\n",
    "    \n",
    "    accuracy = correct_predictions.double() / len(dataloader.dataset)\n",
    "    auc = roc_auc_score(all_labels, all_preds)\n",
    "    return total_loss / len(dataloader), accuracy, auc\n",
    "\n"
   ]
  },
  {
   "cell_type": "code",
   "execution_count": 10,
   "id": "7b06eafa",
   "metadata": {
    "scrolled": false
   },
   "outputs": [
    {
     "name": "stderr",
     "output_type": "stream",
     "text": [
      "Epoch 1/50: 100%|█████████████████████████████████████████████████████████████████████| 899/899 [02:49<00:00,  5.30it/s]\n"
     ]
    },
    {
     "name": "stdout",
     "output_type": "stream",
     "text": [
      "Train Loss: 0.4094\n"
     ]
    },
    {
     "name": "stderr",
     "output_type": "stream",
     "text": [
      "100%|█████████████████████████████████████████████████████████████████████████████████| 261/261 [00:41<00:00,  6.30it/s]\n"
     ]
    },
    {
     "name": "stdout",
     "output_type": "stream",
     "text": [
      "Val Loss: 0.5620, Val Accuracy: 0.7308, Val AUC: 0.9544\n"
     ]
    },
    {
     "name": "stderr",
     "output_type": "stream",
     "text": [
      "Epoch 2/50: 100%|█████████████████████████████████████████████████████████████████████| 899/899 [02:49<00:00,  5.29it/s]\n"
     ]
    },
    {
     "name": "stdout",
     "output_type": "stream",
     "text": [
      "Train Loss: 0.2832\n"
     ]
    },
    {
     "name": "stderr",
     "output_type": "stream",
     "text": [
      "100%|█████████████████████████████████████████████████████████████████████████████████| 261/261 [00:26<00:00,  9.85it/s]\n"
     ]
    },
    {
     "name": "stdout",
     "output_type": "stream",
     "text": [
      "Val Loss: 0.2640, Val Accuracy: 0.9128, Val AUC: 0.9503\n"
     ]
    },
    {
     "name": "stderr",
     "output_type": "stream",
     "text": [
      "Epoch 3/50: 100%|█████████████████████████████████████████████████████████████████████| 899/899 [03:06<00:00,  4.82it/s]\n"
     ]
    },
    {
     "name": "stdout",
     "output_type": "stream",
     "text": [
      "Train Loss: 0.2664\n"
     ]
    },
    {
     "name": "stderr",
     "output_type": "stream",
     "text": [
      "100%|█████████████████████████████████████████████████████████████████████████████████| 261/261 [00:27<00:00,  9.58it/s]\n"
     ]
    },
    {
     "name": "stdout",
     "output_type": "stream",
     "text": [
      "Val Loss: 0.2567, Val Accuracy: 0.9119, Val AUC: 0.9478\n"
     ]
    },
    {
     "name": "stderr",
     "output_type": "stream",
     "text": [
      "Epoch 4/50: 100%|█████████████████████████████████████████████████████████████████████| 899/899 [02:35<00:00,  5.77it/s]\n"
     ]
    },
    {
     "name": "stdout",
     "output_type": "stream",
     "text": [
      "Train Loss: 0.2417\n"
     ]
    },
    {
     "name": "stderr",
     "output_type": "stream",
     "text": [
      "100%|█████████████████████████████████████████████████████████████████████████████████| 261/261 [00:32<00:00,  8.10it/s]\n"
     ]
    },
    {
     "name": "stdout",
     "output_type": "stream",
     "text": [
      "Val Loss: 0.2356, Val Accuracy: 0.9148, Val AUC: 0.9476\n"
     ]
    },
    {
     "name": "stderr",
     "output_type": "stream",
     "text": [
      "Epoch 5/50: 100%|█████████████████████████████████████████████████████████████████████| 899/899 [03:36<00:00,  4.14it/s]\n"
     ]
    },
    {
     "name": "stdout",
     "output_type": "stream",
     "text": [
      "Train Loss: 0.2406\n"
     ]
    },
    {
     "name": "stderr",
     "output_type": "stream",
     "text": [
      "100%|█████████████████████████████████████████████████████████████████████████████████| 261/261 [00:25<00:00, 10.08it/s]\n"
     ]
    },
    {
     "name": "stdout",
     "output_type": "stream",
     "text": [
      "Val Loss: 0.2555, Val Accuracy: 0.9080, Val AUC: 0.9473\n"
     ]
    },
    {
     "name": "stderr",
     "output_type": "stream",
     "text": [
      "Epoch 6/50: 100%|█████████████████████████████████████████████████████████████████████| 899/899 [02:29<00:00,  6.00it/s]\n"
     ]
    },
    {
     "name": "stdout",
     "output_type": "stream",
     "text": [
      "Train Loss: 0.2383\n"
     ]
    },
    {
     "name": "stderr",
     "output_type": "stream",
     "text": [
      "100%|█████████████████████████████████████████████████████████████████████████████████| 261/261 [00:26<00:00,  9.73it/s]\n"
     ]
    },
    {
     "name": "stdout",
     "output_type": "stream",
     "text": [
      "Val Loss: 0.2360, Val Accuracy: 0.9004, Val AUC: 0.9491\n"
     ]
    },
    {
     "name": "stderr",
     "output_type": "stream",
     "text": [
      "Epoch 7/50: 100%|█████████████████████████████████████████████████████████████████████| 899/899 [03:06<00:00,  4.82it/s]\n"
     ]
    },
    {
     "name": "stdout",
     "output_type": "stream",
     "text": [
      "Train Loss: 0.2234\n"
     ]
    },
    {
     "name": "stderr",
     "output_type": "stream",
     "text": [
      "100%|█████████████████████████████████████████████████████████████████████████████████| 261/261 [00:28<00:00,  9.12it/s]\n"
     ]
    },
    {
     "name": "stdout",
     "output_type": "stream",
     "text": [
      "Val Loss: 0.2465, Val Accuracy: 0.9080, Val AUC: 0.9464\n"
     ]
    },
    {
     "name": "stderr",
     "output_type": "stream",
     "text": [
      "Epoch 8/50: 100%|█████████████████████████████████████████████████████████████████████| 899/899 [03:28<00:00,  4.32it/s]\n"
     ]
    },
    {
     "name": "stdout",
     "output_type": "stream",
     "text": [
      "Train Loss: 0.2203\n"
     ]
    },
    {
     "name": "stderr",
     "output_type": "stream",
     "text": [
      "100%|█████████████████████████████████████████████████████████████████████████████████| 261/261 [00:31<00:00,  8.35it/s]\n"
     ]
    },
    {
     "name": "stdout",
     "output_type": "stream",
     "text": [
      "Val Loss: 0.3322, Val Accuracy: 0.8688, Val AUC: 0.9443\n"
     ]
    },
    {
     "name": "stderr",
     "output_type": "stream",
     "text": [
      "Epoch 9/50: 100%|█████████████████████████████████████████████████████████████████████| 899/899 [03:24<00:00,  4.40it/s]\n"
     ]
    },
    {
     "name": "stdout",
     "output_type": "stream",
     "text": [
      "Train Loss: 0.2178\n"
     ]
    },
    {
     "name": "stderr",
     "output_type": "stream",
     "text": [
      "100%|█████████████████████████████████████████████████████████████████████████████████| 261/261 [00:25<00:00, 10.08it/s]\n"
     ]
    },
    {
     "name": "stdout",
     "output_type": "stream",
     "text": [
      "Val Loss: 0.2619, Val Accuracy: 0.8994, Val AUC: 0.9387\n"
     ]
    },
    {
     "name": "stderr",
     "output_type": "stream",
     "text": [
      "Epoch 10/50: 100%|████████████████████████████████████████████████████████████████████| 899/899 [03:03<00:00,  4.90it/s]\n"
     ]
    },
    {
     "name": "stdout",
     "output_type": "stream",
     "text": [
      "Train Loss: 0.2126\n"
     ]
    },
    {
     "name": "stderr",
     "output_type": "stream",
     "text": [
      "100%|█████████████████████████████████████████████████████████████████████████████████| 261/261 [00:36<00:00,  7.14it/s]\n"
     ]
    },
    {
     "name": "stdout",
     "output_type": "stream",
     "text": [
      "Val Loss: 0.2612, Val Accuracy: 0.8937, Val AUC: 0.9348\n"
     ]
    },
    {
     "name": "stderr",
     "output_type": "stream",
     "text": [
      "Epoch 11/50: 100%|████████████████████████████████████████████████████████████████████| 899/899 [03:13<00:00,  4.65it/s]\n"
     ]
    },
    {
     "name": "stdout",
     "output_type": "stream",
     "text": [
      "Train Loss: 0.2044\n"
     ]
    },
    {
     "name": "stderr",
     "output_type": "stream",
     "text": [
      "100%|█████████████████████████████████████████████████████████████████████████████████| 261/261 [00:37<00:00,  7.00it/s]\n"
     ]
    },
    {
     "name": "stdout",
     "output_type": "stream",
     "text": [
      "Val Loss: 0.2802, Val Accuracy: 0.8860, Val AUC: 0.9348\n"
     ]
    },
    {
     "name": "stderr",
     "output_type": "stream",
     "text": [
      "Epoch 12/50: 100%|████████████████████████████████████████████████████████████████████| 899/899 [02:26<00:00,  6.14it/s]\n"
     ]
    },
    {
     "name": "stdout",
     "output_type": "stream",
     "text": [
      "Train Loss: 0.2135\n"
     ]
    },
    {
     "name": "stderr",
     "output_type": "stream",
     "text": [
      "100%|█████████████████████████████████████████████████████████████████████████████████| 261/261 [00:26<00:00,  9.88it/s]\n"
     ]
    },
    {
     "name": "stdout",
     "output_type": "stream",
     "text": [
      "Val Loss: 0.2931, Val Accuracy: 0.8860, Val AUC: 0.9317\n"
     ]
    },
    {
     "name": "stderr",
     "output_type": "stream",
     "text": [
      "Epoch 13/50: 100%|████████████████████████████████████████████████████████████████████| 899/899 [02:26<00:00,  6.15it/s]\n"
     ]
    },
    {
     "name": "stdout",
     "output_type": "stream",
     "text": [
      "Train Loss: 0.2051\n"
     ]
    },
    {
     "name": "stderr",
     "output_type": "stream",
     "text": [
      "100%|█████████████████████████████████████████████████████████████████████████████████| 261/261 [00:25<00:00, 10.09it/s]\n"
     ]
    },
    {
     "name": "stdout",
     "output_type": "stream",
     "text": [
      "Val Loss: 0.2678, Val Accuracy: 0.8994, Val AUC: 0.9323\n"
     ]
    },
    {
     "name": "stderr",
     "output_type": "stream",
     "text": [
      "Epoch 14/50: 100%|████████████████████████████████████████████████████████████████████| 899/899 [02:29<00:00,  6.00it/s]\n"
     ]
    },
    {
     "name": "stdout",
     "output_type": "stream",
     "text": [
      "Train Loss: 0.2050\n"
     ]
    },
    {
     "name": "stderr",
     "output_type": "stream",
     "text": [
      "100%|█████████████████████████████████████████████████████████████████████████████████| 261/261 [00:26<00:00,  9.71it/s]\n"
     ]
    },
    {
     "name": "stdout",
     "output_type": "stream",
     "text": [
      "Val Loss: 0.3120, Val Accuracy: 0.8831, Val AUC: 0.9246\n"
     ]
    },
    {
     "name": "stderr",
     "output_type": "stream",
     "text": [
      "Epoch 15/50: 100%|████████████████████████████████████████████████████████████████████| 899/899 [02:33<00:00,  5.87it/s]\n"
     ]
    },
    {
     "name": "stdout",
     "output_type": "stream",
     "text": [
      "Train Loss: 0.1975\n"
     ]
    },
    {
     "name": "stderr",
     "output_type": "stream",
     "text": [
      "100%|█████████████████████████████████████████████████████████████████████████████████| 261/261 [00:27<00:00,  9.60it/s]\n"
     ]
    },
    {
     "name": "stdout",
     "output_type": "stream",
     "text": [
      "Val Loss: 0.2856, Val Accuracy: 0.8956, Val AUC: 0.9276\n"
     ]
    },
    {
     "name": "stderr",
     "output_type": "stream",
     "text": [
      "Epoch 16/50: 100%|████████████████████████████████████████████████████████████████████| 899/899 [02:33<00:00,  5.84it/s]\n"
     ]
    },
    {
     "name": "stdout",
     "output_type": "stream",
     "text": [
      "Train Loss: 0.1930\n"
     ]
    },
    {
     "name": "stderr",
     "output_type": "stream",
     "text": [
      "100%|█████████████████████████████████████████████████████████████████████████████████| 261/261 [00:28<00:00,  9.32it/s]\n"
     ]
    },
    {
     "name": "stdout",
     "output_type": "stream",
     "text": [
      "Val Loss: 0.2844, Val Accuracy: 0.8831, Val AUC: 0.9327\n"
     ]
    },
    {
     "name": "stderr",
     "output_type": "stream",
     "text": [
      "Epoch 17/50: 100%|████████████████████████████████████████████████████████████████████| 899/899 [02:34<00:00,  5.84it/s]\n"
     ]
    },
    {
     "name": "stdout",
     "output_type": "stream",
     "text": [
      "Train Loss: 0.1972\n"
     ]
    },
    {
     "name": "stderr",
     "output_type": "stream",
     "text": [
      "100%|█████████████████████████████████████████████████████████████████████████████████| 261/261 [00:26<00:00,  9.67it/s]\n"
     ]
    },
    {
     "name": "stdout",
     "output_type": "stream",
     "text": [
      "Val Loss: 0.2781, Val Accuracy: 0.9004, Val AUC: 0.9280\n"
     ]
    },
    {
     "name": "stderr",
     "output_type": "stream",
     "text": [
      "Epoch 18/50: 100%|████████████████████████████████████████████████████████████████████| 899/899 [02:32<00:00,  5.90it/s]\n"
     ]
    },
    {
     "name": "stdout",
     "output_type": "stream",
     "text": [
      "Train Loss: 0.1907\n"
     ]
    },
    {
     "name": "stderr",
     "output_type": "stream",
     "text": [
      "100%|█████████████████████████████████████████████████████████████████████████████████| 261/261 [00:26<00:00,  9.72it/s]\n"
     ]
    },
    {
     "name": "stdout",
     "output_type": "stream",
     "text": [
      "Val Loss: 0.3102, Val Accuracy: 0.8985, Val AUC: 0.9245\n"
     ]
    },
    {
     "name": "stderr",
     "output_type": "stream",
     "text": [
      "Epoch 19/50: 100%|████████████████████████████████████████████████████████████████████| 899/899 [02:31<00:00,  5.92it/s]\n"
     ]
    },
    {
     "name": "stdout",
     "output_type": "stream",
     "text": [
      "Train Loss: 0.1872\n"
     ]
    },
    {
     "name": "stderr",
     "output_type": "stream",
     "text": [
      "100%|█████████████████████████████████████████████████████████████████████████████████| 261/261 [00:26<00:00,  9.69it/s]\n"
     ]
    },
    {
     "name": "stdout",
     "output_type": "stream",
     "text": [
      "Val Loss: 0.3183, Val Accuracy: 0.8860, Val AUC: 0.9282\n"
     ]
    },
    {
     "name": "stderr",
     "output_type": "stream",
     "text": [
      "Epoch 20/50: 100%|████████████████████████████████████████████████████████████████████| 899/899 [02:33<00:00,  5.85it/s]\n"
     ]
    },
    {
     "name": "stdout",
     "output_type": "stream",
     "text": [
      "Train Loss: 0.1859\n"
     ]
    },
    {
     "name": "stderr",
     "output_type": "stream",
     "text": [
      "100%|█████████████████████████████████████████████████████████████████████████████████| 261/261 [00:25<00:00, 10.12it/s]\n"
     ]
    },
    {
     "name": "stdout",
     "output_type": "stream",
     "text": [
      "Val Loss: 0.3332, Val Accuracy: 0.8822, Val AUC: 0.9240\n"
     ]
    },
    {
     "name": "stderr",
     "output_type": "stream",
     "text": [
      "Epoch 21/50: 100%|████████████████████████████████████████████████████████████████████| 899/899 [02:25<00:00,  6.18it/s]\n"
     ]
    },
    {
     "name": "stdout",
     "output_type": "stream",
     "text": [
      "Train Loss: 0.1826\n"
     ]
    },
    {
     "name": "stderr",
     "output_type": "stream",
     "text": [
      "100%|█████████████████████████████████████████████████████████████████████████████████| 261/261 [00:26<00:00, 10.00it/s]\n"
     ]
    },
    {
     "name": "stdout",
     "output_type": "stream",
     "text": [
      "Val Loss: 0.3110, Val Accuracy: 0.8985, Val AUC: 0.9341\n"
     ]
    },
    {
     "name": "stderr",
     "output_type": "stream",
     "text": [
      "Epoch 22/50: 100%|████████████████████████████████████████████████████████████████████| 899/899 [02:26<00:00,  6.13it/s]\n"
     ]
    },
    {
     "name": "stdout",
     "output_type": "stream",
     "text": [
      "Train Loss: 0.1883\n"
     ]
    },
    {
     "name": "stderr",
     "output_type": "stream",
     "text": [
      "100%|█████████████████████████████████████████████████████████████████████████████████| 261/261 [00:25<00:00, 10.06it/s]\n"
     ]
    },
    {
     "name": "stdout",
     "output_type": "stream",
     "text": [
      "Val Loss: 0.3446, Val Accuracy: 0.8726, Val AUC: 0.9232\n"
     ]
    },
    {
     "name": "stderr",
     "output_type": "stream",
     "text": [
      "Epoch 23/50: 100%|████████████████████████████████████████████████████████████████████| 899/899 [02:25<00:00,  6.20it/s]\n"
     ]
    },
    {
     "name": "stdout",
     "output_type": "stream",
     "text": [
      "Train Loss: 0.1901\n"
     ]
    },
    {
     "name": "stderr",
     "output_type": "stream",
     "text": [
      "100%|█████████████████████████████████████████████████████████████████████████████████| 261/261 [00:25<00:00, 10.05it/s]\n"
     ]
    },
    {
     "name": "stdout",
     "output_type": "stream",
     "text": [
      "Val Loss: 0.2808, Val Accuracy: 0.8908, Val AUC: 0.9299\n"
     ]
    },
    {
     "name": "stderr",
     "output_type": "stream",
     "text": [
      "Epoch 24/50: 100%|████████████████████████████████████████████████████████████████████| 899/899 [02:26<00:00,  6.15it/s]\n"
     ]
    },
    {
     "name": "stdout",
     "output_type": "stream",
     "text": [
      "Train Loss: 0.1795\n"
     ]
    },
    {
     "name": "stderr",
     "output_type": "stream",
     "text": [
      "100%|█████████████████████████████████████████████████████████████████████████████████| 261/261 [00:26<00:00,  9.92it/s]\n"
     ]
    },
    {
     "name": "stdout",
     "output_type": "stream",
     "text": [
      "Val Loss: 0.2927, Val Accuracy: 0.8975, Val AUC: 0.9294\n"
     ]
    },
    {
     "name": "stderr",
     "output_type": "stream",
     "text": [
      "Epoch 25/50: 100%|████████████████████████████████████████████████████████████████████| 899/899 [02:25<00:00,  6.17it/s]\n"
     ]
    },
    {
     "name": "stdout",
     "output_type": "stream",
     "text": [
      "Train Loss: 0.1796\n"
     ]
    },
    {
     "name": "stderr",
     "output_type": "stream",
     "text": [
      "100%|█████████████████████████████████████████████████████████████████████████████████| 261/261 [00:25<00:00, 10.05it/s]\n"
     ]
    },
    {
     "name": "stdout",
     "output_type": "stream",
     "text": [
      "Val Loss: 0.2981, Val Accuracy: 0.8994, Val AUC: 0.9348\n"
     ]
    },
    {
     "name": "stderr",
     "output_type": "stream",
     "text": [
      "Epoch 26/50: 100%|████████████████████████████████████████████████████████████████████| 899/899 [02:25<00:00,  6.18it/s]\n"
     ]
    },
    {
     "name": "stdout",
     "output_type": "stream",
     "text": [
      "Train Loss: 0.1765\n"
     ]
    },
    {
     "name": "stderr",
     "output_type": "stream",
     "text": [
      "100%|█████████████████████████████████████████████████████████████████████████████████| 261/261 [00:25<00:00, 10.14it/s]\n"
     ]
    },
    {
     "name": "stdout",
     "output_type": "stream",
     "text": [
      "Val Loss: 0.3927, Val Accuracy: 0.8496, Val AUC: 0.9324\n"
     ]
    },
    {
     "name": "stderr",
     "output_type": "stream",
     "text": [
      "Epoch 27/50: 100%|████████████████████████████████████████████████████████████████████| 899/899 [02:45<00:00,  5.43it/s]\n"
     ]
    },
    {
     "name": "stdout",
     "output_type": "stream",
     "text": [
      "Train Loss: 0.1737\n"
     ]
    },
    {
     "name": "stderr",
     "output_type": "stream",
     "text": [
      "100%|█████████████████████████████████████████████████████████████████████████████████| 261/261 [00:26<00:00,  9.79it/s]\n"
     ]
    },
    {
     "name": "stdout",
     "output_type": "stream",
     "text": [
      "Val Loss: 0.2960, Val Accuracy: 0.8851, Val AUC: 0.9276\n"
     ]
    },
    {
     "name": "stderr",
     "output_type": "stream",
     "text": [
      "Epoch 28/50: 100%|████████████████████████████████████████████████████████████████████| 899/899 [02:25<00:00,  6.18it/s]\n"
     ]
    },
    {
     "name": "stdout",
     "output_type": "stream",
     "text": [
      "Train Loss: 0.1677\n"
     ]
    },
    {
     "name": "stderr",
     "output_type": "stream",
     "text": [
      "100%|█████████████████████████████████████████████████████████████████████████████████| 261/261 [00:26<00:00,  9.90it/s]\n"
     ]
    },
    {
     "name": "stdout",
     "output_type": "stream",
     "text": [
      "Val Loss: 0.2880, Val Accuracy: 0.8956, Val AUC: 0.9315\n"
     ]
    },
    {
     "name": "stderr",
     "output_type": "stream",
     "text": [
      "Epoch 29/50: 100%|████████████████████████████████████████████████████████████████████| 899/899 [02:44<00:00,  5.48it/s]\n"
     ]
    },
    {
     "name": "stdout",
     "output_type": "stream",
     "text": [
      "Train Loss: 0.1668\n"
     ]
    },
    {
     "name": "stderr",
     "output_type": "stream",
     "text": [
      "100%|█████████████████████████████████████████████████████████████████████████████████| 261/261 [00:25<00:00, 10.08it/s]\n"
     ]
    },
    {
     "name": "stdout",
     "output_type": "stream",
     "text": [
      "Val Loss: 0.3595, Val Accuracy: 0.8774, Val AUC: 0.9256\n"
     ]
    },
    {
     "name": "stderr",
     "output_type": "stream",
     "text": [
      "Epoch 30/50: 100%|████████████████████████████████████████████████████████████████████| 899/899 [02:25<00:00,  6.16it/s]\n"
     ]
    },
    {
     "name": "stdout",
     "output_type": "stream",
     "text": [
      "Train Loss: 0.1716\n"
     ]
    },
    {
     "name": "stderr",
     "output_type": "stream",
     "text": [
      "100%|█████████████████████████████████████████████████████████████████████████████████| 261/261 [00:26<00:00,  9.92it/s]\n"
     ]
    },
    {
     "name": "stdout",
     "output_type": "stream",
     "text": [
      "Val Loss: 0.4304, Val Accuracy: 0.8554, Val AUC: 0.9304\n"
     ]
    },
    {
     "name": "stderr",
     "output_type": "stream",
     "text": [
      "Epoch 31/50: 100%|████████████████████████████████████████████████████████████████████| 899/899 [02:25<00:00,  6.17it/s]\n"
     ]
    },
    {
     "name": "stdout",
     "output_type": "stream",
     "text": [
      "Train Loss: 0.1633\n"
     ]
    },
    {
     "name": "stderr",
     "output_type": "stream",
     "text": [
      "100%|█████████████████████████████████████████████████████████████████████████████████| 261/261 [00:25<00:00, 10.05it/s]\n"
     ]
    },
    {
     "name": "stdout",
     "output_type": "stream",
     "text": [
      "Val Loss: 0.3347, Val Accuracy: 0.8803, Val AUC: 0.9251\n"
     ]
    },
    {
     "name": "stderr",
     "output_type": "stream",
     "text": [
      "Epoch 32/50: 100%|████████████████████████████████████████████████████████████████████| 899/899 [02:48<00:00,  5.32it/s]\n"
     ]
    },
    {
     "name": "stdout",
     "output_type": "stream",
     "text": [
      "Train Loss: 0.1657\n"
     ]
    },
    {
     "name": "stderr",
     "output_type": "stream",
     "text": [
      "100%|█████████████████████████████████████████████████████████████████████████████████| 261/261 [00:39<00:00,  6.62it/s]\n"
     ]
    },
    {
     "name": "stdout",
     "output_type": "stream",
     "text": [
      "Val Loss: 0.3394, Val Accuracy: 0.8803, Val AUC: 0.9331\n"
     ]
    },
    {
     "name": "stderr",
     "output_type": "stream",
     "text": [
      "Epoch 33/50: 100%|████████████████████████████████████████████████████████████████████| 899/899 [03:12<00:00,  4.66it/s]\n"
     ]
    },
    {
     "name": "stdout",
     "output_type": "stream",
     "text": [
      "Train Loss: 0.1640\n"
     ]
    },
    {
     "name": "stderr",
     "output_type": "stream",
     "text": [
      "100%|█████████████████████████████████████████████████████████████████████████████████| 261/261 [00:25<00:00, 10.13it/s]\n"
     ]
    },
    {
     "name": "stdout",
     "output_type": "stream",
     "text": [
      "Val Loss: 0.3985, Val Accuracy: 0.8669, Val AUC: 0.9280\n"
     ]
    },
    {
     "name": "stderr",
     "output_type": "stream",
     "text": [
      "Epoch 34/50: 100%|████████████████████████████████████████████████████████████████████| 899/899 [02:58<00:00,  5.03it/s]\n"
     ]
    },
    {
     "name": "stdout",
     "output_type": "stream",
     "text": [
      "Train Loss: 0.1593\n"
     ]
    },
    {
     "name": "stderr",
     "output_type": "stream",
     "text": [
      "100%|█████████████████████████████████████████████████████████████████████████████████| 261/261 [00:27<00:00,  9.53it/s]\n"
     ]
    },
    {
     "name": "stdout",
     "output_type": "stream",
     "text": [
      "Val Loss: 0.3273, Val Accuracy: 0.8898, Val AUC: 0.9273\n"
     ]
    },
    {
     "name": "stderr",
     "output_type": "stream",
     "text": [
      "Epoch 35/50: 100%|████████████████████████████████████████████████████████████████████| 899/899 [03:07<00:00,  4.79it/s]\n"
     ]
    },
    {
     "name": "stdout",
     "output_type": "stream",
     "text": [
      "Train Loss: 0.1632\n"
     ]
    },
    {
     "name": "stderr",
     "output_type": "stream",
     "text": [
      "100%|█████████████████████████████████████████████████████████████████████████████████| 261/261 [00:28<00:00,  9.05it/s]\n"
     ]
    },
    {
     "name": "stdout",
     "output_type": "stream",
     "text": [
      "Val Loss: 0.3561, Val Accuracy: 0.8870, Val AUC: 0.9214\n"
     ]
    },
    {
     "name": "stderr",
     "output_type": "stream",
     "text": [
      "Epoch 36/50: 100%|████████████████████████████████████████████████████████████████████| 899/899 [03:05<00:00,  4.83it/s]\n"
     ]
    },
    {
     "name": "stdout",
     "output_type": "stream",
     "text": [
      "Train Loss: 0.1545\n"
     ]
    },
    {
     "name": "stderr",
     "output_type": "stream",
     "text": [
      "100%|█████████████████████████████████████████████████████████████████████████████████| 261/261 [00:30<00:00,  8.66it/s]\n"
     ]
    },
    {
     "name": "stdout",
     "output_type": "stream",
     "text": [
      "Val Loss: 0.3359, Val Accuracy: 0.8860, Val AUC: 0.9260\n"
     ]
    },
    {
     "name": "stderr",
     "output_type": "stream",
     "text": [
      "Epoch 37/50: 100%|████████████████████████████████████████████████████████████████████| 899/899 [03:11<00:00,  4.70it/s]\n"
     ]
    },
    {
     "name": "stdout",
     "output_type": "stream",
     "text": [
      "Train Loss: 0.1628\n"
     ]
    },
    {
     "name": "stderr",
     "output_type": "stream",
     "text": [
      "100%|█████████████████████████████████████████████████████████████████████████████████| 261/261 [00:27<00:00,  9.53it/s]\n"
     ]
    },
    {
     "name": "stdout",
     "output_type": "stream",
     "text": [
      "Val Loss: 0.4836, Val Accuracy: 0.8458, Val AUC: 0.9243\n"
     ]
    },
    {
     "name": "stderr",
     "output_type": "stream",
     "text": [
      "Epoch 38/50: 100%|████████████████████████████████████████████████████████████████████| 899/899 [02:28<00:00,  6.05it/s]\n"
     ]
    },
    {
     "name": "stdout",
     "output_type": "stream",
     "text": [
      "Train Loss: 0.1518\n"
     ]
    },
    {
     "name": "stderr",
     "output_type": "stream",
     "text": [
      "100%|█████████████████████████████████████████████████████████████████████████████████| 261/261 [00:26<00:00,  9.72it/s]\n"
     ]
    },
    {
     "name": "stdout",
     "output_type": "stream",
     "text": [
      "Val Loss: 0.4073, Val Accuracy: 0.8506, Val AUC: 0.9267\n"
     ]
    },
    {
     "name": "stderr",
     "output_type": "stream",
     "text": [
      "Epoch 39/50: 100%|████████████████████████████████████████████████████████████████████| 899/899 [02:28<00:00,  6.07it/s]\n"
     ]
    },
    {
     "name": "stdout",
     "output_type": "stream",
     "text": [
      "Train Loss: 0.1569\n"
     ]
    },
    {
     "name": "stderr",
     "output_type": "stream",
     "text": [
      "100%|█████████████████████████████████████████████████████████████████████████████████| 261/261 [00:27<00:00,  9.62it/s]\n"
     ]
    },
    {
     "name": "stdout",
     "output_type": "stream",
     "text": [
      "Val Loss: 0.3112, Val Accuracy: 0.8937, Val AUC: 0.9281\n"
     ]
    },
    {
     "name": "stderr",
     "output_type": "stream",
     "text": [
      "Epoch 40/50: 100%|████████████████████████████████████████████████████████████████████| 899/899 [02:30<00:00,  5.96it/s]\n"
     ]
    },
    {
     "name": "stdout",
     "output_type": "stream",
     "text": [
      "Train Loss: 0.1538\n"
     ]
    },
    {
     "name": "stderr",
     "output_type": "stream",
     "text": [
      "100%|█████████████████████████████████████████████████████████████████████████████████| 261/261 [00:27<00:00,  9.48it/s]\n"
     ]
    },
    {
     "name": "stdout",
     "output_type": "stream",
     "text": [
      "Val Loss: 0.3039, Val Accuracy: 0.8946, Val AUC: 0.9318\n"
     ]
    },
    {
     "name": "stderr",
     "output_type": "stream",
     "text": [
      "Epoch 41/50: 100%|████████████████████████████████████████████████████████████████████| 899/899 [02:35<00:00,  5.77it/s]\n"
     ]
    },
    {
     "name": "stdout",
     "output_type": "stream",
     "text": [
      "Train Loss: 0.1462\n"
     ]
    },
    {
     "name": "stderr",
     "output_type": "stream",
     "text": [
      "100%|█████████████████████████████████████████████████████████████████████████████████| 261/261 [00:27<00:00,  9.37it/s]\n"
     ]
    },
    {
     "name": "stdout",
     "output_type": "stream",
     "text": [
      "Val Loss: 0.3809, Val Accuracy: 0.8956, Val AUC: 0.9269\n"
     ]
    },
    {
     "name": "stderr",
     "output_type": "stream",
     "text": [
      "Epoch 42/50: 100%|████████████████████████████████████████████████████████████████████| 899/899 [02:33<00:00,  5.86it/s]\n"
     ]
    },
    {
     "name": "stdout",
     "output_type": "stream",
     "text": [
      "Train Loss: 0.1442\n"
     ]
    },
    {
     "name": "stderr",
     "output_type": "stream",
     "text": [
      "100%|█████████████████████████████████████████████████████████████████████████████████| 261/261 [00:26<00:00,  9.79it/s]\n"
     ]
    },
    {
     "name": "stdout",
     "output_type": "stream",
     "text": [
      "Val Loss: 0.3787, Val Accuracy: 0.8870, Val AUC: 0.9162\n"
     ]
    },
    {
     "name": "stderr",
     "output_type": "stream",
     "text": [
      "Epoch 43/50: 100%|████████████████████████████████████████████████████████████████████| 899/899 [02:33<00:00,  5.86it/s]\n"
     ]
    },
    {
     "name": "stdout",
     "output_type": "stream",
     "text": [
      "Train Loss: 0.1470\n"
     ]
    },
    {
     "name": "stderr",
     "output_type": "stream",
     "text": [
      "100%|█████████████████████████████████████████████████████████████████████████████████| 261/261 [00:27<00:00,  9.58it/s]\n"
     ]
    },
    {
     "name": "stdout",
     "output_type": "stream",
     "text": [
      "Val Loss: 0.3442, Val Accuracy: 0.8927, Val AUC: 0.9290\n"
     ]
    },
    {
     "name": "stderr",
     "output_type": "stream",
     "text": [
      "Epoch 44/50: 100%|████████████████████████████████████████████████████████████████████| 899/899 [02:38<00:00,  5.67it/s]\n"
     ]
    },
    {
     "name": "stdout",
     "output_type": "stream",
     "text": [
      "Train Loss: 0.1421\n"
     ]
    },
    {
     "name": "stderr",
     "output_type": "stream",
     "text": [
      "100%|█████████████████████████████████████████████████████████████████████████████████| 261/261 [00:26<00:00,  9.68it/s]\n"
     ]
    },
    {
     "name": "stdout",
     "output_type": "stream",
     "text": [
      "Val Loss: 0.3980, Val Accuracy: 0.8707, Val AUC: 0.9247\n"
     ]
    },
    {
     "name": "stderr",
     "output_type": "stream",
     "text": [
      "Epoch 45/50: 100%|████████████████████████████████████████████████████████████████████| 899/899 [02:39<00:00,  5.65it/s]\n"
     ]
    },
    {
     "name": "stdout",
     "output_type": "stream",
     "text": [
      "Train Loss: 0.1368\n"
     ]
    },
    {
     "name": "stderr",
     "output_type": "stream",
     "text": [
      "100%|█████████████████████████████████████████████████████████████████████████████████| 261/261 [00:26<00:00,  9.70it/s]\n"
     ]
    },
    {
     "name": "stdout",
     "output_type": "stream",
     "text": [
      "Val Loss: 0.3551, Val Accuracy: 0.8994, Val AUC: 0.9333\n"
     ]
    },
    {
     "name": "stderr",
     "output_type": "stream",
     "text": [
      "Epoch 46/50: 100%|████████████████████████████████████████████████████████████████████| 899/899 [02:39<00:00,  5.63it/s]\n"
     ]
    },
    {
     "name": "stdout",
     "output_type": "stream",
     "text": [
      "Train Loss: 0.1321\n"
     ]
    },
    {
     "name": "stderr",
     "output_type": "stream",
     "text": [
      "100%|█████████████████████████████████████████████████████████████████████████████████| 261/261 [00:26<00:00,  9.91it/s]\n"
     ]
    },
    {
     "name": "stdout",
     "output_type": "stream",
     "text": [
      "Val Loss: 0.3572, Val Accuracy: 0.8822, Val AUC: 0.9254\n"
     ]
    },
    {
     "name": "stderr",
     "output_type": "stream",
     "text": [
      "Epoch 47/50: 100%|████████████████████████████████████████████████████████████████████| 899/899 [02:37<00:00,  5.72it/s]\n"
     ]
    },
    {
     "name": "stdout",
     "output_type": "stream",
     "text": [
      "Train Loss: 0.1358\n"
     ]
    },
    {
     "name": "stderr",
     "output_type": "stream",
     "text": [
      "100%|█████████████████████████████████████████████████████████████████████████████████| 261/261 [00:26<00:00,  9.95it/s]\n"
     ]
    },
    {
     "name": "stdout",
     "output_type": "stream",
     "text": [
      "Val Loss: 0.3869, Val Accuracy: 0.8812, Val AUC: 0.9239\n"
     ]
    },
    {
     "name": "stderr",
     "output_type": "stream",
     "text": [
      "Epoch 48/50: 100%|████████████████████████████████████████████████████████████████████| 899/899 [02:37<00:00,  5.72it/s]\n"
     ]
    },
    {
     "name": "stdout",
     "output_type": "stream",
     "text": [
      "Train Loss: 0.1317\n"
     ]
    },
    {
     "name": "stderr",
     "output_type": "stream",
     "text": [
      "100%|█████████████████████████████████████████████████████████████████████████████████| 261/261 [00:26<00:00,  9.90it/s]\n"
     ]
    },
    {
     "name": "stdout",
     "output_type": "stream",
     "text": [
      "Val Loss: 0.3731, Val Accuracy: 0.8889, Val AUC: 0.9223\n"
     ]
    },
    {
     "name": "stderr",
     "output_type": "stream",
     "text": [
      "Epoch 49/50: 100%|████████████████████████████████████████████████████████████████████| 899/899 [02:37<00:00,  5.72it/s]\n"
     ]
    },
    {
     "name": "stdout",
     "output_type": "stream",
     "text": [
      "Train Loss: 0.1339\n"
     ]
    },
    {
     "name": "stderr",
     "output_type": "stream",
     "text": [
      "100%|█████████████████████████████████████████████████████████████████████████████████| 261/261 [00:26<00:00,  9.89it/s]\n"
     ]
    },
    {
     "name": "stdout",
     "output_type": "stream",
     "text": [
      "Val Loss: 0.3652, Val Accuracy: 0.8851, Val AUC: 0.9200\n"
     ]
    },
    {
     "name": "stderr",
     "output_type": "stream",
     "text": [
      "Epoch 50/50: 100%|████████████████████████████████████████████████████████████████████| 899/899 [02:37<00:00,  5.71it/s]\n"
     ]
    },
    {
     "name": "stdout",
     "output_type": "stream",
     "text": [
      "Train Loss: 0.1270\n"
     ]
    },
    {
     "name": "stderr",
     "output_type": "stream",
     "text": [
      "100%|█████████████████████████████████████████████████████████████████████████████████| 261/261 [00:26<00:00,  9.80it/s]"
     ]
    },
    {
     "name": "stdout",
     "output_type": "stream",
     "text": [
      "Val Loss: 0.3892, Val Accuracy: 0.8688, Val AUC: 0.9190\n"
     ]
    },
    {
     "name": "stderr",
     "output_type": "stream",
     "text": [
      "\n"
     ]
    }
   ],
   "source": [
    "# Actual Training Loop\n",
    "train_loss_epoch = []\n",
    "test_loss_epoch = []\n",
    "auc = []\n",
    "for epoch in range(num_epochs):\n",
    "    train_loss = train(model, train_loader, optimizer, criterion, device, epoch)\n",
    "    print(f\"Train Loss: {train_loss:.4f}\")\n",
    "    val_loss, val_accuracy, val_auc = evaluate(model, val_loader, criterion, device)\n",
    "    print(f\"Val Loss: {val_loss:.4f}, Val Accuracy: {val_accuracy:.4f}, Val AUC: {val_auc:.4f}\")\n",
    "    train_loss_epoch.append(train_loss)\n",
    "    test_loss_epoch.append(val_loss)\n",
    "    auc.append(val_auc)"
   ]
  },
  {
   "cell_type": "code",
   "execution_count": 11,
   "id": "c4b3f402",
   "metadata": {},
   "outputs": [
    {
     "data": {
      "image/png": "[encoded data removed]",
      "text/plain": [
       "<Figure size 1000x600 with 1 Axes>"
      ]
     },
     "metadata": {},
     "output_type": "display_data"
    }
   ],
   "source": [
    "import matplotlib.pyplot as plt\n",
    "\n",
    "# Plot Loss vs. Epoch\n",
    "epochs = range(1, num_epochs + 1)\n",
    "\n",
    "plt.figure(figsize=(10, 6))\n",
    "plt.plot(epochs, train_loss_epoch, label='Training Loss')\n",
    "plt.plot(epochs, test_loss_epoch, label='Validation Loss')\n",
    "plt.plot(epochs, auc, label='auc')\n",
    "plt.xlabel('Epoch')\n",
    "plt.ylabel('Loss')\n",
    "plt.title('Loss vs. Epoch')\n",
    "plt.legend()\n",
    "plt.grid(True)\n",
    "plt.show()\n"
   ]
  },
  {
   "cell_type": "code",
   "execution_count": 12,
   "id": "608be86b",
   "metadata": {},
   "outputs": [
    {
     "name": "stderr",
     "output_type": "stream",
     "text": [
      "100%|███████████████████████████████████████████████████████████████████████████████| 1532/1532 [03:21<00:00,  7.60it/s]"
     ]
    },
    {
     "name": "stdout",
     "output_type": "stream",
     "text": [
      "Val Loss: 0.3079, Val Accuracy: 0.8944, Val AUC: 0.9573\n"
     ]
    },
    {
     "name": "stderr",
     "output_type": "stream",
     "text": [
      "\n"
     ]
    }
   ],
   "source": [
    "val_loss, val_accuracy, val_auc = evaluate(model, test_loader, criterion, device)\n",
    "print(f\"Val Loss: {val_loss:.4f}, Val Accuracy: {val_accuracy:.4f}, Val AUC: {val_auc:.4f}\")"
   ]
  },
  {
   "cell_type": "code",
   "execution_count": 13,
   "id": "a2abce0b",
   "metadata": {},
   "outputs": [
    {
     "data": {
      "text/plain": [
       "6128"
      ]
     },
     "execution_count": 13,
     "metadata": {},
     "output_type": "execute_result"
    }
   ],
   "source": [
    "len(test_loader.dataset)"
   ]
  },
  {
   "cell_type": "code",
   "execution_count": null,
   "id": "5c1acd6b",
   "metadata": {},
   "outputs": [],
   "source": []
  }
 ],
 "metadata": {
  "kernelspec": {
   "display_name": "Python 3 (ipykernel)",
   "language": "python",
   "name": "python3"
  },
  "language_info": {
   "codemirror_mode": {
    "name": "ipython",
    "version": 3
   },
   "file_extension": ".py",
   "mimetype": "text/x-python",
   "name": "python",
   "nbconvert_exporter": "python",
   "pygments_lexer": "ipython3",
   "version": "3.10.11"
  }
 },
 "nbformat": 4,
 "nbformat_minor": 5
}
