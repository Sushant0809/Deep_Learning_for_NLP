{
 "cells": [
  {
   "cell_type": "code",
   "execution_count": 30,
   "id": "fe854067",
   "metadata": {},
   "outputs": [],
   "source": [
    "import numpy as np\n",
    "import random\n",
    "import torch\n",
    "import os\n",
    "import spacy\n",
    "from torchtext.vocab import GloVe, FastText\n",
    "from torch.utils.data.sampler import SubsetRandomSampler\n",
    "from torch.utils.data import DataLoader\n",
    "from sklearn.metrics import classification_report, accuracy_score\n",
    "import torch.nn as nn\n",
    "import torch.nn.functional as F\n",
    "from tqdm import tqdm\n",
    "import pandas as pd\n",
    "import math\n",
    "from torchsummary import summary"
   ]
  },
  {
   "cell_type": "code",
   "execution_count": 2,
   "id": "e005073e",
   "metadata": {},
   "outputs": [],
   "source": [
    "def set_seed(seed = 42):\n",
    "    '''\n",
    "        For Reproducibility: Sets the seed of the entire notebook.\n",
    "    '''\n",
    "\n",
    "    np.random.seed(seed)\n",
    "    random.seed(seed)\n",
    "    torch.manual_seed(seed)\n",
    "    torch.cuda.manual_seed(seed)\n",
    "    \n",
    "    # When running on the CuDNN backend, two further options must be set\n",
    "    torch.backends.cudnn.deterministic = True\n",
    "    torch.backends.cudnn.benchmark = True\n",
    "    \n",
    "    # Sets a fixed value for the hash seed\n",
    "    os.environ['PYTHONHASHSEED'] = str(seed)\n",
    "\n",
    "set_seed(1)\n"
   ]
  },
  {
   "cell_type": "code",
   "execution_count": 3,
   "id": "cff48b02",
   "metadata": {},
   "outputs": [],
   "source": [
    "dataset_file = open(\"./Assignment2aDataset.txt\", \"r\").read()\n",
    "dataset_lines = dataset_file.splitlines()\n",
    "\n",
    "dataset = []\n",
    "for line in dataset_lines:\n",
    "    x, y = line.split(',')\n",
    "    x, y = x.lower().strip()[1:-1], y.lower().strip()[1:-1]\n",
    "    \n",
    "    if '/' in x:\n",
    "        x = x.split('/')\n",
    "    else:\n",
    "        x = x.split(' ')\n",
    "        \n",
    "    dataset.append((x, y))"
   ]
  },
  {
   "cell_type": "code",
   "execution_count": 4,
   "id": "a8339130",
   "metadata": {},
   "outputs": [],
   "source": [
    "dataset_preprocessed = []\n",
    "\n",
    "for x, y in dataset:\n",
    "\n",
    "    x_prepro = []\n",
    "    for word in x:\n",
    "        x_prepro.append(word)\n",
    "\n",
    "    labels = []\n",
    "    for label in y:\n",
    "        if label == '-':\n",
    "            labels.append(10)\n",
    "        else:\n",
    "            labels.append(int(label))\n",
    "    dataset_preprocessed.append((x_prepro, labels))"
   ]
  },
  {
   "cell_type": "code",
   "execution_count": 5,
   "id": "5fd59ee6",
   "metadata": {},
   "outputs": [
    {
     "data": {
      "text/plain": [
       "[1, 7, 1, 2, 10, 0, 1, 10, 2, 7]"
      ]
     },
     "execution_count": 5,
     "metadata": {},
     "output_type": "execute_result"
    }
   ],
   "source": [
    "labels"
   ]
  },
  {
   "cell_type": "code",
   "execution_count": 6,
   "id": "13183acd",
   "metadata": {},
   "outputs": [],
   "source": [
    "vocabulary = set()\n",
    "vocab_to_ids = {}\n",
    "ids = 1\n",
    "for x, y in dataset_preprocessed:\n",
    "    for i in x:\n",
    "        vocabulary.add(i)\n",
    "        if i not in vocab_to_ids:\n",
    "            vocab_to_ids[i] = ids\n",
    "            ids += 1\n",
    "vocab_to_ids['unk'] = ids"
   ]
  },
  {
   "cell_type": "code",
   "execution_count": 7,
   "id": "b97e3df6",
   "metadata": {},
   "outputs": [],
   "source": [
    "dataset_corpus = []\n",
    "for x, y in dataset_preprocessed:\n",
    "    x_ids = []\n",
    "    for i in x:\n",
    "        x_ids.append(vocab_to_ids[i])\n",
    "    dataset_corpus.append((x_ids, y))"
   ]
  },
  {
   "cell_type": "code",
   "execution_count": 8,
   "id": "74aa448d",
   "metadata": {},
   "outputs": [],
   "source": [
    "# Downloads GloVe and FastText\n",
    "global_vectors = GloVe(name='840B', dim=300)\n",
    "\n",
    "emb_dim = 300\n",
    "embeds = torch.zeros(len(vocab_to_ids) + 1, emb_dim)\n",
    "\n",
    "for token, idx in vocab_to_ids.items():\n",
    "    embeds[idx] = global_vectors[token] "
   ]
  },
  {
   "cell_type": "code",
   "execution_count": null,
   "id": "2ad14545",
   "metadata": {},
   "outputs": [],
   "source": []
  },
  {
   "cell_type": "code",
   "execution_count": 9,
   "id": "e7f299b1",
   "metadata": {},
   "outputs": [],
   "source": [
    "# Train-Valid split of 80-20\n",
    "def split_indices(n, val_pct):\n",
    "\n",
    "    # Determine size of Validation set\n",
    "    n_val = int(val_pct * n)\n",
    "\n",
    "    # Create random permutation of 0 to n-1\n",
    "    idxs = np.random.permutation(n)\n",
    "    return idxs[n_val:], idxs[:n_val]\n",
    "\n",
    "train_indices, val_indices = split_indices(len(dataset_corpus), 0.2)"
   ]
  },
  {
   "cell_type": "code",
   "execution_count": 10,
   "id": "071ec051",
   "metadata": {},
   "outputs": [],
   "source": [
    "from torch.nn.utils.rnn import pad_sequence\n",
    "\n",
    "# ----------- Batching the data -----------\n",
    "def collate_fn(instn):\n",
    "    sentence = [torch.Tensor(x[0]) for x in instn]\n",
    "    labels = torch.Tensor([x[1] for x in instn])\n",
    "\n",
    "    padded_sent = pad_sequence(sentence, batch_first=True, padding_value=0)\n",
    "\n",
    "    l = torch.cat((labels[:, 0], labels[:, 1],labels[:, 2],labels[:, 3],labels[:, 4],labels[:, 5],labels[:, 6],labels[:, 7],labels[:, 8],labels[:, 9]), dim = 0)\n",
    "\n",
    "    return (padded_sent.long(), l.long())\n",
    "\n",
    "\n",
    "batch_size = 64\n",
    "\n",
    "train_sampler   = SubsetRandomSampler(train_indices)\n",
    "train_loader    = DataLoader(dataset_corpus, batch_size, sampler=train_sampler, collate_fn=collate_fn)\n",
    "\n",
    "val_sampler     = SubsetRandomSampler(val_indices)\n",
    "val_loader      = DataLoader(dataset_corpus, batch_size, sampler=val_sampler, collate_fn=collate_fn)"
   ]
  },
  {
   "cell_type": "code",
   "execution_count": 11,
   "id": "f6a3221e",
   "metadata": {},
   "outputs": [
    {
     "data": {
      "text/plain": [
       "[1, 6, 3, 0, 10, 0, 5, 10, 0, 9]"
      ]
     },
     "execution_count": 11,
     "metadata": {},
     "output_type": "execute_result"
    }
   ],
   "source": [
    "(train_loader.dataset[1][1])"
   ]
  },
  {
   "cell_type": "code",
   "execution_count": 12,
   "id": "6185e78d",
   "metadata": {},
   "outputs": [],
   "source": [
    "if torch.cuda.is_available():\n",
    "    device = torch.device(\"cuda:1\")\n",
    "else:\n",
    "    device = torch.device(\"cpu\")"
   ]
  },
  {
   "cell_type": "code",
   "execution_count": 13,
   "id": "c2dcb0ab",
   "metadata": {},
   "outputs": [],
   "source": [
    "# class TransformerEncoder(nn.Module):\n",
    "#     def __init__(self, embeds, num_layers, num_heads, hidden_dim, dropout, max_seq_length):\n",
    "#         super(TransformerEncoder, self).__init__()\n",
    "#         self.embedding = nn.Embedding.from_pretrained(embeds, padding_idx=0, freeze=False)\n",
    "#         self.positional_embedding = nn.Embedding(max_seq_length, emb_dim)\n",
    "#         self.dropout = nn.Dropout(dropout)\n",
    "\n",
    "#         self.transformer_layers = nn.ModuleList([\n",
    "#             nn.TransformerEncoderLayer(\n",
    "#                 d_model=emb_dim,\n",
    "#                 nhead=num_heads,\n",
    "#                 dim_feedforward=hidden_dim,\n",
    "#                 dropout=dropout\n",
    "#             ) for _ in range(num_layers)\n",
    "#         ])\n",
    "\n",
    "#         # Define the classifier to map the embedding dimension to the number of classes\n",
    "#         self.classifier = nn.Linear(emb_dim * 4, 10) \n",
    "\n",
    "#     def forward(self, src):\n",
    "#         # Error checking\n",
    "#         if src.shape[1] > max_seq_length:\n",
    "#             raise ValueError(f\"Input sequence length ({src.shape[1]}) exceeds max_seq_length ({max_seq_length}). Consider increasing max_seq_length.\")\n",
    "\n",
    "#         # Create a tensor of positional indices\n",
    "#         positions = torch.arange(0, src.shape[1], dtype=torch.long, device=src.device).unsqueeze(0).repeat(src.shape[0], 1)\n",
    "\n",
    "#         # Get word embeddings and positional embeddings\n",
    "#         word_embeddings = self.embedding(src)\n",
    "#         pos_embeddings = self.positional_embedding(positions)\n",
    "\n",
    "#         # Sum the embeddings and apply dropout\n",
    "#         x = word_embeddings + pos_embeddings\n",
    "#         x = self.dropout(x)\n",
    "\n",
    "#         # Pass through transformer layers\n",
    "#         for layer in self.transformer_layers:\n",
    "#             x = layer(x)\n",
    "    \n",
    "# #         print(x.shape)\n",
    "        \n",
    "#         x=x.view(x.size(0), -1)\n",
    "# #         print(x.shape)\n",
    "#         # Pass through the classifier\n",
    "#         x = self.classifier(x)\n",
    "# #         print(x.shape)\n",
    "    \n",
    "#         return x\n",
    "\n",
    "\n",
    "\n",
    "# # # Define the TransformerModel class with separate trg_max_seq_length and output_dim\n",
    "# # class TransformerModel(nn.Module):\n",
    "# #     def __init__(self, src_embeds, trg_embeds, num_layers, num_heads, hidden_dim, output_dim, dropout, src_max_seq_length, trg_max_seq_length):\n",
    "# #         super(TransformerModel, self).__init__()\n",
    "# #         self.encoder = TransformerEncoder(src_embeds, num_layers, num_heads, hidden_dim, dropout, src_max_seq_length)\n",
    "# #         self.decoder = TransformerDecoder(trg_embeds, num_layers, num_heads, hidden_dim, output_dim, dropout, trg_max_seq_length)\n",
    "\n",
    "# #     def forward(self, src, trg):\n",
    "# #         enc_output = self.encoder(src)\n",
    "# #         output = self.decoder(trg, enc_output)\n",
    "# #         return output\n"
   ]
  },
  {
   "cell_type": "code",
   "execution_count": 28,
   "id": "67e115a2",
   "metadata": {},
   "outputs": [],
   "source": [
    "class ScaledDotProductAttention(nn.Module):\n",
    "    def __init__(self, dropout=0.1):\n",
    "        super().__init__()\n",
    "        self.dropout = nn.Dropout(dropout)\n",
    "    \n",
    "    def forward(self, q, k, v, mask=None):\n",
    "        d_k = q.size(-1)\n",
    "        attn_logits = torch.matmul(q, k.transpose(-2, -1))\n",
    "        attn_logits = attn_logits / math.sqrt(d_k)\n",
    "        if mask is not None:\n",
    "            attn_logits = attn_logits.masked_fill(mask == 0, -1e9)\n",
    "        attn_weights = F.softmax(attn_logits, dim=-1)\n",
    "        attn_weights = self.dropout(attn_weights)\n",
    "        output = torch.matmul(attn_weights, v)\n",
    "        return output\n",
    "    \n",
    "    \n",
    "class MultiHeadAttention(nn.Module):\n",
    "    def __init__(self, num_heads, d_model, dropout=0.1):\n",
    "        super().__init__()\n",
    "        assert d_model % num_heads == 0\n",
    "        self.d_k = d_model // num_heads\n",
    "        self.num_heads = num_heads\n",
    "        self.q_linear = nn.Linear(d_model, d_model)\n",
    "        self.k_linear = nn.Linear(d_model, d_model)\n",
    "        self.v_linear = nn.Linear(d_model, d_model)\n",
    "        self.dropout = nn.Dropout(dropout)\n",
    "        self.output_linear = nn.Linear(d_model, d_model)\n",
    "        self.attn = ScaledDotProductAttention(dropout)\n",
    "\n",
    "    def forward(self, q, k, v, mask=None):\n",
    "        batch_size = q.size(0)\n",
    "        q = self.q_linear(q).view(batch_size, -1, self.num_heads, self.d_k).transpose(1, 2)\n",
    "        k = self.k_linear(k).view(batch_size, -1, self.num_heads, self.d_k).transpose(1, 2)\n",
    "        v = self.v_linear(v).view(batch_size, -1, self.num_heads, self.d_k).transpose(1, 2)\n",
    "        if mask is not None:\n",
    "            mask = mask.unsqueeze(1)\n",
    "        output = self.attn(q, k, v, mask)\n",
    "        output = output.transpose(1, 2).contiguous().view(batch_size, -1, self.num_heads * self.d_k)\n",
    "        output = self.output_linear(output)\n",
    "        return output\n",
    "    \n",
    "    \n",
    "class PositionalEncoding(nn.Module):\n",
    "    def __init__(self, d_model, max_seq_length=100):\n",
    "        super().__init__()\n",
    "        self.pos_embedding = self.create_pos_embedding(d_model, max_seq_length)\n",
    "\n",
    "    @staticmethod\n",
    "    def create_pos_embedding(d_model, max_seq_length):\n",
    "        pos_embedding = torch.zeros(max_seq_length, d_model)\n",
    "        position = torch.arange(0, max_seq_length).unsqueeze(1)\n",
    "        div_term = torch.exp(torch.arange(0, d_model, 2) * -(math.log(10000.0) / d_model))\n",
    "        pos_embedding[:, 0::2] = torch.sin(position * div_term)\n",
    "        pos_embedding[:, 1::2] = torch.cos(position * div_term)\n",
    "        pos_embedding = pos_embedding.unsqueeze(0)\n",
    "        return pos_embedding\n",
    "\n",
    "    def forward(self, x):\n",
    "        return x + self.pos_embedding[:, :x.size(1)].to(x.device)\n",
    "    \n",
    "    \n",
    "class TransformerEncoderBlock(nn.Module):\n",
    "    def __init__(self, d_model, num_heads, hidden_dim, dropout):\n",
    "        super().__init__()\n",
    "        self.attn = MultiHeadAttention(num_heads, d_model)\n",
    "        self.feed_forward = nn.Sequential(\n",
    "            nn.Linear(d_model, hidden_dim),\n",
    "            nn.ReLU(),\n",
    "            nn.Linear(hidden_dim, d_model)\n",
    "        )\n",
    "        self.layer_norm1 = nn.LayerNorm(d_model)\n",
    "        self.layer_norm2 = nn.LayerNorm(d_model)\n",
    "        self.dropout = nn.Dropout(dropout)\n",
    "\n",
    "    def forward(self, x, mask=None):\n",
    "        attn_output = self.attn(x, x, x, mask)\n",
    "        x = self.layer_norm1(x + self.dropout(attn_output))\n",
    "        ff_output = self.feed_forward(x)\n",
    "        x = self.layer_norm2(x + self.dropout(ff_output))\n",
    "        return x\n",
    "  \n",
    "\n",
    "class TransformerEncoder(nn.Module):\n",
    "    def __init__(self, embeds, num_layers, num_heads, hidden_dim, dropout, max_seq_length):\n",
    "        super().__init__()\n",
    "        self.embeddings = nn.Embedding.from_pretrained(embeds, padding_idx=0, freeze=False)\n",
    "        self.pos_enc = PositionalEncoding(embeds.size(1), max_seq_length)\n",
    "        self.encoder_blocks = nn.ModuleList([\n",
    "            TransformerEncoderBlock(embeds.size(1), num_heads, hidden_dim, dropout) for _ in range(num_layers)\n",
    "        ])\n",
    "        self.output_linear = nn.Linear(embeds.size(1), output_dim)\n",
    "\n",
    "    def forward(self, x):\n",
    "        x = self.embeddings(x)\n",
    "        x = self.pos_enc(x)\n",
    "        for encoder_block in self.encoder_blocks:\n",
    "            x = encoder_block(x)\n",
    "        x = x.mean(dim=1)\n",
    "        x = self.output_linear(x)\n",
    "        return x\n"
   ]
  },
  {
   "cell_type": "code",
   "execution_count": 25,
   "id": "6ccbd120",
   "metadata": {},
   "outputs": [],
   "source": [
    "def exact_match(y_hat, yb):\n",
    "    num_batches = yb.shape[0] // 10  # Calculate the number of batches (assuming 10 samples per batch)\n",
    "    correct_batches = 0  # Initialize a counter for correctly predicted batches\n",
    "\n",
    "    for batch_idx in range(num_batches):\n",
    "        batch_start_idx = batch_idx * 10\n",
    "        batch_end_idx = (batch_idx + 1) * 10\n",
    "\n",
    "        true_labels_batch = yb[batch_start_idx:batch_end_idx]  # Extract true labels for the current batch\n",
    "        predicted_labels_batch = y_hat[batch_start_idx:batch_end_idx]  # Extract predicted labels for the current batch\n",
    "\n",
    "        # Check if all predicted labels in the batch match the true labels\n",
    "        if (true_labels_batch == predicted_labels_batch).all():\n",
    "            correct_batches += 1  # Increment the counter if all predictions in the batch are correct\n",
    "\n",
    "    return correct_batches, num_batches\n"
   ]
  },
  {
   "cell_type": "code",
   "execution_count": 31,
   "id": "ceb613c8",
   "metadata": {},
   "outputs": [
    {
     "data": {
      "text/plain": [
       "TransformerEncoder(\n",
       "  (embeddings): Embedding(699, 300, padding_idx=0)\n",
       "  (pos_enc): PositionalEncoding()\n",
       "  (encoder_blocks): ModuleList(\n",
       "    (0-5): 6 x TransformerEncoderBlock(\n",
       "      (attn): MultiHeadAttention(\n",
       "        (q_linear): Linear(in_features=300, out_features=300, bias=True)\n",
       "        (k_linear): Linear(in_features=300, out_features=300, bias=True)\n",
       "        (v_linear): Linear(in_features=300, out_features=300, bias=True)\n",
       "        (dropout): Dropout(p=0.1, inplace=False)\n",
       "        (output_linear): Linear(in_features=300, out_features=300, bias=True)\n",
       "        (attn): ScaledDotProductAttention(\n",
       "          (dropout): Dropout(p=0.1, inplace=False)\n",
       "        )\n",
       "      )\n",
       "      (feed_forward): Sequential(\n",
       "        (0): Linear(in_features=300, out_features=512, bias=True)\n",
       "        (1): ReLU()\n",
       "        (2): Linear(in_features=512, out_features=300, bias=True)\n",
       "      )\n",
       "      (layer_norm1): LayerNorm((300,), eps=1e-05, elementwise_affine=True)\n",
       "      (layer_norm2): LayerNorm((300,), eps=1e-05, elementwise_affine=True)\n",
       "      (dropout): Dropout(p=0.2, inplace=False)\n",
       "    )\n",
       "  )\n",
       "  (output_linear): Linear(in_features=300, out_features=699, bias=True)\n",
       ")"
      ]
     },
     "execution_count": 31,
     "metadata": {},
     "output_type": "execute_result"
    }
   ],
   "source": [
    "# Initialize and train the Transformer encoder-only model\n",
    "max_seq_length = 100  # Adjust as needed\n",
    "emb_dim = 300  # Embedding dimension, should match your pretrained embeddings\n",
    "num_layers = 6  # Number of transformer layers\n",
    "num_heads = 6  # Number of attention heads\n",
    "hidden_dim = 512  # Hidden dimension of the feedforward layers\n",
    "output_dim = len(vocab_to_ids) + 1  # Output dimension, including the \"unk\" token\n",
    "dropout = 0.2  # Dropout rate\n",
    "\n",
    "# Initialize the Transformer encoder-only model\n",
    "model = TransformerEncoder(embeds, num_layers, num_heads, hidden_dim, dropout, max_seq_length)\n",
    "model.to(device)\n",
    "optimizer = torch.optim.Adam(model.parameters(), lr=1e-3)\n",
    "loss_fn = nn.CrossEntropyLoss()\n",
    "model"
   ]
  },
  {
   "cell_type": "code",
   "execution_count": 34,
   "id": "c7aefc01",
   "metadata": {
    "scrolled": false
   },
   "outputs": [
    {
     "name": "stderr",
     "output_type": "stream",
     "text": [
      "  0%|                                                                                           | 0/500 [00:00<?, ?it/s]\n"
     ]
    },
    {
     "ename": "ValueError",
     "evalue": "Expected input batch_size (64) to match target batch_size (640).",
     "output_type": "error",
     "traceback": [
      "\u001b[0;31m---------------------------------------------------------------------------\u001b[0m",
      "\u001b[0;31mValueError\u001b[0m                                Traceback (most recent call last)",
      "Cell \u001b[0;32mIn[34], line 19\u001b[0m\n\u001b[1;32m     16\u001b[0m xb, yb \u001b[38;5;241m=\u001b[39m xb\u001b[38;5;241m.\u001b[39mto(device), yb\u001b[38;5;241m.\u001b[39mto(device)\n\u001b[1;32m     18\u001b[0m y_hat \u001b[38;5;241m=\u001b[39m model(xb) \n\u001b[0;32m---> 19\u001b[0m loss \u001b[38;5;241m=\u001b[39m \u001b[43mloss_fn\u001b[49m\u001b[43m(\u001b[49m\u001b[43my_hat\u001b[49m\u001b[43m,\u001b[49m\u001b[43m \u001b[49m\u001b[43myb\u001b[49m\u001b[43m)\u001b[49m\n\u001b[1;32m     21\u001b[0m loss\u001b[38;5;241m.\u001b[39mbackward()\n\u001b[1;32m     22\u001b[0m optimizer\u001b[38;5;241m.\u001b[39mstep()\n",
      "File \u001b[0;32m~/anaconda3/lib/python3.10/site-packages/torch/nn/modules/module.py:1501\u001b[0m, in \u001b[0;36mModule._call_impl\u001b[0;34m(self, *args, **kwargs)\u001b[0m\n\u001b[1;32m   1496\u001b[0m \u001b[38;5;66;03m# If we don't have any hooks, we want to skip the rest of the logic in\u001b[39;00m\n\u001b[1;32m   1497\u001b[0m \u001b[38;5;66;03m# this function, and just call forward.\u001b[39;00m\n\u001b[1;32m   1498\u001b[0m \u001b[38;5;28;01mif\u001b[39;00m \u001b[38;5;129;01mnot\u001b[39;00m (\u001b[38;5;28mself\u001b[39m\u001b[38;5;241m.\u001b[39m_backward_hooks \u001b[38;5;129;01mor\u001b[39;00m \u001b[38;5;28mself\u001b[39m\u001b[38;5;241m.\u001b[39m_backward_pre_hooks \u001b[38;5;129;01mor\u001b[39;00m \u001b[38;5;28mself\u001b[39m\u001b[38;5;241m.\u001b[39m_forward_hooks \u001b[38;5;129;01mor\u001b[39;00m \u001b[38;5;28mself\u001b[39m\u001b[38;5;241m.\u001b[39m_forward_pre_hooks\n\u001b[1;32m   1499\u001b[0m         \u001b[38;5;129;01mor\u001b[39;00m _global_backward_pre_hooks \u001b[38;5;129;01mor\u001b[39;00m _global_backward_hooks\n\u001b[1;32m   1500\u001b[0m         \u001b[38;5;129;01mor\u001b[39;00m _global_forward_hooks \u001b[38;5;129;01mor\u001b[39;00m _global_forward_pre_hooks):\n\u001b[0;32m-> 1501\u001b[0m     \u001b[38;5;28;01mreturn\u001b[39;00m \u001b[43mforward_call\u001b[49m\u001b[43m(\u001b[49m\u001b[38;5;241;43m*\u001b[39;49m\u001b[43margs\u001b[49m\u001b[43m,\u001b[49m\u001b[43m \u001b[49m\u001b[38;5;241;43m*\u001b[39;49m\u001b[38;5;241;43m*\u001b[39;49m\u001b[43mkwargs\u001b[49m\u001b[43m)\u001b[49m\n\u001b[1;32m   1502\u001b[0m \u001b[38;5;66;03m# Do not call functions when jit is used\u001b[39;00m\n\u001b[1;32m   1503\u001b[0m full_backward_hooks, non_full_backward_hooks \u001b[38;5;241m=\u001b[39m [], []\n",
      "File \u001b[0;32m~/anaconda3/lib/python3.10/site-packages/torch/nn/modules/loss.py:1174\u001b[0m, in \u001b[0;36mCrossEntropyLoss.forward\u001b[0;34m(self, input, target)\u001b[0m\n\u001b[1;32m   1173\u001b[0m \u001b[38;5;28;01mdef\u001b[39;00m \u001b[38;5;21mforward\u001b[39m(\u001b[38;5;28mself\u001b[39m, \u001b[38;5;28minput\u001b[39m: Tensor, target: Tensor) \u001b[38;5;241m-\u001b[39m\u001b[38;5;241m>\u001b[39m Tensor:\n\u001b[0;32m-> 1174\u001b[0m     \u001b[38;5;28;01mreturn\u001b[39;00m \u001b[43mF\u001b[49m\u001b[38;5;241;43m.\u001b[39;49m\u001b[43mcross_entropy\u001b[49m\u001b[43m(\u001b[49m\u001b[38;5;28;43minput\u001b[39;49m\u001b[43m,\u001b[49m\u001b[43m \u001b[49m\u001b[43mtarget\u001b[49m\u001b[43m,\u001b[49m\u001b[43m \u001b[49m\u001b[43mweight\u001b[49m\u001b[38;5;241;43m=\u001b[39;49m\u001b[38;5;28;43mself\u001b[39;49m\u001b[38;5;241;43m.\u001b[39;49m\u001b[43mweight\u001b[49m\u001b[43m,\u001b[49m\n\u001b[1;32m   1175\u001b[0m \u001b[43m                           \u001b[49m\u001b[43mignore_index\u001b[49m\u001b[38;5;241;43m=\u001b[39;49m\u001b[38;5;28;43mself\u001b[39;49m\u001b[38;5;241;43m.\u001b[39;49m\u001b[43mignore_index\u001b[49m\u001b[43m,\u001b[49m\u001b[43m \u001b[49m\u001b[43mreduction\u001b[49m\u001b[38;5;241;43m=\u001b[39;49m\u001b[38;5;28;43mself\u001b[39;49m\u001b[38;5;241;43m.\u001b[39;49m\u001b[43mreduction\u001b[49m\u001b[43m,\u001b[49m\n\u001b[1;32m   1176\u001b[0m \u001b[43m                           \u001b[49m\u001b[43mlabel_smoothing\u001b[49m\u001b[38;5;241;43m=\u001b[39;49m\u001b[38;5;28;43mself\u001b[39;49m\u001b[38;5;241;43m.\u001b[39;49m\u001b[43mlabel_smoothing\u001b[49m\u001b[43m)\u001b[49m\n",
      "File \u001b[0;32m~/anaconda3/lib/python3.10/site-packages/torch/nn/functional.py:3029\u001b[0m, in \u001b[0;36mcross_entropy\u001b[0;34m(input, target, weight, size_average, ignore_index, reduce, reduction, label_smoothing)\u001b[0m\n\u001b[1;32m   3027\u001b[0m \u001b[38;5;28;01mif\u001b[39;00m size_average \u001b[38;5;129;01mis\u001b[39;00m \u001b[38;5;129;01mnot\u001b[39;00m \u001b[38;5;28;01mNone\u001b[39;00m \u001b[38;5;129;01mor\u001b[39;00m reduce \u001b[38;5;129;01mis\u001b[39;00m \u001b[38;5;129;01mnot\u001b[39;00m \u001b[38;5;28;01mNone\u001b[39;00m:\n\u001b[1;32m   3028\u001b[0m     reduction \u001b[38;5;241m=\u001b[39m _Reduction\u001b[38;5;241m.\u001b[39mlegacy_get_string(size_average, reduce)\n\u001b[0;32m-> 3029\u001b[0m \u001b[38;5;28;01mreturn\u001b[39;00m \u001b[43mtorch\u001b[49m\u001b[38;5;241;43m.\u001b[39;49m\u001b[43m_C\u001b[49m\u001b[38;5;241;43m.\u001b[39;49m\u001b[43m_nn\u001b[49m\u001b[38;5;241;43m.\u001b[39;49m\u001b[43mcross_entropy_loss\u001b[49m\u001b[43m(\u001b[49m\u001b[38;5;28;43minput\u001b[39;49m\u001b[43m,\u001b[49m\u001b[43m \u001b[49m\u001b[43mtarget\u001b[49m\u001b[43m,\u001b[49m\u001b[43m \u001b[49m\u001b[43mweight\u001b[49m\u001b[43m,\u001b[49m\u001b[43m \u001b[49m\u001b[43m_Reduction\u001b[49m\u001b[38;5;241;43m.\u001b[39;49m\u001b[43mget_enum\u001b[49m\u001b[43m(\u001b[49m\u001b[43mreduction\u001b[49m\u001b[43m)\u001b[49m\u001b[43m,\u001b[49m\u001b[43m \u001b[49m\u001b[43mignore_index\u001b[49m\u001b[43m,\u001b[49m\u001b[43m \u001b[49m\u001b[43mlabel_smoothing\u001b[49m\u001b[43m)\u001b[49m\n",
      "\u001b[0;31mValueError\u001b[0m: Expected input batch_size (64) to match target batch_size (640)."
     ]
    }
   ],
   "source": [
    "max_epoch = 20\n",
    "train_losses = []\n",
    "val_losses = []\n",
    "min_val_loss = float('inf')\n",
    "prev_val_loss = float('inf')\n",
    "\n",
    "for ep in range(max_epoch):\n",
    "    # Training Loop\n",
    "    model.train()\n",
    "    train_labels = []\n",
    "    train_pred = []\n",
    "    correct_train, B_train = 0, 0\n",
    "    epoch_loss = 0\n",
    "\n",
    "    for xb, yb in tqdm(train_loader):\n",
    "        xb, yb = xb.to(device), yb.to(device)\n",
    "        \n",
    "        y_hat = model(xb) \n",
    "        loss = loss_fn(y_hat, yb)\n",
    "\n",
    "        loss.backward()\n",
    "        optimizer.step()\n",
    "        optimizer.zero_grad()\n",
    "\n",
    "        epoch_loss += float(loss)\n",
    "\n",
    "        y_hat_labels = y_hat.argmax(dim=1)\n",
    "        correct_train += (y_hat_labels == yb.argmax(dim=1)).sum().item()\n",
    "        B_train += xb.size(0)\n",
    "        train_labels.extend(yb.argmax(dim=1).cpu().detach().numpy())\n",
    "        train_pred.extend(y_hat_labels.cpu().detach().numpy())\n",
    "\n",
    "    train_losses.append(epoch_loss / len(train_loader))\n",
    "    print(f\"Epoch: {ep + 1}, Training Loss: {epoch_loss / len(train_loader)}\")\n",
    "    print(f\"Train accuracy: {accuracy_score(train_labels, train_pred) * 100}\")\n",
    "\n",
    "    # Validation Loop\n",
    "    model.eval()\n",
    "    val_epoch_loss = 0\n",
    "    val_labels = []\n",
    "    val_pred = []\n",
    "    correct_val, B_val = 0, 0\n",
    "\n",
    "    with torch.no_grad():\n",
    "        for xb, yb in tqdm(val_loader):\n",
    "            xb, yb = xb.to(device), yb.to(device)\n",
    "\n",
    "            y_hat = model(xb) \n",
    "            loss = loss_fn(y_hat, yb)\n",
    "\n",
    "            val_epoch_loss += float(loss)\n",
    "\n",
    "            y_hat_labels = y_hat.argmax(dim=1)\n",
    "            correct_val += (y_hat_labels == yb.argmax(dim=1)).sum().item()\n",
    "            B_val += xb.size(0)\n",
    "            val_labels.extend(yb.argmax(dim=1).cpu().detach().numpy())\n",
    "            val_pred.extend(y_hat_labels.cpu().detach().numpy())\n",
    "\n",
    "    val_losses.append(val_epoch_loss / len(val_loader))\n",
    "    print(f\"Validation loss: {val_epoch_loss / len(val_loader)}\")\n",
    "    print(f\"Validation accuracy: {accuracy_score(val_labels, val_pred) * 100}\")\n",
    "\n",
    "    # Save the best model based on validation loss\n",
    "    if ep > 4 and val_epoch_loss < min_val_loss:\n",
    "        print(\"---- Saving Model ----\")\n",
    "        torch.save(model.state_dict(), \"best_model.pt\")\n",
    "        min_val_loss = val_epoch_loss\n",
    "\n",
    "    # Implement early stopping based on validation loss\n",
    "    if ep > 4 and prev_val_loss - val_epoch_loss > 0.05:\n",
    "        print(\"---- Early Stopping ----\")\n",
    "        break\n",
    "\n",
    "    prev_val_loss = val_epoch_loss\n"
   ]
  },
  {
   "cell_type": "code",
   "execution_count": 36,
   "id": "f8eb26c1",
   "metadata": {},
   "outputs": [
    {
     "name": "stdout",
     "output_type": "stream",
     "text": [
      "torch.Size([64, 699])\n",
      "torch.Size([640])\n"
     ]
    }
   ],
   "source": [
    "print(y_hat.shape)\n",
    "print(yb.shape)\n"
   ]
  },
  {
   "cell_type": "code",
   "execution_count": 18,
   "id": "8e27bd63",
   "metadata": {},
   "outputs": [
    {
     "data": {
      "text/plain": [
       "tensor([0, 0, 0, 0, 0, 0, 0, 0, 0, 0, 0, 0, 0, 0, 0, 0, 0, 0, 0, 0, 0, 0, 0, 0,\n",
       "        0, 0, 0, 0, 0, 0, 0, 0, 0, 0, 0, 0, 0, 0, 0, 0, 0, 0, 0, 0, 0, 0, 0, 0,\n",
       "        0, 0, 0, 0, 0, 0, 0, 0, 0, 0, 0, 0, 0, 0, 0, 0])"
      ]
     },
     "execution_count": 18,
     "metadata": {},
     "output_type": "execute_result"
    }
   ],
   "source": [
    "y_hat"
   ]
  },
  {
   "cell_type": "code",
   "execution_count": 19,
   "id": "edaabfba",
   "metadata": {},
   "outputs": [
    {
     "data": {
      "text/plain": [
       "tensor([[ 1,  1,  1,  1,  1,  1,  1,  2,  1,  2],\n",
       "        [ 1,  1,  1,  1,  1,  1,  2,  2,  1,  2],\n",
       "        [ 1,  1,  1,  1,  1,  1,  1,  1,  1,  1],\n",
       "        [ 1,  2,  1,  1,  1,  1,  1,  1,  1,  1],\n",
       "        [ 1,  1,  2,  1,  1,  2,  1,  2,  1,  1],\n",
       "        [ 1,  1,  1,  2,  1,  1,  2,  1,  1,  1],\n",
       "        [ 2,  1,  1,  1,  6,  8,  5,  9,  5,  7],\n",
       "        [ 9,  0,  6,  0,  9,  9,  7,  7,  8,  7],\n",
       "        [ 0,  0,  5,  0,  6,  9,  7,  9,  8,  6],\n",
       "        [ 5,  5,  8,  7,  7,  0,  7,  7,  9,  7],\n",
       "        [ 9,  5,  5,  7,  7,  9,  0,  6,  9,  0],\n",
       "        [ 7,  0,  7,  7,  7,  6,  7,  0,  9,  9],\n",
       "        [ 0,  5,  7,  7,  0,  6,  9,  7,  6,  0],\n",
       "        [ 5,  1,  6,  4,  5,  1,  6,  3,  2,  4],\n",
       "        [ 8,  6,  4,  8,  0,  6,  9,  5,  0,  9],\n",
       "        [ 9,  8,  1,  8,  5,  9,  4,  7,  5,  6],\n",
       "        [ 2,  3,  4,  3,  0,  9,  4,  6,  0,  4],\n",
       "        [ 2,  8,  6,  2,  1,  5,  4,  9,  8,  3],\n",
       "        [ 6,  1,  0,  2,  6,  2,  5,  7,  1,  9],\n",
       "        [ 0,  5,  6,  5,  4,  3,  5,  4,  6,  1],\n",
       "        [ 5,  0,  0,  2,  1,  5,  7,  5,  1,  9],\n",
       "        [ 3,  8,  8,  7,  0,  4,  0,  5,  1,  9],\n",
       "        [ 5,  3,  3,  9,  6,  7,  4,  6,  1,  3],\n",
       "        [ 6,  4,  0,  9,  3,  2,  3,  5,  3,  7],\n",
       "        [ 3,  8,  6,  0,  2,  2,  7,  5,  9,  6],\n",
       "        [ 6,  2,  5,  5,  7,  3, 10, 10, 10, 10],\n",
       "        [10, 10, 10, 10, 10, 10, 10, 10, 10, 10],\n",
       "        [10, 10, 10, 10, 10, 10, 10, 10, 10, 10],\n",
       "        [10, 10, 10, 10, 10, 10, 10, 10, 10, 10],\n",
       "        [10, 10, 10, 10, 10, 10, 10, 10, 10, 10],\n",
       "        [10, 10, 10, 10, 10, 10, 10, 10, 10, 10],\n",
       "        [10, 10, 10, 10, 10, 10, 10, 10, 10, 10],\n",
       "        [ 0,  0,  0,  1,  0,  0,  0,  0,  0,  0],\n",
       "        [ 0,  0,  1,  0,  0,  0,  0,  1,  1,  0],\n",
       "        [ 0,  1,  0,  1,  0,  0,  1,  0,  0,  0],\n",
       "        [ 1,  0,  0,  0,  0,  0,  0,  0,  1,  0],\n",
       "        [ 1,  0,  0,  1,  1,  0,  1,  0,  0,  0],\n",
       "        [ 0,  1,  0,  0,  1,  0,  0,  1,  0,  1],\n",
       "        [ 0,  0,  0,  0,  6,  9,  4,  1,  8,  6],\n",
       "        [ 7,  9,  8,  7,  3,  4,  0,  7,  4,  2],\n",
       "        [ 4,  1,  2,  1,  1,  2,  2,  0,  2,  6],\n",
       "        [ 1,  7,  2,  1,  2,  7,  7,  4,  9,  3],\n",
       "        [ 3,  3,  2,  4,  1,  3,  6,  2,  1,  8],\n",
       "        [ 0,  8,  8,  2,  2,  1,  7,  7,  0,  7],\n",
       "        [ 4,  0,  8,  2,  7,  5,  3,  1, 10, 10],\n",
       "        [10, 10, 10, 10, 10, 10, 10, 10, 10, 10],\n",
       "        [10, 10, 10, 10, 10, 10, 10, 10, 10, 10],\n",
       "        [10, 10, 10, 10, 10, 10, 10, 10, 10, 10],\n",
       "        [10, 10, 10, 10, 10, 10, 10, 10, 10, 10],\n",
       "        [10, 10, 10, 10, 10, 10, 10, 10, 10, 10],\n",
       "        [10, 10, 10, 10, 10, 10, 10, 10, 10, 10],\n",
       "        [10, 10,  1,  3,  1,  2,  2,  2,  1,  0],\n",
       "        [ 1,  2,  0,  1,  0,  1,  1,  2,  2,  0],\n",
       "        [ 2,  2,  1,  0,  2,  3,  2,  2,  2,  2],\n",
       "        [ 1,  1,  2,  0,  2,  0,  1,  0,  1,  1],\n",
       "        [ 1,  0,  1,  0,  2,  0,  0,  1,  1,  2],\n",
       "        [ 0,  0,  2,  0,  2,  2,  1,  1,  0,  0],\n",
       "        [ 2,  0,  0,  2,  2,  0,  2,  0,  2,  8],\n",
       "        [ 7,  5,  7,  5,  2,  4,  5,  9,  9,  1],\n",
       "        [ 9,  4,  2,  8,  7,  7,  9,  1,  1,  0],\n",
       "        [ 5,  1,  1,  4,  5,  4,  3,  1,  2,  7],\n",
       "        [ 8,  2,  5,  3,  0,  1,  8,  5,  9,  8],\n",
       "        [ 7,  2,  7,  1,  2,  1,  0,  4,  9,  1],\n",
       "        [ 8,  7,  4,  1,  5,  2,  1,  6,  4,  4]])"
      ]
     },
     "execution_count": 19,
     "metadata": {},
     "output_type": "execute_result"
    }
   ],
   "source": [
    "yb"
   ]
  },
  {
   "cell_type": "code",
   "execution_count": 61,
   "id": "fca89544",
   "metadata": {},
   "outputs": [
    {
     "name": "stdout",
     "output_type": "stream",
     "text": [
      "Vocab size: 699\n",
      "Max value in xb: 688\n",
      "Min value in xb: 0\n",
      "torch.Size([699, 300])\n",
      "torch.Size([64, 10]) torch.float32\n",
      "torch.Size([64, 10]) torch.int64\n"
     ]
    }
   ],
   "source": [
    "vocab_size = model.embedding.num_embeddings\n",
    "print(f\"Vocab size: {vocab_size}\")\n",
    "print(f\"Max value in xb: {torch.max(xb)}\")\n",
    "print(f\"Min value in xb: {torch.min(xb)}\")\n",
    "print(model.embedding.weight.shape)\n",
    "print(y_hat.shape, y_hat.dtype)\n",
    "print(yb.shape, yb.dtype)\n"
   ]
  },
  {
   "cell_type": "code",
   "execution_count": 15,
   "id": "3cfb403b",
   "metadata": {},
   "outputs": [
    {
     "data": {
      "image/png": "[encoded data removed]",
      "text/plain": [
       "<Figure size 1000x600 with 1 Axes>"
      ]
     },
     "metadata": {},
     "output_type": "display_data"
    }
   ],
   "source": [
    "import matplotlib.pyplot as plt\n",
    "\n",
    "# Plot Loss vs. Epoch\n",
    "epochs = range(1, max_epoch + 1)\n",
    "\n",
    "plt.figure(figsize=(10, 6))\n",
    "plt.plot(epochs, train_losses, label='Training Loss')\n",
    "plt.plot(epochs, val_losses, label='Validation Loss')\n",
    "plt.xlabel('Epoch')\n",
    "plt.ylabel('Loss')\n",
    "plt.title('Loss vs. Epoch')\n",
    "plt.legend()\n",
    "plt.grid(True)\n",
    "plt.show()\n"
   ]
  },
  {
   "cell_type": "code",
   "execution_count": 16,
   "id": "317035e1",
   "metadata": {},
   "outputs": [
    {
     "name": "stderr",
     "output_type": "stream",
     "text": [
      "100%|█████████████████████████████████████████████████████████████████████████████████| 125/125 [00:02<00:00, 51.91it/s]"
     ]
    },
    {
     "name": "stdout",
     "output_type": "stream",
     "text": [
      "Test loss:  0.01435844127414748\n",
      "Test accuracy:  99.56375\n",
      "Test EM:  96.35000000000001\n",
      "Test accuracy position-wise:  [99.3625, 96.775, 99.9375, 99.6625, 100.0, 100.0, 99.9625, 100.0, 99.9875, 99.95]\n"
     ]
    },
    {
     "name": "stderr",
     "output_type": "stream",
     "text": [
      "\n"
     ]
    }
   ],
   "source": [
    "def exact_match(y_hat, yb):\n",
    "    B = yb.shape[0] // 10       # Batch size\n",
    "\n",
    "    correct = 0\n",
    "    for i in range(B):\n",
    "        f = True\n",
    "        for j in range(10):\n",
    "            if yb[i+(j*B)] != y_hat[i+(j*B)]:\n",
    "                f = False\n",
    "                break \n",
    "        if f: correct += 1\n",
    "\n",
    "    output_correct = [0 for i in range(10)]\n",
    "    for i in range(B):\n",
    "        for j in range(10):\n",
    "            if yb[i+(j*B)] == y_hat[i+(j*B)]:\n",
    "                output_correct[j] += 1\n",
    "    return correct, B, output_correct\n",
    "\n",
    "val_labels = []\n",
    "val_pred = []\n",
    "\n",
    "val_epoch_loss = 0\n",
    "correct_val, B_val = 0, 0\n",
    "out_correct = [0 for i in range(10)]\n",
    "with torch.no_grad():\n",
    "    for xb, yb in tqdm(val_loader):\n",
    "        xb = xb.to(device)\n",
    "        yb = yb.to(device)\n",
    "\n",
    "        y_hat = model(xb)\n",
    "        loss = loss_fn(y_hat, yb)\n",
    "\n",
    "        val_epoch_loss += float(loss)\n",
    "\n",
    "        y_hat = torch.softmax(y_hat, dim = 1).argmax(dim=1)\n",
    "\n",
    "        correct, B, output_correct = exact_match(y_hat, yb)\n",
    "        correct_val += correct\n",
    "        B_val += B\n",
    "        for i in range(10):\n",
    "            out_correct[i] += output_correct[i]\n",
    "\n",
    "        val_labels.extend(yb.cpu().detach().numpy())\n",
    "        val_pred.extend(y_hat.cpu().detach().numpy())\n",
    "\n",
    "val_epoch_loss = val_epoch_loss / len(val_loader)\n",
    "print(\"Test loss: \", val_epoch_loss)\n",
    "print(\"Test accuracy: \", accuracy_score(val_labels, val_pred)*100)\n",
    "print(\"Test EM: \", (correct_val/ B_val)*100)\n",
    "for i in range(10):\n",
    "    out_correct[i] = (out_correct[i] / B_val) * 100\n",
    "print(\"Test accuracy position-wise: \", out_correct)"
   ]
  },
  {
   "cell_type": "code",
   "execution_count": 17,
   "id": "857778e3",
   "metadata": {},
   "outputs": [
    {
     "name": "stdout",
     "output_type": "stream",
     "text": [
      "Average Validation Set Error (Exact Match) in %: 3.6499999999999977\n",
      "Average Validation Set Error (Mismatch) in %: 1.244546875\n",
      "Output with Highest Error: 5\n",
      "Output with Lowest Error: 2\n"
     ]
    }
   ],
   "source": [
    "# Calculate the average Exact Match Error\n",
    "average_exact_match_error = (1 - (correct_val / B_val)) * 100\n",
    "\n",
    "# Calculate the average Mismatch Error\n",
    "average_mismatch_error = ((sum(out_correct) / 10) / B_val) * 100\n",
    "\n",
    "# Find the output with the highest error\n",
    "highest_error_output = out_correct.index(max(out_correct)) + 1\n",
    "\n",
    "# Find the output with the lowest error\n",
    "lowest_error_output = out_correct.index(min(out_correct)) + 1\n",
    "\n",
    "# Print the results\n",
    "print(\"Average Validation Set Error (Exact Match) in %:\", average_exact_match_error)\n",
    "print(\"Average Validation Set Error (Mismatch) in %:\", average_mismatch_error)\n",
    "print(\"Output with Highest Error:\", highest_error_output)\n",
    "print(\"Output with Lowest Error:\", lowest_error_output)\n"
   ]
  },
  {
   "cell_type": "code",
   "execution_count": null,
   "id": "03693395",
   "metadata": {},
   "outputs": [],
   "source": []
  }
 ],
 "metadata": {
  "kernelspec": {
   "display_name": "Python 3 (ipykernel)",
   "language": "python",
   "name": "python3"
  },
  "language_info": {
   "codemirror_mode": {
    "name": "ipython",
    "version": 3
   },
   "file_extension": ".py",
   "mimetype": "text/x-python",
   "name": "python",
   "nbconvert_exporter": "python",
   "pygments_lexer": "ipython3",
   "version": "3.10.11"
  }
 },
 "nbformat": 4,
 "nbformat_minor": 5
}
